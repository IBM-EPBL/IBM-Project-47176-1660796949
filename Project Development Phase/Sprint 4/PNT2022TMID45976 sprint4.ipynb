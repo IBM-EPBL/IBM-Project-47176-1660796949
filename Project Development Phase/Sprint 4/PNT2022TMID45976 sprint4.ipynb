{
 "cells": [
  {
   "cell_type": "markdown",
   "metadata": {},
   "source": [
    "\n",
    "\n",
    "TEAM ID:47176-1660796949"
   ]
  },
  {
   "cell_type": "code",
   "execution_count": 3,
   "metadata": {},
   "outputs": [],
   "source": [
    "import pandas as pd\n",
    "import matplotlib.pyplot as plt\n",
    "import seaborn as sns\n",
    "import numpy as np"
   ]
  },
  {
   "cell_type": "code",
   "execution_count": 4,
   "metadata": {},
   "outputs": [],
   "source": [
    "#from google.colab import drive\n",
    "#drive.mount('/')"
   ]
  },
  {
   "cell_type": "code",
   "execution_count": 5,
   "metadata": {},
   "outputs": [
    {
     "name": "stderr",
     "output_type": "stream",
     "text": [
      "C:\\Users\\GOKUL\\AppData\\Local\\Packages\\PythonSoftwareFoundation.Python.3.7_qbz5n2kfra8p0\\LocalCache\\local-packages\\Python37\\site-packages\\IPython\\core\\interactiveshell.py:3553: FutureWarning: The error_bad_lines argument has been deprecated and will be removed in a future version.\n",
      "\n",
      "\n",
      "  exec(code_obj, self.user_global_ns, self.user_ns)\n",
      "b'Skipping line 246093: expected 7 fields, saw 8\\nSkipping line 246094: expected 7 fields, saw 8\\nSkipping line 246095: expected 7 fields, saw 8\\nSkipping line 246096: expected 7 fields, saw 8\\nSkipping line 246097: expected 7 fields, saw 8\\nSkipping line 246098: expected 7 fields, saw 8\\nSkipping line 246099: expected 7 fields, saw 8\\nSkipping line 246100: expected 7 fields, saw 8\\nSkipping line 246101: expected 7 fields, saw 8\\nSkipping line 246102: expected 7 fields, saw 8\\nSkipping line 246103: expected 7 fields, saw 8\\nSkipping line 246104: expected 7 fields, saw 8\\nSkipping line 246105: expected 7 fields, saw 8\\nSkipping line 246106: expected 7 fields, saw 8\\nSkipping line 246107: expected 7 fields, saw 8\\nSkipping line 246108: expected 7 fields, saw 8\\nSkipping line 246109: expected 7 fields, saw 8\\nSkipping line 246110: expected 7 fields, saw 8\\nSkipping line 246111: expected 7 fields, saw 8\\nSkipping line 246112: expected 7 fields, saw 8\\nSkipping line 246113: expected 7 fields, saw 8\\nSkipping line 246114: expected 7 fields, saw 8\\nSkipping line 246115: expected 7 fields, saw 8\\nSkipping line 246116: expected 7 fields, saw 8\\nSkipping line 246117: expected 7 fields, saw 8\\nSkipping line 246118: expected 7 fields, saw 8\\nSkipping line 246119: expected 7 fields, saw 8\\nSkipping line 246120: expected 7 fields, saw 8\\nSkipping line 246121: expected 7 fields, saw 8\\nSkipping line 246122: expected 7 fields, saw 8\\nSkipping line 246123: expected 7 fields, saw 8\\nSkipping line 246124: expected 7 fields, saw 8\\nSkipping line 246125: expected 7 fields, saw 8\\nSkipping line 246126: expected 7 fields, saw 8\\nSkipping line 246127: expected 7 fields, saw 8\\nSkipping line 246128: expected 7 fields, saw 8\\nSkipping line 246129: expected 7 fields, saw 8\\nSkipping line 246130: expected 7 fields, saw 8\\nSkipping line 246131: expected 7 fields, saw 8\\nSkipping line 246132: expected 7 fields, saw 8\\nSkipping line 246133: expected 7 fields, saw 8\\nSkipping line 246134: expected 7 fields, saw 8\\nSkipping line 246135: expected 7 fields, saw 8\\nSkipping line 246136: expected 7 fields, saw 8\\nSkipping line 246137: expected 7 fields, saw 8\\nSkipping line 246138: expected 7 fields, saw 8\\nSkipping line 246139: expected 7 fields, saw 8\\nSkipping line 246140: expected 7 fields, saw 8\\nSkipping line 246141: expected 7 fields, saw 8\\nSkipping line 246142: expected 7 fields, saw 8\\nSkipping line 246143: expected 7 fields, saw 8\\nSkipping line 246144: expected 7 fields, saw 8\\nSkipping line 246145: expected 7 fields, saw 8\\nSkipping line 246146: expected 7 fields, saw 8\\nSkipping line 246147: expected 7 fields, saw 8\\nSkipping line 246148: expected 7 fields, saw 8\\nSkipping line 246149: expected 7 fields, saw 8\\nSkipping line 246150: expected 7 fields, saw 8\\nSkipping line 246151: expected 7 fields, saw 8\\nSkipping line 246152: expected 7 fields, saw 8\\nSkipping line 246153: expected 7 fields, saw 8\\nSkipping line 246154: expected 7 fields, saw 8\\nSkipping line 246155: expected 7 fields, saw 8\\nSkipping line 246156: expected 7 fields, saw 8\\nSkipping line 246157: expected 7 fields, saw 8\\nSkipping line 246158: expected 7 fields, saw 8\\nSkipping line 246159: expected 7 fields, saw 8\\nSkipping line 246160: expected 7 fields, saw 8\\nSkipping line 246161: expected 7 fields, saw 8\\nSkipping line 246162: expected 7 fields, saw 8\\nSkipping line 246163: expected 7 fields, saw 8\\nSkipping line 246164: expected 7 fields, saw 8\\nSkipping line 246165: expected 7 fields, saw 8\\nSkipping line 246166: expected 7 fields, saw 8\\nSkipping line 246167: expected 7 fields, saw 8\\nSkipping line 246168: expected 7 fields, saw 8\\nSkipping line 246169: expected 7 fields, saw 8\\nSkipping line 246170: expected 7 fields, saw 8\\nSkipping line 246171: expected 7 fields, saw 8\\nSkipping line 246172: expected 7 fields, saw 8\\nSkipping line 246173: expected 7 fields, saw 8\\nSkipping line 246174: expected 7 fields, saw 8\\nSkipping line 246175: expected 7 fields, saw 8\\nSkipping line 246176: expected 7 fields, saw 8\\nSkipping line 246177: expected 7 fields, saw 8\\nSkipping line 246178: expected 7 fields, saw 8\\nSkipping line 246179: expected 7 fields, saw 8\\nSkipping line 246180: expected 7 fields, saw 8\\nSkipping line 246181: expected 7 fields, saw 8\\nSkipping line 246182: expected 7 fields, saw 8\\nSkipping line 246183: expected 7 fields, saw 8\\nSkipping line 246184: expected 7 fields, saw 8\\nSkipping line 246185: expected 7 fields, saw 8\\nSkipping line 246186: expected 7 fields, saw 8\\nSkipping line 246187: expected 7 fields, saw 8\\nSkipping line 246188: expected 7 fields, saw 8\\nSkipping line 246189: expected 7 fields, saw 8\\nSkipping line 246190: expected 7 fields, saw 8\\nSkipping line 246191: expected 7 fields, saw 8\\nSkipping line 246192: expected 7 fields, saw 8\\nSkipping line 246193: expected 7 fields, saw 8\\nSkipping line 246194: expected 7 fields, saw 8\\nSkipping line 246195: expected 7 fields, saw 8\\nSkipping line 246196: expected 7 fields, saw 8\\nSkipping line 246197: expected 7 fields, saw 8\\nSkipping line 246198: expected 7 fields, saw 8\\nSkipping line 246199: expected 7 fields, saw 8\\nSkipping line 246200: expected 7 fields, saw 8\\nSkipping line 246201: expected 7 fields, saw 8\\nSkipping line 246202: expected 7 fields, saw 8\\nSkipping line 246203: expected 7 fields, saw 8\\nSkipping line 246204: expected 7 fields, saw 8\\nSkipping line 246205: expected 7 fields, saw 8\\nSkipping line 246206: expected 7 fields, saw 8\\nSkipping line 246207: expected 7 fields, saw 8\\nSkipping line 246208: expected 7 fields, saw 8\\nSkipping line 246209: expected 7 fields, saw 8\\nSkipping line 246210: expected 7 fields, saw 8\\nSkipping line 246211: expected 7 fields, saw 8\\nSkipping line 246212: expected 7 fields, saw 8\\nSkipping line 246213: expected 7 fields, saw 8\\nSkipping line 246214: expected 7 fields, saw 8\\nSkipping line 246215: expected 7 fields, saw 8\\nSkipping line 246216: expected 7 fields, saw 8\\nSkipping line 246217: expected 7 fields, saw 8\\nSkipping line 246218: expected 7 fields, saw 8\\nSkipping line 246219: expected 7 fields, saw 8\\nSkipping line 246220: expected 7 fields, saw 8\\nSkipping line 246221: expected 7 fields, saw 8\\nSkipping line 246222: expected 7 fields, saw 8\\nSkipping line 246223: expected 7 fields, saw 8\\nSkipping line 246224: expected 7 fields, saw 8\\nSkipping line 246225: expected 7 fields, saw 8\\nSkipping line 246226: expected 7 fields, saw 8\\nSkipping line 246227: expected 7 fields, saw 8\\nSkipping line 246228: expected 7 fields, saw 8\\nSkipping line 246229: expected 7 fields, saw 8\\nSkipping line 246230: expected 7 fields, saw 8\\nSkipping line 246231: expected 7 fields, saw 8\\nSkipping line 246232: expected 7 fields, saw 8\\nSkipping line 246233: expected 7 fields, saw 8\\nSkipping line 246234: expected 7 fields, saw 8\\nSkipping line 246235: expected 7 fields, saw 8\\nSkipping line 246236: expected 7 fields, saw 8\\nSkipping line 246237: expected 7 fields, saw 8\\nSkipping line 246238: expected 7 fields, saw 8\\nSkipping line 246239: expected 7 fields, saw 8\\nSkipping line 246240: expected 7 fields, saw 8\\nSkipping line 246241: expected 7 fields, saw 8\\nSkipping line 246242: expected 7 fields, saw 8\\nSkipping line 246243: expected 7 fields, saw 8\\nSkipping line 246244: expected 7 fields, saw 8\\nSkipping line 246245: expected 7 fields, saw 8\\nSkipping line 246246: expected 7 fields, saw 8\\nSkipping line 246247: expected 7 fields, saw 8\\nSkipping line 246248: expected 7 fields, saw 8\\nSkipping line 246249: expected 7 fields, saw 8\\nSkipping line 246250: expected 7 fields, saw 8\\nSkipping line 246251: expected 7 fields, saw 8\\nSkipping line 246252: expected 7 fields, saw 8\\nSkipping line 246253: expected 7 fields, saw 8\\nSkipping line 246254: expected 7 fields, saw 8\\nSkipping line 246255: expected 7 fields, saw 8\\nSkipping line 246256: expected 7 fields, saw 8\\nSkipping line 246257: expected 7 fields, saw 8\\nSkipping line 246258: expected 7 fields, saw 8\\nSkipping line 246259: expected 7 fields, saw 8\\nSkipping line 246260: expected 7 fields, saw 8\\nSkipping line 246261: expected 7 fields, saw 8\\nSkipping line 246262: expected 7 fields, saw 8\\nSkipping line 246263: expected 7 fields, saw 8\\nSkipping line 246264: expected 7 fields, saw 8\\nSkipping line 246265: expected 7 fields, saw 8\\nSkipping line 246266: expected 7 fields, saw 8\\nSkipping line 246267: expected 7 fields, saw 8\\nSkipping line 246268: expected 7 fields, saw 8\\nSkipping line 246269: expected 7 fields, saw 8\\nSkipping line 246270: expected 7 fields, saw 8\\nSkipping line 246271: expected 7 fields, saw 8\\nSkipping line 246272: expected 7 fields, saw 8\\nSkipping line 246273: expected 7 fields, saw 8\\nSkipping line 246274: expected 7 fields, saw 8\\nSkipping line 246275: expected 7 fields, saw 8\\nSkipping line 246276: expected 7 fields, saw 8\\nSkipping line 246277: expected 7 fields, saw 8\\nSkipping line 246278: expected 7 fields, saw 8\\nSkipping line 246279: expected 7 fields, saw 8\\nSkipping line 246280: expected 7 fields, saw 8\\nSkipping line 246281: expected 7 fields, saw 8\\nSkipping line 246282: expected 7 fields, saw 8\\nSkipping line 246283: expected 7 fields, saw 8\\nSkipping line 246284: expected 7 fields, saw 8\\nSkipping line 246285: expected 7 fields, saw 8\\nSkipping line 246286: expected 7 fields, saw 8\\nSkipping line 246287: expected 7 fields, saw 8\\nSkipping line 246288: expected 7 fields, saw 8\\nSkipping line 246289: expected 7 fields, saw 8\\nSkipping line 246290: expected 7 fields, saw 8\\nSkipping line 246291: expected 7 fields, saw 8\\nSkipping line 246292: expected 7 fields, saw 8\\nSkipping line 246293: expected 7 fields, saw 8\\nSkipping line 246294: expected 7 fields, saw 8\\nSkipping line 246295: expected 7 fields, saw 8\\nSkipping line 246296: expected 7 fields, saw 8\\nSkipping line 246297: expected 7 fields, saw 8\\nSkipping line 246298: expected 7 fields, saw 8\\nSkipping line 246299: expected 7 fields, saw 8\\nSkipping line 246300: expected 7 fields, saw 8\\nSkipping line 246301: expected 7 fields, saw 8\\nSkipping line 246302: expected 7 fields, saw 8\\nSkipping line 246303: expected 7 fields, saw 8\\nSkipping line 246304: expected 7 fields, saw 8\\nSkipping line 246305: expected 7 fields, saw 8\\nSkipping line 246306: expected 7 fields, saw 8\\nSkipping line 246307: expected 7 fields, saw 8\\nSkipping line 246308: expected 7 fields, saw 8\\nSkipping line 246309: expected 7 fields, saw 8\\nSkipping line 246310: expected 7 fields, saw 8\\nSkipping line 246311: expected 7 fields, saw 8\\nSkipping line 246312: expected 7 fields, saw 8\\nSkipping line 246313: expected 7 fields, saw 8\\nSkipping line 246314: expected 7 fields, saw 8\\nSkipping line 246315: expected 7 fields, saw 8\\nSkipping line 246316: expected 7 fields, saw 8\\nSkipping line 246317: expected 7 fields, saw 8\\nSkipping line 246318: expected 7 fields, saw 8\\nSkipping line 246319: expected 7 fields, saw 8\\nSkipping line 246320: expected 7 fields, saw 8\\nSkipping line 246321: expected 7 fields, saw 8\\nSkipping line 246322: expected 7 fields, saw 8\\nSkipping line 246323: expected 7 fields, saw 8\\nSkipping line 246324: expected 7 fields, saw 8\\nSkipping line 246325: expected 7 fields, saw 8\\nSkipping line 246326: expected 7 fields, saw 8\\nSkipping line 246327: expected 7 fields, saw 8\\nSkipping line 246328: expected 7 fields, saw 8\\nSkipping line 246329: expected 7 fields, saw 8\\nSkipping line 246330: expected 7 fields, saw 8\\nSkipping line 246331: expected 7 fields, saw 8\\nSkipping line 246332: expected 7 fields, saw 8\\nSkipping line 246333: expected 7 fields, saw 8\\nSkipping line 246334: expected 7 fields, saw 8\\nSkipping line 246335: expected 7 fields, saw 8\\nSkipping line 246336: expected 7 fields, saw 8\\nSkipping line 246337: expected 7 fields, saw 8\\nSkipping line 246338: expected 7 fields, saw 8\\nSkipping line 246339: expected 7 fields, saw 8\\nSkipping line 246340: expected 7 fields, saw 8\\nSkipping line 246341: expected 7 fields, saw 8\\nSkipping line 246342: expected 7 fields, saw 8\\nSkipping line 246343: expected 7 fields, saw 8\\nSkipping line 246344: expected 7 fields, saw 8\\nSkipping line 246345: expected 7 fields, saw 8\\nSkipping line 246346: expected 7 fields, saw 8\\nSkipping line 246347: expected 7 fields, saw 8\\nSkipping line 246348: expected 7 fields, saw 8\\nSkipping line 246349: expected 7 fields, saw 8\\nSkipping line 246350: expected 7 fields, saw 8\\nSkipping line 246351: expected 7 fields, saw 8\\nSkipping line 246352: expected 7 fields, saw 8\\nSkipping line 246353: expected 7 fields, saw 8\\nSkipping line 246354: expected 7 fields, saw 8\\nSkipping line 246355: expected 7 fields, saw 8\\nSkipping line 246356: expected 7 fields, saw 8\\nSkipping line 246357: expected 7 fields, saw 8\\nSkipping line 246358: expected 7 fields, saw 8\\nSkipping line 246359: expected 7 fields, saw 8\\nSkipping line 246360: expected 7 fields, saw 8\\nSkipping line 246361: expected 7 fields, saw 8\\nSkipping line 246362: expected 7 fields, saw 8\\nSkipping line 246363: expected 7 fields, saw 8\\nSkipping line 246364: expected 7 fields, saw 8\\nSkipping line 246365: expected 7 fields, saw 8\\nSkipping line 246366: expected 7 fields, saw 8\\nSkipping line 246367: expected 7 fields, saw 8\\nSkipping line 246368: expected 7 fields, saw 8\\nSkipping line 246369: expected 7 fields, saw 8\\nSkipping line 246370: expected 7 fields, saw 8\\nSkipping line 246371: expected 7 fields, saw 8\\nSkipping line 246372: expected 7 fields, saw 8\\nSkipping line 246373: expected 7 fields, saw 8\\nSkipping line 246374: expected 7 fields, saw 8\\nSkipping line 246375: expected 7 fields, saw 8\\nSkipping line 246376: expected 7 fields, saw 8\\nSkipping line 246377: expected 7 fields, saw 8\\nSkipping line 246378: expected 7 fields, saw 8\\nSkipping line 246379: expected 7 fields, saw 8\\nSkipping line 246380: expected 7 fields, saw 8\\nSkipping line 246381: expected 7 fields, saw 8\\nSkipping line 246382: expected 7 fields, saw 8\\nSkipping line 246383: expected 7 fields, saw 8\\nSkipping line 246384: expected 7 fields, saw 8\\nSkipping line 246385: expected 7 fields, saw 8\\nSkipping line 246386: expected 7 fields, saw 8\\nSkipping line 246387: expected 7 fields, saw 8\\nSkipping line 246388: expected 7 fields, saw 8\\nSkipping line 246389: expected 7 fields, saw 8\\nSkipping line 246390: expected 7 fields, saw 8\\nSkipping line 246391: expected 7 fields, saw 8\\nSkipping line 246392: expected 7 fields, saw 8\\nSkipping line 246393: expected 7 fields, saw 8\\nSkipping line 246394: expected 7 fields, saw 8\\nSkipping line 246395: expected 7 fields, saw 8\\nSkipping line 246396: expected 7 fields, saw 8\\nSkipping line 246397: expected 7 fields, saw 8\\nSkipping line 246398: expected 7 fields, saw 8\\nSkipping line 246399: expected 7 fields, saw 8\\nSkipping line 246400: expected 7 fields, saw 8\\nSkipping line 246401: expected 7 fields, saw 8\\nSkipping line 246402: expected 7 fields, saw 8\\nSkipping line 246403: expected 7 fields, saw 8\\nSkipping line 246404: expected 7 fields, saw 8\\nSkipping line 246405: expected 7 fields, saw 8\\nSkipping line 246406: expected 7 fields, saw 8\\nSkipping line 246407: expected 7 fields, saw 8\\nSkipping line 246408: expected 7 fields, saw 8\\nSkipping line 246409: expected 7 fields, saw 8\\nSkipping line 246410: expected 7 fields, saw 8\\nSkipping line 246411: expected 7 fields, saw 8\\nSkipping line 246412: expected 7 fields, saw 8\\nSkipping line 246413: expected 7 fields, saw 8\\nSkipping line 246414: expected 7 fields, saw 8\\nSkipping line 246415: expected 7 fields, saw 8\\nSkipping line 246416: expected 7 fields, saw 8\\nSkipping line 246417: expected 7 fields, saw 8\\nSkipping line 246418: expected 7 fields, saw 8\\nSkipping line 246419: expected 7 fields, saw 8\\nSkipping line 246420: expected 7 fields, saw 8\\nSkipping line 246421: expected 7 fields, saw 8\\nSkipping line 246422: expected 7 fields, saw 8\\nSkipping line 246423: expected 7 fields, saw 8\\nSkipping line 246424: expected 7 fields, saw 8\\nSkipping line 246425: expected 7 fields, saw 8\\nSkipping line 246426: expected 7 fields, saw 8\\nSkipping line 246427: expected 7 fields, saw 8\\nSkipping line 246428: expected 7 fields, saw 8\\nSkipping line 246429: expected 7 fields, saw 8\\nSkipping line 246430: expected 7 fields, saw 8\\nSkipping line 246431: expected 7 fields, saw 8\\nSkipping line 246432: expected 7 fields, saw 8\\nSkipping line 246433: expected 7 fields, saw 8\\nSkipping line 246434: expected 7 fields, saw 8\\nSkipping line 246435: expected 7 fields, saw 8\\nSkipping line 246436: expected 7 fields, saw 8\\nSkipping line 246437: expected 7 fields, saw 8\\nSkipping line 246438: expected 7 fields, saw 8\\nSkipping line 246439: expected 7 fields, saw 8\\nSkipping line 246440: expected 7 fields, saw 8\\nSkipping line 246441: expected 7 fields, saw 8\\nSkipping line 246442: expected 7 fields, saw 8\\nSkipping line 246443: expected 7 fields, saw 8\\nSkipping line 246444: expected 7 fields, saw 8\\nSkipping line 246445: expected 7 fields, saw 8\\nSkipping line 246446: expected 7 fields, saw 8\\nSkipping line 246447: expected 7 fields, saw 8\\nSkipping line 246448: expected 7 fields, saw 8\\nSkipping line 246449: expected 7 fields, saw 8\\nSkipping line 246450: expected 7 fields, saw 8\\nSkipping line 246451: expected 7 fields, saw 8\\nSkipping line 246452: expected 7 fields, saw 8\\nSkipping line 246453: expected 7 fields, saw 8\\nSkipping line 246454: expected 7 fields, saw 8\\nSkipping line 246455: expected 7 fields, saw 8\\nSkipping line 246456: expected 7 fields, saw 8\\nSkipping line 246457: expected 7 fields, saw 8\\nSkipping line 246458: expected 7 fields, saw 8\\nSkipping line 246459: expected 7 fields, saw 8\\nSkipping line 246460: expected 7 fields, saw 8\\nSkipping line 246461: expected 7 fields, saw 8\\nSkipping line 246462: expected 7 fields, saw 8\\nSkipping line 246463: expected 7 fields, saw 8\\nSkipping line 246464: expected 7 fields, saw 8\\nSkipping line 246465: expected 7 fields, saw 8\\nSkipping line 246466: expected 7 fields, saw 8\\nSkipping line 246467: expected 7 fields, saw 8\\nSkipping line 246468: expected 7 fields, saw 8\\nSkipping line 246469: expected 7 fields, saw 8\\nSkipping line 246470: expected 7 fields, saw 8\\nSkipping line 246471: expected 7 fields, saw 8\\nSkipping line 246472: expected 7 fields, saw 8\\nSkipping line 246473: expected 7 fields, saw 8\\nSkipping line 246474: expected 7 fields, saw 8\\nSkipping line 246475: expected 7 fields, saw 8\\nSkipping line 246476: expected 7 fields, saw 8\\nSkipping line 246477: expected 7 fields, saw 8\\nSkipping line 246478: expected 7 fields, saw 8\\nSkipping line 246479: expected 7 fields, saw 8\\nSkipping line 246480: expected 7 fields, saw 8\\nSkipping line 246481: expected 7 fields, saw 8\\nSkipping line 246482: expected 7 fields, saw 8\\nSkipping line 246483: expected 7 fields, saw 8\\nSkipping line 246484: expected 7 fields, saw 8\\nSkipping line 246485: expected 7 fields, saw 8\\nSkipping line 246486: expected 7 fields, saw 8\\nSkipping line 246487: expected 7 fields, saw 8\\nSkipping line 246488: expected 7 fields, saw 8\\nSkipping line 246489: expected 7 fields, saw 8\\nSkipping line 246490: expected 7 fields, saw 8\\nSkipping line 246491: expected 7 fields, saw 8\\nSkipping line 246492: expected 7 fields, saw 8\\nSkipping line 246493: expected 7 fields, saw 8\\nSkipping line 246494: expected 7 fields, saw 8\\nSkipping line 246495: expected 7 fields, saw 8\\nSkipping line 246496: expected 7 fields, saw 8\\nSkipping line 246497: expected 7 fields, saw 8\\nSkipping line 246498: expected 7 fields, saw 8\\nSkipping line 246499: expected 7 fields, saw 8\\nSkipping line 246500: expected 7 fields, saw 8\\nSkipping line 246501: expected 7 fields, saw 8\\nSkipping line 246502: expected 7 fields, saw 8\\nSkipping line 246503: expected 7 fields, saw 8\\nSkipping line 246504: expected 7 fields, saw 8\\nSkipping line 246505: expected 7 fields, saw 8\\nSkipping line 246506: expected 7 fields, saw 8\\nSkipping line 246507: expected 7 fields, saw 8\\nSkipping line 246508: expected 7 fields, saw 8\\nSkipping line 246509: expected 7 fields, saw 8\\nSkipping line 246510: expected 7 fields, saw 8\\nSkipping line 246511: expected 7 fields, saw 8\\nSkipping line 246512: expected 7 fields, saw 8\\nSkipping line 246513: expected 7 fields, saw 8\\nSkipping line 246514: expected 7 fields, saw 8\\nSkipping line 246515: expected 7 fields, saw 8\\nSkipping line 246516: expected 7 fields, saw 8\\nSkipping line 246517: expected 7 fields, saw 8\\nSkipping line 246518: expected 7 fields, saw 8\\nSkipping line 246519: expected 7 fields, saw 8\\nSkipping line 246520: expected 7 fields, saw 8\\nSkipping line 246521: expected 7 fields, saw 8\\nSkipping line 246522: expected 7 fields, saw 8\\nSkipping line 246523: expected 7 fields, saw 8\\nSkipping line 246524: expected 7 fields, saw 8\\nSkipping line 246525: expected 7 fields, saw 8\\nSkipping line 246526: expected 7 fields, saw 8\\nSkipping line 246527: expected 7 fields, saw 8\\nSkipping line 246528: expected 7 fields, saw 8\\nSkipping line 246529: expected 7 fields, saw 8\\nSkipping line 246530: expected 7 fields, saw 8\\nSkipping line 246531: expected 7 fields, saw 8\\nSkipping line 246532: expected 7 fields, saw 8\\nSkipping line 246533: expected 7 fields, saw 8\\nSkipping line 246534: expected 7 fields, saw 8\\nSkipping line 246535: expected 7 fields, saw 8\\nSkipping line 246536: expected 7 fields, saw 8\\nSkipping line 246537: expected 7 fields, saw 8\\nSkipping line 246538: expected 7 fields, saw 8\\nSkipping line 246539: expected 7 fields, saw 8\\nSkipping line 246540: expected 7 fields, saw 8\\nSkipping line 246541: expected 7 fields, saw 8\\nSkipping line 246542: expected 7 fields, saw 8\\nSkipping line 246543: expected 7 fields, saw 8\\nSkipping line 246544: expected 7 fields, saw 8\\nSkipping line 246545: expected 7 fields, saw 8\\nSkipping line 246546: expected 7 fields, saw 8\\nSkipping line 246547: expected 7 fields, saw 8\\nSkipping line 246548: expected 7 fields, saw 8\\nSkipping line 246549: expected 7 fields, saw 8\\nSkipping line 246550: expected 7 fields, saw 8\\nSkipping line 246551: expected 7 fields, saw 8\\nSkipping line 246552: expected 7 fields, saw 8\\nSkipping line 246553: expected 7 fields, saw 8\\nSkipping line 246554: expected 7 fields, saw 8\\nSkipping line 246555: expected 7 fields, saw 8\\nSkipping line 246556: expected 7 fields, saw 8\\nSkipping line 246557: expected 7 fields, saw 8\\nSkipping line 246558: expected 7 fields, saw 8\\nSkipping line 246559: expected 7 fields, saw 8\\nSkipping line 246560: expected 7 fields, saw 8\\nSkipping line 246561: expected 7 fields, saw 8\\nSkipping line 246562: expected 7 fields, saw 8\\nSkipping line 246563: expected 7 fields, saw 8\\nSkipping line 246564: expected 7 fields, saw 8\\nSkipping line 246565: expected 7 fields, saw 8\\nSkipping line 246566: expected 7 fields, saw 8\\nSkipping line 246567: expected 7 fields, saw 8\\nSkipping line 246568: expected 7 fields, saw 8\\nSkipping line 246569: expected 7 fields, saw 8\\nSkipping line 246570: expected 7 fields, saw 8\\nSkipping line 246571: expected 7 fields, saw 8\\nSkipping line 246572: expected 7 fields, saw 8\\nSkipping line 246573: expected 7 fields, saw 8\\nSkipping line 246574: expected 7 fields, saw 8\\nSkipping line 246575: expected 7 fields, saw 8\\nSkipping line 246576: expected 7 fields, saw 8\\nSkipping line 246577: expected 7 fields, saw 8\\nSkipping line 246578: expected 7 fields, saw 8\\nSkipping line 246579: expected 7 fields, saw 8\\nSkipping line 246580: expected 7 fields, saw 8\\nSkipping line 246581: expected 7 fields, saw 8\\nSkipping line 246582: expected 7 fields, saw 8\\nSkipping line 246583: expected 7 fields, saw 8\\nSkipping line 246584: expected 7 fields, saw 8\\nSkipping line 246585: expected 7 fields, saw 8\\nSkipping line 246586: expected 7 fields, saw 8\\nSkipping line 246587: expected 7 fields, saw 8\\nSkipping line 246588: expected 7 fields, saw 8\\nSkipping line 246589: expected 7 fields, saw 8\\nSkipping line 246590: expected 7 fields, saw 8\\nSkipping line 246591: expected 7 fields, saw 8\\nSkipping line 246592: expected 7 fields, saw 8\\nSkipping line 246593: expected 7 fields, saw 8\\nSkipping line 246594: expected 7 fields, saw 8\\nSkipping line 246595: expected 7 fields, saw 8\\nSkipping line 246596: expected 7 fields, saw 8\\nSkipping line 246597: expected 7 fields, saw 8\\nSkipping line 246598: expected 7 fields, saw 8\\nSkipping line 246599: expected 7 fields, saw 8\\nSkipping line 246600: expected 7 fields, saw 8\\nSkipping line 246601: expected 7 fields, saw 8\\nSkipping line 246602: expected 7 fields, saw 8\\nSkipping line 246603: expected 7 fields, saw 8\\nSkipping line 246604: expected 7 fields, saw 8\\nSkipping line 246605: expected 7 fields, saw 8\\nSkipping line 246606: expected 7 fields, saw 8\\nSkipping line 246607: expected 7 fields, saw 8\\nSkipping line 246608: expected 7 fields, saw 8\\nSkipping line 246609: expected 7 fields, saw 8\\nSkipping line 246610: expected 7 fields, saw 8\\nSkipping line 246611: expected 7 fields, saw 8\\nSkipping line 246612: expected 7 fields, saw 8\\nSkipping line 246613: expected 7 fields, saw 8\\nSkipping line 246614: expected 7 fields, saw 8\\nSkipping line 246615: expected 7 fields, saw 8\\nSkipping line 246616: expected 7 fields, saw 8\\nSkipping line 246617: expected 7 fields, saw 8\\nSkipping line 246618: expected 7 fields, saw 8\\nSkipping line 246619: expected 7 fields, saw 8\\nSkipping line 246620: expected 7 fields, saw 8\\nSkipping line 246621: expected 7 fields, saw 8\\nSkipping line 246622: expected 7 fields, saw 8\\nSkipping line 246623: expected 7 fields, saw 8\\nSkipping line 246624: expected 7 fields, saw 8\\nSkipping line 246625: expected 7 fields, saw 8\\nSkipping line 246626: expected 7 fields, saw 8\\nSkipping line 246627: expected 7 fields, saw 8\\nSkipping line 246628: expected 7 fields, saw 8\\nSkipping line 246629: expected 7 fields, saw 8\\nSkipping line 246630: expected 7 fields, saw 8\\nSkipping line 246631: expected 7 fields, saw 8\\nSkipping line 246632: expected 7 fields, saw 8\\nSkipping line 246633: expected 7 fields, saw 8\\nSkipping line 246634: expected 7 fields, saw 8\\nSkipping line 246635: expected 7 fields, saw 8\\nSkipping line 246636: expected 7 fields, saw 8\\nSkipping line 246637: expected 7 fields, saw 8\\nSkipping line 246638: expected 7 fields, saw 8\\nSkipping line 246639: expected 7 fields, saw 8\\nSkipping line 246640: expected 7 fields, saw 8\\nSkipping line 246641: expected 7 fields, saw 8\\nSkipping line 246642: expected 7 fields, saw 8\\nSkipping line 246643: expected 7 fields, saw 8\\nSkipping line 246644: expected 7 fields, saw 8\\nSkipping line 246645: expected 7 fields, saw 8\\nSkipping line 246646: expected 7 fields, saw 8\\nSkipping line 246647: expected 7 fields, saw 8\\nSkipping line 246648: expected 7 fields, saw 8\\nSkipping line 246649: expected 7 fields, saw 8\\nSkipping line 246650: expected 7 fields, saw 8\\nSkipping line 246651: expected 7 fields, saw 8\\nSkipping line 246652: expected 7 fields, saw 8\\nSkipping line 246653: expected 7 fields, saw 8\\nSkipping line 246654: expected 7 fields, saw 8\\nSkipping line 246655: expected 7 fields, saw 8\\nSkipping line 246656: expected 7 fields, saw 8\\nSkipping line 246657: expected 7 fields, saw 8\\nSkipping line 246658: expected 7 fields, saw 8\\nSkipping line 246659: expected 7 fields, saw 8\\nSkipping line 246660: expected 7 fields, saw 8\\nSkipping line 246661: expected 7 fields, saw 8\\nSkipping line 246662: expected 7 fields, saw 8\\nSkipping line 246663: expected 7 fields, saw 8\\nSkipping line 246664: expected 7 fields, saw 8\\nSkipping line 246665: expected 7 fields, saw 8\\nSkipping line 246666: expected 7 fields, saw 8\\nSkipping line 246667: expected 7 fields, saw 8\\nSkipping line 246668: expected 7 fields, saw 8\\nSkipping line 246669: expected 7 fields, saw 8\\nSkipping line 246670: expected 7 fields, saw 8\\nSkipping line 246671: expected 7 fields, saw 8\\nSkipping line 246672: expected 7 fields, saw 8\\nSkipping line 246673: expected 7 fields, saw 8\\nSkipping line 246674: expected 7 fields, saw 8\\nSkipping line 246675: expected 7 fields, saw 8\\nSkipping line 246676: expected 7 fields, saw 8\\nSkipping line 246677: expected 7 fields, saw 8\\nSkipping line 246678: expected 7 fields, saw 8\\nSkipping line 246679: expected 7 fields, saw 8\\nSkipping line 246680: expected 7 fields, saw 8\\nSkipping line 246681: expected 7 fields, saw 8\\nSkipping line 246682: expected 7 fields, saw 8\\nSkipping line 246683: expected 7 fields, saw 8\\nSkipping line 246684: expected 7 fields, saw 8\\nSkipping line 246685: expected 7 fields, saw 8\\nSkipping line 246686: expected 7 fields, saw 8\\nSkipping line 246687: expected 7 fields, saw 8\\nSkipping line 246688: expected 7 fields, saw 8\\nSkipping line 246689: expected 7 fields, saw 8\\nSkipping line 246690: expected 7 fields, saw 8\\nSkipping line 246691: expected 7 fields, saw 8\\nSkipping line 246692: expected 7 fields, saw 8\\nSkipping line 246693: expected 7 fields, saw 8\\nSkipping line 246694: expected 7 fields, saw 8\\nSkipping line 246695: expected 7 fields, saw 8\\nSkipping line 246696: expected 7 fields, saw 8\\nSkipping line 246697: expected 7 fields, saw 8\\nSkipping line 246698: expected 7 fields, saw 8\\nSkipping line 246699: expected 7 fields, saw 8\\nSkipping line 246700: expected 7 fields, saw 8\\nSkipping line 246701: expected 7 fields, saw 8\\nSkipping line 246702: expected 7 fields, saw 8\\nSkipping line 246703: expected 7 fields, saw 8\\nSkipping line 246704: expected 7 fields, saw 8\\nSkipping line 246705: expected 7 fields, saw 8\\nSkipping line 246706: expected 7 fields, saw 8\\nSkipping line 246707: expected 7 fields, saw 8\\nSkipping line 246708: expected 7 fields, saw 8\\nSkipping line 246709: expected 7 fields, saw 8\\nSkipping line 246710: expected 7 fields, saw 8\\nSkipping line 246711: expected 7 fields, saw 8\\nSkipping line 246712: expected 7 fields, saw 8\\nSkipping line 246713: expected 7 fields, saw 8\\nSkipping line 246714: expected 7 fields, saw 8\\nSkipping line 246715: expected 7 fields, saw 8\\nSkipping line 246716: expected 7 fields, saw 8\\nSkipping line 246717: expected 7 fields, saw 8\\nSkipping line 246718: expected 7 fields, saw 8\\nSkipping line 246719: expected 7 fields, saw 8\\nSkipping line 246720: expected 7 fields, saw 8\\nSkipping line 246721: expected 7 fields, saw 8\\nSkipping line 246722: expected 7 fields, saw 8\\nSkipping line 246723: expected 7 fields, saw 8\\nSkipping line 246724: expected 7 fields, saw 8\\nSkipping line 246725: expected 7 fields, saw 8\\nSkipping line 246726: expected 7 fields, saw 8\\nSkipping line 246727: expected 7 fields, saw 8\\nSkipping line 246728: expected 7 fields, saw 8\\nSkipping line 246729: expected 7 fields, saw 8\\nSkipping line 246730: expected 7 fields, saw 8\\nSkipping line 246731: expected 7 fields, saw 8\\nSkipping line 246732: expected 7 fields, saw 8\\nSkipping line 246733: expected 7 fields, saw 8\\nSkipping line 246734: expected 7 fields, saw 8\\nSkipping line 246735: expected 7 fields, saw 8\\nSkipping line 246736: expected 7 fields, saw 8\\nSkipping line 246737: expected 7 fields, saw 8\\nSkipping line 246738: expected 7 fields, saw 8\\nSkipping line 246739: expected 7 fields, saw 8\\nSkipping line 246740: expected 7 fields, saw 8\\nSkipping line 246741: expected 7 fields, saw 8\\nSkipping line 246742: expected 7 fields, saw 8\\nSkipping line 246743: expected 7 fields, saw 8\\nSkipping line 246744: expected 7 fields, saw 8\\nSkipping line 246745: expected 7 fields, saw 8\\nSkipping line 246746: expected 7 fields, saw 8\\nSkipping line 246747: expected 7 fields, saw 8\\nSkipping line 246748: expected 7 fields, saw 8\\nSkipping line 246749: expected 7 fields, saw 8\\nSkipping line 246750: expected 7 fields, saw 8\\nSkipping line 246751: expected 7 fields, saw 8\\nSkipping line 246752: expected 7 fields, saw 8\\nSkipping line 246753: expected 7 fields, saw 8\\nSkipping line 246754: expected 7 fields, saw 8\\nSkipping line 246755: expected 7 fields, saw 8\\nSkipping line 246756: expected 7 fields, saw 8\\nSkipping line 246757: expected 7 fields, saw 8\\nSkipping line 246758: expected 7 fields, saw 8\\nSkipping line 246759: expected 7 fields, saw 8\\nSkipping line 246760: expected 7 fields, saw 8\\nSkipping line 246761: expected 7 fields, saw 8\\nSkipping line 246762: expected 7 fields, saw 8\\nSkipping line 246763: expected 7 fields, saw 8\\nSkipping line 246764: expected 7 fields, saw 8\\nSkipping line 246765: expected 7 fields, saw 8\\nSkipping line 246766: expected 7 fields, saw 8\\nSkipping line 246767: expected 7 fields, saw 8\\nSkipping line 246768: expected 7 fields, saw 8\\nSkipping line 246769: expected 7 fields, saw 8\\nSkipping line 246770: expected 7 fields, saw 8\\nSkipping line 246771: expected 7 fields, saw 8\\nSkipping line 246772: expected 7 fields, saw 8\\nSkipping line 246773: expected 7 fields, saw 8\\nSkipping line 246774: expected 7 fields, saw 8\\nSkipping line 246775: expected 7 fields, saw 8\\nSkipping line 246776: expected 7 fields, saw 8\\nSkipping line 246777: expected 7 fields, saw 8\\nSkipping line 246778: expected 7 fields, saw 8\\nSkipping line 246779: expected 7 fields, saw 8\\nSkipping line 246780: expected 7 fields, saw 8\\nSkipping line 246781: expected 7 fields, saw 8\\nSkipping line 246782: expected 7 fields, saw 8\\nSkipping line 246783: expected 7 fields, saw 8\\nSkipping line 246784: expected 7 fields, saw 8\\nSkipping line 246785: expected 7 fields, saw 8\\nSkipping line 246786: expected 7 fields, saw 8\\nSkipping line 246787: expected 7 fields, saw 8\\nSkipping line 246788: expected 7 fields, saw 8\\nSkipping line 246789: expected 7 fields, saw 8\\nSkipping line 246790: expected 7 fields, saw 8\\nSkipping line 246791: expected 7 fields, saw 8\\nSkipping line 246792: expected 7 fields, saw 8\\nSkipping line 246793: expected 7 fields, saw 8\\nSkipping line 246794: expected 7 fields, saw 8\\nSkipping line 246795: expected 7 fields, saw 8\\nSkipping line 246796: expected 7 fields, saw 8\\nSkipping line 246797: expected 7 fields, saw 8\\nSkipping line 246798: expected 7 fields, saw 8\\nSkipping line 246799: expected 7 fields, saw 8\\nSkipping line 246800: expected 7 fields, saw 8\\nSkipping line 246801: expected 7 fields, saw 8\\nSkipping line 246802: expected 7 fields, saw 8\\nSkipping line 246803: expected 7 fields, saw 8\\nSkipping line 246804: expected 7 fields, saw 8\\nSkipping line 246805: expected 7 fields, saw 8\\nSkipping line 246806: expected 7 fields, saw 8\\nSkipping line 246807: expected 7 fields, saw 8\\nSkipping line 246808: expected 7 fields, saw 8\\nSkipping line 246809: expected 7 fields, saw 8\\nSkipping line 246810: expected 7 fields, saw 8\\nSkipping line 246811: expected 7 fields, saw 8\\nSkipping line 246812: expected 7 fields, saw 8\\nSkipping line 246813: expected 7 fields, saw 8\\nSkipping line 246814: expected 7 fields, saw 8\\nSkipping line 246815: expected 7 fields, saw 8\\nSkipping line 246816: expected 7 fields, saw 8\\nSkipping line 246817: expected 7 fields, saw 8\\nSkipping line 246818: expected 7 fields, saw 8\\nSkipping line 246819: expected 7 fields, saw 8\\nSkipping line 246820: expected 7 fields, saw 8\\nSkipping line 246821: expected 7 fields, saw 8\\nSkipping line 246822: expected 7 fields, saw 8\\nSkipping line 246823: expected 7 fields, saw 8\\nSkipping line 246824: expected 7 fields, saw 8\\nSkipping line 246825: expected 7 fields, saw 8\\nSkipping line 246826: expected 7 fields, saw 8\\nSkipping line 246827: expected 7 fields, saw 8\\nSkipping line 246828: expected 7 fields, saw 8\\nSkipping line 246829: expected 7 fields, saw 8\\nSkipping line 246830: expected 7 fields, saw 8\\nSkipping line 246831: expected 7 fields, saw 8\\nSkipping line 246832: expected 7 fields, saw 8\\nSkipping line 246833: expected 7 fields, saw 8\\nSkipping line 246834: expected 7 fields, saw 8\\nSkipping line 246835: expected 7 fields, saw 8\\nSkipping line 246836: expected 7 fields, saw 8\\nSkipping line 246837: expected 7 fields, saw 8\\nSkipping line 246838: expected 7 fields, saw 8\\nSkipping line 246839: expected 7 fields, saw 8\\nSkipping line 246840: expected 7 fields, saw 8\\nSkipping line 246841: expected 7 fields, saw 8\\nSkipping line 246842: expected 7 fields, saw 8\\nSkipping line 246843: expected 7 fields, saw 8\\nSkipping line 246844: expected 7 fields, saw 8\\nSkipping line 246845: expected 7 fields, saw 8\\nSkipping line 246846: expected 7 fields, saw 8\\nSkipping line 246847: expected 7 fields, saw 8\\nSkipping line 246848: expected 7 fields, saw 8\\nSkipping line 246849: expected 7 fields, saw 8\\nSkipping line 246850: expected 7 fields, saw 8\\nSkipping line 246851: expected 7 fields, saw 8\\nSkipping line 246852: expected 7 fields, saw 8\\nSkipping line 246853: expected 7 fields, saw 8\\nSkipping line 246854: expected 7 fields, saw 8\\nSkipping line 246855: expected 7 fields, saw 8\\nSkipping line 246856: expected 7 fields, saw 8\\nSkipping line 246857: expected 7 fields, saw 8\\nSkipping line 246858: expected 7 fields, saw 8\\nSkipping line 246859: expected 7 fields, saw 8\\nSkipping line 246860: expected 7 fields, saw 8\\nSkipping line 246861: expected 7 fields, saw 8\\nSkipping line 246862: expected 7 fields, saw 8\\nSkipping line 246863: expected 7 fields, saw 8\\nSkipping line 246864: expected 7 fields, saw 8\\nSkipping line 246865: expected 7 fields, saw 8\\nSkipping line 246866: expected 7 fields, saw 8\\nSkipping line 246867: expected 7 fields, saw 8\\nSkipping line 246868: expected 7 fields, saw 8\\nSkipping line 246869: expected 7 fields, saw 8\\nSkipping line 246870: expected 7 fields, saw 8\\nSkipping line 246871: expected 7 fields, saw 8\\nSkipping line 246872: expected 7 fields, saw 8\\nSkipping line 246873: expected 7 fields, saw 8\\nSkipping line 246874: expected 7 fields, saw 8\\nSkipping line 246875: expected 7 fields, saw 8\\nSkipping line 246876: expected 7 fields, saw 8\\nSkipping line 246877: expected 7 fields, saw 8\\nSkipping line 246878: expected 7 fields, saw 8\\nSkipping line 246879: expected 7 fields, saw 8\\nSkipping line 246880: expected 7 fields, saw 8\\nSkipping line 246881: expected 7 fields, saw 8\\nSkipping line 246882: expected 7 fields, saw 8\\nSkipping line 246883: expected 7 fields, saw 8\\nSkipping line 246884: expected 7 fields, saw 8\\nSkipping line 246885: expected 7 fields, saw 8\\nSkipping line 246886: expected 7 fields, saw 8\\nSkipping line 246887: expected 7 fields, saw 8\\nSkipping line 246888: expected 7 fields, saw 8\\nSkipping line 246889: expected 7 fields, saw 8\\nSkipping line 246890: expected 7 fields, saw 8\\nSkipping line 246891: expected 7 fields, saw 8\\nSkipping line 246892: expected 7 fields, saw 8\\nSkipping line 246893: expected 7 fields, saw 8\\nSkipping line 246894: expected 7 fields, saw 8\\nSkipping line 246895: expected 7 fields, saw 8\\nSkipping line 246896: expected 7 fields, saw 8\\nSkipping line 246897: expected 7 fields, saw 8\\nSkipping line 246898: expected 7 fields, saw 8\\nSkipping line 246899: expected 7 fields, saw 8\\nSkipping line 246900: expected 7 fields, saw 8\\nSkipping line 246901: expected 7 fields, saw 8\\nSkipping line 246902: expected 7 fields, saw 8\\nSkipping line 246903: expected 7 fields, saw 8\\nSkipping line 246904: expected 7 fields, saw 8\\nSkipping line 246905: expected 7 fields, saw 8\\nSkipping line 246906: expected 7 fields, saw 8\\nSkipping line 246907: expected 7 fields, saw 8\\nSkipping line 246908: expected 7 fields, saw 8\\nSkipping line 246909: expected 7 fields, saw 8\\nSkipping line 246910: expected 7 fields, saw 8\\nSkipping line 246911: expected 7 fields, saw 8\\nSkipping line 246912: expected 7 fields, saw 8\\nSkipping line 246913: expected 7 fields, saw 8\\nSkipping line 246914: expected 7 fields, saw 8\\nSkipping line 246915: expected 7 fields, saw 8\\nSkipping line 246916: expected 7 fields, saw 8\\nSkipping line 246917: expected 7 fields, saw 8\\nSkipping line 246918: expected 7 fields, saw 8\\nSkipping line 246919: expected 7 fields, saw 8\\nSkipping line 246920: expected 7 fields, saw 8\\nSkipping line 246921: expected 7 fields, saw 8\\nSkipping line 246922: expected 7 fields, saw 8\\nSkipping line 246923: expected 7 fields, saw 8\\nSkipping line 246924: expected 7 fields, saw 8\\nSkipping line 246925: expected 7 fields, saw 8\\nSkipping line 246926: expected 7 fields, saw 8\\nSkipping line 246927: expected 7 fields, saw 8\\nSkipping line 246928: expected 7 fields, saw 8\\nSkipping line 246929: expected 7 fields, saw 8\\nSkipping line 246930: expected 7 fields, saw 8\\nSkipping line 246931: expected 7 fields, saw 8\\nSkipping line 246932: expected 7 fields, saw 8\\nSkipping line 246933: expected 7 fields, saw 8\\nSkipping line 246934: expected 7 fields, saw 8\\nSkipping line 246935: expected 7 fields, saw 8\\nSkipping line 246936: expected 7 fields, saw 8\\nSkipping line 246937: expected 7 fields, saw 8\\nSkipping line 246938: expected 7 fields, saw 8\\nSkipping line 246939: expected 7 fields, saw 8\\nSkipping line 246940: expected 7 fields, saw 8\\nSkipping line 246941: expected 7 fields, saw 8\\nSkipping line 246942: expected 7 fields, saw 8\\nSkipping line 246943: expected 7 fields, saw 8\\nSkipping line 246944: expected 7 fields, saw 8\\nSkipping line 246945: expected 7 fields, saw 8\\nSkipping line 246946: expected 7 fields, saw 8\\nSkipping line 246947: expected 7 fields, saw 8\\nSkipping line 246948: expected 7 fields, saw 8\\nSkipping line 246949: expected 7 fields, saw 8\\nSkipping line 246950: expected 7 fields, saw 8\\nSkipping line 246951: expected 7 fields, saw 8\\nSkipping line 246952: expected 7 fields, saw 8\\nSkipping line 246953: expected 7 fields, saw 8\\nSkipping line 246954: expected 7 fields, saw 8\\nSkipping line 246955: expected 7 fields, saw 8\\nSkipping line 246956: expected 7 fields, saw 8\\nSkipping line 246957: expected 7 fields, saw 8\\nSkipping line 246958: expected 7 fields, saw 8\\nSkipping line 246959: expected 7 fields, saw 8\\nSkipping line 246960: expected 7 fields, saw 8\\nSkipping line 246961: expected 7 fields, saw 8\\nSkipping line 246962: expected 7 fields, saw 8\\nSkipping line 246963: expected 7 fields, saw 8\\nSkipping line 246964: expected 7 fields, saw 8\\nSkipping line 246965: expected 7 fields, saw 8\\nSkipping line 246966: expected 7 fields, saw 8\\nSkipping line 246967: expected 7 fields, saw 8\\nSkipping line 246968: expected 7 fields, saw 8\\nSkipping line 246969: expected 7 fields, saw 8\\nSkipping line 246970: expected 7 fields, saw 8\\nSkipping line 246971: expected 7 fields, saw 8\\nSkipping line 246972: expected 7 fields, saw 8\\nSkipping line 246973: expected 7 fields, saw 8\\nSkipping line 246974: expected 7 fields, saw 8\\nSkipping line 246975: expected 7 fields, saw 8\\nSkipping line 246976: expected 7 fields, saw 8\\nSkipping line 246977: expected 7 fields, saw 8\\nSkipping line 246978: expected 7 fields, saw 8\\nSkipping line 246979: expected 7 fields, saw 8\\nSkipping line 246980: expected 7 fields, saw 8\\nSkipping line 246981: expected 7 fields, saw 8\\nSkipping line 246982: expected 7 fields, saw 8\\nSkipping line 246983: expected 7 fields, saw 8\\nSkipping line 246984: expected 7 fields, saw 8\\nSkipping line 246985: expected 7 fields, saw 8\\nSkipping line 246986: expected 7 fields, saw 8\\nSkipping line 246987: expected 7 fields, saw 8\\nSkipping line 246988: expected 7 fields, saw 8\\nSkipping line 246989: expected 7 fields, saw 8\\nSkipping line 246990: expected 7 fields, saw 8\\nSkipping line 246991: expected 7 fields, saw 8\\nSkipping line 246992: expected 7 fields, saw 8\\nSkipping line 246993: expected 7 fields, saw 8\\nSkipping line 246994: expected 7 fields, saw 8\\nSkipping line 246995: expected 7 fields, saw 8\\nSkipping line 246996: expected 7 fields, saw 8\\nSkipping line 246997: expected 7 fields, saw 8\\nSkipping line 246998: expected 7 fields, saw 8\\nSkipping line 246999: expected 7 fields, saw 8\\nSkipping line 247000: expected 7 fields, saw 8\\nSkipping line 247001: expected 7 fields, saw 8\\nSkipping line 247002: expected 7 fields, saw 8\\nSkipping line 247003: expected 7 fields, saw 8\\nSkipping line 247004: expected 7 fields, saw 8\\nSkipping line 247005: expected 7 fields, saw 8\\nSkipping line 247006: expected 7 fields, saw 8\\nSkipping line 247007: expected 7 fields, saw 8\\nSkipping line 247008: expected 7 fields, saw 8\\nSkipping line 247009: expected 7 fields, saw 8\\nSkipping line 247010: expected 7 fields, saw 8\\nSkipping line 247011: expected 7 fields, saw 8\\nSkipping line 247012: expected 7 fields, saw 8\\nSkipping line 247013: expected 7 fields, saw 8\\nSkipping line 247014: expected 7 fields, saw 8\\nSkipping line 247015: expected 7 fields, saw 8\\nSkipping line 247016: expected 7 fields, saw 8\\nSkipping line 247017: expected 7 fields, saw 8\\nSkipping line 247018: expected 7 fields, saw 8\\nSkipping line 247019: expected 7 fields, saw 8\\nSkipping line 247020: expected 7 fields, saw 8\\nSkipping line 247021: expected 7 fields, saw 8\\nSkipping line 247022: expected 7 fields, saw 8\\nSkipping line 247023: expected 7 fields, saw 8\\nSkipping line 247024: expected 7 fields, saw 8\\nSkipping line 247025: expected 7 fields, saw 8\\nSkipping line 247026: expected 7 fields, saw 8\\nSkipping line 247027: expected 7 fields, saw 8\\nSkipping line 247028: expected 7 fields, saw 8\\nSkipping line 247029: expected 7 fields, saw 8\\nSkipping line 247030: expected 7 fields, saw 8\\nSkipping line 247031: expected 7 fields, saw 8\\nSkipping line 247032: expected 7 fields, saw 8\\nSkipping line 247033: expected 7 fields, saw 8\\nSkipping line 247034: expected 7 fields, saw 8\\nSkipping line 247035: expected 7 fields, saw 8\\nSkipping line 247036: expected 7 fields, saw 8\\nSkipping line 247037: expected 7 fields, saw 8\\nSkipping line 247038: expected 7 fields, saw 8\\nSkipping line 247039: expected 7 fields, saw 8\\nSkipping line 247040: expected 7 fields, saw 8\\nSkipping line 247041: expected 7 fields, saw 8\\nSkipping line 247042: expected 7 fields, saw 8\\nSkipping line 247043: expected 7 fields, saw 8\\nSkipping line 247044: expected 7 fields, saw 8\\nSkipping line 247045: expected 7 fields, saw 8\\nSkipping line 247046: expected 7 fields, saw 8\\nSkipping line 247047: expected 7 fields, saw 8\\nSkipping line 247048: expected 7 fields, saw 8\\nSkipping line 247049: expected 7 fields, saw 8\\nSkipping line 247050: expected 7 fields, saw 8\\nSkipping line 247051: expected 7 fields, saw 8\\nSkipping line 247052: expected 7 fields, saw 8\\nSkipping line 247053: expected 7 fields, saw 8\\nSkipping line 247054: expected 7 fields, saw 8\\nSkipping line 247055: expected 7 fields, saw 8\\nSkipping line 247056: expected 7 fields, saw 8\\nSkipping line 247057: expected 7 fields, saw 8\\nSkipping line 247058: expected 7 fields, saw 8\\nSkipping line 247059: expected 7 fields, saw 8\\nSkipping line 247060: expected 7 fields, saw 8\\nSkipping line 247061: expected 7 fields, saw 8\\nSkipping line 247062: expected 7 fields, saw 8\\nSkipping line 247063: expected 7 fields, saw 8\\nSkipping line 247064: expected 7 fields, saw 8\\nSkipping line 247065: expected 7 fields, saw 8\\nSkipping line 247066: expected 7 fields, saw 8\\nSkipping line 247067: expected 7 fields, saw 8\\nSkipping line 247068: expected 7 fields, saw 8\\nSkipping line 247069: expected 7 fields, saw 8\\nSkipping line 247070: expected 7 fields, saw 8\\nSkipping line 247071: expected 7 fields, saw 8\\nSkipping line 247072: expected 7 fields, saw 8\\nSkipping line 247073: expected 7 fields, saw 8\\nSkipping line 247074: expected 7 fields, saw 8\\nSkipping line 247075: expected 7 fields, saw 8\\nSkipping line 247076: expected 7 fields, saw 8\\nSkipping line 247077: expected 7 fields, saw 8\\nSkipping line 247078: expected 7 fields, saw 8\\nSkipping line 247079: expected 7 fields, saw 8\\nSkipping line 247080: expected 7 fields, saw 8\\nSkipping line 247081: expected 7 fields, saw 8\\nSkipping line 247082: expected 7 fields, saw 8\\nSkipping line 247083: expected 7 fields, saw 8\\nSkipping line 247084: expected 7 fields, saw 8\\nSkipping line 247085: expected 7 fields, saw 8\\nSkipping line 247086: expected 7 fields, saw 8\\nSkipping line 247087: expected 7 fields, saw 8\\nSkipping line 247088: expected 7 fields, saw 8\\nSkipping line 247089: expected 7 fields, saw 8\\nSkipping line 247090: expected 7 fields, saw 8\\nSkipping line 247091: expected 7 fields, saw 8\\nSkipping line 247092: expected 7 fields, saw 8\\nSkipping line 247093: expected 7 fields, saw 8\\nSkipping line 247094: expected 7 fields, saw 8\\nSkipping line 247095: expected 7 fields, saw 8\\nSkipping line 247096: expected 7 fields, saw 8\\nSkipping line 247097: expected 7 fields, saw 8\\nSkipping line 247098: expected 7 fields, saw 8\\nSkipping line 247099: expected 7 fields, saw 8\\nSkipping line 247100: expected 7 fields, saw 8\\nSkipping line 247101: expected 7 fields, saw 8\\nSkipping line 247102: expected 7 fields, saw 8\\nSkipping line 247103: expected 7 fields, saw 8\\nSkipping line 247104: expected 7 fields, saw 8\\nSkipping line 247105: expected 7 fields, saw 8\\nSkipping line 247106: expected 7 fields, saw 8\\nSkipping line 247107: expected 7 fields, saw 8\\nSkipping line 247108: expected 7 fields, saw 8\\nSkipping line 247109: expected 7 fields, saw 8\\nSkipping line 247110: expected 7 fields, saw 8\\nSkipping line 247111: expected 7 fields, saw 8\\nSkipping line 247112: expected 7 fields, saw 8\\nSkipping line 247113: expected 7 fields, saw 8\\nSkipping line 247114: expected 7 fields, saw 8\\nSkipping line 247115: expected 7 fields, saw 8\\nSkipping line 247116: expected 7 fields, saw 8\\nSkipping line 247117: expected 7 fields, saw 8\\nSkipping line 247118: expected 7 fields, saw 8\\nSkipping line 247119: expected 7 fields, saw 8\\nSkipping line 247120: expected 7 fields, saw 8\\nSkipping line 247121: expected 7 fields, saw 8\\nSkipping line 247122: expected 7 fields, saw 8\\nSkipping line 247123: expected 7 fields, saw 8\\nSkipping line 247124: expected 7 fields, saw 8\\nSkipping line 247125: expected 7 fields, saw 8\\nSkipping line 247126: expected 7 fields, saw 8\\nSkipping line 247127: expected 7 fields, saw 8\\nSkipping line 247128: expected 7 fields, saw 8\\nSkipping line 247129: expected 7 fields, saw 8\\nSkipping line 247130: expected 7 fields, saw 8\\nSkipping line 247131: expected 7 fields, saw 8\\nSkipping line 247132: expected 7 fields, saw 8\\nSkipping line 247133: expected 7 fields, saw 8\\nSkipping line 247134: expected 7 fields, saw 8\\nSkipping line 247135: expected 7 fields, saw 8\\nSkipping line 247136: expected 7 fields, saw 8\\nSkipping line 247137: expected 7 fields, saw 8\\nSkipping line 247138: expected 7 fields, saw 8\\nSkipping line 247139: expected 7 fields, saw 8\\nSkipping line 247140: expected 7 fields, saw 8\\nSkipping line 247141: expected 7 fields, saw 8\\nSkipping line 247142: expected 7 fields, saw 8\\nSkipping line 247143: expected 7 fields, saw 8\\nSkipping line 247144: expected 7 fields, saw 8\\nSkipping line 247145: expected 7 fields, saw 8\\nSkipping line 247146: expected 7 fields, saw 8\\nSkipping line 247147: expected 7 fields, saw 8\\nSkipping line 247148: expected 7 fields, saw 8\\nSkipping line 247149: expected 7 fields, saw 8\\nSkipping line 247150: expected 7 fields, saw 8\\nSkipping line 247151: expected 7 fields, saw 8\\nSkipping line 247152: expected 7 fields, saw 8\\nSkipping line 247153: expected 7 fields, saw 8\\nSkipping line 247154: expected 7 fields, saw 8\\nSkipping line 247155: expected 7 fields, saw 8\\nSkipping line 247156: expected 7 fields, saw 8\\nSkipping line 247157: expected 7 fields, saw 8\\nSkipping line 247158: expected 7 fields, saw 8\\nSkipping line 247159: expected 7 fields, saw 8\\nSkipping line 247160: expected 7 fields, saw 8\\nSkipping line 247161: expected 7 fields, saw 8\\nSkipping line 247162: expected 7 fields, saw 8\\nSkipping line 247163: expected 7 fields, saw 8\\nSkipping line 247164: expected 7 fields, saw 8\\nSkipping line 247165: expected 7 fields, saw 8\\nSkipping line 247166: expected 7 fields, saw 8\\nSkipping line 247167: expected 7 fields, saw 8\\nSkipping line 247168: expected 7 fields, saw 8\\nSkipping line 247169: expected 7 fields, saw 8\\nSkipping line 247170: expected 7 fields, saw 8\\nSkipping line 247171: expected 7 fields, saw 8\\nSkipping line 247172: expected 7 fields, saw 8\\nSkipping line 247173: expected 7 fields, saw 8\\nSkipping line 247174: expected 7 fields, saw 8\\nSkipping line 247175: expected 7 fields, saw 8\\nSkipping line 247176: expected 7 fields, saw 8\\nSkipping line 247177: expected 7 fields, saw 8\\nSkipping line 247178: expected 7 fields, saw 8\\nSkipping line 247179: expected 7 fields, saw 8\\nSkipping line 247180: expected 7 fields, saw 8\\nSkipping line 247181: expected 7 fields, saw 8\\nSkipping line 247182: expected 7 fields, saw 8\\nSkipping line 247183: expected 7 fields, saw 8\\nSkipping line 247184: expected 7 fields, saw 8\\nSkipping line 247185: expected 7 fields, saw 8\\nSkipping line 247186: expected 7 fields, saw 8\\nSkipping line 247187: expected 7 fields, saw 8\\nSkipping line 247188: expected 7 fields, saw 8\\nSkipping line 247189: expected 7 fields, saw 8\\nSkipping line 247190: expected 7 fields, saw 8\\nSkipping line 247191: expected 7 fields, saw 8\\nSkipping line 247192: expected 7 fields, saw 8\\nSkipping line 247193: expected 7 fields, saw 8\\nSkipping line 247194: expected 7 fields, saw 8\\nSkipping line 247195: expected 7 fields, saw 8\\nSkipping line 247196: expected 7 fields, saw 8\\nSkipping line 247197: expected 7 fields, saw 8\\nSkipping line 247198: expected 7 fields, saw 8\\nSkipping line 247199: expected 7 fields, saw 8\\nSkipping line 247200: expected 7 fields, saw 8\\nSkipping line 247201: expected 7 fields, saw 8\\nSkipping line 247202: expected 7 fields, saw 8\\nSkipping line 247203: expected 7 fields, saw 8\\nSkipping line 247204: expected 7 fields, saw 8\\nSkipping line 247205: expected 7 fields, saw 8\\nSkipping line 247206: expected 7 fields, saw 8\\nSkipping line 247207: expected 7 fields, saw 8\\nSkipping line 247208: expected 7 fields, saw 8\\nSkipping line 247209: expected 7 fields, saw 8\\nSkipping line 247210: expected 7 fields, saw 8\\nSkipping line 247211: expected 7 fields, saw 8\\nSkipping line 247212: expected 7 fields, saw 8\\nSkipping line 247213: expected 7 fields, saw 8\\nSkipping line 247214: expected 7 fields, saw 8\\nSkipping line 247215: expected 7 fields, saw 8\\nSkipping line 247216: expected 7 fields, saw 8\\nSkipping line 247217: expected 7 fields, saw 8\\nSkipping line 247218: expected 7 fields, saw 8\\nSkipping line 247219: expected 7 fields, saw 8\\nSkipping line 247220: expected 7 fields, saw 8\\nSkipping line 247221: expected 7 fields, saw 8\\nSkipping line 247222: expected 7 fields, saw 8\\nSkipping line 247223: expected 7 fields, saw 8\\nSkipping line 247224: expected 7 fields, saw 8\\nSkipping line 247225: expected 7 fields, saw 8\\nSkipping line 247226: expected 7 fields, saw 8\\nSkipping line 247227: expected 7 fields, saw 8\\nSkipping line 247228: expected 7 fields, saw 8\\nSkipping line 247229: expected 7 fields, saw 8\\nSkipping line 247230: expected 7 fields, saw 8\\nSkipping line 247231: expected 7 fields, saw 8\\nSkipping line 247232: expected 7 fields, saw 8\\nSkipping line 247233: expected 7 fields, saw 8\\nSkipping line 247234: expected 7 fields, saw 8\\nSkipping line 247235: expected 7 fields, saw 8\\nSkipping line 247236: expected 7 fields, saw 8\\nSkipping line 247237: expected 7 fields, saw 8\\nSkipping line 247238: expected 7 fields, saw 8\\nSkipping line 247239: expected 7 fields, saw 8\\nSkipping line 247240: expected 7 fields, saw 8\\nSkipping line 247241: expected 7 fields, saw 8\\nSkipping line 247242: expected 7 fields, saw 8\\nSkipping line 247243: expected 7 fields, saw 8\\nSkipping line 247244: expected 7 fields, saw 8\\nSkipping line 247245: expected 7 fields, saw 8\\nSkipping line 247246: expected 7 fields, saw 8\\nSkipping line 247247: expected 7 fields, saw 8\\nSkipping line 247248: expected 7 fields, saw 8\\nSkipping line 247249: expected 7 fields, saw 8\\nSkipping line 247250: expected 7 fields, saw 8\\nSkipping line 247251: expected 7 fields, saw 8\\nSkipping line 247252: expected 7 fields, saw 8\\nSkipping line 247253: expected 7 fields, saw 8\\nSkipping line 247254: expected 7 fields, saw 8\\nSkipping line 247255: expected 7 fields, saw 8\\nSkipping line 247256: expected 7 fields, saw 8\\nSkipping line 247257: expected 7 fields, saw 8\\nSkipping line 247258: expected 7 fields, saw 8\\nSkipping line 247259: expected 7 fields, saw 8\\nSkipping line 247260: expected 7 fields, saw 8\\nSkipping line 247261: expected 7 fields, saw 8\\nSkipping line 247262: expected 7 fields, saw 8\\nSkipping line 247263: expected 7 fields, saw 8\\nSkipping line 247264: expected 7 fields, saw 8\\nSkipping line 247265: expected 7 fields, saw 8\\nSkipping line 247266: expected 7 fields, saw 8\\nSkipping line 247267: expected 7 fields, saw 8\\nSkipping line 247268: expected 7 fields, saw 8\\nSkipping line 247269: expected 7 fields, saw 8\\nSkipping line 247270: expected 7 fields, saw 8\\nSkipping line 247271: expected 7 fields, saw 8\\nSkipping line 247272: expected 7 fields, saw 8\\nSkipping line 247273: expected 7 fields, saw 8\\nSkipping line 247274: expected 7 fields, saw 8\\nSkipping line 247275: expected 7 fields, saw 8\\nSkipping line 247276: expected 7 fields, saw 8\\nSkipping line 247277: expected 7 fields, saw 8\\nSkipping line 247278: expected 7 fields, saw 8\\nSkipping line 247279: expected 7 fields, saw 8\\nSkipping line 247280: expected 7 fields, saw 8\\nSkipping line 247281: expected 7 fields, saw 8\\nSkipping line 247282: expected 7 fields, saw 8\\nSkipping line 247283: expected 7 fields, saw 8\\nSkipping line 247284: expected 7 fields, saw 8\\nSkipping line 247285: expected 7 fields, saw 8\\nSkipping line 247286: expected 7 fields, saw 8\\nSkipping line 247287: expected 7 fields, saw 8\\nSkipping line 247288: expected 7 fields, saw 8\\nSkipping line 247289: expected 7 fields, saw 8\\nSkipping line 247290: expected 7 fields, saw 8\\nSkipping line 247291: expected 7 fields, saw 8\\nSkipping line 247292: expected 7 fields, saw 8\\nSkipping line 247293: expected 7 fields, saw 8\\nSkipping line 247294: expected 7 fields, saw 8\\nSkipping line 247295: expected 7 fields, saw 8\\nSkipping line 247296: expected 7 fields, saw 8\\nSkipping line 247297: expected 7 fields, saw 8\\nSkipping line 247298: expected 7 fields, saw 8\\nSkipping line 247299: expected 7 fields, saw 8\\nSkipping line 247300: expected 7 fields, saw 8\\nSkipping line 247301: expected 7 fields, saw 8\\nSkipping line 247302: expected 7 fields, saw 8\\nSkipping line 247303: expected 7 fields, saw 8\\nSkipping line 247304: expected 7 fields, saw 8\\nSkipping line 247305: expected 7 fields, saw 8\\nSkipping line 247306: expected 7 fields, saw 8\\nSkipping line 247307: expected 7 fields, saw 8\\nSkipping line 247308: expected 7 fields, saw 8\\nSkipping line 247309: expected 7 fields, saw 8\\nSkipping line 247310: expected 7 fields, saw 8\\nSkipping line 247311: expected 7 fields, saw 8\\nSkipping line 247312: expected 7 fields, saw 8\\nSkipping line 247313: expected 7 fields, saw 8\\nSkipping line 247314: expected 7 fields, saw 8\\nSkipping line 247315: expected 7 fields, saw 8\\nSkipping line 247316: expected 7 fields, saw 8\\nSkipping line 247317: expected 7 fields, saw 8\\nSkipping line 247318: expected 7 fields, saw 8\\nSkipping line 247319: expected 7 fields, saw 8\\nSkipping line 247320: expected 7 fields, saw 8\\nSkipping line 247321: expected 7 fields, saw 8\\nSkipping line 247322: expected 7 fields, saw 8\\nSkipping line 247323: expected 7 fields, saw 8\\nSkipping line 247324: expected 7 fields, saw 8\\nSkipping line 247325: expected 7 fields, saw 8\\nSkipping line 247326: expected 7 fields, saw 8\\nSkipping line 247327: expected 7 fields, saw 8\\nSkipping line 247328: expected 7 fields, saw 8\\nSkipping line 247329: expected 7 fields, saw 8\\nSkipping line 247330: expected 7 fields, saw 8\\nSkipping line 247331: expected 7 fields, saw 8\\nSkipping line 247332: expected 7 fields, saw 8\\nSkipping line 247333: expected 7 fields, saw 8\\nSkipping line 247334: expected 7 fields, saw 8\\nSkipping line 247335: expected 7 fields, saw 8\\nSkipping line 247336: expected 7 fields, saw 8\\nSkipping line 247337: expected 7 fields, saw 8\\nSkipping line 247338: expected 7 fields, saw 8\\nSkipping line 247339: expected 7 fields, saw 8\\nSkipping line 247340: expected 7 fields, saw 8\\nSkipping line 247341: expected 7 fields, saw 8\\nSkipping line 247342: expected 7 fields, saw 8\\nSkipping line 247343: expected 7 fields, saw 8\\nSkipping line 247344: expected 7 fields, saw 8\\nSkipping line 247345: expected 7 fields, saw 8\\nSkipping line 247346: expected 7 fields, saw 8\\nSkipping line 247347: expected 7 fields, saw 8\\nSkipping line 247348: expected 7 fields, saw 8\\nSkipping line 247349: expected 7 fields, saw 8\\nSkipping line 247350: expected 7 fields, saw 8\\nSkipping line 247351: expected 7 fields, saw 8\\nSkipping line 247352: expected 7 fields, saw 8\\nSkipping line 247353: expected 7 fields, saw 8\\nSkipping line 247354: expected 7 fields, saw 8\\nSkipping line 247355: expected 7 fields, saw 8\\nSkipping line 247356: expected 7 fields, saw 8\\nSkipping line 247357: expected 7 fields, saw 8\\nSkipping line 247358: expected 7 fields, saw 8\\nSkipping line 247359: expected 7 fields, saw 8\\nSkipping line 247360: expected 7 fields, saw 8\\nSkipping line 247361: expected 7 fields, saw 8\\nSkipping line 247362: expected 7 fields, saw 8\\nSkipping line 247363: expected 7 fields, saw 8\\nSkipping line 247364: expected 7 fields, saw 8\\nSkipping line 247365: expected 7 fields, saw 8\\nSkipping line 247366: expected 7 fields, saw 8\\nSkipping line 247367: expected 7 fields, saw 8\\nSkipping line 247368: expected 7 fields, saw 8\\nSkipping line 247369: expected 7 fields, saw 8\\nSkipping line 247370: expected 7 fields, saw 8\\nSkipping line 247371: expected 7 fields, saw 8\\nSkipping line 247372: expected 7 fields, saw 8\\nSkipping line 247373: expected 7 fields, saw 8\\nSkipping line 247374: expected 7 fields, saw 8\\nSkipping line 247375: expected 7 fields, saw 8\\nSkipping line 247376: expected 7 fields, saw 8\\nSkipping line 247377: expected 7 fields, saw 8\\nSkipping line 247378: expected 7 fields, saw 8\\nSkipping line 247379: expected 7 fields, saw 8\\nSkipping line 247380: expected 7 fields, saw 8\\nSkipping line 247381: expected 7 fields, saw 8\\nSkipping line 247382: expected 7 fields, saw 8\\nSkipping line 247383: expected 7 fields, saw 8\\nSkipping line 247384: expected 7 fields, saw 8\\nSkipping line 247385: expected 7 fields, saw 8\\nSkipping line 247386: expected 7 fields, saw 8\\nSkipping line 247387: expected 7 fields, saw 8\\nSkipping line 247388: expected 7 fields, saw 8\\nSkipping line 247389: expected 7 fields, saw 8\\nSkipping line 247390: expected 7 fields, saw 8\\nSkipping line 247391: expected 7 fields, saw 8\\nSkipping line 247392: expected 7 fields, saw 8\\nSkipping line 247393: expected 7 fields, saw 8\\nSkipping line 247394: expected 7 fields, saw 8\\nSkipping line 247395: expected 7 fields, saw 8\\nSkipping line 247396: expected 7 fields, saw 8\\nSkipping line 247397: expected 7 fields, saw 8\\nSkipping line 247398: expected 7 fields, saw 8\\nSkipping line 247399: expected 7 fields, saw 8\\nSkipping line 247400: expected 7 fields, saw 8\\nSkipping line 247401: expected 7 fields, saw 8\\nSkipping line 247402: expected 7 fields, saw 8\\nSkipping line 247403: expected 7 fields, saw 8\\nSkipping line 247404: expected 7 fields, saw 8\\nSkipping line 247405: expected 7 fields, saw 8\\nSkipping line 247406: expected 7 fields, saw 8\\nSkipping line 247407: expected 7 fields, saw 8\\nSkipping line 247408: expected 7 fields, saw 8\\nSkipping line 247409: expected 7 fields, saw 8\\nSkipping line 247410: expected 7 fields, saw 8\\nSkipping line 247411: expected 7 fields, saw 8\\nSkipping line 247412: expected 7 fields, saw 8\\nSkipping line 247413: expected 7 fields, saw 8\\nSkipping line 247414: expected 7 fields, saw 8\\nSkipping line 247415: expected 7 fields, saw 8\\nSkipping line 247416: expected 7 fields, saw 8\\nSkipping line 247417: expected 7 fields, saw 8\\nSkipping line 247418: expected 7 fields, saw 8\\nSkipping line 247419: expected 7 fields, saw 8\\nSkipping line 247420: expected 7 fields, saw 8\\nSkipping line 247421: expected 7 fields, saw 8\\nSkipping line 247422: expected 7 fields, saw 8\\nSkipping line 247423: expected 7 fields, saw 8\\nSkipping line 247424: expected 7 fields, saw 8\\nSkipping line 247425: expected 7 fields, saw 8\\nSkipping line 247426: expected 7 fields, saw 8\\nSkipping line 247427: expected 7 fields, saw 8\\nSkipping line 247428: expected 7 fields, saw 8\\nSkipping line 247429: expected 7 fields, saw 8\\nSkipping line 247430: expected 7 fields, saw 8\\nSkipping line 247431: expected 7 fields, saw 8\\nSkipping line 247432: expected 7 fields, saw 8\\nSkipping line 247433: expected 7 fields, saw 8\\nSkipping line 247434: expected 7 fields, saw 8\\nSkipping line 247435: expected 7 fields, saw 8\\nSkipping line 247436: expected 7 fields, saw 8\\nSkipping line 247437: expected 7 fields, saw 8\\nSkipping line 247438: expected 7 fields, saw 8\\nSkipping line 247439: expected 7 fields, saw 8\\nSkipping line 247440: expected 7 fields, saw 8\\nSkipping line 247441: expected 7 fields, saw 8\\nSkipping line 247442: expected 7 fields, saw 8\\nSkipping line 247443: expected 7 fields, saw 8\\nSkipping line 247444: expected 7 fields, saw 8\\nSkipping line 247445: expected 7 fields, saw 8\\nSkipping line 247446: expected 7 fields, saw 8\\nSkipping line 247447: expected 7 fields, saw 8\\nSkipping line 247448: expected 7 fields, saw 8\\nSkipping line 247449: expected 7 fields, saw 8\\nSkipping line 247450: expected 7 fields, saw 8\\nSkipping line 247451: expected 7 fields, saw 8\\nSkipping line 247452: expected 7 fields, saw 8\\nSkipping line 247453: expected 7 fields, saw 8\\nSkipping line 247454: expected 7 fields, saw 8\\nSkipping line 247455: expected 7 fields, saw 8\\nSkipping line 247456: expected 7 fields, saw 8\\nSkipping line 247457: expected 7 fields, saw 8\\nSkipping line 247458: expected 7 fields, saw 8\\nSkipping line 247459: expected 7 fields, saw 8\\nSkipping line 247460: expected 7 fields, saw 8\\nSkipping line 247461: expected 7 fields, saw 8\\nSkipping line 247462: expected 7 fields, saw 8\\nSkipping line 247463: expected 7 fields, saw 8\\nSkipping line 247464: expected 7 fields, saw 8\\nSkipping line 247465: expected 7 fields, saw 8\\nSkipping line 247466: expected 7 fields, saw 8\\nSkipping line 247467: expected 7 fields, saw 8\\nSkipping line 247468: expected 7 fields, saw 8\\nSkipping line 247469: expected 7 fields, saw 8\\nSkipping line 247470: expected 7 fields, saw 8\\nSkipping line 247471: expected 7 fields, saw 8\\nSkipping line 247472: expected 7 fields, saw 8\\nSkipping line 247473: expected 7 fields, saw 8\\nSkipping line 247474: expected 7 fields, saw 8\\nSkipping line 247475: expected 7 fields, saw 8\\nSkipping line 247476: expected 7 fields, saw 8\\nSkipping line 247477: expected 7 fields, saw 8\\nSkipping line 247478: expected 7 fields, saw 8\\nSkipping line 247479: expected 7 fields, saw 8\\nSkipping line 247480: expected 7 fields, saw 8\\nSkipping line 247481: expected 7 fields, saw 8\\nSkipping line 247482: expected 7 fields, saw 8\\nSkipping line 247483: expected 7 fields, saw 8\\nSkipping line 247484: expected 7 fields, saw 8\\nSkipping line 247485: expected 7 fields, saw 8\\nSkipping line 247486: expected 7 fields, saw 8\\nSkipping line 247487: expected 7 fields, saw 8\\nSkipping line 247488: expected 7 fields, saw 8\\nSkipping line 247489: expected 7 fields, saw 8\\nSkipping line 247490: expected 7 fields, saw 8\\nSkipping line 247491: expected 7 fields, saw 8\\nSkipping line 247492: expected 7 fields, saw 8\\nSkipping line 247493: expected 7 fields, saw 8\\nSkipping line 247494: expected 7 fields, saw 8\\nSkipping line 247495: expected 7 fields, saw 8\\nSkipping line 247496: expected 7 fields, saw 8\\nSkipping line 247497: expected 7 fields, saw 8\\nSkipping line 247498: expected 7 fields, saw 8\\nSkipping line 247499: expected 7 fields, saw 8\\nSkipping line 247500: expected 7 fields, saw 8\\nSkipping line 247501: expected 7 fields, saw 8\\nSkipping line 247502: expected 7 fields, saw 8\\nSkipping line 247503: expected 7 fields, saw 8\\nSkipping line 247504: expected 7 fields, saw 8\\nSkipping line 247505: expected 7 fields, saw 8\\nSkipping line 247506: expected 7 fields, saw 8\\nSkipping line 247507: expected 7 fields, saw 8\\nSkipping line 247508: expected 7 fields, saw 8\\nSkipping line 247509: expected 7 fields, saw 8\\nSkipping line 247510: expected 7 fields, saw 8\\nSkipping line 247511: expected 7 fields, saw 8\\nSkipping line 247512: expected 7 fields, saw 8\\nSkipping line 247513: expected 7 fields, saw 8\\nSkipping line 247514: expected 7 fields, saw 8\\nSkipping line 247515: expected 7 fields, saw 8\\nSkipping line 247516: expected 7 fields, saw 8\\nSkipping line 247517: expected 7 fields, saw 8\\nSkipping line 247518: expected 7 fields, saw 8\\nSkipping line 247519: expected 7 fields, saw 8\\nSkipping line 247520: expected 7 fields, saw 8\\nSkipping line 247521: expected 7 fields, saw 8\\nSkipping line 247522: expected 7 fields, saw 8\\nSkipping line 247523: expected 7 fields, saw 8\\nSkipping line 247524: expected 7 fields, saw 8\\nSkipping line 247525: expected 7 fields, saw 8\\nSkipping line 247526: expected 7 fields, saw 8\\nSkipping line 247527: expected 7 fields, saw 8\\nSkipping line 247528: expected 7 fields, saw 8\\nSkipping line 247529: expected 7 fields, saw 8\\nSkipping line 247530: expected 7 fields, saw 8\\nSkipping line 247531: expected 7 fields, saw 8\\nSkipping line 247532: expected 7 fields, saw 8\\nSkipping line 247533: expected 7 fields, saw 8\\nSkipping line 247534: expected 7 fields, saw 8\\nSkipping line 247535: expected 7 fields, saw 8\\nSkipping line 247536: expected 7 fields, saw 8\\nSkipping line 247537: expected 7 fields, saw 8\\nSkipping line 247538: expected 7 fields, saw 8\\nSkipping line 247539: expected 7 fields, saw 8\\nSkipping line 247540: expected 7 fields, saw 8\\nSkipping line 247541: expected 7 fields, saw 8\\nSkipping line 247542: expected 7 fields, saw 8\\nSkipping line 247543: expected 7 fields, saw 8\\nSkipping line 247544: expected 7 fields, saw 8\\nSkipping line 247545: expected 7 fields, saw 8\\nSkipping line 247546: expected 7 fields, saw 8\\nSkipping line 247547: expected 7 fields, saw 8\\nSkipping line 247548: expected 7 fields, saw 8\\nSkipping line 247549: expected 7 fields, saw 8\\nSkipping line 247550: expected 7 fields, saw 8\\nSkipping line 247551: expected 7 fields, saw 8\\nSkipping line 247552: expected 7 fields, saw 8\\nSkipping line 247553: expected 7 fields, saw 8\\nSkipping line 247554: expected 7 fields, saw 8\\nSkipping line 247555: expected 7 fields, saw 8\\nSkipping line 247556: expected 7 fields, saw 8\\nSkipping line 247557: expected 7 fields, saw 8\\nSkipping line 247558: expected 7 fields, saw 8\\nSkipping line 247559: expected 7 fields, saw 8\\nSkipping line 247560: expected 7 fields, saw 8\\nSkipping line 247561: expected 7 fields, saw 8\\nSkipping line 247562: expected 7 fields, saw 8\\nSkipping line 247563: expected 7 fields, saw 8\\nSkipping line 247564: expected 7 fields, saw 8\\nSkipping line 247565: expected 7 fields, saw 8\\nSkipping line 247566: expected 7 fields, saw 8\\nSkipping line 247567: expected 7 fields, saw 8\\nSkipping line 247568: expected 7 fields, saw 8\\nSkipping line 247569: expected 7 fields, saw 8\\nSkipping line 247570: expected 7 fields, saw 8\\nSkipping line 247571: expected 7 fields, saw 8\\nSkipping line 247572: expected 7 fields, saw 8\\nSkipping line 247573: expected 7 fields, saw 8\\nSkipping line 247574: expected 7 fields, saw 8\\nSkipping line 247575: expected 7 fields, saw 8\\nSkipping line 247576: expected 7 fields, saw 8\\nSkipping line 247577: expected 7 fields, saw 8\\nSkipping line 247578: expected 7 fields, saw 8\\nSkipping line 247579: expected 7 fields, saw 8\\nSkipping line 247580: expected 7 fields, saw 8\\nSkipping line 247581: expected 7 fields, saw 8\\nSkipping line 247582: expected 7 fields, saw 8\\nSkipping line 247583: expected 7 fields, saw 8\\nSkipping line 247584: expected 7 fields, saw 8\\nSkipping line 247585: expected 7 fields, saw 8\\nSkipping line 247586: expected 7 fields, saw 8\\nSkipping line 247587: expected 7 fields, saw 8\\nSkipping line 247588: expected 7 fields, saw 8\\nSkipping line 247589: expected 7 fields, saw 8\\nSkipping line 247590: expected 7 fields, saw 8\\nSkipping line 247591: expected 7 fields, saw 8\\nSkipping line 247592: expected 7 fields, saw 8\\nSkipping line 247593: expected 7 fields, saw 8\\nSkipping line 247594: expected 7 fields, saw 8\\nSkipping line 247595: expected 7 fields, saw 8\\nSkipping line 247596: expected 7 fields, saw 8\\nSkipping line 247597: expected 7 fields, saw 8\\nSkipping line 247598: expected 7 fields, saw 8\\nSkipping line 247599: expected 7 fields, saw 8\\nSkipping line 247600: expected 7 fields, saw 8\\nSkipping line 247601: expected 7 fields, saw 8\\nSkipping line 247602: expected 7 fields, saw 8\\nSkipping line 247603: expected 7 fields, saw 8\\nSkipping line 247604: expected 7 fields, saw 8\\nSkipping line 247605: expected 7 fields, saw 8\\nSkipping line 247606: expected 7 fields, saw 8\\nSkipping line 247607: expected 7 fields, saw 8\\nSkipping line 247608: expected 7 fields, saw 8\\nSkipping line 247609: expected 7 fields, saw 8\\nSkipping line 247610: expected 7 fields, saw 8\\nSkipping line 247611: expected 7 fields, saw 8\\nSkipping line 247612: expected 7 fields, saw 8\\nSkipping line 247613: expected 7 fields, saw 8\\nSkipping line 247614: expected 7 fields, saw 8\\nSkipping line 247615: expected 7 fields, saw 8\\nSkipping line 247616: expected 7 fields, saw 8\\nSkipping line 247617: expected 7 fields, saw 8\\nSkipping line 247618: expected 7 fields, saw 8\\nSkipping line 247619: expected 7 fields, saw 8\\nSkipping line 247620: expected 7 fields, saw 8\\nSkipping line 247621: expected 7 fields, saw 8\\nSkipping line 247622: expected 7 fields, saw 8\\nSkipping line 247623: expected 7 fields, saw 8\\nSkipping line 247624: expected 7 fields, saw 8\\nSkipping line 247625: expected 7 fields, saw 8\\nSkipping line 247626: expected 7 fields, saw 8\\nSkipping line 247627: expected 7 fields, saw 8\\nSkipping line 247628: expected 7 fields, saw 8\\nSkipping line 247629: expected 7 fields, saw 8\\nSkipping line 247630: expected 7 fields, saw 8\\nSkipping line 247631: expected 7 fields, saw 8\\nSkipping line 247632: expected 7 fields, saw 8\\nSkipping line 247633: expected 7 fields, saw 8\\nSkipping line 247634: expected 7 fields, saw 8\\nSkipping line 247635: expected 7 fields, saw 8\\nSkipping line 247636: expected 7 fields, saw 8\\nSkipping line 247637: expected 7 fields, saw 8\\nSkipping line 247638: expected 7 fields, saw 8\\nSkipping line 247639: expected 7 fields, saw 8\\nSkipping line 247640: expected 7 fields, saw 8\\nSkipping line 247641: expected 7 fields, saw 8\\nSkipping line 247642: expected 7 fields, saw 8\\nSkipping line 247643: expected 7 fields, saw 8\\nSkipping line 247644: expected 7 fields, saw 8\\nSkipping line 247645: expected 7 fields, saw 8\\nSkipping line 247646: expected 7 fields, saw 8\\nSkipping line 247647: expected 7 fields, saw 8\\nSkipping line 247648: expected 7 fields, saw 8\\nSkipping line 247649: expected 7 fields, saw 8\\nSkipping line 247650: expected 7 fields, saw 8\\nSkipping line 247651: expected 7 fields, saw 8\\nSkipping line 247652: expected 7 fields, saw 8\\nSkipping line 247653: expected 7 fields, saw 8\\nSkipping line 247654: expected 7 fields, saw 8\\nSkipping line 247655: expected 7 fields, saw 8\\nSkipping line 247656: expected 7 fields, saw 8\\nSkipping line 247657: expected 7 fields, saw 8\\nSkipping line 247658: expected 7 fields, saw 8\\nSkipping line 247659: expected 7 fields, saw 8\\nSkipping line 247660: expected 7 fields, saw 8\\nSkipping line 247661: expected 7 fields, saw 8\\nSkipping line 247662: expected 7 fields, saw 8\\nSkipping line 247663: expected 7 fields, saw 8\\nSkipping line 247664: expected 7 fields, saw 8\\nSkipping line 247665: expected 7 fields, saw 8\\nSkipping line 247666: expected 7 fields, saw 8\\nSkipping line 247667: expected 7 fields, saw 8\\nSkipping line 247668: expected 7 fields, saw 8\\nSkipping line 247669: expected 7 fields, saw 8\\nSkipping line 247670: expected 7 fields, saw 8\\nSkipping line 247671: expected 7 fields, saw 8\\nSkipping line 247672: expected 7 fields, saw 8\\nSkipping line 247673: expected 7 fields, saw 8\\nSkipping line 247674: expected 7 fields, saw 8\\nSkipping line 247675: expected 7 fields, saw 8\\nSkipping line 247676: expected 7 fields, saw 8\\nSkipping line 247677: expected 7 fields, saw 8\\nSkipping line 247678: expected 7 fields, saw 8\\nSkipping line 247679: expected 7 fields, saw 8\\nSkipping line 247680: expected 7 fields, saw 8\\nSkipping line 247681: expected 7 fields, saw 8\\nSkipping line 247682: expected 7 fields, saw 8\\nSkipping line 247683: expected 7 fields, saw 8\\nSkipping line 247684: expected 7 fields, saw 8\\nSkipping line 247685: expected 7 fields, saw 8\\nSkipping line 247686: expected 7 fields, saw 8\\nSkipping line 247687: expected 7 fields, saw 8\\nSkipping line 247688: expected 7 fields, saw 8\\nSkipping line 247689: expected 7 fields, saw 8\\nSkipping line 247690: expected 7 fields, saw 8\\nSkipping line 247691: expected 7 fields, saw 8\\nSkipping line 247692: expected 7 fields, saw 8\\nSkipping line 247693: expected 7 fields, saw 8\\nSkipping line 247694: expected 7 fields, saw 8\\nSkipping line 247695: expected 7 fields, saw 8\\nSkipping line 247696: expected 7 fields, saw 8\\nSkipping line 247697: expected 7 fields, saw 8\\nSkipping line 247698: expected 7 fields, saw 8\\nSkipping line 247699: expected 7 fields, saw 8\\nSkipping line 247700: expected 7 fields, saw 8\\nSkipping line 247701: expected 7 fields, saw 8\\nSkipping line 247702: expected 7 fields, saw 8\\nSkipping line 247703: expected 7 fields, saw 8\\nSkipping line 247704: expected 7 fields, saw 8\\nSkipping line 247705: expected 7 fields, saw 8\\nSkipping line 247706: expected 7 fields, saw 8\\nSkipping line 247707: expected 7 fields, saw 8\\nSkipping line 247708: expected 7 fields, saw 8\\nSkipping line 247709: expected 7 fields, saw 8\\nSkipping line 247710: expected 7 fields, saw 8\\nSkipping line 247711: expected 7 fields, saw 8\\nSkipping line 247712: expected 7 fields, saw 8\\nSkipping line 247713: expected 7 fields, saw 8\\nSkipping line 247714: expected 7 fields, saw 8\\nSkipping line 247715: expected 7 fields, saw 8\\nSkipping line 247716: expected 7 fields, saw 8\\nSkipping line 247717: expected 7 fields, saw 8\\nSkipping line 247718: expected 7 fields, saw 8\\nSkipping line 247719: expected 7 fields, saw 8\\nSkipping line 247720: expected 7 fields, saw 8\\nSkipping line 247721: expected 7 fields, saw 8\\nSkipping line 247722: expected 7 fields, saw 8\\nSkipping line 247723: expected 7 fields, saw 8\\nSkipping line 247724: expected 7 fields, saw 8\\nSkipping line 247725: expected 7 fields, saw 8\\nSkipping line 247726: expected 7 fields, saw 8\\nSkipping line 247727: expected 7 fields, saw 8\\nSkipping line 247728: expected 7 fields, saw 8\\nSkipping line 247729: expected 7 fields, saw 8\\nSkipping line 247730: expected 7 fields, saw 8\\nSkipping line 247731: expected 7 fields, saw 8\\nSkipping line 247732: expected 7 fields, saw 8\\nSkipping line 247733: expected 7 fields, saw 8\\nSkipping line 247734: expected 7 fields, saw 8\\nSkipping line 247735: expected 7 fields, saw 8\\nSkipping line 247736: expected 7 fields, saw 8\\nSkipping line 247737: expected 7 fields, saw 8\\nSkipping line 247738: expected 7 fields, saw 8\\nSkipping line 247739: expected 7 fields, saw 8\\nSkipping line 247740: expected 7 fields, saw 8\\nSkipping line 247741: expected 7 fields, saw 8\\nSkipping line 247742: expected 7 fields, saw 8\\nSkipping line 247743: expected 7 fields, saw 8\\nSkipping line 247744: expected 7 fields, saw 8\\nSkipping line 247745: expected 7 fields, saw 8\\nSkipping line 247746: expected 7 fields, saw 8\\nSkipping line 247747: expected 7 fields, saw 8\\nSkipping line 247748: expected 7 fields, saw 8\\nSkipping line 247749: expected 7 fields, saw 8\\nSkipping line 247750: expected 7 fields, saw 8\\nSkipping line 247751: expected 7 fields, saw 8\\nSkipping line 247752: expected 7 fields, saw 8\\nSkipping line 247753: expected 7 fields, saw 8\\nSkipping line 247754: expected 7 fields, saw 8\\nSkipping line 247755: expected 7 fields, saw 8\\nSkipping line 247756: expected 7 fields, saw 8\\nSkipping line 247757: expected 7 fields, saw 8\\nSkipping line 247758: expected 7 fields, saw 8\\nSkipping line 247759: expected 7 fields, saw 8\\nSkipping line 247760: expected 7 fields, saw 8\\nSkipping line 247761: expected 7 fields, saw 8\\nSkipping line 247762: expected 7 fields, saw 8\\nSkipping line 247763: expected 7 fields, saw 8\\nSkipping line 247764: expected 7 fields, saw 8\\nSkipping line 247765: expected 7 fields, saw 8\\nSkipping line 247766: expected 7 fields, saw 8\\nSkipping line 247767: expected 7 fields, saw 8\\nSkipping line 247768: expected 7 fields, saw 8\\nSkipping line 247769: expected 7 fields, saw 8\\nSkipping line 247770: expected 7 fields, saw 8\\nSkipping line 247771: expected 7 fields, saw 8\\nSkipping line 247772: expected 7 fields, saw 8\\nSkipping line 247773: expected 7 fields, saw 8\\nSkipping line 247774: expected 7 fields, saw 8\\nSkipping line 247775: expected 7 fields, saw 8\\nSkipping line 247776: expected 7 fields, saw 8\\nSkipping line 247777: expected 7 fields, saw 8\\nSkipping line 247778: expected 7 fields, saw 8\\nSkipping line 247779: expected 7 fields, saw 8\\nSkipping line 247780: expected 7 fields, saw 8\\nSkipping line 247781: expected 7 fields, saw 8\\nSkipping line 247782: expected 7 fields, saw 8\\nSkipping line 247783: expected 7 fields, saw 8\\nSkipping line 247784: expected 7 fields, saw 8\\nSkipping line 247785: expected 7 fields, saw 8\\nSkipping line 247786: expected 7 fields, saw 8\\nSkipping line 247787: expected 7 fields, saw 8\\nSkipping line 247788: expected 7 fields, saw 8\\nSkipping line 247789: expected 7 fields, saw 8\\nSkipping line 247790: expected 7 fields, saw 8\\nSkipping line 247791: expected 7 fields, saw 8\\nSkipping line 247792: expected 7 fields, saw 8\\nSkipping line 247793: expected 7 fields, saw 8\\nSkipping line 247794: expected 7 fields, saw 8\\nSkipping line 247795: expected 7 fields, saw 8\\nSkipping line 247796: expected 7 fields, saw 8\\nSkipping line 247797: expected 7 fields, saw 8\\nSkipping line 247798: expected 7 fields, saw 8\\nSkipping line 247799: expected 7 fields, saw 8\\nSkipping line 247800: expected 7 fields, saw 8\\nSkipping line 247801: expected 7 fields, saw 8\\nSkipping line 247802: expected 7 fields, saw 8\\nSkipping line 247803: expected 7 fields, saw 8\\nSkipping line 247804: expected 7 fields, saw 8\\nSkipping line 247805: expected 7 fields, saw 8\\nSkipping line 247806: expected 7 fields, saw 8\\nSkipping line 247807: expected 7 fields, saw 8\\nSkipping line 247808: expected 7 fields, saw 8\\nSkipping line 247809: expected 7 fields, saw 8\\nSkipping line 247810: expected 7 fields, saw 8\\nSkipping line 247811: expected 7 fields, saw 8\\nSkipping line 247812: expected 7 fields, saw 8\\nSkipping line 247813: expected 7 fields, saw 8\\nSkipping line 247814: expected 7 fields, saw 8\\nSkipping line 247815: expected 7 fields, saw 8\\nSkipping line 247816: expected 7 fields, saw 8\\nSkipping line 247817: expected 7 fields, saw 8\\nSkipping line 247818: expected 7 fields, saw 8\\nSkipping line 247819: expected 7 fields, saw 8\\nSkipping line 247820: expected 7 fields, saw 8\\nSkipping line 247821: expected 7 fields, saw 8\\nSkipping line 247822: expected 7 fields, saw 8\\nSkipping line 247823: expected 7 fields, saw 8\\nSkipping line 247824: expected 7 fields, saw 8\\nSkipping line 247825: expected 7 fields, saw 8\\nSkipping line 247826: expected 7 fields, saw 8\\nSkipping line 247827: expected 7 fields, saw 8\\nSkipping line 247828: expected 7 fields, saw 8\\nSkipping line 247829: expected 7 fields, saw 8\\nSkipping line 247830: expected 7 fields, saw 8\\nSkipping line 247831: expected 7 fields, saw 8\\nSkipping line 247832: expected 7 fields, saw 8\\nSkipping line 247833: expected 7 fields, saw 8\\nSkipping line 247834: expected 7 fields, saw 8\\nSkipping line 247835: expected 7 fields, saw 8\\nSkipping line 247836: expected 7 fields, saw 8\\nSkipping line 247837: expected 7 fields, saw 8\\nSkipping line 247838: expected 7 fields, saw 8\\nSkipping line 247839: expected 7 fields, saw 8\\nSkipping line 247840: expected 7 fields, saw 8\\nSkipping line 247841: expected 7 fields, saw 8\\nSkipping line 247842: expected 7 fields, saw 8\\nSkipping line 247843: expected 7 fields, saw 8\\nSkipping line 247844: expected 7 fields, saw 8\\nSkipping line 247845: expected 7 fields, saw 8\\nSkipping line 247846: expected 7 fields, saw 8\\nSkipping line 247847: expected 7 fields, saw 8\\nSkipping line 247848: expected 7 fields, saw 8\\nSkipping line 247849: expected 7 fields, saw 8\\nSkipping line 247850: expected 7 fields, saw 8\\nSkipping line 247851: expected 7 fields, saw 8\\nSkipping line 247852: expected 7 fields, saw 8\\nSkipping line 247853: expected 7 fields, saw 8\\nSkipping line 247854: expected 7 fields, saw 8\\nSkipping line 247855: expected 7 fields, saw 8\\nSkipping line 247856: expected 7 fields, saw 8\\nSkipping line 247857: expected 7 fields, saw 8\\nSkipping line 247858: expected 7 fields, saw 8\\nSkipping line 247859: expected 7 fields, saw 8\\nSkipping line 247860: expected 7 fields, saw 8\\nSkipping line 247861: expected 7 fields, saw 8\\nSkipping line 247862: expected 7 fields, saw 8\\nSkipping line 247863: expected 7 fields, saw 8\\nSkipping line 247864: expected 7 fields, saw 8\\nSkipping line 247865: expected 7 fields, saw 8\\nSkipping line 247866: expected 7 fields, saw 8\\nSkipping line 247867: expected 7 fields, saw 8\\nSkipping line 247868: expected 7 fields, saw 8\\nSkipping line 247869: expected 7 fields, saw 8\\nSkipping line 247870: expected 7 fields, saw 8\\nSkipping line 247871: expected 7 fields, saw 8\\nSkipping line 247872: expected 7 fields, saw 8\\nSkipping line 247873: expected 7 fields, saw 8\\nSkipping line 247874: expected 7 fields, saw 8\\nSkipping line 247875: expected 7 fields, saw 8\\nSkipping line 247876: expected 7 fields, saw 8\\nSkipping line 247877: expected 7 fields, saw 8\\nSkipping line 247878: expected 7 fields, saw 8\\nSkipping line 247879: expected 7 fields, saw 8\\nSkipping line 247880: expected 7 fields, saw 8\\nSkipping line 247881: expected 7 fields, saw 8\\nSkipping line 247882: expected 7 fields, saw 8\\nSkipping line 247883: expected 7 fields, saw 8\\nSkipping line 247884: expected 7 fields, saw 8\\nSkipping line 247885: expected 7 fields, saw 8\\nSkipping line 247886: expected 7 fields, saw 8\\nSkipping line 247887: expected 7 fields, saw 8\\nSkipping line 247888: expected 7 fields, saw 8\\nSkipping line 247889: expected 7 fields, saw 8\\nSkipping line 247890: expected 7 fields, saw 8\\nSkipping line 247891: expected 7 fields, saw 8\\nSkipping line 247892: expected 7 fields, saw 8\\nSkipping line 247893: expected 7 fields, saw 8\\nSkipping line 247894: expected 7 fields, saw 8\\nSkipping line 247895: expected 7 fields, saw 8\\nSkipping line 247896: expected 7 fields, saw 8\\nSkipping line 247897: expected 7 fields, saw 8\\nSkipping line 247898: expected 7 fields, saw 8\\nSkipping line 247899: expected 7 fields, saw 8\\nSkipping line 247900: expected 7 fields, saw 8\\nSkipping line 247901: expected 7 fields, saw 8\\nSkipping line 247902: expected 7 fields, saw 8\\nSkipping line 247903: expected 7 fields, saw 8\\nSkipping line 247904: expected 7 fields, saw 8\\nSkipping line 247905: expected 7 fields, saw 8\\nSkipping line 247906: expected 7 fields, saw 8\\nSkipping line 247907: expected 7 fields, saw 8\\nSkipping line 247908: expected 7 fields, saw 8\\nSkipping line 247909: expected 7 fields, saw 8\\nSkipping line 247910: expected 7 fields, saw 8\\nSkipping line 247911: expected 7 fields, saw 8\\nSkipping line 247912: expected 7 fields, saw 8\\nSkipping line 247913: expected 7 fields, saw 8\\nSkipping line 247914: expected 7 fields, saw 8\\nSkipping line 247915: expected 7 fields, saw 8\\nSkipping line 247916: expected 7 fields, saw 8\\nSkipping line 247917: expected 7 fields, saw 8\\nSkipping line 247918: expected 7 fields, saw 8\\nSkipping line 247919: expected 7 fields, saw 8\\nSkipping line 247920: expected 7 fields, saw 8\\nSkipping line 247921: expected 7 fields, saw 8\\nSkipping line 247922: expected 7 fields, saw 8\\nSkipping line 247923: expected 7 fields, saw 8\\nSkipping line 247924: expected 7 fields, saw 8\\nSkipping line 247925: expected 7 fields, saw 8\\nSkipping line 247926: expected 7 fields, saw 8\\nSkipping line 247927: expected 7 fields, saw 8\\nSkipping line 247928: expected 7 fields, saw 8\\nSkipping line 247929: expected 7 fields, saw 8\\nSkipping line 247930: expected 7 fields, saw 8\\nSkipping line 247931: expected 7 fields, saw 8\\nSkipping line 247932: expected 7 fields, saw 8\\nSkipping line 247933: expected 7 fields, saw 8\\nSkipping line 247934: expected 7 fields, saw 8\\nSkipping line 247935: expected 7 fields, saw 8\\nSkipping line 247936: expected 7 fields, saw 8\\nSkipping line 247937: expected 7 fields, saw 8\\nSkipping line 247938: expected 7 fields, saw 8\\nSkipping line 247939: expected 7 fields, saw 8\\nSkipping line 247940: expected 7 fields, saw 8\\nSkipping line 247941: expected 7 fields, saw 8\\nSkipping line 247942: expected 7 fields, saw 8\\nSkipping line 247943: expected 7 fields, saw 8\\nSkipping line 247944: expected 7 fields, saw 8\\nSkipping line 247945: expected 7 fields, saw 8\\nSkipping line 247946: expected 7 fields, saw 8\\nSkipping line 247947: expected 7 fields, saw 8\\nSkipping line 247948: expected 7 fields, saw 8\\nSkipping line 247949: expected 7 fields, saw 8\\nSkipping line 247950: expected 7 fields, saw 8\\nSkipping line 247951: expected 7 fields, saw 8\\nSkipping line 247952: expected 7 fields, saw 8\\nSkipping line 247953: expected 7 fields, saw 8\\nSkipping line 247954: expected 7 fields, saw 8\\nSkipping line 247955: expected 7 fields, saw 8\\nSkipping line 247956: expected 7 fields, saw 8\\nSkipping line 247957: expected 7 fields, saw 8\\nSkipping line 247958: expected 7 fields, saw 8\\nSkipping line 247959: expected 7 fields, saw 8\\nSkipping line 247960: expected 7 fields, saw 8\\nSkipping line 247961: expected 7 fields, saw 8\\nSkipping line 247962: expected 7 fields, saw 8\\nSkipping line 247963: expected 7 fields, saw 8\\nSkipping line 247964: expected 7 fields, saw 8\\nSkipping line 247965: expected 7 fields, saw 8\\nSkipping line 247966: expected 7 fields, saw 8\\nSkipping line 247967: expected 7 fields, saw 8\\nSkipping line 247968: expected 7 fields, saw 8\\nSkipping line 247969: expected 7 fields, saw 8\\nSkipping line 247970: expected 7 fields, saw 8\\nSkipping line 247971: expected 7 fields, saw 8\\nSkipping line 247972: expected 7 fields, saw 8\\nSkipping line 247973: expected 7 fields, saw 8\\nSkipping line 247974: expected 7 fields, saw 8\\nSkipping line 247975: expected 7 fields, saw 8\\nSkipping line 247976: expected 7 fields, saw 8\\nSkipping line 247977: expected 7 fields, saw 8\\nSkipping line 247978: expected 7 fields, saw 8\\nSkipping line 247979: expected 7 fields, saw 8\\nSkipping line 247980: expected 7 fields, saw 8\\nSkipping line 247981: expected 7 fields, saw 8\\nSkipping line 247982: expected 7 fields, saw 8\\nSkipping line 247983: expected 7 fields, saw 8\\nSkipping line 247984: expected 7 fields, saw 8\\nSkipping line 247985: expected 7 fields, saw 8\\nSkipping line 247986: expected 7 fields, saw 8\\nSkipping line 247987: expected 7 fields, saw 8\\nSkipping line 247988: expected 7 fields, saw 8\\nSkipping line 247989: expected 7 fields, saw 8\\nSkipping line 247990: expected 7 fields, saw 8\\nSkipping line 247991: expected 7 fields, saw 8\\nSkipping line 247992: expected 7 fields, saw 8\\nSkipping line 247993: expected 7 fields, saw 8\\nSkipping line 247994: expected 7 fields, saw 8\\nSkipping line 247995: expected 7 fields, saw 8\\nSkipping line 247996: expected 7 fields, saw 8\\nSkipping line 247997: expected 7 fields, saw 8\\nSkipping line 247998: expected 7 fields, saw 8\\nSkipping line 247999: expected 7 fields, saw 8\\nSkipping line 248000: expected 7 fields, saw 8\\nSkipping line 248001: expected 7 fields, saw 8\\nSkipping line 248002: expected 7 fields, saw 8\\nSkipping line 248003: expected 7 fields, saw 8\\nSkipping line 248004: expected 7 fields, saw 8\\nSkipping line 248005: expected 7 fields, saw 8\\nSkipping line 248006: expected 7 fields, saw 8\\nSkipping line 248007: expected 7 fields, saw 8\\nSkipping line 248008: expected 7 fields, saw 8\\nSkipping line 248009: expected 7 fields, saw 8\\nSkipping line 248010: expected 7 fields, saw 8\\nSkipping line 248011: expected 7 fields, saw 8\\nSkipping line 248012: expected 7 fields, saw 8\\nSkipping line 248013: expected 7 fields, saw 8\\nSkipping line 248014: expected 7 fields, saw 8\\nSkipping line 248015: expected 7 fields, saw 8\\nSkipping line 248016: expected 7 fields, saw 8\\nSkipping line 248017: expected 7 fields, saw 8\\nSkipping line 248018: expected 7 fields, saw 8\\nSkipping line 248019: expected 7 fields, saw 8\\nSkipping line 248020: expected 7 fields, saw 8\\nSkipping line 248021: expected 7 fields, saw 8\\nSkipping line 248022: expected 7 fields, saw 8\\nSkipping line 248023: expected 7 fields, saw 8\\nSkipping line 248024: expected 7 fields, saw 8\\nSkipping line 248025: expected 7 fields, saw 8\\nSkipping line 248026: expected 7 fields, saw 8\\nSkipping line 248027: expected 7 fields, saw 8\\nSkipping line 248028: expected 7 fields, saw 8\\nSkipping line 248029: expected 7 fields, saw 8\\nSkipping line 248030: expected 7 fields, saw 8\\nSkipping line 248031: expected 7 fields, saw 8\\nSkipping line 248032: expected 7 fields, saw 8\\nSkipping line 248033: expected 7 fields, saw 8\\nSkipping line 248034: expected 7 fields, saw 8\\nSkipping line 248035: expected 7 fields, saw 8\\nSkipping line 248036: expected 7 fields, saw 8\\nSkipping line 248037: expected 7 fields, saw 8\\nSkipping line 248038: expected 7 fields, saw 8\\nSkipping line 248039: expected 7 fields, saw 8\\nSkipping line 248040: expected 7 fields, saw 8\\nSkipping line 248041: expected 7 fields, saw 8\\nSkipping line 248042: expected 7 fields, saw 8\\nSkipping line 248043: expected 7 fields, saw 8\\nSkipping line 248044: expected 7 fields, saw 8\\nSkipping line 248045: expected 7 fields, saw 8\\nSkipping line 248046: expected 7 fields, saw 8\\nSkipping line 248047: expected 7 fields, saw 8\\nSkipping line 248048: expected 7 fields, saw 8\\nSkipping line 248049: expected 7 fields, saw 8\\nSkipping line 248050: expected 7 fields, saw 8\\nSkipping line 248051: expected 7 fields, saw 8\\nSkipping line 248052: expected 7 fields, saw 8\\nSkipping line 248053: expected 7 fields, saw 8\\nSkipping line 248054: expected 7 fields, saw 8\\nSkipping line 248055: expected 7 fields, saw 8\\nSkipping line 248056: expected 7 fields, saw 8\\nSkipping line 248057: expected 7 fields, saw 8\\nSkipping line 248058: expected 7 fields, saw 8\\nSkipping line 248059: expected 7 fields, saw 8\\nSkipping line 248060: expected 7 fields, saw 8\\nSkipping line 248061: expected 7 fields, saw 8\\nSkipping line 248062: expected 7 fields, saw 8\\nSkipping line 248063: expected 7 fields, saw 8\\nSkipping line 248064: expected 7 fields, saw 8\\nSkipping line 248065: expected 7 fields, saw 8\\nSkipping line 248066: expected 7 fields, saw 8\\nSkipping line 248067: expected 7 fields, saw 8\\nSkipping line 248068: expected 7 fields, saw 8\\nSkipping line 248069: expected 7 fields, saw 8\\nSkipping line 248070: expected 7 fields, saw 8\\nSkipping line 248071: expected 7 fields, saw 8\\nSkipping line 248072: expected 7 fields, saw 8\\nSkipping line 248073: expected 7 fields, saw 8\\nSkipping line 248074: expected 7 fields, saw 8\\nSkipping line 248075: expected 7 fields, saw 8\\nSkipping line 248076: expected 7 fields, saw 8\\nSkipping line 248077: expected 7 fields, saw 8\\nSkipping line 248078: expected 7 fields, saw 8\\nSkipping line 248079: expected 7 fields, saw 8\\nSkipping line 248080: expected 7 fields, saw 8\\nSkipping line 248081: expected 7 fields, saw 8\\nSkipping line 248082: expected 7 fields, saw 8\\nSkipping line 248083: expected 7 fields, saw 8\\nSkipping line 248084: expected 7 fields, saw 8\\nSkipping line 248085: expected 7 fields, saw 8\\nSkipping line 248086: expected 7 fields, saw 8\\nSkipping line 248087: expected 7 fields, saw 8\\nSkipping line 248088: expected 7 fields, saw 8\\nSkipping line 248089: expected 7 fields, saw 8\\nSkipping line 248090: expected 7 fields, saw 8\\nSkipping line 248091: expected 7 fields, saw 8\\nSkipping line 248092: expected 7 fields, saw 8\\nSkipping line 248093: expected 7 fields, saw 8\\nSkipping line 248094: expected 7 fields, saw 8\\nSkipping line 248095: expected 7 fields, saw 8\\nSkipping line 248096: expected 7 fields, saw 8\\nSkipping line 248097: expected 7 fields, saw 8\\nSkipping line 248098: expected 7 fields, saw 8\\nSkipping line 248099: expected 7 fields, saw 8\\nSkipping line 248100: expected 7 fields, saw 8\\nSkipping line 248101: expected 7 fields, saw 8\\nSkipping line 248102: expected 7 fields, saw 8\\nSkipping line 248103: expected 7 fields, saw 8\\nSkipping line 248104: expected 7 fields, saw 8\\nSkipping line 248105: expected 7 fields, saw 8\\nSkipping line 248106: expected 7 fields, saw 8\\nSkipping line 248107: expected 7 fields, saw 8\\nSkipping line 248108: expected 7 fields, saw 8\\nSkipping line 248109: expected 7 fields, saw 8\\nSkipping line 248110: expected 7 fields, saw 8\\nSkipping line 248111: expected 7 fields, saw 8\\nSkipping line 248112: expected 7 fields, saw 8\\nSkipping line 248113: expected 7 fields, saw 8\\nSkipping line 248114: expected 7 fields, saw 8\\nSkipping line 248115: expected 7 fields, saw 8\\nSkipping line 248116: expected 7 fields, saw 8\\nSkipping line 248117: expected 7 fields, saw 8\\nSkipping line 248118: expected 7 fields, saw 8\\nSkipping line 248119: expected 7 fields, saw 8\\nSkipping line 248120: expected 7 fields, saw 8\\nSkipping line 248121: expected 7 fields, saw 8\\nSkipping line 248122: expected 7 fields, saw 8\\nSkipping line 248123: expected 7 fields, saw 8\\nSkipping line 248124: expected 7 fields, saw 8\\nSkipping line 248125: expected 7 fields, saw 8\\nSkipping line 248126: expected 7 fields, saw 8\\nSkipping line 248127: expected 7 fields, saw 8\\nSkipping line 248128: expected 7 fields, saw 8\\nSkipping line 248129: expected 7 fields, saw 8\\nSkipping line 248130: expected 7 fields, saw 8\\nSkipping line 248131: expected 7 fields, saw 8\\nSkipping line 248132: expected 7 fields, saw 8\\nSkipping line 248133: expected 7 fields, saw 8\\nSkipping line 248134: expected 7 fields, saw 8\\nSkipping line 248135: expected 7 fields, saw 8\\nSkipping line 248136: expected 7 fields, saw 8\\nSkipping line 248137: expected 7 fields, saw 8\\nSkipping line 248138: expected 7 fields, saw 8\\nSkipping line 248139: expected 7 fields, saw 8\\nSkipping line 248140: expected 7 fields, saw 8\\nSkipping line 248141: expected 7 fields, saw 8\\nSkipping line 248142: expected 7 fields, saw 8\\nSkipping line 248143: expected 7 fields, saw 8\\nSkipping line 248144: expected 7 fields, saw 8\\nSkipping line 248145: expected 7 fields, saw 8\\nSkipping line 248146: expected 7 fields, saw 8\\nSkipping line 248147: expected 7 fields, saw 8\\nSkipping line 248148: expected 7 fields, saw 8\\nSkipping line 248149: expected 7 fields, saw 8\\nSkipping line 248150: expected 7 fields, saw 8\\nSkipping line 248151: expected 7 fields, saw 8\\nSkipping line 248152: expected 7 fields, saw 8\\nSkipping line 248153: expected 7 fields, saw 8\\nSkipping line 248154: expected 7 fields, saw 8\\nSkipping line 248155: expected 7 fields, saw 8\\nSkipping line 248156: expected 7 fields, saw 8\\nSkipping line 248157: expected 7 fields, saw 8\\nSkipping line 248158: expected 7 fields, saw 8\\nSkipping line 248159: expected 7 fields, saw 8\\nSkipping line 248160: expected 7 fields, saw 8\\nSkipping line 248161: expected 7 fields, saw 8\\nSkipping line 248162: expected 7 fields, saw 8\\nSkipping line 248163: expected 7 fields, saw 8\\nSkipping line 248164: expected 7 fields, saw 8\\nSkipping line 248165: expected 7 fields, saw 8\\nSkipping line 248166: expected 7 fields, saw 8\\nSkipping line 248167: expected 7 fields, saw 8\\nSkipping line 248168: expected 7 fields, saw 8\\nSkipping line 248169: expected 7 fields, saw 8\\nSkipping line 248170: expected 7 fields, saw 8\\nSkipping line 248171: expected 7 fields, saw 8\\nSkipping line 248172: expected 7 fields, saw 8\\nSkipping line 248173: expected 7 fields, saw 8\\nSkipping line 248174: expected 7 fields, saw 8\\nSkipping line 248175: expected 7 fields, saw 8\\nSkipping line 248176: expected 7 fields, saw 8\\nSkipping line 248177: expected 7 fields, saw 8\\nSkipping line 248178: expected 7 fields, saw 8\\nSkipping line 248179: expected 7 fields, saw 8\\nSkipping line 248180: expected 7 fields, saw 8\\nSkipping line 248181: expected 7 fields, saw 8\\nSkipping line 248182: expected 7 fields, saw 8\\nSkipping line 248183: expected 7 fields, saw 8\\nSkipping line 248184: expected 7 fields, saw 8\\nSkipping line 248185: expected 7 fields, saw 8\\nSkipping line 248186: expected 7 fields, saw 8\\nSkipping line 248187: expected 7 fields, saw 8\\nSkipping line 248188: expected 7 fields, saw 8\\nSkipping line 248189: expected 7 fields, saw 8\\nSkipping line 248190: expected 7 fields, saw 8\\nSkipping line 248191: expected 7 fields, saw 8\\nSkipping line 248192: expected 7 fields, saw 8\\nSkipping line 248193: expected 7 fields, saw 8\\nSkipping line 248194: expected 7 fields, saw 8\\nSkipping line 248195: expected 7 fields, saw 8\\nSkipping line 248196: expected 7 fields, saw 8\\nSkipping line 248197: expected 7 fields, saw 8\\nSkipping line 248198: expected 7 fields, saw 8\\nSkipping line 248199: expected 7 fields, saw 8\\nSkipping line 248200: expected 7 fields, saw 8\\nSkipping line 248201: expected 7 fields, saw 8\\nSkipping line 248202: expected 7 fields, saw 8\\nSkipping line 248203: expected 7 fields, saw 8\\nSkipping line 248204: expected 7 fields, saw 8\\nSkipping line 248205: expected 7 fields, saw 8\\nSkipping line 248206: expected 7 fields, saw 8\\nSkipping line 248207: expected 7 fields, saw 8\\nSkipping line 248208: expected 7 fields, saw 8\\nSkipping line 248209: expected 7 fields, saw 8\\nSkipping line 248210: expected 7 fields, saw 8\\nSkipping line 248211: expected 7 fields, saw 8\\nSkipping line 248212: expected 7 fields, saw 8\\nSkipping line 248213: expected 7 fields, saw 8\\nSkipping line 248214: expected 7 fields, saw 8\\nSkipping line 248215: expected 7 fields, saw 8\\nSkipping line 248216: expected 7 fields, saw 8\\nSkipping line 248217: expected 7 fields, saw 8\\nSkipping line 248218: expected 7 fields, saw 8\\nSkipping line 248219: expected 7 fields, saw 8\\nSkipping line 248220: expected 7 fields, saw 8\\nSkipping line 248221: expected 7 fields, saw 8\\nSkipping line 248222: expected 7 fields, saw 8\\nSkipping line 248223: expected 7 fields, saw 8\\nSkipping line 248224: expected 7 fields, saw 8\\nSkipping line 248225: expected 7 fields, saw 8\\nSkipping line 248226: expected 7 fields, saw 8\\nSkipping line 248227: expected 7 fields, saw 8\\nSkipping line 248228: expected 7 fields, saw 8\\nSkipping line 248229: expected 7 fields, saw 8\\nSkipping line 248230: expected 7 fields, saw 8\\nSkipping line 248231: expected 7 fields, saw 8\\nSkipping line 248232: expected 7 fields, saw 8\\nSkipping line 248233: expected 7 fields, saw 8\\nSkipping line 248234: expected 7 fields, saw 8\\nSkipping line 248235: expected 7 fields, saw 8\\nSkipping line 248236: expected 7 fields, saw 8\\nSkipping line 248237: expected 7 fields, saw 8\\nSkipping line 248238: expected 7 fields, saw 8\\nSkipping line 248239: expected 7 fields, saw 8\\nSkipping line 248240: expected 7 fields, saw 8\\nSkipping line 248241: expected 7 fields, saw 8\\nSkipping line 248242: expected 7 fields, saw 8\\nSkipping line 248243: expected 7 fields, saw 8\\nSkipping line 248244: expected 7 fields, saw 8\\nSkipping line 248245: expected 7 fields, saw 8\\nSkipping line 248246: expected 7 fields, saw 8\\nSkipping line 248247: expected 7 fields, saw 8\\nSkipping line 248248: expected 7 fields, saw 8\\nSkipping line 248249: expected 7 fields, saw 8\\nSkipping line 248250: expected 7 fields, saw 8\\nSkipping line 248251: expected 7 fields, saw 8\\nSkipping line 248252: expected 7 fields, saw 8\\nSkipping line 248253: expected 7 fields, saw 8\\nSkipping line 248254: expected 7 fields, saw 8\\nSkipping line 248255: expected 7 fields, saw 8\\nSkipping line 248256: expected 7 fields, saw 8\\nSkipping line 248257: expected 7 fields, saw 8\\nSkipping line 248258: expected 7 fields, saw 8\\nSkipping line 248259: expected 7 fields, saw 8\\nSkipping line 248260: expected 7 fields, saw 8\\nSkipping line 248261: expected 7 fields, saw 8\\nSkipping line 248262: expected 7 fields, saw 8\\nSkipping line 248263: expected 7 fields, saw 8\\nSkipping line 248264: expected 7 fields, saw 8\\nSkipping line 248265: expected 7 fields, saw 8\\nSkipping line 248266: expected 7 fields, saw 8\\nSkipping line 248267: expected 7 fields, saw 8\\nSkipping line 248268: expected 7 fields, saw 8\\nSkipping line 248269: expected 7 fields, saw 8\\nSkipping line 248270: expected 7 fields, saw 8\\nSkipping line 248271: expected 7 fields, saw 8\\nSkipping line 248272: expected 7 fields, saw 8\\nSkipping line 248273: expected 7 fields, saw 8\\nSkipping line 248274: expected 7 fields, saw 8\\nSkipping line 248275: expected 7 fields, saw 8\\nSkipping line 248276: expected 7 fields, saw 8\\nSkipping line 248277: expected 7 fields, saw 8\\nSkipping line 248278: expected 7 fields, saw 8\\nSkipping line 248279: expected 7 fields, saw 8\\nSkipping line 248280: expected 7 fields, saw 8\\nSkipping line 248281: expected 7 fields, saw 8\\nSkipping line 248282: expected 7 fields, saw 8\\nSkipping line 248283: expected 7 fields, saw 8\\nSkipping line 248284: expected 7 fields, saw 8\\nSkipping line 248285: expected 7 fields, saw 8\\nSkipping line 248286: expected 7 fields, saw 8\\nSkipping line 248287: expected 7 fields, saw 8\\nSkipping line 248288: expected 7 fields, saw 8\\nSkipping line 248289: expected 7 fields, saw 8\\nSkipping line 248290: expected 7 fields, saw 8\\nSkipping line 248291: expected 7 fields, saw 8\\nSkipping line 248292: expected 7 fields, saw 8\\nSkipping line 248293: expected 7 fields, saw 8\\nSkipping line 248294: expected 7 fields, saw 8\\nSkipping line 248295: expected 7 fields, saw 8\\nSkipping line 248296: expected 7 fields, saw 8\\nSkipping line 248297: expected 7 fields, saw 8\\nSkipping line 248298: expected 7 fields, saw 8\\nSkipping line 248299: expected 7 fields, saw 8\\nSkipping line 248300: expected 7 fields, saw 8\\nSkipping line 248301: expected 7 fields, saw 8\\nSkipping line 248302: expected 7 fields, saw 8\\nSkipping line 248303: expected 7 fields, saw 8\\nSkipping line 248304: expected 7 fields, saw 8\\nSkipping line 248305: expected 7 fields, saw 8\\nSkipping line 248306: expected 7 fields, saw 8\\nSkipping line 248307: expected 7 fields, saw 8\\nSkipping line 248308: expected 7 fields, saw 8\\nSkipping line 248309: expected 7 fields, saw 8\\nSkipping line 248310: expected 7 fields, saw 8\\nSkipping line 248311: expected 7 fields, saw 8\\nSkipping line 248312: expected 7 fields, saw 8\\nSkipping line 248313: expected 7 fields, saw 8\\nSkipping line 248314: expected 7 fields, saw 8\\nSkipping line 248315: expected 7 fields, saw 8\\nSkipping line 248316: expected 7 fields, saw 8\\nSkipping line 248317: expected 7 fields, saw 8\\nSkipping line 248318: expected 7 fields, saw 8\\nSkipping line 248319: expected 7 fields, saw 8\\nSkipping line 248320: expected 7 fields, saw 8\\nSkipping line 248321: expected 7 fields, saw 8\\nSkipping line 248322: expected 7 fields, saw 8\\nSkipping line 248323: expected 7 fields, saw 8\\nSkipping line 248324: expected 7 fields, saw 8\\nSkipping line 248325: expected 7 fields, saw 8\\nSkipping line 248326: expected 7 fields, saw 8\\nSkipping line 248327: expected 7 fields, saw 8\\nSkipping line 248328: expected 7 fields, saw 8\\nSkipping line 248329: expected 7 fields, saw 8\\nSkipping line 248330: expected 7 fields, saw 8\\nSkipping line 248331: expected 7 fields, saw 8\\nSkipping line 248332: expected 7 fields, saw 8\\nSkipping line 248333: expected 7 fields, saw 8\\nSkipping line 248334: expected 7 fields, saw 8\\nSkipping line 248335: expected 7 fields, saw 8\\nSkipping line 248336: expected 7 fields, saw 8\\nSkipping line 248337: expected 7 fields, saw 8\\nSkipping line 248338: expected 7 fields, saw 8\\nSkipping line 248339: expected 7 fields, saw 8\\nSkipping line 248340: expected 7 fields, saw 8\\nSkipping line 248341: expected 7 fields, saw 8\\nSkipping line 248342: expected 7 fields, saw 8\\nSkipping line 248343: expected 7 fields, saw 8\\nSkipping line 248344: expected 7 fields, saw 8\\nSkipping line 248345: expected 7 fields, saw 8\\nSkipping line 248346: expected 7 fields, saw 8\\nSkipping line 248347: expected 7 fields, saw 8\\nSkipping line 248348: expected 7 fields, saw 8\\nSkipping line 248349: expected 7 fields, saw 8\\nSkipping line 248350: expected 7 fields, saw 8\\nSkipping line 248351: expected 7 fields, saw 8\\nSkipping line 248352: expected 7 fields, saw 8\\nSkipping line 248353: expected 7 fields, saw 8\\nSkipping line 248354: expected 7 fields, saw 8\\nSkipping line 248355: expected 7 fields, saw 8\\nSkipping line 248356: expected 7 fields, saw 8\\nSkipping line 248357: expected 7 fields, saw 8\\nSkipping line 248358: expected 7 fields, saw 8\\nSkipping line 248359: expected 7 fields, saw 8\\nSkipping line 248360: expected 7 fields, saw 8\\nSkipping line 248361: expected 7 fields, saw 8\\nSkipping line 248362: expected 7 fields, saw 8\\nSkipping line 248363: expected 7 fields, saw 8\\nSkipping line 248364: expected 7 fields, saw 8\\nSkipping line 248365: expected 7 fields, saw 8\\nSkipping line 248366: expected 7 fields, saw 8\\nSkipping line 248367: expected 7 fields, saw 8\\nSkipping line 248368: expected 7 fields, saw 8\\nSkipping line 248369: expected 7 fields, saw 8\\nSkipping line 248370: expected 7 fields, saw 8\\nSkipping line 248371: expected 7 fields, saw 8\\nSkipping line 248372: expected 7 fields, saw 8\\nSkipping line 248373: expected 7 fields, saw 8\\nSkipping line 248374: expected 7 fields, saw 8\\nSkipping line 248375: expected 7 fields, saw 8\\nSkipping line 248376: expected 7 fields, saw 8\\nSkipping line 248377: expected 7 fields, saw 8\\nSkipping line 248378: expected 7 fields, saw 8\\nSkipping line 248379: expected 7 fields, saw 8\\nSkipping line 248380: expected 7 fields, saw 8\\nSkipping line 248381: expected 7 fields, saw 8\\nSkipping line 248382: expected 7 fields, saw 8\\nSkipping line 248383: expected 7 fields, saw 8\\nSkipping line 248384: expected 7 fields, saw 8\\nSkipping line 248385: expected 7 fields, saw 8\\nSkipping line 248386: expected 7 fields, saw 8\\nSkipping line 248387: expected 7 fields, saw 8\\nSkipping line 248388: expected 7 fields, saw 8\\nSkipping line 248389: expected 7 fields, saw 8\\nSkipping line 248390: expected 7 fields, saw 8\\nSkipping line 248391: expected 7 fields, saw 8\\nSkipping line 248392: expected 7 fields, saw 8\\nSkipping line 248393: expected 7 fields, saw 8\\nSkipping line 248394: expected 7 fields, saw 8\\nSkipping line 248395: expected 7 fields, saw 8\\nSkipping line 248396: expected 7 fields, saw 8\\nSkipping line 248397: expected 7 fields, saw 8\\nSkipping line 248398: expected 7 fields, saw 8\\nSkipping line 248399: expected 7 fields, saw 8\\nSkipping line 248400: expected 7 fields, saw 8\\nSkipping line 248401: expected 7 fields, saw 8\\nSkipping line 248402: expected 7 fields, saw 8\\nSkipping line 248403: expected 7 fields, saw 8\\nSkipping line 248404: expected 7 fields, saw 8\\nSkipping line 248405: expected 7 fields, saw 8\\nSkipping line 248406: expected 7 fields, saw 8\\nSkipping line 248407: expected 7 fields, saw 8\\nSkipping line 248408: expected 7 fields, saw 8\\nSkipping line 248409: expected 7 fields, saw 8\\nSkipping line 248410: expected 7 fields, saw 8\\nSkipping line 248411: expected 7 fields, saw 8\\nSkipping line 248412: expected 7 fields, saw 8\\nSkipping line 248413: expected 7 fields, saw 8\\nSkipping line 248414: expected 7 fields, saw 8\\nSkipping line 248415: expected 7 fields, saw 8\\nSkipping line 248416: expected 7 fields, saw 8\\nSkipping line 248417: expected 7 fields, saw 8\\nSkipping line 248418: expected 7 fields, saw 8\\nSkipping line 248419: expected 7 fields, saw 8\\nSkipping line 248420: expected 7 fields, saw 8\\nSkipping line 248421: expected 7 fields, saw 8\\nSkipping line 248422: expected 7 fields, saw 8\\nSkipping line 248423: expected 7 fields, saw 8\\nSkipping line 248424: expected 7 fields, saw 8\\nSkipping line 248425: expected 7 fields, saw 8\\nSkipping line 248426: expected 7 fields, saw 8\\nSkipping line 248427: expected 7 fields, saw 8\\nSkipping line 248428: expected 7 fields, saw 8\\nSkipping line 248429: expected 7 fields, saw 8\\nSkipping line 248430: expected 7 fields, saw 8\\nSkipping line 248431: expected 7 fields, saw 8\\nSkipping line 248432: expected 7 fields, saw 8\\nSkipping line 248433: expected 7 fields, saw 8\\nSkipping line 248434: expected 7 fields, saw 8\\nSkipping line 248435: expected 7 fields, saw 8\\nSkipping line 248436: expected 7 fields, saw 8\\nSkipping line 248437: expected 7 fields, saw 8\\nSkipping line 248438: expected 7 fields, saw 8\\nSkipping line 248439: expected 7 fields, saw 8\\nSkipping line 248440: expected 7 fields, saw 8\\nSkipping line 248441: expected 7 fields, saw 8\\nSkipping line 248442: expected 7 fields, saw 8\\nSkipping line 248443: expected 7 fields, saw 8\\nSkipping line 248444: expected 7 fields, saw 8\\nSkipping line 248445: expected 7 fields, saw 8\\nSkipping line 248446: expected 7 fields, saw 8\\nSkipping line 248447: expected 7 fields, saw 8\\nSkipping line 248448: expected 7 fields, saw 8\\nSkipping line 248449: expected 7 fields, saw 8\\nSkipping line 248450: expected 7 fields, saw 8\\nSkipping line 248451: expected 7 fields, saw 8\\nSkipping line 248452: expected 7 fields, saw 8\\nSkipping line 248453: expected 7 fields, saw 8\\nSkipping line 248454: expected 7 fields, saw 8\\nSkipping line 248455: expected 7 fields, saw 8\\nSkipping line 248456: expected 7 fields, saw 8\\nSkipping line 248457: expected 7 fields, saw 8\\nSkipping line 248458: expected 7 fields, saw 8\\nSkipping line 248459: expected 7 fields, saw 8\\nSkipping line 248460: expected 7 fields, saw 8\\nSkipping line 248461: expected 7 fields, saw 8\\nSkipping line 248462: expected 7 fields, saw 8\\nSkipping line 248463: expected 7 fields, saw 8\\nSkipping line 248464: expected 7 fields, saw 8\\nSkipping line 248465: expected 7 fields, saw 8\\nSkipping line 248466: expected 7 fields, saw 8\\nSkipping line 248467: expected 7 fields, saw 8\\nSkipping line 248468: expected 7 fields, saw 8\\nSkipping line 248469: expected 7 fields, saw 8\\nSkipping line 248470: expected 7 fields, saw 8\\nSkipping line 248471: expected 7 fields, saw 8\\nSkipping line 248472: expected 7 fields, saw 8\\nSkipping line 248473: expected 7 fields, saw 8\\nSkipping line 248474: expected 7 fields, saw 8\\nSkipping line 248475: expected 7 fields, saw 8\\nSkipping line 248476: expected 7 fields, saw 8\\nSkipping line 248477: expected 7 fields, saw 8\\nSkipping line 248478: expected 7 fields, saw 8\\nSkipping line 248479: expected 7 fields, saw 8\\nSkipping line 248480: expected 7 fields, saw 8\\nSkipping line 248481: expected 7 fields, saw 8\\nSkipping line 248482: expected 7 fields, saw 8\\nSkipping line 248483: expected 7 fields, saw 8\\nSkipping line 248484: expected 7 fields, saw 8\\nSkipping line 248485: expected 7 fields, saw 8\\nSkipping line 248486: expected 7 fields, saw 8\\nSkipping line 248487: expected 7 fields, saw 8\\nSkipping line 248488: expected 7 fields, saw 8\\nSkipping line 248489: expected 7 fields, saw 8\\nSkipping line 248490: expected 7 fields, saw 8\\nSkipping line 248491: expected 7 fields, saw 8\\nSkipping line 248492: expected 7 fields, saw 8\\nSkipping line 248493: expected 7 fields, saw 8\\nSkipping line 248494: expected 7 fields, saw 8\\nSkipping line 248495: expected 7 fields, saw 8\\nSkipping line 248496: expected 7 fields, saw 8\\nSkipping line 248497: expected 7 fields, saw 8\\nSkipping line 248498: expected 7 fields, saw 8\\nSkipping line 248499: expected 7 fields, saw 8\\nSkipping line 248500: expected 7 fields, saw 8\\nSkipping line 248501: expected 7 fields, saw 8\\nSkipping line 248502: expected 7 fields, saw 8\\nSkipping line 248503: expected 7 fields, saw 8\\nSkipping line 248504: expected 7 fields, saw 8\\nSkipping line 248505: expected 7 fields, saw 8\\nSkipping line 248506: expected 7 fields, saw 8\\nSkipping line 248507: expected 7 fields, saw 8\\nSkipping line 248508: expected 7 fields, saw 8\\nSkipping line 248509: expected 7 fields, saw 8\\nSkipping line 248510: expected 7 fields, saw 8\\nSkipping line 248511: expected 7 fields, saw 8\\nSkipping line 248512: expected 7 fields, saw 8\\nSkipping line 248513: expected 7 fields, saw 8\\nSkipping line 248514: expected 7 fields, saw 8\\nSkipping line 248515: expected 7 fields, saw 8\\nSkipping line 248516: expected 7 fields, saw 8\\nSkipping line 248517: expected 7 fields, saw 8\\nSkipping line 248518: expected 7 fields, saw 8\\nSkipping line 248519: expected 7 fields, saw 8\\nSkipping line 248520: expected 7 fields, saw 8\\nSkipping line 248521: expected 7 fields, saw 8\\nSkipping line 248522: expected 7 fields, saw 8\\nSkipping line 248523: expected 7 fields, saw 8\\nSkipping line 248524: expected 7 fields, saw 8\\nSkipping line 248525: expected 7 fields, saw 8\\nSkipping line 248526: expected 7 fields, saw 8\\nSkipping line 248527: expected 7 fields, saw 8\\nSkipping line 248528: expected 7 fields, saw 8\\nSkipping line 248529: expected 7 fields, saw 8\\nSkipping line 248530: expected 7 fields, saw 8\\nSkipping line 248531: expected 7 fields, saw 8\\nSkipping line 248532: expected 7 fields, saw 8\\nSkipping line 248533: expected 7 fields, saw 8\\nSkipping line 248534: expected 7 fields, saw 8\\nSkipping line 248535: expected 7 fields, saw 8\\nSkipping line 248536: expected 7 fields, saw 8\\nSkipping line 248537: expected 7 fields, saw 8\\nSkipping line 248538: expected 7 fields, saw 8\\nSkipping line 248539: expected 7 fields, saw 8\\nSkipping line 248540: expected 7 fields, saw 8\\nSkipping line 248541: expected 7 fields, saw 8\\nSkipping line 248542: expected 7 fields, saw 8\\nSkipping line 248543: expected 7 fields, saw 8\\nSkipping line 248544: expected 7 fields, saw 8\\nSkipping line 248545: expected 7 fields, saw 8\\nSkipping line 248546: expected 7 fields, saw 8\\nSkipping line 248547: expected 7 fields, saw 8\\nSkipping line 248548: expected 7 fields, saw 8\\nSkipping line 248549: expected 7 fields, saw 8\\nSkipping line 248550: expected 7 fields, saw 8\\nSkipping line 248551: expected 7 fields, saw 8\\nSkipping line 248552: expected 7 fields, saw 8\\nSkipping line 248553: expected 7 fields, saw 8\\nSkipping line 248554: expected 7 fields, saw 8\\nSkipping line 248555: expected 7 fields, saw 8\\nSkipping line 248556: expected 7 fields, saw 8\\nSkipping line 248557: expected 7 fields, saw 8\\nSkipping line 248558: expected 7 fields, saw 8\\nSkipping line 248559: expected 7 fields, saw 8\\nSkipping line 248560: expected 7 fields, saw 8\\nSkipping line 248561: expected 7 fields, saw 8\\nSkipping line 248562: expected 7 fields, saw 8\\nSkipping line 248563: expected 7 fields, saw 8\\nSkipping line 248564: expected 7 fields, saw 8\\nSkipping line 248565: expected 7 fields, saw 8\\nSkipping line 248566: expected 7 fields, saw 8\\nSkipping line 248567: expected 7 fields, saw 8\\nSkipping line 248568: expected 7 fields, saw 8\\nSkipping line 248569: expected 7 fields, saw 8\\nSkipping line 248570: expected 7 fields, saw 8\\nSkipping line 248571: expected 7 fields, saw 8\\nSkipping line 248572: expected 7 fields, saw 8\\nSkipping line 248573: expected 7 fields, saw 8\\nSkipping line 248574: expected 7 fields, saw 8\\nSkipping line 248575: expected 7 fields, saw 8\\nSkipping line 248576: expected 7 fields, saw 8\\nSkipping line 248577: expected 7 fields, saw 8\\nSkipping line 248578: expected 7 fields, saw 8\\nSkipping line 248579: expected 7 fields, saw 8\\nSkipping line 248580: expected 7 fields, saw 8\\nSkipping line 248581: expected 7 fields, saw 8\\nSkipping line 248582: expected 7 fields, saw 8\\nSkipping line 248583: expected 7 fields, saw 8\\nSkipping line 248584: expected 7 fields, saw 8\\nSkipping line 248585: expected 7 fields, saw 8\\nSkipping line 248586: expected 7 fields, saw 8\\nSkipping line 248587: expected 7 fields, saw 8\\nSkipping line 248588: expected 7 fields, saw 8\\nSkipping line 248589: expected 7 fields, saw 8\\nSkipping line 248590: expected 7 fields, saw 8\\nSkipping line 248591: expected 7 fields, saw 8\\nSkipping line 248592: expected 7 fields, saw 8\\nSkipping line 248593: expected 7 fields, saw 8\\nSkipping line 248594: expected 7 fields, saw 8\\nSkipping line 248595: expected 7 fields, saw 8\\nSkipping line 248596: expected 7 fields, saw 8\\nSkipping line 248597: expected 7 fields, saw 8\\nSkipping line 248598: expected 7 fields, saw 8\\nSkipping line 248599: expected 7 fields, saw 8\\nSkipping line 248600: expected 7 fields, saw 8\\nSkipping line 248601: expected 7 fields, saw 8\\nSkipping line 248602: expected 7 fields, saw 8\\nSkipping line 248603: expected 7 fields, saw 8\\nSkipping line 248604: expected 7 fields, saw 8\\nSkipping line 248605: expected 7 fields, saw 8\\nSkipping line 248606: expected 7 fields, saw 8\\nSkipping line 248607: expected 7 fields, saw 8\\nSkipping line 248608: expected 7 fields, saw 8\\nSkipping line 248609: expected 7 fields, saw 8\\nSkipping line 248610: expected 7 fields, saw 8\\nSkipping line 248611: expected 7 fields, saw 8\\nSkipping line 248612: expected 7 fields, saw 8\\nSkipping line 248613: expected 7 fields, saw 8\\nSkipping line 248614: expected 7 fields, saw 8\\nSkipping line 248615: expected 7 fields, saw 8\\nSkipping line 248616: expected 7 fields, saw 8\\nSkipping line 248617: expected 7 fields, saw 8\\nSkipping line 248618: expected 7 fields, saw 8\\nSkipping line 248619: expected 7 fields, saw 8\\nSkipping line 248620: expected 7 fields, saw 8\\nSkipping line 248621: expected 7 fields, saw 8\\nSkipping line 248622: expected 7 fields, saw 8\\nSkipping line 248623: expected 7 fields, saw 8\\nSkipping line 248624: expected 7 fields, saw 8\\nSkipping line 248625: expected 7 fields, saw 8\\nSkipping line 248626: expected 7 fields, saw 8\\nSkipping line 248627: expected 7 fields, saw 8\\nSkipping line 248628: expected 7 fields, saw 8\\nSkipping line 248629: expected 7 fields, saw 8\\nSkipping line 248630: expected 7 fields, saw 8\\nSkipping line 248631: expected 7 fields, saw 8\\nSkipping line 248632: expected 7 fields, saw 8\\nSkipping line 248633: expected 7 fields, saw 8\\nSkipping line 248634: expected 7 fields, saw 8\\nSkipping line 248635: expected 7 fields, saw 8\\nSkipping line 248636: expected 7 fields, saw 8\\nSkipping line 248637: expected 7 fields, saw 8\\nSkipping line 248638: expected 7 fields, saw 8\\nSkipping line 248639: expected 7 fields, saw 8\\nSkipping line 248640: expected 7 fields, saw 8\\nSkipping line 248641: expected 7 fields, saw 8\\nSkipping line 248642: expected 7 fields, saw 8\\nSkipping line 248643: expected 7 fields, saw 8\\nSkipping line 248644: expected 7 fields, saw 8\\nSkipping line 248645: expected 7 fields, saw 8\\nSkipping line 248646: expected 7 fields, saw 8\\nSkipping line 248647: expected 7 fields, saw 8\\nSkipping line 248648: expected 7 fields, saw 8\\nSkipping line 248649: expected 7 fields, saw 8\\nSkipping line 248650: expected 7 fields, saw 8\\nSkipping line 248651: expected 7 fields, saw 8\\nSkipping line 248652: expected 7 fields, saw 8\\nSkipping line 248653: expected 7 fields, saw 8\\nSkipping line 248654: expected 7 fields, saw 8\\nSkipping line 248655: expected 7 fields, saw 8\\nSkipping line 248656: expected 7 fields, saw 8\\nSkipping line 248657: expected 7 fields, saw 8\\nSkipping line 248658: expected 7 fields, saw 8\\nSkipping line 248659: expected 7 fields, saw 8\\nSkipping line 248660: expected 7 fields, saw 8\\nSkipping line 248661: expected 7 fields, saw 8\\nSkipping line 248662: expected 7 fields, saw 8\\nSkipping line 248663: expected 7 fields, saw 8\\nSkipping line 248664: expected 7 fields, saw 8\\nSkipping line 248665: expected 7 fields, saw 8\\nSkipping line 248666: expected 7 fields, saw 8\\nSkipping line 248667: expected 7 fields, saw 8\\nSkipping line 248668: expected 7 fields, saw 8\\nSkipping line 248669: expected 7 fields, saw 8\\nSkipping line 248670: expected 7 fields, saw 8\\nSkipping line 248671: expected 7 fields, saw 8\\nSkipping line 248672: expected 7 fields, saw 8\\nSkipping line 248673: expected 7 fields, saw 8\\nSkipping line 248674: expected 7 fields, saw 8\\nSkipping line 248675: expected 7 fields, saw 8\\nSkipping line 248676: expected 7 fields, saw 8\\nSkipping line 248677: expected 7 fields, saw 8\\nSkipping line 248678: expected 7 fields, saw 8\\nSkipping line 248679: expected 7 fields, saw 8\\nSkipping line 248680: expected 7 fields, saw 8\\nSkipping line 248681: expected 7 fields, saw 8\\nSkipping line 248682: expected 7 fields, saw 8\\nSkipping line 248683: expected 7 fields, saw 8\\nSkipping line 248684: expected 7 fields, saw 8\\nSkipping line 248685: expected 7 fields, saw 8\\nSkipping line 248686: expected 7 fields, saw 8\\nSkipping line 248687: expected 7 fields, saw 8\\nSkipping line 248688: expected 7 fields, saw 8\\nSkipping line 248689: expected 7 fields, saw 8\\nSkipping line 248690: expected 7 fields, saw 8\\nSkipping line 248691: expected 7 fields, saw 8\\nSkipping line 248692: expected 7 fields, saw 8\\nSkipping line 248693: expected 7 fields, saw 8\\nSkipping line 248694: expected 7 fields, saw 8\\nSkipping line 248695: expected 7 fields, saw 8\\nSkipping line 248696: expected 7 fields, saw 8\\nSkipping line 248697: expected 7 fields, saw 8\\nSkipping line 248698: expected 7 fields, saw 8\\nSkipping line 248699: expected 7 fields, saw 8\\nSkipping line 248700: expected 7 fields, saw 8\\nSkipping line 248701: expected 7 fields, saw 8\\nSkipping line 248702: expected 7 fields, saw 8\\nSkipping line 248703: expected 7 fields, saw 8\\nSkipping line 248704: expected 7 fields, saw 8\\nSkipping line 248705: expected 7 fields, saw 8\\nSkipping line 248706: expected 7 fields, saw 8\\nSkipping line 248707: expected 7 fields, saw 8\\nSkipping line 248708: expected 7 fields, saw 8\\nSkipping line 248709: expected 7 fields, saw 8\\nSkipping line 248710: expected 7 fields, saw 8\\nSkipping line 248711: expected 7 fields, saw 8\\nSkipping line 248712: expected 7 fields, saw 8\\nSkipping line 248713: expected 7 fields, saw 8\\nSkipping line 248714: expected 7 fields, saw 8\\nSkipping line 248715: expected 7 fields, saw 8\\nSkipping line 248716: expected 7 fields, saw 8\\nSkipping line 248717: expected 7 fields, saw 8\\nSkipping line 248718: expected 7 fields, saw 8\\nSkipping line 248719: expected 7 fields, saw 8\\nSkipping line 248720: expected 7 fields, saw 8\\nSkipping line 248721: expected 7 fields, saw 8\\nSkipping line 248722: expected 7 fields, saw 8\\nSkipping line 248723: expected 7 fields, saw 8\\nSkipping line 248724: expected 7 fields, saw 8\\nSkipping line 248725: expected 7 fields, saw 8\\nSkipping line 248726: expected 7 fields, saw 8\\nSkipping line 248727: expected 7 fields, saw 8\\nSkipping line 248728: expected 7 fields, saw 8\\nSkipping line 248729: expected 7 fields, saw 8\\nSkipping line 248730: expected 7 fields, saw 8\\nSkipping line 248731: expected 7 fields, saw 8\\nSkipping line 248732: expected 7 fields, saw 8\\nSkipping line 248733: expected 7 fields, saw 8\\nSkipping line 248734: expected 7 fields, saw 8\\nSkipping line 248735: expected 7 fields, saw 8\\nSkipping line 248736: expected 7 fields, saw 8\\nSkipping line 248737: expected 7 fields, saw 8\\nSkipping line 248738: expected 7 fields, saw 8\\nSkipping line 248739: expected 7 fields, saw 8\\nSkipping line 248740: expected 7 fields, saw 8\\nSkipping line 248741: expected 7 fields, saw 8\\nSkipping line 248742: expected 7 fields, saw 8\\nSkipping line 248743: expected 7 fields, saw 8\\nSkipping line 248744: expected 7 fields, saw 8\\nSkipping line 248745: expected 7 fields, saw 8\\nSkipping line 248746: expected 7 fields, saw 8\\nSkipping line 248747: expected 7 fields, saw 8\\nSkipping line 248748: expected 7 fields, saw 8\\nSkipping line 248749: expected 7 fields, saw 8\\nSkipping line 248750: expected 7 fields, saw 8\\nSkipping line 248751: expected 7 fields, saw 8\\nSkipping line 248752: expected 7 fields, saw 8\\nSkipping line 248753: expected 7 fields, saw 8\\nSkipping line 248754: expected 7 fields, saw 8\\nSkipping line 248755: expected 7 fields, saw 8\\nSkipping line 248756: expected 7 fields, saw 8\\nSkipping line 248757: expected 7 fields, saw 8\\nSkipping line 248758: expected 7 fields, saw 8\\nSkipping line 248759: expected 7 fields, saw 8\\nSkipping line 248760: expected 7 fields, saw 8\\nSkipping line 248761: expected 7 fields, saw 8\\nSkipping line 248762: expected 7 fields, saw 8\\nSkipping line 248763: expected 7 fields, saw 8\\nSkipping line 248764: expected 7 fields, saw 8\\nSkipping line 248765: expected 7 fields, saw 8\\nSkipping line 248766: expected 7 fields, saw 8\\nSkipping line 248767: expected 7 fields, saw 8\\nSkipping line 248768: expected 7 fields, saw 8\\nSkipping line 248769: expected 7 fields, saw 8\\nSkipping line 248770: expected 7 fields, saw 8\\nSkipping line 248771: expected 7 fields, saw 8\\nSkipping line 248772: expected 7 fields, saw 8\\nSkipping line 248773: expected 7 fields, saw 8\\nSkipping line 248774: expected 7 fields, saw 8\\nSkipping line 248775: expected 7 fields, saw 8\\nSkipping line 248776: expected 7 fields, saw 8\\nSkipping line 248777: expected 7 fields, saw 8\\nSkipping line 248778: expected 7 fields, saw 8\\nSkipping line 248779: expected 7 fields, saw 8\\nSkipping line 248780: expected 7 fields, saw 8\\nSkipping line 248781: expected 7 fields, saw 8\\nSkipping line 248782: expected 7 fields, saw 8\\nSkipping line 248783: expected 7 fields, saw 8\\nSkipping line 248784: expected 7 fields, saw 8\\nSkipping line 248785: expected 7 fields, saw 8\\nSkipping line 248786: expected 7 fields, saw 8\\nSkipping line 248787: expected 7 fields, saw 8\\nSkipping line 248788: expected 7 fields, saw 8\\nSkipping line 248789: expected 7 fields, saw 8\\nSkipping line 248790: expected 7 fields, saw 8\\nSkipping line 248791: expected 7 fields, saw 8\\nSkipping line 248792: expected 7 fields, saw 8\\nSkipping line 248793: expected 7 fields, saw 8\\nSkipping line 248794: expected 7 fields, saw 8\\nSkipping line 248795: expected 7 fields, saw 8\\nSkipping line 248796: expected 7 fields, saw 8\\nSkipping line 248797: expected 7 fields, saw 8\\nSkipping line 248798: expected 7 fields, saw 8\\nSkipping line 248799: expected 7 fields, saw 8\\nSkipping line 248800: expected 7 fields, saw 8\\nSkipping line 248801: expected 7 fields, saw 8\\nSkipping line 248802: expected 7 fields, saw 8\\nSkipping line 248803: expected 7 fields, saw 8\\nSkipping line 248804: expected 7 fields, saw 8\\nSkipping line 248805: expected 7 fields, saw 8\\nSkipping line 248806: expected 7 fields, saw 8\\nSkipping line 248807: expected 7 fields, saw 8\\nSkipping line 248808: expected 7 fields, saw 8\\nSkipping line 248809: expected 7 fields, saw 8\\nSkipping line 248810: expected 7 fields, saw 8\\nSkipping line 248811: expected 7 fields, saw 8\\nSkipping line 248812: expected 7 fields, saw 8\\nSkipping line 248813: expected 7 fields, saw 8\\nSkipping line 248814: expected 7 fields, saw 8\\nSkipping line 248815: expected 7 fields, saw 8\\nSkipping line 248816: expected 7 fields, saw 8\\nSkipping line 248817: expected 7 fields, saw 8\\nSkipping line 248818: expected 7 fields, saw 8\\nSkipping line 248819: expected 7 fields, saw 8\\nSkipping line 248820: expected 7 fields, saw 8\\nSkipping line 248821: expected 7 fields, saw 8\\nSkipping line 248822: expected 7 fields, saw 8\\nSkipping line 248823: expected 7 fields, saw 8\\nSkipping line 248824: expected 7 fields, saw 8\\nSkipping line 248825: expected 7 fields, saw 8\\nSkipping line 248826: expected 7 fields, saw 8\\nSkipping line 248827: expected 7 fields, saw 8\\nSkipping line 248828: expected 7 fields, saw 8\\nSkipping line 248829: expected 7 fields, saw 8\\nSkipping line 248830: expected 7 fields, saw 8\\nSkipping line 248831: expected 7 fields, saw 8\\nSkipping line 248832: expected 7 fields, saw 8\\nSkipping line 248833: expected 7 fields, saw 8\\nSkipping line 248834: expected 7 fields, saw 8\\nSkipping line 248835: expected 7 fields, saw 8\\nSkipping line 248836: expected 7 fields, saw 8\\nSkipping line 248837: expected 7 fields, saw 8\\nSkipping line 248838: expected 7 fields, saw 8\\nSkipping line 248839: expected 7 fields, saw 8\\nSkipping line 248840: expected 7 fields, saw 8\\nSkipping line 248841: expected 7 fields, saw 8\\nSkipping line 248842: expected 7 fields, saw 8\\nSkipping line 248843: expected 7 fields, saw 8\\nSkipping line 248844: expected 7 fields, saw 8\\nSkipping line 248845: expected 7 fields, saw 8\\nSkipping line 248846: expected 7 fields, saw 8\\nSkipping line 248847: expected 7 fields, saw 8\\nSkipping line 248848: expected 7 fields, saw 8\\nSkipping line 248849: expected 7 fields, saw 8\\nSkipping line 248850: expected 7 fields, saw 8\\nSkipping line 248851: expected 7 fields, saw 8\\nSkipping line 248852: expected 7 fields, saw 8\\nSkipping line 248853: expected 7 fields, saw 8\\nSkipping line 248854: expected 7 fields, saw 8\\nSkipping line 248855: expected 7 fields, saw 8\\nSkipping line 248856: expected 7 fields, saw 8\\nSkipping line 248857: expected 7 fields, saw 8\\nSkipping line 248858: expected 7 fields, saw 8\\nSkipping line 248859: expected 7 fields, saw 8\\nSkipping line 248860: expected 7 fields, saw 8\\nSkipping line 248861: expected 7 fields, saw 8\\nSkipping line 248862: expected 7 fields, saw 8\\nSkipping line 248863: expected 7 fields, saw 8\\nSkipping line 248864: expected 7 fields, saw 8\\nSkipping line 248865: expected 7 fields, saw 8\\nSkipping line 248866: expected 7 fields, saw 8\\nSkipping line 248867: expected 7 fields, saw 8\\nSkipping line 248868: expected 7 fields, saw 8\\nSkipping line 248869: expected 7 fields, saw 8\\nSkipping line 248870: expected 7 fields, saw 8\\nSkipping line 248871: expected 7 fields, saw 8\\nSkipping line 248872: expected 7 fields, saw 8\\nSkipping line 248873: expected 7 fields, saw 8\\nSkipping line 248874: expected 7 fields, saw 8\\nSkipping line 248875: expected 7 fields, saw 8\\nSkipping line 248876: expected 7 fields, saw 8\\nSkipping line 248877: expected 7 fields, saw 8\\nSkipping line 248878: expected 7 fields, saw 8\\nSkipping line 248879: expected 7 fields, saw 8\\nSkipping line 248880: expected 7 fields, saw 8\\nSkipping line 248881: expected 7 fields, saw 8\\nSkipping line 248882: expected 7 fields, saw 8\\nSkipping line 248883: expected 7 fields, saw 8\\nSkipping line 248884: expected 7 fields, saw 8\\nSkipping line 248885: expected 7 fields, saw 8\\nSkipping line 248886: expected 7 fields, saw 8\\nSkipping line 248887: expected 7 fields, saw 8\\nSkipping line 248888: expected 7 fields, saw 8\\nSkipping line 248889: expected 7 fields, saw 8\\nSkipping line 248890: expected 7 fields, saw 8\\nSkipping line 248891: expected 7 fields, saw 8\\nSkipping line 248892: expected 7 fields, saw 8\\nSkipping line 248893: expected 7 fields, saw 8\\nSkipping line 248894: expected 7 fields, saw 8\\nSkipping line 248895: expected 7 fields, saw 8\\nSkipping line 248896: expected 7 fields, saw 8\\nSkipping line 248897: expected 7 fields, saw 8\\nSkipping line 248898: expected 7 fields, saw 8\\nSkipping line 248899: expected 7 fields, saw 8\\nSkipping line 248900: expected 7 fields, saw 8\\nSkipping line 248901: expected 7 fields, saw 8\\nSkipping line 248902: expected 7 fields, saw 8\\nSkipping line 248903: expected 7 fields, saw 8\\nSkipping line 248904: expected 7 fields, saw 8\\nSkipping line 248905: expected 7 fields, saw 8\\nSkipping line 248906: expected 7 fields, saw 8\\nSkipping line 248907: expected 7 fields, saw 8\\nSkipping line 248908: expected 7 fields, saw 8\\nSkipping line 248909: expected 7 fields, saw 8\\nSkipping line 248910: expected 7 fields, saw 8\\nSkipping line 248911: expected 7 fields, saw 8\\nSkipping line 248912: expected 7 fields, saw 8\\nSkipping line 248913: expected 7 fields, saw 8\\nSkipping line 248914: expected 7 fields, saw 8\\nSkipping line 248915: expected 7 fields, saw 8\\nSkipping line 248916: expected 7 fields, saw 8\\nSkipping line 248917: expected 7 fields, saw 8\\nSkipping line 248918: expected 7 fields, saw 8\\nSkipping line 248919: expected 7 fields, saw 8\\nSkipping line 248920: expected 7 fields, saw 8\\nSkipping line 248921: expected 7 fields, saw 8\\nSkipping line 248922: expected 7 fields, saw 8\\nSkipping line 248923: expected 7 fields, saw 8\\nSkipping line 248924: expected 7 fields, saw 8\\nSkipping line 248925: expected 7 fields, saw 8\\nSkipping line 248926: expected 7 fields, saw 8\\nSkipping line 248927: expected 7 fields, saw 8\\nSkipping line 248928: expected 7 fields, saw 8\\nSkipping line 248929: expected 7 fields, saw 8\\nSkipping line 248930: expected 7 fields, saw 8\\nSkipping line 248931: expected 7 fields, saw 8\\nSkipping line 248932: expected 7 fields, saw 8\\nSkipping line 248933: expected 7 fields, saw 8\\nSkipping line 248934: expected 7 fields, saw 8\\nSkipping line 248935: expected 7 fields, saw 8\\nSkipping line 248936: expected 7 fields, saw 8\\nSkipping line 248937: expected 7 fields, saw 8\\nSkipping line 248938: expected 7 fields, saw 8\\nSkipping line 248939: expected 7 fields, saw 8\\nSkipping line 248940: expected 7 fields, saw 8\\nSkipping line 248941: expected 7 fields, saw 8\\nSkipping line 248942: expected 7 fields, saw 8\\nSkipping line 248943: expected 7 fields, saw 8\\nSkipping line 248944: expected 7 fields, saw 8\\nSkipping line 248945: expected 7 fields, saw 8\\nSkipping line 248946: expected 7 fields, saw 8\\nSkipping line 248947: expected 7 fields, saw 8\\nSkipping line 248948: expected 7 fields, saw 8\\nSkipping line 248949: expected 7 fields, saw 8\\nSkipping line 248950: expected 7 fields, saw 8\\nSkipping line 248951: expected 7 fields, saw 8\\nSkipping line 248952: expected 7 fields, saw 8\\nSkipping line 248953: expected 7 fields, saw 8\\nSkipping line 248954: expected 7 fields, saw 8\\nSkipping line 248955: expected 7 fields, saw 8\\nSkipping line 248956: expected 7 fields, saw 8\\nSkipping line 248957: expected 7 fields, saw 8\\nSkipping line 248958: expected 7 fields, saw 8\\nSkipping line 248959: expected 7 fields, saw 8\\nSkipping line 248960: expected 7 fields, saw 8\\nSkipping line 248961: expected 7 fields, saw 8\\nSkipping line 248962: expected 7 fields, saw 8\\nSkipping line 248963: expected 7 fields, saw 8\\nSkipping line 248964: expected 7 fields, saw 8\\nSkipping line 248965: expected 7 fields, saw 8\\nSkipping line 248966: expected 7 fields, saw 8\\nSkipping line 248967: expected 7 fields, saw 8\\nSkipping line 248968: expected 7 fields, saw 8\\nSkipping line 248969: expected 7 fields, saw 8\\nSkipping line 248970: expected 7 fields, saw 8\\nSkipping line 248971: expected 7 fields, saw 8\\nSkipping line 248972: expected 7 fields, saw 8\\nSkipping line 248973: expected 7 fields, saw 8\\nSkipping line 248974: expected 7 fields, saw 8\\nSkipping line 248975: expected 7 fields, saw 8\\nSkipping line 248976: expected 7 fields, saw 8\\nSkipping line 248977: expected 7 fields, saw 8\\nSkipping line 248978: expected 7 fields, saw 8\\nSkipping line 248979: expected 7 fields, saw 8\\nSkipping line 248980: expected 7 fields, saw 8\\nSkipping line 248981: expected 7 fields, saw 8\\nSkipping line 248982: expected 7 fields, saw 8\\nSkipping line 248983: expected 7 fields, saw 8\\nSkipping line 248984: expected 7 fields, saw 8\\nSkipping line 248985: expected 7 fields, saw 8\\nSkipping line 248986: expected 7 fields, saw 8\\nSkipping line 248987: expected 7 fields, saw 8\\nSkipping line 248988: expected 7 fields, saw 8\\nSkipping line 248989: expected 7 fields, saw 8\\nSkipping line 248990: expected 7 fields, saw 8\\nSkipping line 248991: expected 7 fields, saw 8\\nSkipping line 248992: expected 7 fields, saw 8\\nSkipping line 248993: expected 7 fields, saw 8\\nSkipping line 248994: expected 7 fields, saw 8\\nSkipping line 248995: expected 7 fields, saw 8\\nSkipping line 248996: expected 7 fields, saw 8\\nSkipping line 248997: expected 7 fields, saw 8\\nSkipping line 248998: expected 7 fields, saw 8\\nSkipping line 248999: expected 7 fields, saw 8\\nSkipping line 249000: expected 7 fields, saw 8\\nSkipping line 249001: expected 7 fields, saw 8\\nSkipping line 249002: expected 7 fields, saw 8\\nSkipping line 249003: expected 7 fields, saw 8\\nSkipping line 249004: expected 7 fields, saw 8\\nSkipping line 249005: expected 7 fields, saw 8\\nSkipping line 249006: expected 7 fields, saw 8\\nSkipping line 249007: expected 7 fields, saw 8\\nSkipping line 249008: expected 7 fields, saw 8\\nSkipping line 249009: expected 7 fields, saw 8\\nSkipping line 249010: expected 7 fields, saw 8\\nSkipping line 249011: expected 7 fields, saw 8\\nSkipping line 249012: expected 7 fields, saw 8\\nSkipping line 249013: expected 7 fields, saw 8\\nSkipping line 249014: expected 7 fields, saw 8\\nSkipping line 249015: expected 7 fields, saw 8\\nSkipping line 249016: expected 7 fields, saw 8\\nSkipping line 249017: expected 7 fields, saw 8\\nSkipping line 249018: expected 7 fields, saw 8\\nSkipping line 249019: expected 7 fields, saw 8\\nSkipping line 249020: expected 7 fields, saw 8\\nSkipping line 249021: expected 7 fields, saw 8\\nSkipping line 249022: expected 7 fields, saw 8\\nSkipping line 249023: expected 7 fields, saw 8\\nSkipping line 249024: expected 7 fields, saw 8\\nSkipping line 249025: expected 7 fields, saw 8\\nSkipping line 249026: expected 7 fields, saw 8\\nSkipping line 249027: expected 7 fields, saw 8\\nSkipping line 249028: expected 7 fields, saw 8\\nSkipping line 249029: expected 7 fields, saw 8\\nSkipping line 249030: expected 7 fields, saw 8\\nSkipping line 249031: expected 7 fields, saw 8\\nSkipping line 249032: expected 7 fields, saw 8\\nSkipping line 249033: expected 7 fields, saw 8\\nSkipping line 249034: expected 7 fields, saw 8\\nSkipping line 249035: expected 7 fields, saw 8\\nSkipping line 249036: expected 7 fields, saw 8\\nSkipping line 249037: expected 7 fields, saw 8\\nSkipping line 249038: expected 7 fields, saw 8\\nSkipping line 249039: expected 7 fields, saw 8\\nSkipping line 249040: expected 7 fields, saw 8\\nSkipping line 249041: expected 7 fields, saw 8\\nSkipping line 249042: expected 7 fields, saw 8\\nSkipping line 249043: expected 7 fields, saw 8\\nSkipping line 249044: expected 7 fields, saw 8\\nSkipping line 249045: expected 7 fields, saw 8\\nSkipping line 249046: expected 7 fields, saw 8\\nSkipping line 249047: expected 7 fields, saw 8\\nSkipping line 249048: expected 7 fields, saw 8\\nSkipping line 249049: expected 7 fields, saw 8\\nSkipping line 249050: expected 7 fields, saw 8\\nSkipping line 249051: expected 7 fields, saw 8\\nSkipping line 249052: expected 7 fields, saw 8\\nSkipping line 249053: expected 7 fields, saw 8\\nSkipping line 249054: expected 7 fields, saw 8\\nSkipping line 249055: expected 7 fields, saw 8\\nSkipping line 249056: expected 7 fields, saw 8\\nSkipping line 249057: expected 7 fields, saw 8\\nSkipping line 249058: expected 7 fields, saw 8\\nSkipping line 249059: expected 7 fields, saw 8\\nSkipping line 249060: expected 7 fields, saw 8\\nSkipping line 249061: expected 7 fields, saw 8\\nSkipping line 249062: expected 7 fields, saw 8\\nSkipping line 249063: expected 7 fields, saw 8\\nSkipping line 249064: expected 7 fields, saw 8\\nSkipping line 249065: expected 7 fields, saw 8\\nSkipping line 249066: expected 7 fields, saw 8\\nSkipping line 249067: expected 7 fields, saw 8\\nSkipping line 249068: expected 7 fields, saw 8\\nSkipping line 249069: expected 7 fields, saw 8\\nSkipping line 249070: expected 7 fields, saw 8\\nSkipping line 249071: expected 7 fields, saw 8\\nSkipping line 249072: expected 7 fields, saw 8\\nSkipping line 249073: expected 7 fields, saw 8\\nSkipping line 249074: expected 7 fields, saw 8\\nSkipping line 249075: expected 7 fields, saw 8\\nSkipping line 249076: expected 7 fields, saw 8\\nSkipping line 249077: expected 7 fields, saw 8\\nSkipping line 249078: expected 7 fields, saw 8\\nSkipping line 249079: expected 7 fields, saw 8\\nSkipping line 249080: expected 7 fields, saw 8\\nSkipping line 249081: expected 7 fields, saw 8\\nSkipping line 249082: expected 7 fields, saw 8\\nSkipping line 249083: expected 7 fields, saw 8\\nSkipping line 249084: expected 7 fields, saw 8\\nSkipping line 249085: expected 7 fields, saw 8\\nSkipping line 249086: expected 7 fields, saw 8\\nSkipping line 249087: expected 7 fields, saw 8\\nSkipping line 249088: expected 7 fields, saw 8\\nSkipping line 249089: expected 7 fields, saw 8\\nSkipping line 249090: expected 7 fields, saw 8\\nSkipping line 249091: expected 7 fields, saw 8\\nSkipping line 249092: expected 7 fields, saw 8\\nSkipping line 249093: expected 7 fields, saw 8\\nSkipping line 249094: expected 7 fields, saw 8\\nSkipping line 249095: expected 7 fields, saw 8\\nSkipping line 249096: expected 7 fields, saw 8\\nSkipping line 249097: expected 7 fields, saw 8\\nSkipping line 249098: expected 7 fields, saw 8\\nSkipping line 249099: expected 7 fields, saw 8\\nSkipping line 249100: expected 7 fields, saw 8\\nSkipping line 249101: expected 7 fields, saw 8\\nSkipping line 249102: expected 7 fields, saw 8\\nSkipping line 249103: expected 7 fields, saw 8\\nSkipping line 249104: expected 7 fields, saw 8\\nSkipping line 249105: expected 7 fields, saw 8\\nSkipping line 249106: expected 7 fields, saw 8\\nSkipping line 249107: expected 7 fields, saw 8\\nSkipping line 249108: expected 7 fields, saw 8\\nSkipping line 249109: expected 7 fields, saw 8\\nSkipping line 249110: expected 7 fields, saw 8\\nSkipping line 249111: expected 7 fields, saw 8\\nSkipping line 249112: expected 7 fields, saw 8\\nSkipping line 249113: expected 7 fields, saw 8\\nSkipping line 249114: expected 7 fields, saw 8\\nSkipping line 249115: expected 7 fields, saw 8\\nSkipping line 249116: expected 7 fields, saw 8\\nSkipping line 249117: expected 7 fields, saw 8\\nSkipping line 249118: expected 7 fields, saw 8\\nSkipping line 249119: expected 7 fields, saw 8\\nSkipping line 249120: expected 7 fields, saw 8\\nSkipping line 249121: expected 7 fields, saw 8\\nSkipping line 249122: expected 7 fields, saw 8\\nSkipping line 249123: expected 7 fields, saw 8\\nSkipping line 249124: expected 7 fields, saw 8\\nSkipping line 249125: expected 7 fields, saw 8\\nSkipping line 249126: expected 7 fields, saw 8\\nSkipping line 249127: expected 7 fields, saw 8\\nSkipping line 249128: expected 7 fields, saw 8\\nSkipping line 249129: expected 7 fields, saw 8\\nSkipping line 249130: expected 7 fields, saw 8\\nSkipping line 249131: expected 7 fields, saw 8\\nSkipping line 249132: expected 7 fields, saw 8\\nSkipping line 249133: expected 7 fields, saw 8\\nSkipping line 249134: expected 7 fields, saw 8\\nSkipping line 249135: expected 7 fields, saw 8\\nSkipping line 249136: expected 7 fields, saw 8\\nSkipping line 249137: expected 7 fields, saw 8\\nSkipping line 249138: expected 7 fields, saw 8\\nSkipping line 249139: expected 7 fields, saw 8\\nSkipping line 249140: expected 7 fields, saw 8\\nSkipping line 249141: expected 7 fields, saw 8\\nSkipping line 249142: expected 7 fields, saw 8\\nSkipping line 249143: expected 7 fields, saw 8\\nSkipping line 249144: expected 7 fields, saw 8\\nSkipping line 249145: expected 7 fields, saw 8\\nSkipping line 249146: expected 7 fields, saw 8\\nSkipping line 249147: expected 7 fields, saw 8\\nSkipping line 249148: expected 7 fields, saw 8\\nSkipping line 249149: expected 7 fields, saw 8\\nSkipping line 249150: expected 7 fields, saw 8\\nSkipping line 249151: expected 7 fields, saw 8\\nSkipping line 249152: expected 7 fields, saw 8\\nSkipping line 249153: expected 7 fields, saw 8\\nSkipping line 249154: expected 7 fields, saw 8\\nSkipping line 249155: expected 7 fields, saw 8\\nSkipping line 249156: expected 7 fields, saw 8\\nSkipping line 249157: expected 7 fields, saw 8\\nSkipping line 249158: expected 7 fields, saw 8\\nSkipping line 249159: expected 7 fields, saw 8\\nSkipping line 249160: expected 7 fields, saw 8\\nSkipping line 249161: expected 7 fields, saw 8\\nSkipping line 249162: expected 7 fields, saw 8\\nSkipping line 249163: expected 7 fields, saw 8\\nSkipping line 249164: expected 7 fields, saw 8\\nSkipping line 249165: expected 7 fields, saw 8\\nSkipping line 249166: expected 7 fields, saw 8\\nSkipping line 249167: expected 7 fields, saw 8\\nSkipping line 249168: expected 7 fields, saw 8\\nSkipping line 249169: expected 7 fields, saw 8\\nSkipping line 249170: expected 7 fields, saw 8\\nSkipping line 249171: expected 7 fields, saw 8\\nSkipping line 249172: expected 7 fields, saw 8\\nSkipping line 249173: expected 7 fields, saw 8\\nSkipping line 249174: expected 7 fields, saw 8\\nSkipping line 249175: expected 7 fields, saw 8\\nSkipping line 249176: expected 7 fields, saw 8\\nSkipping line 249177: expected 7 fields, saw 8\\nSkipping line 249178: expected 7 fields, saw 8\\nSkipping line 249179: expected 7 fields, saw 8\\nSkipping line 249180: expected 7 fields, saw 8\\nSkipping line 249181: expected 7 fields, saw 8\\nSkipping line 249182: expected 7 fields, saw 8\\nSkipping line 249183: expected 7 fields, saw 8\\nSkipping line 249184: expected 7 fields, saw 8\\nSkipping line 249185: expected 7 fields, saw 8\\nSkipping line 249186: expected 7 fields, saw 8\\nSkipping line 249187: expected 7 fields, saw 8\\nSkipping line 249188: expected 7 fields, saw 8\\nSkipping line 249189: expected 7 fields, saw 8\\nSkipping line 249190: expected 7 fields, saw 8\\nSkipping line 249191: expected 7 fields, saw 8\\nSkipping line 249192: expected 7 fields, saw 8\\nSkipping line 249193: expected 7 fields, saw 8\\nSkipping line 249194: expected 7 fields, saw 8\\nSkipping line 249195: expected 7 fields, saw 8\\nSkipping line 249196: expected 7 fields, saw 8\\nSkipping line 249197: expected 7 fields, saw 8\\nSkipping line 249198: expected 7 fields, saw 8\\nSkipping line 249199: expected 7 fields, saw 8\\nSkipping line 249200: expected 7 fields, saw 8\\nSkipping line 249201: expected 7 fields, saw 8\\nSkipping line 249202: expected 7 fields, saw 8\\nSkipping line 249203: expected 7 fields, saw 8\\nSkipping line 249204: expected 7 fields, saw 8\\nSkipping line 249205: expected 7 fields, saw 8\\nSkipping line 249206: expected 7 fields, saw 8\\nSkipping line 249207: expected 7 fields, saw 8\\nSkipping line 249208: expected 7 fields, saw 8\\nSkipping line 249209: expected 7 fields, saw 8\\nSkipping line 249210: expected 7 fields, saw 8\\nSkipping line 249211: expected 7 fields, saw 8\\nSkipping line 249212: expected 7 fields, saw 8\\nSkipping line 249213: expected 7 fields, saw 8\\nSkipping line 249214: expected 7 fields, saw 8\\nSkipping line 249215: expected 7 fields, saw 8\\nSkipping line 249216: expected 7 fields, saw 8\\nSkipping line 249217: expected 7 fields, saw 8\\nSkipping line 249218: expected 7 fields, saw 8\\nSkipping line 249219: expected 7 fields, saw 8\\nSkipping line 249220: expected 7 fields, saw 8\\nSkipping line 249221: expected 7 fields, saw 8\\nSkipping line 249222: expected 7 fields, saw 8\\nSkipping line 249223: expected 7 fields, saw 8\\nSkipping line 249224: expected 7 fields, saw 8\\nSkipping line 249225: expected 7 fields, saw 8\\nSkipping line 249226: expected 7 fields, saw 8\\nSkipping line 249227: expected 7 fields, saw 8\\nSkipping line 249228: expected 7 fields, saw 8\\nSkipping line 249229: expected 7 fields, saw 8\\nSkipping line 249230: expected 7 fields, saw 8\\nSkipping line 249231: expected 7 fields, saw 8\\nSkipping line 249232: expected 7 fields, saw 8\\nSkipping line 249233: expected 7 fields, saw 8\\nSkipping line 249234: expected 7 fields, saw 8\\nSkipping line 249235: expected 7 fields, saw 8\\nSkipping line 249236: expected 7 fields, saw 8\\nSkipping line 249237: expected 7 fields, saw 8\\nSkipping line 249238: expected 7 fields, saw 8\\nSkipping line 249239: expected 7 fields, saw 8\\nSkipping line 249240: expected 7 fields, saw 8\\nSkipping line 249241: expected 7 fields, saw 8\\nSkipping line 249242: expected 7 fields, saw 8\\nSkipping line 249243: expected 7 fields, saw 8\\nSkipping line 249244: expected 7 fields, saw 8\\nSkipping line 249245: expected 7 fields, saw 8\\nSkipping line 249246: expected 7 fields, saw 8\\nSkipping line 249247: expected 7 fields, saw 8\\nSkipping line 249248: expected 7 fields, saw 8\\nSkipping line 249249: expected 7 fields, saw 8\\nSkipping line 249250: expected 7 fields, saw 8\\nSkipping line 249251: expected 7 fields, saw 8\\nSkipping line 249252: expected 7 fields, saw 8\\nSkipping line 249253: expected 7 fields, saw 8\\nSkipping line 249254: expected 7 fields, saw 8\\nSkipping line 249255: expected 7 fields, saw 8\\nSkipping line 249256: expected 7 fields, saw 8\\nSkipping line 249257: expected 7 fields, saw 8\\nSkipping line 249258: expected 7 fields, saw 8\\nSkipping line 249259: expected 7 fields, saw 8\\nSkipping line 249260: expected 7 fields, saw 8\\nSkipping line 249261: expected 7 fields, saw 8\\nSkipping line 249262: expected 7 fields, saw 8\\nSkipping line 249263: expected 7 fields, saw 8\\nSkipping line 249264: expected 7 fields, saw 8\\nSkipping line 249265: expected 7 fields, saw 8\\nSkipping line 249266: expected 7 fields, saw 8\\nSkipping line 249267: expected 7 fields, saw 8\\nSkipping line 249268: expected 7 fields, saw 8\\nSkipping line 249269: expected 7 fields, saw 8\\nSkipping line 249270: expected 7 fields, saw 8\\nSkipping line 249271: expected 7 fields, saw 8\\nSkipping line 249272: expected 7 fields, saw 8\\nSkipping line 249273: expected 7 fields, saw 8\\nSkipping line 249274: expected 7 fields, saw 8\\nSkipping line 249275: expected 7 fields, saw 8\\nSkipping line 249276: expected 7 fields, saw 8\\nSkipping line 249277: expected 7 fields, saw 8\\nSkipping line 249278: expected 7 fields, saw 8\\nSkipping line 249279: expected 7 fields, saw 8\\nSkipping line 249280: expected 7 fields, saw 8\\nSkipping line 249281: expected 7 fields, saw 8\\nSkipping line 249282: expected 7 fields, saw 8\\nSkipping line 249283: expected 7 fields, saw 8\\nSkipping line 249284: expected 7 fields, saw 8\\nSkipping line 249285: expected 7 fields, saw 8\\nSkipping line 249286: expected 7 fields, saw 8\\nSkipping line 249287: expected 7 fields, saw 8\\nSkipping line 249288: expected 7 fields, saw 8\\nSkipping line 249289: expected 7 fields, saw 8\\nSkipping line 249290: expected 7 fields, saw 8\\nSkipping line 249291: expected 7 fields, saw 8\\nSkipping line 249292: expected 7 fields, saw 8\\nSkipping line 249293: expected 7 fields, saw 8\\nSkipping line 249294: expected 7 fields, saw 8\\nSkipping line 249295: expected 7 fields, saw 8\\nSkipping line 249296: expected 7 fields, saw 8\\nSkipping line 249297: expected 7 fields, saw 8\\nSkipping line 249298: expected 7 fields, saw 8\\nSkipping line 249299: expected 7 fields, saw 8\\nSkipping line 249300: expected 7 fields, saw 8\\nSkipping line 249301: expected 7 fields, saw 8\\nSkipping line 249302: expected 7 fields, saw 8\\nSkipping line 249303: expected 7 fields, saw 8\\nSkipping line 249304: expected 7 fields, saw 8\\nSkipping line 249305: expected 7 fields, saw 8\\nSkipping line 249306: expected 7 fields, saw 8\\nSkipping line 249307: expected 7 fields, saw 8\\nSkipping line 249308: expected 7 fields, saw 8\\nSkipping line 249309: expected 7 fields, saw 8\\nSkipping line 249310: expected 7 fields, saw 8\\nSkipping line 249311: expected 7 fields, saw 8\\nSkipping line 249312: expected 7 fields, saw 8\\nSkipping line 249313: expected 7 fields, saw 8\\nSkipping line 249314: expected 7 fields, saw 8\\nSkipping line 249315: expected 7 fields, saw 8\\nSkipping line 249316: expected 7 fields, saw 8\\nSkipping line 249317: expected 7 fields, saw 8\\nSkipping line 249318: expected 7 fields, saw 8\\nSkipping line 249319: expected 7 fields, saw 8\\nSkipping line 249320: expected 7 fields, saw 8\\nSkipping line 249321: expected 7 fields, saw 8\\nSkipping line 249322: expected 7 fields, saw 8\\nSkipping line 249323: expected 7 fields, saw 8\\nSkipping line 249324: expected 7 fields, saw 8\\nSkipping line 249325: expected 7 fields, saw 8\\nSkipping line 249326: expected 7 fields, saw 8\\nSkipping line 249327: expected 7 fields, saw 8\\nSkipping line 249328: expected 7 fields, saw 8\\nSkipping line 249329: expected 7 fields, saw 8\\nSkipping line 249330: expected 7 fields, saw 8\\nSkipping line 249331: expected 7 fields, saw 8\\nSkipping line 249332: expected 7 fields, saw 8\\nSkipping line 249333: expected 7 fields, saw 8\\nSkipping line 249334: expected 7 fields, saw 8\\nSkipping line 249335: expected 7 fields, saw 8\\nSkipping line 249336: expected 7 fields, saw 8\\nSkipping line 249337: expected 7 fields, saw 8\\nSkipping line 249338: expected 7 fields, saw 8\\nSkipping line 249339: expected 7 fields, saw 8\\nSkipping line 249340: expected 7 fields, saw 8\\nSkipping line 249341: expected 7 fields, saw 8\\nSkipping line 249342: expected 7 fields, saw 8\\nSkipping line 249343: expected 7 fields, saw 8\\nSkipping line 249344: expected 7 fields, saw 8\\nSkipping line 249345: expected 7 fields, saw 8\\nSkipping line 249346: expected 7 fields, saw 8\\nSkipping line 249347: expected 7 fields, saw 8\\nSkipping line 249348: expected 7 fields, saw 8\\nSkipping line 249349: expected 7 fields, saw 8\\nSkipping line 249350: expected 7 fields, saw 8\\nSkipping line 249351: expected 7 fields, saw 8\\nSkipping line 249352: expected 7 fields, saw 8\\nSkipping line 249353: expected 7 fields, saw 8\\nSkipping line 249354: expected 7 fields, saw 8\\nSkipping line 249355: expected 7 fields, saw 8\\nSkipping line 249356: expected 7 fields, saw 8\\nSkipping line 249357: expected 7 fields, saw 8\\nSkipping line 249358: expected 7 fields, saw 8\\nSkipping line 249359: expected 7 fields, saw 8\\nSkipping line 249360: expected 7 fields, saw 8\\nSkipping line 249361: expected 7 fields, saw 8\\nSkipping line 249362: expected 7 fields, saw 8\\nSkipping line 249363: expected 7 fields, saw 8\\nSkipping line 249364: expected 7 fields, saw 8\\nSkipping line 249365: expected 7 fields, saw 8\\nSkipping line 249366: expected 7 fields, saw 8\\nSkipping line 249367: expected 7 fields, saw 8\\nSkipping line 249368: expected 7 fields, saw 8\\nSkipping line 249369: expected 7 fields, saw 8\\nSkipping line 249370: expected 7 fields, saw 8\\nSkipping line 249371: expected 7 fields, saw 8\\nSkipping line 249372: expected 7 fields, saw 8\\nSkipping line 249373: expected 7 fields, saw 8\\nSkipping line 249374: expected 7 fields, saw 8\\nSkipping line 249375: expected 7 fields, saw 8\\nSkipping line 249376: expected 7 fields, saw 8\\nSkipping line 249377: expected 7 fields, saw 8\\nSkipping line 249378: expected 7 fields, saw 8\\nSkipping line 249379: expected 7 fields, saw 8\\nSkipping line 249380: expected 7 fields, saw 8\\nSkipping line 249381: expected 7 fields, saw 8\\nSkipping line 249382: expected 7 fields, saw 8\\nSkipping line 249383: expected 7 fields, saw 8\\nSkipping line 249384: expected 7 fields, saw 8\\nSkipping line 249385: expected 7 fields, saw 8\\nSkipping line 249386: expected 7 fields, saw 8\\nSkipping line 249387: expected 7 fields, saw 8\\nSkipping line 249388: expected 7 fields, saw 8\\nSkipping line 249389: expected 7 fields, saw 8\\nSkipping line 249390: expected 7 fields, saw 8\\nSkipping line 249391: expected 7 fields, saw 8\\nSkipping line 249392: expected 7 fields, saw 8\\nSkipping line 249393: expected 7 fields, saw 8\\nSkipping line 249394: expected 7 fields, saw 8\\nSkipping line 249395: expected 7 fields, saw 8\\nSkipping line 249396: expected 7 fields, saw 8\\nSkipping line 249397: expected 7 fields, saw 8\\nSkipping line 249398: expected 7 fields, saw 8\\nSkipping line 249399: expected 7 fields, saw 8\\nSkipping line 249400: expected 7 fields, saw 8\\nSkipping line 249401: expected 7 fields, saw 8\\nSkipping line 249402: expected 7 fields, saw 8\\nSkipping line 249403: expected 7 fields, saw 8\\nSkipping line 249404: expected 7 fields, saw 8\\nSkipping line 249405: expected 7 fields, saw 8\\nSkipping line 249406: expected 7 fields, saw 8\\nSkipping line 249407: expected 7 fields, saw 8\\nSkipping line 249408: expected 7 fields, saw 8\\nSkipping line 249409: expected 7 fields, saw 8\\nSkipping line 249410: expected 7 fields, saw 8\\nSkipping line 249411: expected 7 fields, saw 8\\nSkipping line 249412: expected 7 fields, saw 8\\nSkipping line 249413: expected 7 fields, saw 8\\nSkipping line 249414: expected 7 fields, saw 8\\nSkipping line 249415: expected 7 fields, saw 8\\nSkipping line 249416: expected 7 fields, saw 8\\nSkipping line 249417: expected 7 fields, saw 8\\nSkipping line 249418: expected 7 fields, saw 8\\nSkipping line 249419: expected 7 fields, saw 8\\nSkipping line 249420: expected 7 fields, saw 8\\nSkipping line 249421: expected 7 fields, saw 8\\nSkipping line 249422: expected 7 fields, saw 8\\nSkipping line 249423: expected 7 fields, saw 8\\nSkipping line 249424: expected 7 fields, saw 8\\nSkipping line 249425: expected 7 fields, saw 8\\nSkipping line 249426: expected 7 fields, saw 8\\nSkipping line 249427: expected 7 fields, saw 8\\nSkipping line 249428: expected 7 fields, saw 8\\nSkipping line 249429: expected 7 fields, saw 8\\nSkipping line 249430: expected 7 fields, saw 8\\nSkipping line 249431: expected 7 fields, saw 8\\nSkipping line 249432: expected 7 fields, saw 8\\nSkipping line 249433: expected 7 fields, saw 8\\nSkipping line 249434: expected 7 fields, saw 8\\nSkipping line 249435: expected 7 fields, saw 8\\nSkipping line 249436: expected 7 fields, saw 8\\nSkipping line 249437: expected 7 fields, saw 8\\nSkipping line 249438: expected 7 fields, saw 8\\nSkipping line 249439: expected 7 fields, saw 8\\nSkipping line 249440: expected 7 fields, saw 8\\nSkipping line 249441: expected 7 fields, saw 8\\nSkipping line 249442: expected 7 fields, saw 8\\nSkipping line 249443: expected 7 fields, saw 8\\nSkipping line 249444: expected 7 fields, saw 8\\nSkipping line 249445: expected 7 fields, saw 8\\nSkipping line 249446: expected 7 fields, saw 8\\nSkipping line 249447: expected 7 fields, saw 8\\nSkipping line 249448: expected 7 fields, saw 8\\nSkipping line 249449: expected 7 fields, saw 8\\nSkipping line 249450: expected 7 fields, saw 8\\nSkipping line 249451: expected 7 fields, saw 8\\nSkipping line 249452: expected 7 fields, saw 8\\nSkipping line 249453: expected 7 fields, saw 8\\nSkipping line 249454: expected 7 fields, saw 8\\nSkipping line 249455: expected 7 fields, saw 8\\nSkipping line 249456: expected 7 fields, saw 8\\nSkipping line 249457: expected 7 fields, saw 8\\nSkipping line 249458: expected 7 fields, saw 8\\nSkipping line 249459: expected 7 fields, saw 8\\nSkipping line 249460: expected 7 fields, saw 8\\nSkipping line 249461: expected 7 fields, saw 8\\nSkipping line 249462: expected 7 fields, saw 8\\nSkipping line 249463: expected 7 fields, saw 8\\nSkipping line 249464: expected 7 fields, saw 8\\nSkipping line 249465: expected 7 fields, saw 8\\nSkipping line 249466: expected 7 fields, saw 8\\nSkipping line 249467: expected 7 fields, saw 8\\nSkipping line 249468: expected 7 fields, saw 8\\nSkipping line 249469: expected 7 fields, saw 8\\nSkipping line 249470: expected 7 fields, saw 8\\nSkipping line 249471: expected 7 fields, saw 8\\nSkipping line 249472: expected 7 fields, saw 8\\nSkipping line 249473: expected 7 fields, saw 8\\nSkipping line 249474: expected 7 fields, saw 8\\nSkipping line 249475: expected 7 fields, saw 8\\nSkipping line 249476: expected 7 fields, saw 8\\nSkipping line 249477: expected 7 fields, saw 8\\nSkipping line 249478: expected 7 fields, saw 8\\nSkipping line 249479: expected 7 fields, saw 8\\nSkipping line 249480: expected 7 fields, saw 8\\nSkipping line 249481: expected 7 fields, saw 8\\nSkipping line 249482: expected 7 fields, saw 8\\nSkipping line 249483: expected 7 fields, saw 8\\nSkipping line 249484: expected 7 fields, saw 8\\nSkipping line 249485: expected 7 fields, saw 8\\nSkipping line 249486: expected 7 fields, saw 8\\nSkipping line 249487: expected 7 fields, saw 8\\nSkipping line 249488: expected 7 fields, saw 8\\nSkipping line 249489: expected 7 fields, saw 8\\nSkipping line 249490: expected 7 fields, saw 8\\nSkipping line 249491: expected 7 fields, saw 8\\nSkipping line 249492: expected 7 fields, saw 8\\nSkipping line 249493: expected 7 fields, saw 8\\nSkipping line 249494: expected 7 fields, saw 8\\nSkipping line 249495: expected 7 fields, saw 8\\nSkipping line 249496: expected 7 fields, saw 8\\nSkipping line 249497: expected 7 fields, saw 8\\nSkipping line 249498: expected 7 fields, saw 8\\nSkipping line 249499: expected 7 fields, saw 8\\nSkipping line 249500: expected 7 fields, saw 8\\nSkipping line 249501: expected 7 fields, saw 8\\nSkipping line 249502: expected 7 fields, saw 8\\nSkipping line 249503: expected 7 fields, saw 8\\nSkipping line 249504: expected 7 fields, saw 8\\nSkipping line 249505: expected 7 fields, saw 8\\nSkipping line 249506: expected 7 fields, saw 8\\nSkipping line 249507: expected 7 fields, saw 8\\nSkipping line 249508: expected 7 fields, saw 8\\nSkipping line 249509: expected 7 fields, saw 8\\nSkipping line 249510: expected 7 fields, saw 8\\nSkipping line 249511: expected 7 fields, saw 8\\nSkipping line 249512: expected 7 fields, saw 8\\nSkipping line 249513: expected 7 fields, saw 8\\nSkipping line 249514: expected 7 fields, saw 8\\nSkipping line 249515: expected 7 fields, saw 8\\nSkipping line 249516: expected 7 fields, saw 8\\nSkipping line 249517: expected 7 fields, saw 8\\nSkipping line 249518: expected 7 fields, saw 8\\nSkipping line 249519: expected 7 fields, saw 8\\nSkipping line 249520: expected 7 fields, saw 8\\nSkipping line 249521: expected 7 fields, saw 8\\nSkipping line 249522: expected 7 fields, saw 8\\nSkipping line 249523: expected 7 fields, saw 8\\nSkipping line 249524: expected 7 fields, saw 8\\nSkipping line 249525: expected 7 fields, saw 8\\nSkipping line 249526: expected 7 fields, saw 8\\nSkipping line 249527: expected 7 fields, saw 8\\nSkipping line 249528: expected 7 fields, saw 8\\nSkipping line 249529: expected 7 fields, saw 8\\nSkipping line 249530: expected 7 fields, saw 8\\nSkipping line 249531: expected 7 fields, saw 8\\nSkipping line 249532: expected 7 fields, saw 8\\nSkipping line 249533: expected 7 fields, saw 8\\nSkipping line 249534: expected 7 fields, saw 8\\nSkipping line 249535: expected 7 fields, saw 8\\nSkipping line 249536: expected 7 fields, saw 8\\nSkipping line 249537: expected 7 fields, saw 8\\nSkipping line 249538: expected 7 fields, saw 8\\nSkipping line 249539: expected 7 fields, saw 8\\nSkipping line 249540: expected 7 fields, saw 8\\nSkipping line 249541: expected 7 fields, saw 8\\nSkipping line 249542: expected 7 fields, saw 8\\nSkipping line 249543: expected 7 fields, saw 8\\nSkipping line 249544: expected 7 fields, saw 8\\nSkipping line 249545: expected 7 fields, saw 8\\nSkipping line 249546: expected 7 fields, saw 8\\nSkipping line 249547: expected 7 fields, saw 8\\nSkipping line 249548: expected 7 fields, saw 8\\nSkipping line 249549: expected 7 fields, saw 8\\nSkipping line 249550: expected 7 fields, saw 8\\nSkipping line 249551: expected 7 fields, saw 8\\nSkipping line 249552: expected 7 fields, saw 8\\nSkipping line 249553: expected 7 fields, saw 8\\nSkipping line 249554: expected 7 fields, saw 8\\nSkipping line 249555: expected 7 fields, saw 8\\nSkipping line 249556: expected 7 fields, saw 8\\nSkipping line 249557: expected 7 fields, saw 8\\nSkipping line 249558: expected 7 fields, saw 8\\nSkipping line 249559: expected 7 fields, saw 8\\nSkipping line 249560: expected 7 fields, saw 8\\nSkipping line 249561: expected 7 fields, saw 8\\nSkipping line 249562: expected 7 fields, saw 8\\nSkipping line 249563: expected 7 fields, saw 8\\nSkipping line 249564: expected 7 fields, saw 8\\nSkipping line 249565: expected 7 fields, saw 8\\nSkipping line 249566: expected 7 fields, saw 8\\nSkipping line 249567: expected 7 fields, saw 8\\nSkipping line 249568: expected 7 fields, saw 8\\nSkipping line 249569: expected 7 fields, saw 8\\nSkipping line 249570: expected 7 fields, saw 8\\nSkipping line 249571: expected 7 fields, saw 8\\nSkipping line 249572: expected 7 fields, saw 8\\nSkipping line 249573: expected 7 fields, saw 8\\nSkipping line 249574: expected 7 fields, saw 8\\nSkipping line 249575: expected 7 fields, saw 8\\nSkipping line 249576: expected 7 fields, saw 8\\nSkipping line 249577: expected 7 fields, saw 8\\nSkipping line 249578: expected 7 fields, saw 8\\nSkipping line 249579: expected 7 fields, saw 8\\nSkipping line 249580: expected 7 fields, saw 8\\nSkipping line 249581: expected 7 fields, saw 8\\nSkipping line 249582: expected 7 fields, saw 8\\nSkipping line 249583: expected 7 fields, saw 8\\nSkipping line 249584: expected 7 fields, saw 8\\nSkipping line 249585: expected 7 fields, saw 8\\nSkipping line 249586: expected 7 fields, saw 8\\nSkipping line 249587: expected 7 fields, saw 8\\nSkipping line 249588: expected 7 fields, saw 8\\nSkipping line 249589: expected 7 fields, saw 8\\nSkipping line 249590: expected 7 fields, saw 8\\nSkipping line 249591: expected 7 fields, saw 8\\nSkipping line 249592: expected 7 fields, saw 8\\nSkipping line 249593: expected 7 fields, saw 8\\nSkipping line 249594: expected 7 fields, saw 8\\nSkipping line 249595: expected 7 fields, saw 8\\nSkipping line 249596: expected 7 fields, saw 8\\nSkipping line 249597: expected 7 fields, saw 8\\nSkipping line 249598: expected 7 fields, saw 8\\nSkipping line 249599: expected 7 fields, saw 8\\nSkipping line 249600: expected 7 fields, saw 8\\nSkipping line 249601: expected 7 fields, saw 8\\nSkipping line 249602: expected 7 fields, saw 8\\nSkipping line 249603: expected 7 fields, saw 8\\nSkipping line 249604: expected 7 fields, saw 8\\nSkipping line 249605: expected 7 fields, saw 8\\nSkipping line 249606: expected 7 fields, saw 8\\nSkipping line 249607: expected 7 fields, saw 8\\nSkipping line 249608: expected 7 fields, saw 8\\nSkipping line 249609: expected 7 fields, saw 8\\nSkipping line 249610: expected 7 fields, saw 8\\nSkipping line 249611: expected 7 fields, saw 8\\nSkipping line 249612: expected 7 fields, saw 8\\nSkipping line 249613: expected 7 fields, saw 8\\nSkipping line 249614: expected 7 fields, saw 8\\nSkipping line 249615: expected 7 fields, saw 8\\nSkipping line 249616: expected 7 fields, saw 8\\nSkipping line 249617: expected 7 fields, saw 8\\nSkipping line 249618: expected 7 fields, saw 8\\nSkipping line 249619: expected 7 fields, saw 8\\nSkipping line 249620: expected 7 fields, saw 8\\nSkipping line 249621: expected 7 fields, saw 8\\nSkipping line 249622: expected 7 fields, saw 8\\nSkipping line 249623: expected 7 fields, saw 8\\nSkipping line 249624: expected 7 fields, saw 8\\nSkipping line 249625: expected 7 fields, saw 8\\nSkipping line 249626: expected 7 fields, saw 8\\nSkipping line 249627: expected 7 fields, saw 8\\nSkipping line 249628: expected 7 fields, saw 8\\nSkipping line 249629: expected 7 fields, saw 8\\nSkipping line 249630: expected 7 fields, saw 8\\nSkipping line 249631: expected 7 fields, saw 8\\nSkipping line 249632: expected 7 fields, saw 8\\nSkipping line 249633: expected 7 fields, saw 8\\nSkipping line 249634: expected 7 fields, saw 8\\nSkipping line 249635: expected 7 fields, saw 8\\nSkipping line 249636: expected 7 fields, saw 8\\nSkipping line 249637: expected 7 fields, saw 8\\nSkipping line 249638: expected 7 fields, saw 8\\nSkipping line 249639: expected 7 fields, saw 8\\nSkipping line 249640: expected 7 fields, saw 8\\nSkipping line 249641: expected 7 fields, saw 8\\nSkipping line 249642: expected 7 fields, saw 8\\nSkipping line 249643: expected 7 fields, saw 8\\nSkipping line 249644: expected 7 fields, saw 8\\nSkipping line 249645: expected 7 fields, saw 8\\nSkipping line 249646: expected 7 fields, saw 8\\nSkipping line 249647: expected 7 fields, saw 8\\nSkipping line 249648: expected 7 fields, saw 8\\nSkipping line 249649: expected 7 fields, saw 8\\nSkipping line 249650: expected 7 fields, saw 8\\nSkipping line 249651: expected 7 fields, saw 8\\nSkipping line 249652: expected 7 fields, saw 8\\nSkipping line 249653: expected 7 fields, saw 8\\nSkipping line 249654: expected 7 fields, saw 8\\nSkipping line 249655: expected 7 fields, saw 8\\nSkipping line 249656: expected 7 fields, saw 8\\nSkipping line 249657: expected 7 fields, saw 8\\nSkipping line 249658: expected 7 fields, saw 8\\nSkipping line 249659: expected 7 fields, saw 8\\nSkipping line 249660: expected 7 fields, saw 8\\nSkipping line 249661: expected 7 fields, saw 8\\nSkipping line 249662: expected 7 fields, saw 8\\nSkipping line 249663: expected 7 fields, saw 8\\nSkipping line 249664: expected 7 fields, saw 8\\nSkipping line 249665: expected 7 fields, saw 8\\nSkipping line 249666: expected 7 fields, saw 8\\nSkipping line 249667: expected 7 fields, saw 8\\nSkipping line 249668: expected 7 fields, saw 8\\nSkipping line 249669: expected 7 fields, saw 8\\nSkipping line 249670: expected 7 fields, saw 8\\nSkipping line 249671: expected 7 fields, saw 8\\nSkipping line 249672: expected 7 fields, saw 8\\nSkipping line 249673: expected 7 fields, saw 8\\nSkipping line 249674: expected 7 fields, saw 8\\nSkipping line 249675: expected 7 fields, saw 8\\nSkipping line 249676: expected 7 fields, saw 8\\nSkipping line 249677: expected 7 fields, saw 8\\nSkipping line 249678: expected 7 fields, saw 8\\nSkipping line 249679: expected 7 fields, saw 8\\nSkipping line 249680: expected 7 fields, saw 8\\nSkipping line 249681: expected 7 fields, saw 8\\nSkipping line 249682: expected 7 fields, saw 8\\nSkipping line 249683: expected 7 fields, saw 8\\nSkipping line 249684: expected 7 fields, saw 8\\nSkipping line 249685: expected 7 fields, saw 8\\nSkipping line 249686: expected 7 fields, saw 8\\nSkipping line 249687: expected 7 fields, saw 8\\nSkipping line 249688: expected 7 fields, saw 8\\nSkipping line 249689: expected 7 fields, saw 8\\nSkipping line 249690: expected 7 fields, saw 8\\nSkipping line 249691: expected 7 fields, saw 8\\nSkipping line 249692: expected 7 fields, saw 8\\nSkipping line 249693: expected 7 fields, saw 8\\nSkipping line 249694: expected 7 fields, saw 8\\nSkipping line 249695: expected 7 fields, saw 8\\nSkipping line 249696: expected 7 fields, saw 8\\nSkipping line 249697: expected 7 fields, saw 8\\nSkipping line 249698: expected 7 fields, saw 8\\nSkipping line 249699: expected 7 fields, saw 8\\nSkipping line 249700: expected 7 fields, saw 8\\nSkipping line 249701: expected 7 fields, saw 8\\nSkipping line 249702: expected 7 fields, saw 8\\nSkipping line 249703: expected 7 fields, saw 8\\nSkipping line 249704: expected 7 fields, saw 8\\nSkipping line 249705: expected 7 fields, saw 8\\nSkipping line 249706: expected 7 fields, saw 8\\nSkipping line 249707: expected 7 fields, saw 8\\nSkipping line 249708: expected 7 fields, saw 8\\nSkipping line 249709: expected 7 fields, saw 8\\nSkipping line 249710: expected 7 fields, saw 8\\nSkipping line 249711: expected 7 fields, saw 8\\nSkipping line 249712: expected 7 fields, saw 8\\nSkipping line 249713: expected 7 fields, saw 8\\nSkipping line 249714: expected 7 fields, saw 8\\nSkipping line 249715: expected 7 fields, saw 8\\nSkipping line 249716: expected 7 fields, saw 8\\nSkipping line 249717: expected 7 fields, saw 8\\nSkipping line 249718: expected 7 fields, saw 8\\nSkipping line 249719: expected 7 fields, saw 8\\nSkipping line 249720: expected 7 fields, saw 8\\nSkipping line 249721: expected 7 fields, saw 8\\nSkipping line 249722: expected 7 fields, saw 8\\nSkipping line 249723: expected 7 fields, saw 8\\nSkipping line 249724: expected 7 fields, saw 8\\nSkipping line 249725: expected 7 fields, saw 8\\nSkipping line 249726: expected 7 fields, saw 8\\nSkipping line 249727: expected 7 fields, saw 8\\nSkipping line 249728: expected 7 fields, saw 8\\nSkipping line 249729: expected 7 fields, saw 8\\nSkipping line 249730: expected 7 fields, saw 8\\nSkipping line 249731: expected 7 fields, saw 8\\nSkipping line 249732: expected 7 fields, saw 8\\nSkipping line 249733: expected 7 fields, saw 8\\nSkipping line 249734: expected 7 fields, saw 8\\nSkipping line 249735: expected 7 fields, saw 8\\nSkipping line 249736: expected 7 fields, saw 8\\nSkipping line 249737: expected 7 fields, saw 8\\nSkipping line 249738: expected 7 fields, saw 8\\nSkipping line 249739: expected 7 fields, saw 8\\nSkipping line 249740: expected 7 fields, saw 8\\nSkipping line 249741: expected 7 fields, saw 8\\nSkipping line 249742: expected 7 fields, saw 8\\nSkipping line 249743: expected 7 fields, saw 8\\nSkipping line 249744: expected 7 fields, saw 8\\nSkipping line 249745: expected 7 fields, saw 8\\nSkipping line 249746: expected 7 fields, saw 8\\nSkipping line 249747: expected 7 fields, saw 8\\nSkipping line 249748: expected 7 fields, saw 8\\nSkipping line 249749: expected 7 fields, saw 8\\nSkipping line 249750: expected 7 fields, saw 8\\nSkipping line 249751: expected 7 fields, saw 8\\nSkipping line 249752: expected 7 fields, saw 8\\nSkipping line 249753: expected 7 fields, saw 8\\nSkipping line 249754: expected 7 fields, saw 8\\nSkipping line 249755: expected 7 fields, saw 8\\nSkipping line 249756: expected 7 fields, saw 8\\nSkipping line 249757: expected 7 fields, saw 8\\nSkipping line 249758: expected 7 fields, saw 8\\nSkipping line 249759: expected 7 fields, saw 8\\nSkipping line 249760: expected 7 fields, saw 8\\nSkipping line 249761: expected 7 fields, saw 8\\nSkipping line 249762: expected 7 fields, saw 8\\nSkipping line 249763: expected 7 fields, saw 8\\nSkipping line 249764: expected 7 fields, saw 8\\nSkipping line 249765: expected 7 fields, saw 8\\nSkipping line 249766: expected 7 fields, saw 8\\nSkipping line 249767: expected 7 fields, saw 8\\nSkipping line 249768: expected 7 fields, saw 8\\nSkipping line 249769: expected 7 fields, saw 8\\nSkipping line 249770: expected 7 fields, saw 8\\nSkipping line 249771: expected 7 fields, saw 8\\nSkipping line 249772: expected 7 fields, saw 8\\nSkipping line 249773: expected 7 fields, saw 8\\nSkipping line 249774: expected 7 fields, saw 8\\nSkipping line 249775: expected 7 fields, saw 8\\nSkipping line 249776: expected 7 fields, saw 8\\nSkipping line 249777: expected 7 fields, saw 8\\nSkipping line 249778: expected 7 fields, saw 8\\nSkipping line 249779: expected 7 fields, saw 8\\nSkipping line 249780: expected 7 fields, saw 8\\nSkipping line 249781: expected 7 fields, saw 8\\nSkipping line 249782: expected 7 fields, saw 8\\nSkipping line 249783: expected 7 fields, saw 8\\nSkipping line 249784: expected 7 fields, saw 8\\nSkipping line 249785: expected 7 fields, saw 8\\nSkipping line 249786: expected 7 fields, saw 8\\nSkipping line 249787: expected 7 fields, saw 8\\nSkipping line 249788: expected 7 fields, saw 8\\nSkipping line 249789: expected 7 fields, saw 8\\nSkipping line 249790: expected 7 fields, saw 8\\nSkipping line 249791: expected 7 fields, saw 8\\nSkipping line 249792: expected 7 fields, saw 8\\nSkipping line 249793: expected 7 fields, saw 8\\nSkipping line 249794: expected 7 fields, saw 8\\nSkipping line 249795: expected 7 fields, saw 8\\nSkipping line 249796: expected 7 fields, saw 8\\nSkipping line 249797: expected 7 fields, saw 8\\nSkipping line 249798: expected 7 fields, saw 8\\nSkipping line 249799: expected 7 fields, saw 8\\nSkipping line 249800: expected 7 fields, saw 8\\nSkipping line 249801: expected 7 fields, saw 8\\nSkipping line 249802: expected 7 fields, saw 8\\nSkipping line 249803: expected 7 fields, saw 8\\nSkipping line 249804: expected 7 fields, saw 8\\nSkipping line 249805: expected 7 fields, saw 8\\nSkipping line 249806: expected 7 fields, saw 8\\nSkipping line 249807: expected 7 fields, saw 8\\nSkipping line 249808: expected 7 fields, saw 8\\nSkipping line 249809: expected 7 fields, saw 8\\nSkipping line 249810: expected 7 fields, saw 8\\nSkipping line 249811: expected 7 fields, saw 8\\nSkipping line 249812: expected 7 fields, saw 8\\nSkipping line 249813: expected 7 fields, saw 8\\nSkipping line 249814: expected 7 fields, saw 8\\nSkipping line 249815: expected 7 fields, saw 8\\nSkipping line 249816: expected 7 fields, saw 8\\nSkipping line 249817: expected 7 fields, saw 8\\nSkipping line 249818: expected 7 fields, saw 8\\nSkipping line 249819: expected 7 fields, saw 8\\nSkipping line 249820: expected 7 fields, saw 8\\nSkipping line 249821: expected 7 fields, saw 8\\nSkipping line 249822: expected 7 fields, saw 8\\n'\n"
     ]
    }
   ],
   "source": [
    "df=pd.read_csv(\"D:/New folder (2)/CropYieldPredection/Data.csv\",error_bad_lines=False)"
   ]
  },
  {
   "cell_type": "code",
   "execution_count": 6,
   "metadata": {},
   "outputs": [
    {
     "data": {
      "text/html": [
       "<div>\n",
       "<style scoped>\n",
       "    .dataframe tbody tr th:only-of-type {\n",
       "        vertical-align: middle;\n",
       "    }\n",
       "\n",
       "    .dataframe tbody tr th {\n",
       "        vertical-align: top;\n",
       "    }\n",
       "\n",
       "    .dataframe thead th {\n",
       "        text-align: right;\n",
       "    }\n",
       "</style>\n",
       "<table border=\"1\" class=\"dataframe\">\n",
       "  <thead>\n",
       "    <tr style=\"text-align: right;\">\n",
       "      <th></th>\n",
       "      <th>State_Name</th>\n",
       "      <th>District_Name</th>\n",
       "      <th>Crop_Year</th>\n",
       "      <th>Season</th>\n",
       "      <th>Crop</th>\n",
       "      <th>Area</th>\n",
       "      <th>Production</th>\n",
       "    </tr>\n",
       "  </thead>\n",
       "  <tbody>\n",
       "    <tr>\n",
       "      <th>0</th>\n",
       "      <td>Andaman and Nicobar Islands</td>\n",
       "      <td>NICOBARS</td>\n",
       "      <td>2000</td>\n",
       "      <td>Kharif</td>\n",
       "      <td>Arecanut</td>\n",
       "      <td>1254.0</td>\n",
       "      <td>2000.0</td>\n",
       "    </tr>\n",
       "    <tr>\n",
       "      <th>1</th>\n",
       "      <td>Andaman and Nicobar Islands</td>\n",
       "      <td>NICOBARS</td>\n",
       "      <td>2000</td>\n",
       "      <td>Kharif</td>\n",
       "      <td>Other Kharif pulses</td>\n",
       "      <td>2.0</td>\n",
       "      <td>1.0</td>\n",
       "    </tr>\n",
       "    <tr>\n",
       "      <th>2</th>\n",
       "      <td>Andaman and Nicobar Islands</td>\n",
       "      <td>NICOBARS</td>\n",
       "      <td>2000</td>\n",
       "      <td>Kharif</td>\n",
       "      <td>Rice</td>\n",
       "      <td>102.0</td>\n",
       "      <td>321.0</td>\n",
       "    </tr>\n",
       "    <tr>\n",
       "      <th>3</th>\n",
       "      <td>Andaman and Nicobar Islands</td>\n",
       "      <td>NICOBARS</td>\n",
       "      <td>2000</td>\n",
       "      <td>Whole Year</td>\n",
       "      <td>Banana</td>\n",
       "      <td>176.0</td>\n",
       "      <td>641.0</td>\n",
       "    </tr>\n",
       "    <tr>\n",
       "      <th>4</th>\n",
       "      <td>Andaman and Nicobar Islands</td>\n",
       "      <td>NICOBARS</td>\n",
       "      <td>2000</td>\n",
       "      <td>Whole Year</td>\n",
       "      <td>Cashewnut</td>\n",
       "      <td>720.0</td>\n",
       "      <td>165.0</td>\n",
       "    </tr>\n",
       "    <tr>\n",
       "      <th>...</th>\n",
       "      <td>...</td>\n",
       "      <td>...</td>\n",
       "      <td>...</td>\n",
       "      <td>...</td>\n",
       "      <td>...</td>\n",
       "      <td>...</td>\n",
       "      <td>...</td>\n",
       "    </tr>\n",
       "    <tr>\n",
       "      <th>246086</th>\n",
       "      <td>West Bengal</td>\n",
       "      <td>PURULIA</td>\n",
       "      <td>2014</td>\n",
       "      <td>Summer</td>\n",
       "      <td>Rice</td>\n",
       "      <td>306.0</td>\n",
       "      <td>801.0</td>\n",
       "    </tr>\n",
       "    <tr>\n",
       "      <th>246087</th>\n",
       "      <td>West Bengal</td>\n",
       "      <td>PURULIA</td>\n",
       "      <td>2014</td>\n",
       "      <td>Summer</td>\n",
       "      <td>Sesamum</td>\n",
       "      <td>627.0</td>\n",
       "      <td>463.0</td>\n",
       "    </tr>\n",
       "    <tr>\n",
       "      <th>246088</th>\n",
       "      <td>West Bengal</td>\n",
       "      <td>PURULIA</td>\n",
       "      <td>2014</td>\n",
       "      <td>Whole Year</td>\n",
       "      <td>Sugarcane</td>\n",
       "      <td>324.0</td>\n",
       "      <td>16250.0</td>\n",
       "    </tr>\n",
       "    <tr>\n",
       "      <th>246089</th>\n",
       "      <td>West Bengal</td>\n",
       "      <td>PURULIA</td>\n",
       "      <td>2014</td>\n",
       "      <td>Winter</td>\n",
       "      <td>Rice</td>\n",
       "      <td>279151.0</td>\n",
       "      <td>597899.0</td>\n",
       "    </tr>\n",
       "    <tr>\n",
       "      <th>246090</th>\n",
       "      <td>West Bengal</td>\n",
       "      <td>PURULIA</td>\n",
       "      <td>2014</td>\n",
       "      <td>Winter</td>\n",
       "      <td>Sesamum</td>\n",
       "      <td>175.0</td>\n",
       "      <td>88.0</td>\n",
       "    </tr>\n",
       "  </tbody>\n",
       "</table>\n",
       "<p>246091 rows × 7 columns</p>\n",
       "</div>"
      ],
      "text/plain": [
       "                         State_Name District_Name  Crop_Year       Season  \\\n",
       "0       Andaman and Nicobar Islands      NICOBARS       2000  Kharif        \n",
       "1       Andaman and Nicobar Islands      NICOBARS       2000  Kharif        \n",
       "2       Andaman and Nicobar Islands      NICOBARS       2000  Kharif        \n",
       "3       Andaman and Nicobar Islands      NICOBARS       2000  Whole Year    \n",
       "4       Andaman and Nicobar Islands      NICOBARS       2000  Whole Year    \n",
       "...                             ...           ...        ...          ...   \n",
       "246086                  West Bengal       PURULIA       2014  Summer        \n",
       "246087                  West Bengal       PURULIA       2014  Summer        \n",
       "246088                  West Bengal       PURULIA       2014  Whole Year    \n",
       "246089                  West Bengal       PURULIA       2014  Winter        \n",
       "246090                  West Bengal       PURULIA       2014  Winter        \n",
       "\n",
       "                       Crop      Area  Production  \n",
       "0                  Arecanut    1254.0      2000.0  \n",
       "1       Other Kharif pulses       2.0         1.0  \n",
       "2                      Rice     102.0       321.0  \n",
       "3                    Banana     176.0       641.0  \n",
       "4                 Cashewnut     720.0       165.0  \n",
       "...                     ...       ...         ...  \n",
       "246086                 Rice     306.0       801.0  \n",
       "246087              Sesamum     627.0       463.0  \n",
       "246088            Sugarcane     324.0     16250.0  \n",
       "246089                 Rice  279151.0    597899.0  \n",
       "246090              Sesamum     175.0        88.0  \n",
       "\n",
       "[246091 rows x 7 columns]"
      ]
     },
     "execution_count": 6,
     "metadata": {},
     "output_type": "execute_result"
    }
   ],
   "source": [
    "df"
   ]
  },
  {
   "cell_type": "code",
   "execution_count": 7,
   "metadata": {},
   "outputs": [
    {
     "data": {
      "text/plain": [
       "State_Name          0\n",
       "District_Name       0\n",
       "Crop_Year           0\n",
       "Season              0\n",
       "Crop                0\n",
       "Area                0\n",
       "Production       3730\n",
       "dtype: int64"
      ]
     },
     "execution_count": 7,
     "metadata": {},
     "output_type": "execute_result"
    }
   ],
   "source": [
    "df.isnull().sum()"
   ]
  },
  {
   "cell_type": "code",
   "execution_count": 8,
   "metadata": {},
   "outputs": [],
   "source": [
    "df.dropna(inplace=True)"
   ]
  },
  {
   "cell_type": "code",
   "execution_count": 9,
   "metadata": {},
   "outputs": [
    {
     "data": {
      "text/plain": [
       "State_Name       0\n",
       "District_Name    0\n",
       "Crop_Year        0\n",
       "Season           0\n",
       "Crop             0\n",
       "Area             0\n",
       "Production       0\n",
       "dtype: int64"
      ]
     },
     "execution_count": 9,
     "metadata": {},
     "output_type": "execute_result"
    }
   ],
   "source": [
    "df.isnull().sum()"
   ]
  },
  {
   "cell_type": "code",
   "execution_count": 10,
   "metadata": {},
   "outputs": [
    {
     "name": "stdout",
     "output_type": "stream",
     "text": [
      "<class 'pandas.core.frame.DataFrame'>\n",
      "Int64Index: 238838 entries, 0 to 246090\n",
      "Data columns (total 7 columns):\n",
      " #   Column         Non-Null Count   Dtype  \n",
      "---  ------         --------------   -----  \n",
      " 0   State_Name     238838 non-null  object \n",
      " 1   District_Name  238838 non-null  object \n",
      " 2   Crop_Year      238838 non-null  int64  \n",
      " 3   Season         238838 non-null  object \n",
      " 4   Crop           238838 non-null  object \n",
      " 5   Area           238838 non-null  float64\n",
      " 6   Production     238838 non-null  float64\n",
      "dtypes: float64(2), int64(1), object(4)\n",
      "memory usage: 14.6+ MB\n"
     ]
    }
   ],
   "source": [
    "df = df[df['Production'] !=0]\n",
    "df.info()"
   ]
  },
  {
   "cell_type": "code",
   "execution_count": 11,
   "metadata": {},
   "outputs": [
    {
     "name": "stdout",
     "output_type": "stream",
     "text": [
      "(238838, 7)\n",
      "(0, 6)\n"
     ]
    }
   ],
   "source": [
    "#Dropping Null values in production column\n",
    "data = df.dropna()\n",
    "print(data.shape)\n",
    "test = df[~df[\"Production\"].notna()].drop(\"Production\",axis=1)\n",
    "print(test.shape)"
   ]
  },
  {
   "cell_type": "code",
   "execution_count": 12,
   "metadata": {},
   "outputs": [
    {
     "data": {
      "text/html": [
       "<div>\n",
       "<style scoped>\n",
       "    .dataframe tbody tr th:only-of-type {\n",
       "        vertical-align: middle;\n",
       "    }\n",
       "\n",
       "    .dataframe tbody tr th {\n",
       "        vertical-align: top;\n",
       "    }\n",
       "\n",
       "    .dataframe thead th {\n",
       "        text-align: right;\n",
       "    }\n",
       "</style>\n",
       "<table border=\"1\" class=\"dataframe\">\n",
       "  <thead>\n",
       "    <tr style=\"text-align: right;\">\n",
       "      <th></th>\n",
       "      <th>State_Name</th>\n",
       "      <th>District_Name</th>\n",
       "      <th>Crop_Year</th>\n",
       "      <th>Season</th>\n",
       "      <th>Crop</th>\n",
       "      <th>Area</th>\n",
       "      <th>Production</th>\n",
       "    </tr>\n",
       "  </thead>\n",
       "  <tbody>\n",
       "    <tr>\n",
       "      <th>0</th>\n",
       "      <td>Andaman and Nicobar Islands</td>\n",
       "      <td>NICOBARS</td>\n",
       "      <td>2000</td>\n",
       "      <td>Kharif</td>\n",
       "      <td>Arecanut</td>\n",
       "      <td>1254.0</td>\n",
       "      <td>2000.0</td>\n",
       "    </tr>\n",
       "    <tr>\n",
       "      <th>1</th>\n",
       "      <td>Andaman and Nicobar Islands</td>\n",
       "      <td>NICOBARS</td>\n",
       "      <td>2000</td>\n",
       "      <td>Kharif</td>\n",
       "      <td>Other Kharif pulses</td>\n",
       "      <td>2.0</td>\n",
       "      <td>1.0</td>\n",
       "    </tr>\n",
       "    <tr>\n",
       "      <th>2</th>\n",
       "      <td>Andaman and Nicobar Islands</td>\n",
       "      <td>NICOBARS</td>\n",
       "      <td>2000</td>\n",
       "      <td>Kharif</td>\n",
       "      <td>Rice</td>\n",
       "      <td>102.0</td>\n",
       "      <td>321.0</td>\n",
       "    </tr>\n",
       "    <tr>\n",
       "      <th>3</th>\n",
       "      <td>Andaman and Nicobar Islands</td>\n",
       "      <td>NICOBARS</td>\n",
       "      <td>2000</td>\n",
       "      <td>Whole Year</td>\n",
       "      <td>Banana</td>\n",
       "      <td>176.0</td>\n",
       "      <td>641.0</td>\n",
       "    </tr>\n",
       "    <tr>\n",
       "      <th>4</th>\n",
       "      <td>Andaman and Nicobar Islands</td>\n",
       "      <td>NICOBARS</td>\n",
       "      <td>2000</td>\n",
       "      <td>Whole Year</td>\n",
       "      <td>Cashewnut</td>\n",
       "      <td>720.0</td>\n",
       "      <td>165.0</td>\n",
       "    </tr>\n",
       "    <tr>\n",
       "      <th>...</th>\n",
       "      <td>...</td>\n",
       "      <td>...</td>\n",
       "      <td>...</td>\n",
       "      <td>...</td>\n",
       "      <td>...</td>\n",
       "      <td>...</td>\n",
       "      <td>...</td>\n",
       "    </tr>\n",
       "    <tr>\n",
       "      <th>246086</th>\n",
       "      <td>West Bengal</td>\n",
       "      <td>PURULIA</td>\n",
       "      <td>2014</td>\n",
       "      <td>Summer</td>\n",
       "      <td>Rice</td>\n",
       "      <td>306.0</td>\n",
       "      <td>801.0</td>\n",
       "    </tr>\n",
       "    <tr>\n",
       "      <th>246087</th>\n",
       "      <td>West Bengal</td>\n",
       "      <td>PURULIA</td>\n",
       "      <td>2014</td>\n",
       "      <td>Summer</td>\n",
       "      <td>Sesamum</td>\n",
       "      <td>627.0</td>\n",
       "      <td>463.0</td>\n",
       "    </tr>\n",
       "    <tr>\n",
       "      <th>246088</th>\n",
       "      <td>West Bengal</td>\n",
       "      <td>PURULIA</td>\n",
       "      <td>2014</td>\n",
       "      <td>Whole Year</td>\n",
       "      <td>Sugarcane</td>\n",
       "      <td>324.0</td>\n",
       "      <td>16250.0</td>\n",
       "    </tr>\n",
       "    <tr>\n",
       "      <th>246089</th>\n",
       "      <td>West Bengal</td>\n",
       "      <td>PURULIA</td>\n",
       "      <td>2014</td>\n",
       "      <td>Winter</td>\n",
       "      <td>Rice</td>\n",
       "      <td>279151.0</td>\n",
       "      <td>597899.0</td>\n",
       "    </tr>\n",
       "    <tr>\n",
       "      <th>246090</th>\n",
       "      <td>West Bengal</td>\n",
       "      <td>PURULIA</td>\n",
       "      <td>2014</td>\n",
       "      <td>Winter</td>\n",
       "      <td>Sesamum</td>\n",
       "      <td>175.0</td>\n",
       "      <td>88.0</td>\n",
       "    </tr>\n",
       "  </tbody>\n",
       "</table>\n",
       "<p>238838 rows × 7 columns</p>\n",
       "</div>"
      ],
      "text/plain": [
       "                         State_Name District_Name  Crop_Year       Season  \\\n",
       "0       Andaman and Nicobar Islands      NICOBARS       2000  Kharif        \n",
       "1       Andaman and Nicobar Islands      NICOBARS       2000  Kharif        \n",
       "2       Andaman and Nicobar Islands      NICOBARS       2000  Kharif        \n",
       "3       Andaman and Nicobar Islands      NICOBARS       2000  Whole Year    \n",
       "4       Andaman and Nicobar Islands      NICOBARS       2000  Whole Year    \n",
       "...                             ...           ...        ...          ...   \n",
       "246086                  West Bengal       PURULIA       2014  Summer        \n",
       "246087                  West Bengal       PURULIA       2014  Summer        \n",
       "246088                  West Bengal       PURULIA       2014  Whole Year    \n",
       "246089                  West Bengal       PURULIA       2014  Winter        \n",
       "246090                  West Bengal       PURULIA       2014  Winter        \n",
       "\n",
       "                       Crop      Area  Production  \n",
       "0                  Arecanut    1254.0      2000.0  \n",
       "1       Other Kharif pulses       2.0         1.0  \n",
       "2                      Rice     102.0       321.0  \n",
       "3                    Banana     176.0       641.0  \n",
       "4                 Cashewnut     720.0       165.0  \n",
       "...                     ...       ...         ...  \n",
       "246086                 Rice     306.0       801.0  \n",
       "246087              Sesamum     627.0       463.0  \n",
       "246088            Sugarcane     324.0     16250.0  \n",
       "246089                 Rice  279151.0    597899.0  \n",
       "246090              Sesamum     175.0        88.0  \n",
       "\n",
       "[238838 rows x 7 columns]"
      ]
     },
     "execution_count": 12,
     "metadata": {},
     "output_type": "execute_result"
    }
   ],
   "source": [
    "data"
   ]
  },
  {
   "cell_type": "code",
   "execution_count": 13,
   "metadata": {},
   "outputs": [
    {
     "data": {
      "text/html": [
       "<div>\n",
       "<style scoped>\n",
       "    .dataframe tbody tr th:only-of-type {\n",
       "        vertical-align: middle;\n",
       "    }\n",
       "\n",
       "    .dataframe tbody tr th {\n",
       "        vertical-align: top;\n",
       "    }\n",
       "\n",
       "    .dataframe thead th {\n",
       "        text-align: right;\n",
       "    }\n",
       "</style>\n",
       "<table border=\"1\" class=\"dataframe\">\n",
       "  <thead>\n",
       "    <tr style=\"text-align: right;\">\n",
       "      <th></th>\n",
       "      <th>State_Name</th>\n",
       "      <th>District_Name</th>\n",
       "      <th>Crop_Year</th>\n",
       "      <th>Season</th>\n",
       "      <th>Crop</th>\n",
       "      <th>Area</th>\n",
       "    </tr>\n",
       "  </thead>\n",
       "  <tbody>\n",
       "  </tbody>\n",
       "</table>\n",
       "</div>"
      ],
      "text/plain": [
       "Empty DataFrame\n",
       "Columns: [State_Name, District_Name, Crop_Year, Season, Crop, Area]\n",
       "Index: []"
      ]
     },
     "execution_count": 13,
     "metadata": {},
     "output_type": "execute_result"
    }
   ],
   "source": [
    "test"
   ]
  },
  {
   "cell_type": "code",
   "execution_count": 14,
   "metadata": {},
   "outputs": [
    {
     "data": {
      "text/html": [
       "<div>\n",
       "<style scoped>\n",
       "    .dataframe tbody tr th:only-of-type {\n",
       "        vertical-align: middle;\n",
       "    }\n",
       "\n",
       "    .dataframe tbody tr th {\n",
       "        vertical-align: top;\n",
       "    }\n",
       "\n",
       "    .dataframe thead th {\n",
       "        text-align: right;\n",
       "    }\n",
       "</style>\n",
       "<table border=\"1\" class=\"dataframe\">\n",
       "  <thead>\n",
       "    <tr style=\"text-align: right;\">\n",
       "      <th></th>\n",
       "      <th>State_Name</th>\n",
       "      <th>District_Name</th>\n",
       "      <th>Crop_Year</th>\n",
       "      <th>Season</th>\n",
       "      <th>Crop</th>\n",
       "      <th>Area</th>\n",
       "      <th>Production</th>\n",
       "      <th>percent_of_production</th>\n",
       "    </tr>\n",
       "  </thead>\n",
       "  <tbody>\n",
       "    <tr>\n",
       "      <th>0</th>\n",
       "      <td>Andaman and Nicobar Islands</td>\n",
       "      <td>NICOBARS</td>\n",
       "      <td>2000</td>\n",
       "      <td>Kharif</td>\n",
       "      <td>Arecanut</td>\n",
       "      <td>1254.0</td>\n",
       "      <td>2000.0</td>\n",
       "      <td>1.416670e-06</td>\n",
       "    </tr>\n",
       "    <tr>\n",
       "      <th>1</th>\n",
       "      <td>Andaman and Nicobar Islands</td>\n",
       "      <td>NICOBARS</td>\n",
       "      <td>2000</td>\n",
       "      <td>Kharif</td>\n",
       "      <td>Other Kharif pulses</td>\n",
       "      <td>2.0</td>\n",
       "      <td>1.0</td>\n",
       "      <td>7.083351e-10</td>\n",
       "    </tr>\n",
       "    <tr>\n",
       "      <th>2</th>\n",
       "      <td>Andaman and Nicobar Islands</td>\n",
       "      <td>NICOBARS</td>\n",
       "      <td>2000</td>\n",
       "      <td>Kharif</td>\n",
       "      <td>Rice</td>\n",
       "      <td>102.0</td>\n",
       "      <td>321.0</td>\n",
       "      <td>2.273756e-07</td>\n",
       "    </tr>\n",
       "    <tr>\n",
       "      <th>3</th>\n",
       "      <td>Andaman and Nicobar Islands</td>\n",
       "      <td>NICOBARS</td>\n",
       "      <td>2000</td>\n",
       "      <td>Whole Year</td>\n",
       "      <td>Banana</td>\n",
       "      <td>176.0</td>\n",
       "      <td>641.0</td>\n",
       "      <td>4.540428e-07</td>\n",
       "    </tr>\n",
       "    <tr>\n",
       "      <th>4</th>\n",
       "      <td>Andaman and Nicobar Islands</td>\n",
       "      <td>NICOBARS</td>\n",
       "      <td>2000</td>\n",
       "      <td>Whole Year</td>\n",
       "      <td>Cashewnut</td>\n",
       "      <td>720.0</td>\n",
       "      <td>165.0</td>\n",
       "      <td>1.168753e-07</td>\n",
       "    </tr>\n",
       "  </tbody>\n",
       "</table>\n",
       "</div>"
      ],
      "text/plain": [
       "                    State_Name District_Name  Crop_Year       Season  \\\n",
       "0  Andaman and Nicobar Islands      NICOBARS       2000  Kharif        \n",
       "1  Andaman and Nicobar Islands      NICOBARS       2000  Kharif        \n",
       "2  Andaman and Nicobar Islands      NICOBARS       2000  Kharif        \n",
       "3  Andaman and Nicobar Islands      NICOBARS       2000  Whole Year    \n",
       "4  Andaman and Nicobar Islands      NICOBARS       2000  Whole Year    \n",
       "\n",
       "                  Crop    Area  Production  percent_of_production  \n",
       "0             Arecanut  1254.0      2000.0           1.416670e-06  \n",
       "1  Other Kharif pulses     2.0         1.0           7.083351e-10  \n",
       "2                 Rice   102.0       321.0           2.273756e-07  \n",
       "3               Banana   176.0       641.0           4.540428e-07  \n",
       "4            Cashewnut   720.0       165.0           1.168753e-07  "
      ]
     },
     "execution_count": 14,
     "metadata": {},
     "output_type": "execute_result"
    }
   ],
   "source": [
    "sum_maxp = data[\"Production\"].sum()\n",
    "data[\"percent_of_production\"] = data[\"Production\"].map(lambda x:(x/sum_maxp)*100)\n",
    "data[:5]"
   ]
  },
  {
   "cell_type": "markdown",
   "metadata": {},
   "source": [
    "DATA VISUALISATION"
   ]
  },
  {
   "cell_type": "code",
   "execution_count": 15,
   "metadata": {},
   "outputs": [],
   "source": [
    "import plotly.express as px ## Visualization\n",
    "import plotly.graph_objects as go ## Visualization\n",
    "import matplotlib.pyplot as plt ## Visualization\n",
    "import plotly as py ## Visuaization\n",
    "from plotly import tools ## Visualization\n",
    "\n",
    "import os\n",
    "import plotly.subplots"
   ]
  },
  {
   "cell_type": "code",
   "execution_count": 16,
   "metadata": {},
   "outputs": [
    {
     "data": {
      "text/plain": [
       "<AxesSubplot:xlabel='Crop_Year', ylabel='Production'>"
      ]
     },
     "execution_count": 16,
     "metadata": {},
     "output_type": "execute_result"
    },
    {
     "data": {
      "image/png": "[encoded data removed]",
      "text/plain": [
       "<Figure size 640x480 with 1 Axes>"
      ]
     },
     "metadata": {},
     "output_type": "display_data"
    }
   ],
   "source": [
    "sns.lineplot(x=data[\"Crop_Year\"],y=data[\"Production\"],color='red')"
   ]
  },
  {
   "cell_type": "code",
   "execution_count": 17,
   "metadata": {},
   "outputs": [
    {
     "data": {
      "text/plain": [
       "(array([ 0,  1,  2,  3,  4,  5,  6,  7,  8,  9, 10, 11, 12, 13, 14, 15, 16,\n",
       "        17, 18, 19, 20, 21, 22, 23, 24, 25, 26, 27, 28, 29, 30, 31, 32]),\n",
       " [Text(0, 0, 'Andaman and Nicobar Islands'),\n",
       "  Text(1, 0, 'Andhra Pradesh'),\n",
       "  Text(2, 0, 'Arunachal Pradesh'),\n",
       "  Text(3, 0, 'Assam'),\n",
       "  Text(4, 0, 'Bihar'),\n",
       "  Text(5, 0, 'Chandigarh'),\n",
       "  Text(6, 0, 'Chhattisgarh'),\n",
       "  Text(7, 0, 'Dadra and Nagar Haveli'),\n",
       "  Text(8, 0, 'Goa'),\n",
       "  Text(9, 0, 'Gujarat'),\n",
       "  Text(10, 0, 'Haryana'),\n",
       "  Text(11, 0, 'Himachal Pradesh'),\n",
       "  Text(12, 0, 'Jammu and Kashmir '),\n",
       "  Text(13, 0, 'Jharkhand'),\n",
       "  Text(14, 0, 'Karnataka'),\n",
       "  Text(15, 0, 'Kerala'),\n",
       "  Text(16, 0, 'Madhya Pradesh'),\n",
       "  Text(17, 0, 'Maharashtra'),\n",
       "  Text(18, 0, 'Manipur'),\n",
       "  Text(19, 0, 'Meghalaya'),\n",
       "  Text(20, 0, 'Mizoram'),\n",
       "  Text(21, 0, 'Nagaland'),\n",
       "  Text(22, 0, 'Odisha'),\n",
       "  Text(23, 0, 'Puducherry'),\n",
       "  Text(24, 0, 'Punjab'),\n",
       "  Text(25, 0, 'Rajasthan'),\n",
       "  Text(26, 0, 'Sikkim'),\n",
       "  Text(27, 0, 'Tamil Nadu'),\n",
       "  Text(28, 0, 'Telangana '),\n",
       "  Text(29, 0, 'Tripura'),\n",
       "  Text(30, 0, 'Uttar Pradesh'),\n",
       "  Text(31, 0, 'Uttarakhand'),\n",
       "  Text(32, 0, 'West Bengal')])"
      ]
     },
     "execution_count": 17,
     "metadata": {},
     "output_type": "execute_result"
    },
    {
     "data": {
      "image/png": "[encoded data removed]",
      "text/plain": [
       "<Figure size 2500x1000 with 1 Axes>"
      ]
     },
     "metadata": {},
     "output_type": "display_data"
    }
   ],
   "source": [
    "color = ['pink','skyblue','blue','orange','navy','violet','red',]\n",
    "\n",
    "plt.figure(figsize=(25,10))\n",
    "sns.barplot(x=data[\"State_Name\"],y=data[\"Production\"],palette=color)\n",
    "plt.xticks(rotation=90)"
   ]
  },
  {
   "cell_type": "code",
   "execution_count": 18,
   "metadata": {},
   "outputs": [
    {
     "data": {
      "text/plain": [
       "<AxesSubplot:xlabel='Season', ylabel='Production'>"
      ]
     },
     "execution_count": 18,
     "metadata": {},
     "output_type": "execute_result"
    },
    {
     "data": {
      "image/png": "[encoded data removed]",
      "text/plain": [
       "<Figure size 640x480 with 1 Axes>"
      ]
     },
     "metadata": {},
     "output_type": "display_data"
    }
   ],
   "source": [
    "color=['darkgreen','pink','brown','navy']\n",
    "sns.barplot(x=data[\"Season\"],y=data[\"Production\"],palette=color)"
   ]
  },
  {
   "cell_type": "code",
   "execution_count": 19,
   "metadata": {},
   "outputs": [
    {
     "data": {
      "text/html": [
       "<div>\n",
       "<style scoped>\n",
       "    .dataframe tbody tr th:only-of-type {\n",
       "        vertical-align: middle;\n",
       "    }\n",
       "\n",
       "    .dataframe tbody tr th {\n",
       "        vertical-align: top;\n",
       "    }\n",
       "\n",
       "    .dataframe thead th {\n",
       "        text-align: right;\n",
       "    }\n",
       "</style>\n",
       "<table border=\"1\" class=\"dataframe\">\n",
       "  <thead>\n",
       "    <tr style=\"text-align: right;\">\n",
       "      <th></th>\n",
       "      <th>Production</th>\n",
       "    </tr>\n",
       "    <tr>\n",
       "      <th>Season</th>\n",
       "      <th></th>\n",
       "    </tr>\n",
       "  </thead>\n",
       "  <tbody>\n",
       "    <tr>\n",
       "      <th>Autumn</th>\n",
       "      <td>6.441377e+07</td>\n",
       "    </tr>\n",
       "    <tr>\n",
       "      <th>Kharif</th>\n",
       "      <td>4.029970e+09</td>\n",
       "    </tr>\n",
       "    <tr>\n",
       "      <th>Rabi</th>\n",
       "      <td>2.051688e+09</td>\n",
       "    </tr>\n",
       "    <tr>\n",
       "      <th>Summer</th>\n",
       "      <td>1.706579e+08</td>\n",
       "    </tr>\n",
       "    <tr>\n",
       "      <th>Whole Year</th>\n",
       "      <td>1.344248e+11</td>\n",
       "    </tr>\n",
       "    <tr>\n",
       "      <th>Winter</th>\n",
       "      <td>4.345498e+08</td>\n",
       "    </tr>\n",
       "  </tbody>\n",
       "</table>\n",
       "</div>"
      ],
      "text/plain": [
       "               Production\n",
       "Season                   \n",
       "Autumn       6.441377e+07\n",
       "Kharif       4.029970e+09\n",
       "Rabi         2.051688e+09\n",
       "Summer       1.706579e+08\n",
       "Whole Year   1.344248e+11\n",
       "Winter       4.345498e+08"
      ]
     },
     "execution_count": 19,
     "metadata": {},
     "output_type": "execute_result"
    }
   ],
   "source": [
    "data.groupby(\"Season\",axis=0).agg({\"Production\":np.sum})"
   ]
  },
  {
   "cell_type": "code",
   "execution_count": 20,
   "metadata": {},
   "outputs": [
    {
     "data": {
      "text/plain": [
       "Rice                 15078\n",
       "Maize                13723\n",
       "Moong(Green Gram)    10037\n",
       "Urad                  9669\n",
       "Groundnut             8732\n",
       "Name: Crop, dtype: int64"
      ]
     },
     "execution_count": 20,
     "metadata": {},
     "output_type": "execute_result"
    }
   ],
   "source": [
    "data[\"Crop\"].value_counts()[:5]"
   ]
  },
  {
   "cell_type": "code",
   "execution_count": 21,
   "metadata": {},
   "outputs": [
    {
     "data": {
      "text/html": [
       "<div>\n",
       "<style scoped>\n",
       "    .dataframe tbody tr th:only-of-type {\n",
       "        vertical-align: middle;\n",
       "    }\n",
       "\n",
       "    .dataframe tbody tr th {\n",
       "        vertical-align: top;\n",
       "    }\n",
       "\n",
       "    .dataframe thead th {\n",
       "        text-align: right;\n",
       "    }\n",
       "</style>\n",
       "<table border=\"1\" class=\"dataframe\">\n",
       "  <thead>\n",
       "    <tr style=\"text-align: right;\">\n",
       "      <th></th>\n",
       "      <th>Crop</th>\n",
       "      <th>Production</th>\n",
       "    </tr>\n",
       "  </thead>\n",
       "  <tbody>\n",
       "    <tr>\n",
       "      <th>24</th>\n",
       "      <td>Coconut</td>\n",
       "      <td>1.299816e+11</td>\n",
       "    </tr>\n",
       "    <tr>\n",
       "      <th>90</th>\n",
       "      <td>Sugarcane</td>\n",
       "      <td>5.535682e+09</td>\n",
       "    </tr>\n",
       "    <tr>\n",
       "      <th>80</th>\n",
       "      <td>Rice</td>\n",
       "      <td>1.605470e+09</td>\n",
       "    </tr>\n",
       "    <tr>\n",
       "      <th>102</th>\n",
       "      <td>Wheat</td>\n",
       "      <td>1.332826e+09</td>\n",
       "    </tr>\n",
       "    <tr>\n",
       "      <th>74</th>\n",
       "      <td>Potato</td>\n",
       "      <td>4.248263e+08</td>\n",
       "    </tr>\n",
       "  </tbody>\n",
       "</table>\n",
       "</div>"
      ],
      "text/plain": [
       "          Crop    Production\n",
       "24    Coconut   1.299816e+11\n",
       "90   Sugarcane  5.535682e+09\n",
       "80        Rice  1.605470e+09\n",
       "102      Wheat  1.332826e+09\n",
       "74      Potato  4.248263e+08"
      ]
     },
     "execution_count": 21,
     "metadata": {},
     "output_type": "execute_result"
    }
   ],
   "source": [
    "top_crop_pro = data.groupby(\"Crop\")[\"Production\"].sum().reset_index().sort_values(by='Production',ascending=False)\n",
    "top_crop_pro[:5]"
   ]
  },
  {
   "cell_type": "code",
   "execution_count": 22,
   "metadata": {},
   "outputs": [
    {
     "data": {
      "application/vnd.plotly.v1+json": {
       "config": {
        "plotlyServerURL": "https://plotly.com"
       },
       "data": [
        {
         "alignmentgroup": "True",
         "hovertemplate": "State_Name=%{x}<br>Production=%{y}<extra></extra>",
         "legendgroup": "",
         "marker": {
          "color": "#636efa",
          "pattern": {
           "shape": ""
          }
         },
         "name": "",
         "offsetgroup": "",
         "orientation": "v",
         "showlegend": false,
         "textposition": "auto",
         "type": "bar",
         "x": [
          "Chandigarh",
          "Mizoram",
          "Dadra and Nagar Haveli",
          "Sikkim",
          "Manipur",
          "Arunachal Pradesh",
          "Jharkhand",
          "Meghalaya",
          "Tripura",
          "Nagaland",
          "Jammu and Kashmir ",
          "Himachal Pradesh",
          "Chhattisgarh",
          "Uttarakhand",
          "Odisha",
          "Rajasthan",
          "Telangana ",
          "Bihar",
          "Haryana",
          "Puducherry",
          "Madhya Pradesh",
          "Goa",
          "Gujarat",
          "Punjab",
          "Andaman and Nicobar Islands",
          "Karnataka",
          "Maharashtra",
          "West Bengal",
          "Assam",
          "Uttar Pradesh",
          "Tamil Nadu",
          "Andhra Pradesh",
          "Kerala"
         ],
         "xaxis": "x",
         "y": [
          63956.5,
          1661539.83,
          1847871,
          2435735,
          5230917,
          6823912.6,
          10777741.75,
          12112496,
          12522917,
          12765950,
          13291015.7,
          17805168.6,
          100951908.01,
          132177355,
          160904070.1,
          281320270.5,
          335147930,
          366483596.66,
          381273890,
          384724502,
          448840738.66,
          505755757.58,
          524291337,
          586385001,
          718223239.99,
          863429811.68,
          1263640606.2,
          1397904389.7,
          2111751759,
          3234492662.7,
          12076443048.93,
          17324590296,
          97880045375.7
         ],
         "yaxis": "y"
        }
       ],
       "layout": {
        "barmode": "relative",
        "legend": {
         "tracegroupgap": 0
        },
        "margin": {
         "t": 60
        },
        "template": {
         "data": {
          "bar": [
           {
            "error_x": {
             "color": "#2a3f5f"
            },
            "error_y": {
             "color": "#2a3f5f"
            },
            "marker": {
             "line": {
              "color": "#E5ECF6",
              "width": 0.5
             },
             "pattern": {
              "fillmode": "overlay",
              "size": 10,
              "solidity": 0.2
             }
            },
            "type": "bar"
           }
          ],
          "barpolar": [
           {
            "marker": {
             "line": {
              "color": "#E5ECF6",
              "width": 0.5
             },
             "pattern": {
              "fillmode": "overlay",
              "size": 10,
              "solidity": 0.2
             }
            },
            "type": "barpolar"
           }
          ],
          "carpet": [
           {
            "aaxis": {
             "endlinecolor": "#2a3f5f",
             "gridcolor": "white",
             "linecolor": "white",
             "minorgridcolor": "white",
             "startlinecolor": "#2a3f5f"
            },
            "baxis": {
             "endlinecolor": "#2a3f5f",
             "gridcolor": "white",
             "linecolor": "white",
             "minorgridcolor": "white",
             "startlinecolor": "#2a3f5f"
            },
            "type": "carpet"
           }
          ],
          "choropleth": [
           {
            "colorbar": {
             "outlinewidth": 0,
             "ticks": ""
            },
            "type": "choropleth"
           }
          ],
          "contour": [
           {
            "colorbar": {
             "outlinewidth": 0,
             "ticks": ""
            },
            "colorscale": [
             [
              0,
              "#0d0887"
             ],
             [
              0.1111111111111111,
              "#46039f"
             ],
             [
              0.2222222222222222,
              "#7201a8"
             ],
             [
              0.3333333333333333,
              "#9c179e"
             ],
             [
              0.4444444444444444,
              "#bd3786"
             ],
             [
              0.5555555555555556,
              "#d8576b"
             ],
             [
              0.6666666666666666,
              "#ed7953"
             ],
             [
              0.7777777777777778,
              "#fb9f3a"
             ],
             [
              0.8888888888888888,
              "#fdca26"
             ],
             [
              1,
              "#f0f921"
             ]
            ],
            "type": "contour"
           }
          ],
          "contourcarpet": [
           {
            "colorbar": {
             "outlinewidth": 0,
             "ticks": ""
            },
            "type": "contourcarpet"
           }
          ],
          "heatmap": [
           {
            "colorbar": {
             "outlinewidth": 0,
             "ticks": ""
            },
            "colorscale": [
             [
              0,
              "#0d0887"
             ],
             [
              0.1111111111111111,
              "#46039f"
             ],
             [
              0.2222222222222222,
              "#7201a8"
             ],
             [
              0.3333333333333333,
              "#9c179e"
             ],
             [
              0.4444444444444444,
              "#bd3786"
             ],
             [
              0.5555555555555556,
              "#d8576b"
             ],
             [
              0.6666666666666666,
              "#ed7953"
             ],
             [
              0.7777777777777778,
              "#fb9f3a"
             ],
             [
              0.8888888888888888,
              "#fdca26"
             ],
             [
              1,
              "#f0f921"
             ]
            ],
            "type": "heatmap"
           }
          ],
          "heatmapgl": [
           {
            "colorbar": {
             "outlinewidth": 0,
             "ticks": ""
            },
            "colorscale": [
             [
              0,
              "#0d0887"
             ],
             [
              0.1111111111111111,
              "#46039f"
             ],
             [
              0.2222222222222222,
              "#7201a8"
             ],
             [
              0.3333333333333333,
              "#9c179e"
             ],
             [
              0.4444444444444444,
              "#bd3786"
             ],
             [
              0.5555555555555556,
              "#d8576b"
             ],
             [
              0.6666666666666666,
              "#ed7953"
             ],
             [
              0.7777777777777778,
              "#fb9f3a"
             ],
             [
              0.8888888888888888,
              "#fdca26"
             ],
             [
              1,
              "#f0f921"
             ]
            ],
            "type": "heatmapgl"
           }
          ],
          "histogram": [
           {
            "marker": {
             "pattern": {
              "fillmode": "overlay",
              "size": 10,
              "solidity": 0.2
             }
            },
            "type": "histogram"
           }
          ],
          "histogram2d": [
           {
            "colorbar": {
             "outlinewidth": 0,
             "ticks": ""
            },
            "colorscale": [
             [
              0,
              "#0d0887"
             ],
             [
              0.1111111111111111,
              "#46039f"
             ],
             [
              0.2222222222222222,
              "#7201a8"
             ],
             [
              0.3333333333333333,
              "#9c179e"
             ],
             [
              0.4444444444444444,
              "#bd3786"
             ],
             [
              0.5555555555555556,
              "#d8576b"
             ],
             [
              0.6666666666666666,
              "#ed7953"
             ],
             [
              0.7777777777777778,
              "#fb9f3a"
             ],
             [
              0.8888888888888888,
              "#fdca26"
             ],
             [
              1,
              "#f0f921"
             ]
            ],
            "type": "histogram2d"
           }
          ],
          "histogram2dcontour": [
           {
            "colorbar": {
             "outlinewidth": 0,
             "ticks": ""
            },
            "colorscale": [
             [
              0,
              "#0d0887"
             ],
             [
              0.1111111111111111,
              "#46039f"
             ],
             [
              0.2222222222222222,
              "#7201a8"
             ],
             [
              0.3333333333333333,
              "#9c179e"
             ],
             [
              0.4444444444444444,
              "#bd3786"
             ],
             [
              0.5555555555555556,
              "#d8576b"
             ],
             [
              0.6666666666666666,
              "#ed7953"
             ],
             [
              0.7777777777777778,
              "#fb9f3a"
             ],
             [
              0.8888888888888888,
              "#fdca26"
             ],
             [
              1,
              "#f0f921"
             ]
            ],
            "type": "histogram2dcontour"
           }
          ],
          "mesh3d": [
           {
            "colorbar": {
             "outlinewidth": 0,
             "ticks": ""
            },
            "type": "mesh3d"
           }
          ],
          "parcoords": [
           {
            "line": {
             "colorbar": {
              "outlinewidth": 0,
              "ticks": ""
             }
            },
            "type": "parcoords"
           }
          ],
          "pie": [
           {
            "automargin": true,
            "type": "pie"
           }
          ],
          "scatter": [
           {
            "fillpattern": {
             "fillmode": "overlay",
             "size": 10,
             "solidity": 0.2
            },
            "type": "scatter"
           }
          ],
          "scatter3d": [
           {
            "line": {
             "colorbar": {
              "outlinewidth": 0,
              "ticks": ""
             }
            },
            "marker": {
             "colorbar": {
              "outlinewidth": 0,
              "ticks": ""
             }
            },
            "type": "scatter3d"
           }
          ],
          "scattercarpet": [
           {
            "marker": {
             "colorbar": {
              "outlinewidth": 0,
              "ticks": ""
             }
            },
            "type": "scattercarpet"
           }
          ],
          "scattergeo": [
           {
            "marker": {
             "colorbar": {
              "outlinewidth": 0,
              "ticks": ""
             }
            },
            "type": "scattergeo"
           }
          ],
          "scattergl": [
           {
            "marker": {
             "colorbar": {
              "outlinewidth": 0,
              "ticks": ""
             }
            },
            "type": "scattergl"
           }
          ],
          "scattermapbox": [
           {
            "marker": {
             "colorbar": {
              "outlinewidth": 0,
              "ticks": ""
             }
            },
            "type": "scattermapbox"
           }
          ],
          "scatterpolar": [
           {
            "marker": {
             "colorbar": {
              "outlinewidth": 0,
              "ticks": ""
             }
            },
            "type": "scatterpolar"
           }
          ],
          "scatterpolargl": [
           {
            "marker": {
             "colorbar": {
              "outlinewidth": 0,
              "ticks": ""
             }
            },
            "type": "scatterpolargl"
           }
          ],
          "scatterternary": [
           {
            "marker": {
             "colorbar": {
              "outlinewidth": 0,
              "ticks": ""
             }
            },
            "type": "scatterternary"
           }
          ],
          "surface": [
           {
            "colorbar": {
             "outlinewidth": 0,
             "ticks": ""
            },
            "colorscale": [
             [
              0,
              "#0d0887"
             ],
             [
              0.1111111111111111,
              "#46039f"
             ],
             [
              0.2222222222222222,
              "#7201a8"
             ],
             [
              0.3333333333333333,
              "#9c179e"
             ],
             [
              0.4444444444444444,
              "#bd3786"
             ],
             [
              0.5555555555555556,
              "#d8576b"
             ],
             [
              0.6666666666666666,
              "#ed7953"
             ],
             [
              0.7777777777777778,
              "#fb9f3a"
             ],
             [
              0.8888888888888888,
              "#fdca26"
             ],
             [
              1,
              "#f0f921"
             ]
            ],
            "type": "surface"
           }
          ],
          "table": [
           {
            "cells": {
             "fill": {
              "color": "#EBF0F8"
             },
             "line": {
              "color": "white"
             }
            },
            "header": {
             "fill": {
              "color": "#C8D4E3"
             },
             "line": {
              "color": "white"
             }
            },
            "type": "table"
           }
          ]
         },
         "layout": {
          "annotationdefaults": {
           "arrowcolor": "#2a3f5f",
           "arrowhead": 0,
           "arrowwidth": 1
          },
          "autotypenumbers": "strict",
          "coloraxis": {
           "colorbar": {
            "outlinewidth": 0,
            "ticks": ""
           }
          },
          "colorscale": {
           "diverging": [
            [
             0,
             "#8e0152"
            ],
            [
             0.1,
             "#c51b7d"
            ],
            [
             0.2,
             "#de77ae"
            ],
            [
             0.3,
             "#f1b6da"
            ],
            [
             0.4,
             "#fde0ef"
            ],
            [
             0.5,
             "#f7f7f7"
            ],
            [
             0.6,
             "#e6f5d0"
            ],
            [
             0.7,
             "#b8e186"
            ],
            [
             0.8,
             "#7fbc41"
            ],
            [
             0.9,
             "#4d9221"
            ],
            [
             1,
             "#276419"
            ]
           ],
           "sequential": [
            [
             0,
             "#0d0887"
            ],
            [
             0.1111111111111111,
             "#46039f"
            ],
            [
             0.2222222222222222,
             "#7201a8"
            ],
            [
             0.3333333333333333,
             "#9c179e"
            ],
            [
             0.4444444444444444,
             "#bd3786"
            ],
            [
             0.5555555555555556,
             "#d8576b"
            ],
            [
             0.6666666666666666,
             "#ed7953"
            ],
            [
             0.7777777777777778,
             "#fb9f3a"
            ],
            [
             0.8888888888888888,
             "#fdca26"
            ],
            [
             1,
             "#f0f921"
            ]
           ],
           "sequentialminus": [
            [
             0,
             "#0d0887"
            ],
            [
             0.1111111111111111,
             "#46039f"
            ],
            [
             0.2222222222222222,
             "#7201a8"
            ],
            [
             0.3333333333333333,
             "#9c179e"
            ],
            [
             0.4444444444444444,
             "#bd3786"
            ],
            [
             0.5555555555555556,
             "#d8576b"
            ],
            [
             0.6666666666666666,
             "#ed7953"
            ],
            [
             0.7777777777777778,
             "#fb9f3a"
            ],
            [
             0.8888888888888888,
             "#fdca26"
            ],
            [
             1,
             "#f0f921"
            ]
           ]
          },
          "colorway": [
           "#636efa",
           "#EF553B",
           "#00cc96",
           "#ab63fa",
           "#FFA15A",
           "#19d3f3",
           "#FF6692",
           "#B6E880",
           "#FF97FF",
           "#FECB52"
          ],
          "font": {
           "color": "#2a3f5f"
          },
          "geo": {
           "bgcolor": "white",
           "lakecolor": "white",
           "landcolor": "#E5ECF6",
           "showlakes": true,
           "showland": true,
           "subunitcolor": "white"
          },
          "hoverlabel": {
           "align": "left"
          },
          "hovermode": "closest",
          "mapbox": {
           "style": "light"
          },
          "paper_bgcolor": "white",
          "plot_bgcolor": "#E5ECF6",
          "polar": {
           "angularaxis": {
            "gridcolor": "white",
            "linecolor": "white",
            "ticks": ""
           },
           "bgcolor": "#E5ECF6",
           "radialaxis": {
            "gridcolor": "white",
            "linecolor": "white",
            "ticks": ""
           }
          },
          "scene": {
           "xaxis": {
            "backgroundcolor": "#E5ECF6",
            "gridcolor": "white",
            "gridwidth": 2,
            "linecolor": "white",
            "showbackground": true,
            "ticks": "",
            "zerolinecolor": "white"
           },
           "yaxis": {
            "backgroundcolor": "#E5ECF6",
            "gridcolor": "white",
            "gridwidth": 2,
            "linecolor": "white",
            "showbackground": true,
            "ticks": "",
            "zerolinecolor": "white"
           },
           "zaxis": {
            "backgroundcolor": "#E5ECF6",
            "gridcolor": "white",
            "gridwidth": 2,
            "linecolor": "white",
            "showbackground": true,
            "ticks": "",
            "zerolinecolor": "white"
           }
          },
          "shapedefaults": {
           "line": {
            "color": "#2a3f5f"
           }
          },
          "ternary": {
           "aaxis": {
            "gridcolor": "white",
            "linecolor": "white",
            "ticks": ""
           },
           "baxis": {
            "gridcolor": "white",
            "linecolor": "white",
            "ticks": ""
           },
           "bgcolor": "#E5ECF6",
           "caxis": {
            "gridcolor": "white",
            "linecolor": "white",
            "ticks": ""
           }
          },
          "title": {
           "x": 0.05
          },
          "xaxis": {
           "automargin": true,
           "gridcolor": "white",
           "linecolor": "white",
           "ticks": "",
           "title": {
            "standoff": 15
           },
           "zerolinecolor": "white",
           "zerolinewidth": 2
          },
          "yaxis": {
           "automargin": true,
           "gridcolor": "white",
           "linecolor": "white",
           "ticks": "",
           "title": {
            "standoff": 15
           },
           "zerolinecolor": "white",
           "zerolinewidth": 2
          }
         }
        },
        "xaxis": {
         "anchor": "y",
         "domain": [
          0,
          1
         ],
         "title": {
          "text": "State_Name"
         }
        },
        "yaxis": {
         "anchor": "x",
         "domain": [
          0,
          1
         ],
         "title": {
          "text": "Production"
         }
        }
       }
      }
     },
     "metadata": {},
     "output_type": "display_data"
    }
   ],
   "source": [
    "temp = data.groupby(by='State_Name')['Production'].sum().reset_index().sort_values(by='Production')\n",
    "px.bar(temp, 'State_Name', 'Production')"
   ]
  },
  {
   "cell_type": "code",
   "execution_count": 23,
   "metadata": {},
   "outputs": [
    {
     "name": "stderr",
     "output_type": "stream",
     "text": [
      "C:\\Users\\GOKUL\\AppData\\Local\\Packages\\PythonSoftwareFoundation.Python.3.7_qbz5n2kfra8p0\\LocalCache\\local-packages\\Python37\\site-packages\\ipykernel_launcher.py:1: FutureWarning:\n",
      "\n",
      "Indexing with multiple keys (implicitly converted to a tuple of keys) will be deprecated, use a list instead.\n",
      "\n"
     ]
    },
    {
     "data": {
      "application/vnd.plotly.v1+json": {
       "config": {
        "plotlyServerURL": "https://plotly.com"
       },
       "data": [
        {
         "alignmentgroup": "True",
         "hovertemplate": "State_Name=%{x}<br>Production_Per_Unit_Area=%{marker.color}<extra></extra>",
         "legendgroup": "",
         "marker": {
          "color": [
           1.0477409782845537,
           1.1476614517741544,
           1.217294927212505,
           1.36188482565295,
           1.4532175374754412,
           1.464581499732477,
           1.5635611799264035,
           1.5977491326545004,
           1.6721745760338977,
           1.7800104470278206,
           2.1089470521047096,
           2.6065090511727984,
           2.697968958608965,
           2.8571371733738697,
           3.001836914142851,
           3.3843998433609577,
           3.9221896175769806,
           4.125710758548768,
           4.25526579180621,
           4.2623545170687125,
           4.627637467668646,
           4.66028019116553,
           5.115701487761958,
           6.489716410885395,
           7.033700817586967,
           7.459239568501348,
           30.010721695329874,
           126.66301300838897,
           131.80388341690974,
           419.4781258685462,
           701.9495365640053,
           2130.6989308580605,
           3091.0657985037437
          ],
          "coloraxis": "coloraxis",
          "pattern": {
           "shape": ""
          }
         },
         "name": "",
         "offsetgroup": "",
         "orientation": "v",
         "showlegend": false,
         "textposition": "auto",
         "type": "bar",
         "x": [
          "Rajasthan",
          "Jharkhand",
          "Chhattisgarh",
          "Madhya Pradesh",
          "Jammu and Kashmir ",
          "Odisha",
          "Arunachal Pradesh",
          "Sikkim",
          "Mizoram",
          "Himachal Pradesh",
          "Nagaland",
          "Manipur",
          "Tripura",
          "Bihar",
          "Meghalaya",
          "Gujarat",
          "Maharashtra",
          "Telangana ",
          "Karnataka",
          "Haryana",
          "Punjab",
          "Dadra and Nagar Haveli",
          "Chandigarh",
          "West Bengal",
          "Uttarakhand",
          "Uttar Pradesh",
          "Assam",
          "Tamil Nadu",
          "Andhra Pradesh",
          "Goa",
          "Puducherry",
          "Andaman and Nicobar Islands",
          "Kerala"
         ],
         "xaxis": "x",
         "y": [
          1.0477409782845537,
          1.1476614517741544,
          1.217294927212505,
          1.36188482565295,
          1.4532175374754412,
          1.464581499732477,
          1.5635611799264035,
          1.5977491326545004,
          1.6721745760338977,
          1.7800104470278206,
          2.1089470521047096,
          2.6065090511727984,
          2.697968958608965,
          2.8571371733738697,
          3.001836914142851,
          3.3843998433609577,
          3.9221896175769806,
          4.125710758548768,
          4.25526579180621,
          4.2623545170687125,
          4.627637467668646,
          4.66028019116553,
          5.115701487761958,
          6.489716410885395,
          7.033700817586967,
          7.459239568501348,
          30.010721695329874,
          126.66301300838897,
          131.80388341690974,
          419.4781258685462,
          701.9495365640053,
          2130.6989308580605,
          3091.0657985037437
         ],
         "yaxis": "y"
        }
       ],
       "layout": {
        "barmode": "relative",
        "coloraxis": {
         "colorbar": {
          "title": {
           "text": "Production_Per_Unit_Area"
          }
         },
         "colorscale": [
          [
           0,
           "#0d0887"
          ],
          [
           0.1111111111111111,
           "#46039f"
          ],
          [
           0.2222222222222222,
           "#7201a8"
          ],
          [
           0.3333333333333333,
           "#9c179e"
          ],
          [
           0.4444444444444444,
           "#bd3786"
          ],
          [
           0.5555555555555556,
           "#d8576b"
          ],
          [
           0.6666666666666666,
           "#ed7953"
          ],
          [
           0.7777777777777778,
           "#fb9f3a"
          ],
          [
           0.8888888888888888,
           "#fdca26"
          ],
          [
           1,
           "#f0f921"
          ]
         ]
        },
        "legend": {
         "tracegroupgap": 0
        },
        "margin": {
         "t": 60
        },
        "template": {
         "data": {
          "bar": [
           {
            "error_x": {
             "color": "#2a3f5f"
            },
            "error_y": {
             "color": "#2a3f5f"
            },
            "marker": {
             "line": {
              "color": "#E5ECF6",
              "width": 0.5
             },
             "pattern": {
              "fillmode": "overlay",
              "size": 10,
              "solidity": 0.2
             }
            },
            "type": "bar"
           }
          ],
          "barpolar": [
           {
            "marker": {
             "line": {
              "color": "#E5ECF6",
              "width": 0.5
             },
             "pattern": {
              "fillmode": "overlay",
              "size": 10,
              "solidity": 0.2
             }
            },
            "type": "barpolar"
           }
          ],
          "carpet": [
           {
            "aaxis": {
             "endlinecolor": "#2a3f5f",
             "gridcolor": "white",
             "linecolor": "white",
             "minorgridcolor": "white",
             "startlinecolor": "#2a3f5f"
            },
            "baxis": {
             "endlinecolor": "#2a3f5f",
             "gridcolor": "white",
             "linecolor": "white",
             "minorgridcolor": "white",
             "startlinecolor": "#2a3f5f"
            },
            "type": "carpet"
           }
          ],
          "choropleth": [
           {
            "colorbar": {
             "outlinewidth": 0,
             "ticks": ""
            },
            "type": "choropleth"
           }
          ],
          "contour": [
           {
            "colorbar": {
             "outlinewidth": 0,
             "ticks": ""
            },
            "colorscale": [
             [
              0,
              "#0d0887"
             ],
             [
              0.1111111111111111,
              "#46039f"
             ],
             [
              0.2222222222222222,
              "#7201a8"
             ],
             [
              0.3333333333333333,
              "#9c179e"
             ],
             [
              0.4444444444444444,
              "#bd3786"
             ],
             [
              0.5555555555555556,
              "#d8576b"
             ],
             [
              0.6666666666666666,
              "#ed7953"
             ],
             [
              0.7777777777777778,
              "#fb9f3a"
             ],
             [
              0.8888888888888888,
              "#fdca26"
             ],
             [
              1,
              "#f0f921"
             ]
            ],
            "type": "contour"
           }
          ],
          "contourcarpet": [
           {
            "colorbar": {
             "outlinewidth": 0,
             "ticks": ""
            },
            "type": "contourcarpet"
           }
          ],
          "heatmap": [
           {
            "colorbar": {
             "outlinewidth": 0,
             "ticks": ""
            },
            "colorscale": [
             [
              0,
              "#0d0887"
             ],
             [
              0.1111111111111111,
              "#46039f"
             ],
             [
              0.2222222222222222,
              "#7201a8"
             ],
             [
              0.3333333333333333,
              "#9c179e"
             ],
             [
              0.4444444444444444,
              "#bd3786"
             ],
             [
              0.5555555555555556,
              "#d8576b"
             ],
             [
              0.6666666666666666,
              "#ed7953"
             ],
             [
              0.7777777777777778,
              "#fb9f3a"
             ],
             [
              0.8888888888888888,
              "#fdca26"
             ],
             [
              1,
              "#f0f921"
             ]
            ],
            "type": "heatmap"
           }
          ],
          "heatmapgl": [
           {
            "colorbar": {
             "outlinewidth": 0,
             "ticks": ""
            },
            "colorscale": [
             [
              0,
              "#0d0887"
             ],
             [
              0.1111111111111111,
              "#46039f"
             ],
             [
              0.2222222222222222,
              "#7201a8"
             ],
             [
              0.3333333333333333,
              "#9c179e"
             ],
             [
              0.4444444444444444,
              "#bd3786"
             ],
             [
              0.5555555555555556,
              "#d8576b"
             ],
             [
              0.6666666666666666,
              "#ed7953"
             ],
             [
              0.7777777777777778,
              "#fb9f3a"
             ],
             [
              0.8888888888888888,
              "#fdca26"
             ],
             [
              1,
              "#f0f921"
             ]
            ],
            "type": "heatmapgl"
           }
          ],
          "histogram": [
           {
            "marker": {
             "pattern": {
              "fillmode": "overlay",
              "size": 10,
              "solidity": 0.2
             }
            },
            "type": "histogram"
           }
          ],
          "histogram2d": [
           {
            "colorbar": {
             "outlinewidth": 0,
             "ticks": ""
            },
            "colorscale": [
             [
              0,
              "#0d0887"
             ],
             [
              0.1111111111111111,
              "#46039f"
             ],
             [
              0.2222222222222222,
              "#7201a8"
             ],
             [
              0.3333333333333333,
              "#9c179e"
             ],
             [
              0.4444444444444444,
              "#bd3786"
             ],
             [
              0.5555555555555556,
              "#d8576b"
             ],
             [
              0.6666666666666666,
              "#ed7953"
             ],
             [
              0.7777777777777778,
              "#fb9f3a"
             ],
             [
              0.8888888888888888,
              "#fdca26"
             ],
             [
              1,
              "#f0f921"
             ]
            ],
            "type": "histogram2d"
           }
          ],
          "histogram2dcontour": [
           {
            "colorbar": {
             "outlinewidth": 0,
             "ticks": ""
            },
            "colorscale": [
             [
              0,
              "#0d0887"
             ],
             [
              0.1111111111111111,
              "#46039f"
             ],
             [
              0.2222222222222222,
              "#7201a8"
             ],
             [
              0.3333333333333333,
              "#9c179e"
             ],
             [
              0.4444444444444444,
              "#bd3786"
             ],
             [
              0.5555555555555556,
              "#d8576b"
             ],
             [
              0.6666666666666666,
              "#ed7953"
             ],
             [
              0.7777777777777778,
              "#fb9f3a"
             ],
             [
              0.8888888888888888,
              "#fdca26"
             ],
             [
              1,
              "#f0f921"
             ]
            ],
            "type": "histogram2dcontour"
           }
          ],
          "mesh3d": [
           {
            "colorbar": {
             "outlinewidth": 0,
             "ticks": ""
            },
            "type": "mesh3d"
           }
          ],
          "parcoords": [
           {
            "line": {
             "colorbar": {
              "outlinewidth": 0,
              "ticks": ""
             }
            },
            "type": "parcoords"
           }
          ],
          "pie": [
           {
            "automargin": true,
            "type": "pie"
           }
          ],
          "scatter": [
           {
            "fillpattern": {
             "fillmode": "overlay",
             "size": 10,
             "solidity": 0.2
            },
            "type": "scatter"
           }
          ],
          "scatter3d": [
           {
            "line": {
             "colorbar": {
              "outlinewidth": 0,
              "ticks": ""
             }
            },
            "marker": {
             "colorbar": {
              "outlinewidth": 0,
              "ticks": ""
             }
            },
            "type": "scatter3d"
           }
          ],
          "scattercarpet": [
           {
            "marker": {
             "colorbar": {
              "outlinewidth": 0,
              "ticks": ""
             }
            },
            "type": "scattercarpet"
           }
          ],
          "scattergeo": [
           {
            "marker": {
             "colorbar": {
              "outlinewidth": 0,
              "ticks": ""
             }
            },
            "type": "scattergeo"
           }
          ],
          "scattergl": [
           {
            "marker": {
             "colorbar": {
              "outlinewidth": 0,
              "ticks": ""
             }
            },
            "type": "scattergl"
           }
          ],
          "scattermapbox": [
           {
            "marker": {
             "colorbar": {
              "outlinewidth": 0,
              "ticks": ""
             }
            },
            "type": "scattermapbox"
           }
          ],
          "scatterpolar": [
           {
            "marker": {
             "colorbar": {
              "outlinewidth": 0,
              "ticks": ""
             }
            },
            "type": "scatterpolar"
           }
          ],
          "scatterpolargl": [
           {
            "marker": {
             "colorbar": {
              "outlinewidth": 0,
              "ticks": ""
             }
            },
            "type": "scatterpolargl"
           }
          ],
          "scatterternary": [
           {
            "marker": {
             "colorbar": {
              "outlinewidth": 0,
              "ticks": ""
             }
            },
            "type": "scatterternary"
           }
          ],
          "surface": [
           {
            "colorbar": {
             "outlinewidth": 0,
             "ticks": ""
            },
            "colorscale": [
             [
              0,
              "#0d0887"
             ],
             [
              0.1111111111111111,
              "#46039f"
             ],
             [
              0.2222222222222222,
              "#7201a8"
             ],
             [
              0.3333333333333333,
              "#9c179e"
             ],
             [
              0.4444444444444444,
              "#bd3786"
             ],
             [
              0.5555555555555556,
              "#d8576b"
             ],
             [
              0.6666666666666666,
              "#ed7953"
             ],
             [
              0.7777777777777778,
              "#fb9f3a"
             ],
             [
              0.8888888888888888,
              "#fdca26"
             ],
             [
              1,
              "#f0f921"
             ]
            ],
            "type": "surface"
           }
          ],
          "table": [
           {
            "cells": {
             "fill": {
              "color": "#EBF0F8"
             },
             "line": {
              "color": "white"
             }
            },
            "header": {
             "fill": {
              "color": "#C8D4E3"
             },
             "line": {
              "color": "white"
             }
            },
            "type": "table"
           }
          ]
         },
         "layout": {
          "annotationdefaults": {
           "arrowcolor": "#2a3f5f",
           "arrowhead": 0,
           "arrowwidth": 1
          },
          "autotypenumbers": "strict",
          "coloraxis": {
           "colorbar": {
            "outlinewidth": 0,
            "ticks": ""
           }
          },
          "colorscale": {
           "diverging": [
            [
             0,
             "#8e0152"
            ],
            [
             0.1,
             "#c51b7d"
            ],
            [
             0.2,
             "#de77ae"
            ],
            [
             0.3,
             "#f1b6da"
            ],
            [
             0.4,
             "#fde0ef"
            ],
            [
             0.5,
             "#f7f7f7"
            ],
            [
             0.6,
             "#e6f5d0"
            ],
            [
             0.7,
             "#b8e186"
            ],
            [
             0.8,
             "#7fbc41"
            ],
            [
             0.9,
             "#4d9221"
            ],
            [
             1,
             "#276419"
            ]
           ],
           "sequential": [
            [
             0,
             "#0d0887"
            ],
            [
             0.1111111111111111,
             "#46039f"
            ],
            [
             0.2222222222222222,
             "#7201a8"
            ],
            [
             0.3333333333333333,
             "#9c179e"
            ],
            [
             0.4444444444444444,
             "#bd3786"
            ],
            [
             0.5555555555555556,
             "#d8576b"
            ],
            [
             0.6666666666666666,
             "#ed7953"
            ],
            [
             0.7777777777777778,
             "#fb9f3a"
            ],
            [
             0.8888888888888888,
             "#fdca26"
            ],
            [
             1,
             "#f0f921"
            ]
           ],
           "sequentialminus": [
            [
             0,
             "#0d0887"
            ],
            [
             0.1111111111111111,
             "#46039f"
            ],
            [
             0.2222222222222222,
             "#7201a8"
            ],
            [
             0.3333333333333333,
             "#9c179e"
            ],
            [
             0.4444444444444444,
             "#bd3786"
            ],
            [
             0.5555555555555556,
             "#d8576b"
            ],
            [
             0.6666666666666666,
             "#ed7953"
            ],
            [
             0.7777777777777778,
             "#fb9f3a"
            ],
            [
             0.8888888888888888,
             "#fdca26"
            ],
            [
             1,
             "#f0f921"
            ]
           ]
          },
          "colorway": [
           "#636efa",
           "#EF553B",
           "#00cc96",
           "#ab63fa",
           "#FFA15A",
           "#19d3f3",
           "#FF6692",
           "#B6E880",
           "#FF97FF",
           "#FECB52"
          ],
          "font": {
           "color": "#2a3f5f"
          },
          "geo": {
           "bgcolor": "white",
           "lakecolor": "white",
           "landcolor": "#E5ECF6",
           "showlakes": true,
           "showland": true,
           "subunitcolor": "white"
          },
          "hoverlabel": {
           "align": "left"
          },
          "hovermode": "closest",
          "mapbox": {
           "style": "light"
          },
          "paper_bgcolor": "white",
          "plot_bgcolor": "#E5ECF6",
          "polar": {
           "angularaxis": {
            "gridcolor": "white",
            "linecolor": "white",
            "ticks": ""
           },
           "bgcolor": "#E5ECF6",
           "radialaxis": {
            "gridcolor": "white",
            "linecolor": "white",
            "ticks": ""
           }
          },
          "scene": {
           "xaxis": {
            "backgroundcolor": "#E5ECF6",
            "gridcolor": "white",
            "gridwidth": 2,
            "linecolor": "white",
            "showbackground": true,
            "ticks": "",
            "zerolinecolor": "white"
           },
           "yaxis": {
            "backgroundcolor": "#E5ECF6",
            "gridcolor": "white",
            "gridwidth": 2,
            "linecolor": "white",
            "showbackground": true,
            "ticks": "",
            "zerolinecolor": "white"
           },
           "zaxis": {
            "backgroundcolor": "#E5ECF6",
            "gridcolor": "white",
            "gridwidth": 2,
            "linecolor": "white",
            "showbackground": true,
            "ticks": "",
            "zerolinecolor": "white"
           }
          },
          "shapedefaults": {
           "line": {
            "color": "#2a3f5f"
           }
          },
          "ternary": {
           "aaxis": {
            "gridcolor": "white",
            "linecolor": "white",
            "ticks": ""
           },
           "baxis": {
            "gridcolor": "white",
            "linecolor": "white",
            "ticks": ""
           },
           "bgcolor": "#E5ECF6",
           "caxis": {
            "gridcolor": "white",
            "linecolor": "white",
            "ticks": ""
           }
          },
          "title": {
           "x": 0.05
          },
          "xaxis": {
           "automargin": true,
           "gridcolor": "white",
           "linecolor": "white",
           "ticks": "",
           "title": {
            "standoff": 15
           },
           "zerolinecolor": "white",
           "zerolinewidth": 2
          },
          "yaxis": {
           "automargin": true,
           "gridcolor": "white",
           "linecolor": "white",
           "ticks": "",
           "title": {
            "standoff": 15
           },
           "zerolinecolor": "white",
           "zerolinewidth": 2
          }
         }
        },
        "xaxis": {
         "anchor": "y",
         "domain": [
          0,
          1
         ],
         "title": {
          "text": "State_Name"
         }
        },
        "yaxis": {
         "anchor": "x",
         "domain": [
          0,
          1
         ],
         "title": {
          "text": "Production_Per_Unit_Area"
         }
        }
       }
      }
     },
     "metadata": {},
     "output_type": "display_data"
    }
   ],
   "source": [
    "temp = data.groupby('State_Name')['Area', 'Production'].sum().reset_index()\n",
    "temp['Production_Per_Unit_Area'] = temp['Production']/temp['Area']\n",
    "temp = temp.sort_values(by='Production_Per_Unit_Area')\n",
    "px.bar(temp, 'State_Name', 'Production_Per_Unit_Area', color='Production_Per_Unit_Area', )"
   ]
  },
  {
   "cell_type": "markdown",
   "metadata": {},
   "source": [
    "INSIGHTS DERIVED:\n",
    "\n",
    "Kerala is the most productive state when we compare in terms of production by area.\n",
    "\n",
    "Andaman and Nicobar islands, Goa, Pondicherry and many other states which are low in overall production, have high productivity when we compare with the crop areas."
   ]
  },
  {
   "cell_type": "code",
   "execution_count": 24,
   "metadata": {},
   "outputs": [
    {
     "data": {
      "application/vnd.plotly.v1+json": {
       "config": {
        "plotlyServerURL": "https://plotly.com"
       },
       "data": [
        {
         "hovertemplate": "Crop_Year=%{x}<br>Production=%{y}<extra></extra>",
         "legendgroup": "",
         "line": {
          "color": "#636efa",
          "dash": "solid"
         },
         "marker": {
          "symbol": "circle"
         },
         "mode": "lines",
         "name": "",
         "orientation": "v",
         "showlegend": false,
         "type": "scatter",
         "x": [
          1997,
          1998,
          1999,
          2000,
          2001,
          2002,
          2003,
          2004,
          2005,
          2006,
          2007,
          2008,
          2009,
          2010,
          2011,
          2012,
          2013,
          2014,
          2015
         ],
         "xaxis": "x",
         "y": [
          851232906,
          5825320640.4,
          6434665985.1,
          7449709127.1,
          7465540840.27,
          7696955162.64,
          7917973504.73,
          8189461694.86,
          8043757329.74,
          8681913123.78,
          6879442338.58,
          7717018402.16,
          7660494024.809999,
          6307608525.37,
          14308904087.130001,
          8171054746.03,
          12903588632.880001,
          8664540631.11,
          6935064.7
         ],
         "yaxis": "y"
        }
       ],
       "layout": {
        "legend": {
         "tracegroupgap": 0
        },
        "margin": {
         "t": 60
        },
        "template": {
         "data": {
          "bar": [
           {
            "error_x": {
             "color": "#2a3f5f"
            },
            "error_y": {
             "color": "#2a3f5f"
            },
            "marker": {
             "line": {
              "color": "#E5ECF6",
              "width": 0.5
             },
             "pattern": {
              "fillmode": "overlay",
              "size": 10,
              "solidity": 0.2
             }
            },
            "type": "bar"
           }
          ],
          "barpolar": [
           {
            "marker": {
             "line": {
              "color": "#E5ECF6",
              "width": 0.5
             },
             "pattern": {
              "fillmode": "overlay",
              "size": 10,
              "solidity": 0.2
             }
            },
            "type": "barpolar"
           }
          ],
          "carpet": [
           {
            "aaxis": {
             "endlinecolor": "#2a3f5f",
             "gridcolor": "white",
             "linecolor": "white",
             "minorgridcolor": "white",
             "startlinecolor": "#2a3f5f"
            },
            "baxis": {
             "endlinecolor": "#2a3f5f",
             "gridcolor": "white",
             "linecolor": "white",
             "minorgridcolor": "white",
             "startlinecolor": "#2a3f5f"
            },
            "type": "carpet"
           }
          ],
          "choropleth": [
           {
            "colorbar": {
             "outlinewidth": 0,
             "ticks": ""
            },
            "type": "choropleth"
           }
          ],
          "contour": [
           {
            "colorbar": {
             "outlinewidth": 0,
             "ticks": ""
            },
            "colorscale": [
             [
              0,
              "#0d0887"
             ],
             [
              0.1111111111111111,
              "#46039f"
             ],
             [
              0.2222222222222222,
              "#7201a8"
             ],
             [
              0.3333333333333333,
              "#9c179e"
             ],
             [
              0.4444444444444444,
              "#bd3786"
             ],
             [
              0.5555555555555556,
              "#d8576b"
             ],
             [
              0.6666666666666666,
              "#ed7953"
             ],
             [
              0.7777777777777778,
              "#fb9f3a"
             ],
             [
              0.8888888888888888,
              "#fdca26"
             ],
             [
              1,
              "#f0f921"
             ]
            ],
            "type": "contour"
           }
          ],
          "contourcarpet": [
           {
            "colorbar": {
             "outlinewidth": 0,
             "ticks": ""
            },
            "type": "contourcarpet"
           }
          ],
          "heatmap": [
           {
            "colorbar": {
             "outlinewidth": 0,
             "ticks": ""
            },
            "colorscale": [
             [
              0,
              "#0d0887"
             ],
             [
              0.1111111111111111,
              "#46039f"
             ],
             [
              0.2222222222222222,
              "#7201a8"
             ],
             [
              0.3333333333333333,
              "#9c179e"
             ],
             [
              0.4444444444444444,
              "#bd3786"
             ],
             [
              0.5555555555555556,
              "#d8576b"
             ],
             [
              0.6666666666666666,
              "#ed7953"
             ],
             [
              0.7777777777777778,
              "#fb9f3a"
             ],
             [
              0.8888888888888888,
              "#fdca26"
             ],
             [
              1,
              "#f0f921"
             ]
            ],
            "type": "heatmap"
           }
          ],
          "heatmapgl": [
           {
            "colorbar": {
             "outlinewidth": 0,
             "ticks": ""
            },
            "colorscale": [
             [
              0,
              "#0d0887"
             ],
             [
              0.1111111111111111,
              "#46039f"
             ],
             [
              0.2222222222222222,
              "#7201a8"
             ],
             [
              0.3333333333333333,
              "#9c179e"
             ],
             [
              0.4444444444444444,
              "#bd3786"
             ],
             [
              0.5555555555555556,
              "#d8576b"
             ],
             [
              0.6666666666666666,
              "#ed7953"
             ],
             [
              0.7777777777777778,
              "#fb9f3a"
             ],
             [
              0.8888888888888888,
              "#fdca26"
             ],
             [
              1,
              "#f0f921"
             ]
            ],
            "type": "heatmapgl"
           }
          ],
          "histogram": [
           {
            "marker": {
             "pattern": {
              "fillmode": "overlay",
              "size": 10,
              "solidity": 0.2
             }
            },
            "type": "histogram"
           }
          ],
          "histogram2d": [
           {
            "colorbar": {
             "outlinewidth": 0,
             "ticks": ""
            },
            "colorscale": [
             [
              0,
              "#0d0887"
             ],
             [
              0.1111111111111111,
              "#46039f"
             ],
             [
              0.2222222222222222,
              "#7201a8"
             ],
             [
              0.3333333333333333,
              "#9c179e"
             ],
             [
              0.4444444444444444,
              "#bd3786"
             ],
             [
              0.5555555555555556,
              "#d8576b"
             ],
             [
              0.6666666666666666,
              "#ed7953"
             ],
             [
              0.7777777777777778,
              "#fb9f3a"
             ],
             [
              0.8888888888888888,
              "#fdca26"
             ],
             [
              1,
              "#f0f921"
             ]
            ],
            "type": "histogram2d"
           }
          ],
          "histogram2dcontour": [
           {
            "colorbar": {
             "outlinewidth": 0,
             "ticks": ""
            },
            "colorscale": [
             [
              0,
              "#0d0887"
             ],
             [
              0.1111111111111111,
              "#46039f"
             ],
             [
              0.2222222222222222,
              "#7201a8"
             ],
             [
              0.3333333333333333,
              "#9c179e"
             ],
             [
              0.4444444444444444,
              "#bd3786"
             ],
             [
              0.5555555555555556,
              "#d8576b"
             ],
             [
              0.6666666666666666,
              "#ed7953"
             ],
             [
              0.7777777777777778,
              "#fb9f3a"
             ],
             [
              0.8888888888888888,
              "#fdca26"
             ],
             [
              1,
              "#f0f921"
             ]
            ],
            "type": "histogram2dcontour"
           }
          ],
          "mesh3d": [
           {
            "colorbar": {
             "outlinewidth": 0,
             "ticks": ""
            },
            "type": "mesh3d"
           }
          ],
          "parcoords": [
           {
            "line": {
             "colorbar": {
              "outlinewidth": 0,
              "ticks": ""
             }
            },
            "type": "parcoords"
           }
          ],
          "pie": [
           {
            "automargin": true,
            "type": "pie"
           }
          ],
          "scatter": [
           {
            "fillpattern": {
             "fillmode": "overlay",
             "size": 10,
             "solidity": 0.2
            },
            "type": "scatter"
           }
          ],
          "scatter3d": [
           {
            "line": {
             "colorbar": {
              "outlinewidth": 0,
              "ticks": ""
             }
            },
            "marker": {
             "colorbar": {
              "outlinewidth": 0,
              "ticks": ""
             }
            },
            "type": "scatter3d"
           }
          ],
          "scattercarpet": [
           {
            "marker": {
             "colorbar": {
              "outlinewidth": 0,
              "ticks": ""
             }
            },
            "type": "scattercarpet"
           }
          ],
          "scattergeo": [
           {
            "marker": {
             "colorbar": {
              "outlinewidth": 0,
              "ticks": ""
             }
            },
            "type": "scattergeo"
           }
          ],
          "scattergl": [
           {
            "marker": {
             "colorbar": {
              "outlinewidth": 0,
              "ticks": ""
             }
            },
            "type": "scattergl"
           }
          ],
          "scattermapbox": [
           {
            "marker": {
             "colorbar": {
              "outlinewidth": 0,
              "ticks": ""
             }
            },
            "type": "scattermapbox"
           }
          ],
          "scatterpolar": [
           {
            "marker": {
             "colorbar": {
              "outlinewidth": 0,
              "ticks": ""
             }
            },
            "type": "scatterpolar"
           }
          ],
          "scatterpolargl": [
           {
            "marker": {
             "colorbar": {
              "outlinewidth": 0,
              "ticks": ""
             }
            },
            "type": "scatterpolargl"
           }
          ],
          "scatterternary": [
           {
            "marker": {
             "colorbar": {
              "outlinewidth": 0,
              "ticks": ""
             }
            },
            "type": "scatterternary"
           }
          ],
          "surface": [
           {
            "colorbar": {
             "outlinewidth": 0,
             "ticks": ""
            },
            "colorscale": [
             [
              0,
              "#0d0887"
             ],
             [
              0.1111111111111111,
              "#46039f"
             ],
             [
              0.2222222222222222,
              "#7201a8"
             ],
             [
              0.3333333333333333,
              "#9c179e"
             ],
             [
              0.4444444444444444,
              "#bd3786"
             ],
             [
              0.5555555555555556,
              "#d8576b"
             ],
             [
              0.6666666666666666,
              "#ed7953"
             ],
             [
              0.7777777777777778,
              "#fb9f3a"
             ],
             [
              0.8888888888888888,
              "#fdca26"
             ],
             [
              1,
              "#f0f921"
             ]
            ],
            "type": "surface"
           }
          ],
          "table": [
           {
            "cells": {
             "fill": {
              "color": "#EBF0F8"
             },
             "line": {
              "color": "white"
             }
            },
            "header": {
             "fill": {
              "color": "#C8D4E3"
             },
             "line": {
              "color": "white"
             }
            },
            "type": "table"
           }
          ]
         },
         "layout": {
          "annotationdefaults": {
           "arrowcolor": "#2a3f5f",
           "arrowhead": 0,
           "arrowwidth": 1
          },
          "autotypenumbers": "strict",
          "coloraxis": {
           "colorbar": {
            "outlinewidth": 0,
            "ticks": ""
           }
          },
          "colorscale": {
           "diverging": [
            [
             0,
             "#8e0152"
            ],
            [
             0.1,
             "#c51b7d"
            ],
            [
             0.2,
             "#de77ae"
            ],
            [
             0.3,
             "#f1b6da"
            ],
            [
             0.4,
             "#fde0ef"
            ],
            [
             0.5,
             "#f7f7f7"
            ],
            [
             0.6,
             "#e6f5d0"
            ],
            [
             0.7,
             "#b8e186"
            ],
            [
             0.8,
             "#7fbc41"
            ],
            [
             0.9,
             "#4d9221"
            ],
            [
             1,
             "#276419"
            ]
           ],
           "sequential": [
            [
             0,
             "#0d0887"
            ],
            [
             0.1111111111111111,
             "#46039f"
            ],
            [
             0.2222222222222222,
             "#7201a8"
            ],
            [
             0.3333333333333333,
             "#9c179e"
            ],
            [
             0.4444444444444444,
             "#bd3786"
            ],
            [
             0.5555555555555556,
             "#d8576b"
            ],
            [
             0.6666666666666666,
             "#ed7953"
            ],
            [
             0.7777777777777778,
             "#fb9f3a"
            ],
            [
             0.8888888888888888,
             "#fdca26"
            ],
            [
             1,
             "#f0f921"
            ]
           ],
           "sequentialminus": [
            [
             0,
             "#0d0887"
            ],
            [
             0.1111111111111111,
             "#46039f"
            ],
            [
             0.2222222222222222,
             "#7201a8"
            ],
            [
             0.3333333333333333,
             "#9c179e"
            ],
            [
             0.4444444444444444,
             "#bd3786"
            ],
            [
             0.5555555555555556,
             "#d8576b"
            ],
            [
             0.6666666666666666,
             "#ed7953"
            ],
            [
             0.7777777777777778,
             "#fb9f3a"
            ],
            [
             0.8888888888888888,
             "#fdca26"
            ],
            [
             1,
             "#f0f921"
            ]
           ]
          },
          "colorway": [
           "#636efa",
           "#EF553B",
           "#00cc96",
           "#ab63fa",
           "#FFA15A",
           "#19d3f3",
           "#FF6692",
           "#B6E880",
           "#FF97FF",
           "#FECB52"
          ],
          "font": {
           "color": "#2a3f5f"
          },
          "geo": {
           "bgcolor": "white",
           "lakecolor": "white",
           "landcolor": "#E5ECF6",
           "showlakes": true,
           "showland": true,
           "subunitcolor": "white"
          },
          "hoverlabel": {
           "align": "left"
          },
          "hovermode": "closest",
          "mapbox": {
           "style": "light"
          },
          "paper_bgcolor": "white",
          "plot_bgcolor": "#E5ECF6",
          "polar": {
           "angularaxis": {
            "gridcolor": "white",
            "linecolor": "white",
            "ticks": ""
           },
           "bgcolor": "#E5ECF6",
           "radialaxis": {
            "gridcolor": "white",
            "linecolor": "white",
            "ticks": ""
           }
          },
          "scene": {
           "xaxis": {
            "backgroundcolor": "#E5ECF6",
            "gridcolor": "white",
            "gridwidth": 2,
            "linecolor": "white",
            "showbackground": true,
            "ticks": "",
            "zerolinecolor": "white"
           },
           "yaxis": {
            "backgroundcolor": "#E5ECF6",
            "gridcolor": "white",
            "gridwidth": 2,
            "linecolor": "white",
            "showbackground": true,
            "ticks": "",
            "zerolinecolor": "white"
           },
           "zaxis": {
            "backgroundcolor": "#E5ECF6",
            "gridcolor": "white",
            "gridwidth": 2,
            "linecolor": "white",
            "showbackground": true,
            "ticks": "",
            "zerolinecolor": "white"
           }
          },
          "shapedefaults": {
           "line": {
            "color": "#2a3f5f"
           }
          },
          "ternary": {
           "aaxis": {
            "gridcolor": "white",
            "linecolor": "white",
            "ticks": ""
           },
           "baxis": {
            "gridcolor": "white",
            "linecolor": "white",
            "ticks": ""
           },
           "bgcolor": "#E5ECF6",
           "caxis": {
            "gridcolor": "white",
            "linecolor": "white",
            "ticks": ""
           }
          },
          "title": {
           "x": 0.05
          },
          "xaxis": {
           "automargin": true,
           "gridcolor": "white",
           "linecolor": "white",
           "ticks": "",
           "title": {
            "standoff": 15
           },
           "zerolinecolor": "white",
           "zerolinewidth": 2
          },
          "yaxis": {
           "automargin": true,
           "gridcolor": "white",
           "linecolor": "white",
           "ticks": "",
           "title": {
            "standoff": 15
           },
           "zerolinecolor": "white",
           "zerolinewidth": 2
          }
         }
        },
        "xaxis": {
         "anchor": "y",
         "domain": [
          0,
          1
         ],
         "title": {
          "text": "Crop_Year"
         }
        },
        "yaxis": {
         "anchor": "x",
         "domain": [
          0,
          1
         ],
         "title": {
          "text": "Production"
         }
        }
       }
      }
     },
     "metadata": {},
     "output_type": "display_data"
    }
   ],
   "source": [
    "#OVERALL PRODUCTION THROUGH YEARS\n",
    "temp = data.groupby(by='Crop_Year')['Production'].sum().reset_index()\n",
    "px.line(temp, 'Crop_Year', 'Production')"
   ]
  },
  {
   "cell_type": "code",
   "execution_count": 25,
   "metadata": {},
   "outputs": [
    {
     "data": {
      "application/vnd.plotly.v1+json": {
       "config": {
        "plotlyServerURL": "https://plotly.com"
       },
       "data": [
        {
         "hovertemplate": "Crop_Year=%{x}<br>Area=%{marker.color}<extra></extra>",
         "legendgroup": "",
         "marker": {
          "color": [
           26038.324081357456,
           14795.911383413248,
           12901.402214623025,
           12333.407208417282,
           12579.356394702792,
           10393.248854511727,
           10889.172381993569,
           12126.196886656064,
           12051.210714549894,
           12205.838054522039,
           10700.722145910717,
           12013.561841180604,
           12029.417665431829,
           12803.72593199449,
           11138.374384743673,
           11507.10695592809,
           10501.840306516253,
           10703.066884594045,
           8200.17468805704
          ],
          "coloraxis": "coloraxis",
          "size": [
           26038.324081357456,
           14795.911383413248,
           12901.402214623025,
           12333.407208417282,
           12579.356394702792,
           10393.248854511727,
           10889.172381993569,
           12126.196886656064,
           12051.210714549894,
           12205.838054522039,
           10700.722145910717,
           12013.561841180604,
           12029.417665431829,
           12803.72593199449,
           11138.374384743673,
           11507.10695592809,
           10501.840306516253,
           10703.066884594045,
           8200.17468805704
          ],
          "sizemode": "area",
          "sizeref": 65.09581020339364,
          "symbol": "circle"
         },
         "mode": "markers",
         "name": "",
         "orientation": "v",
         "showlegend": false,
         "type": "scatter",
         "x": [
          1997,
          1998,
          1999,
          2000,
          2001,
          2002,
          2003,
          2004,
          2005,
          2006,
          2007,
          2008,
          2009,
          2010,
          2011,
          2012,
          2013,
          2014,
          2015
         ],
         "xaxis": "x",
         "y": [
          26038.324081357456,
          14795.911383413248,
          12901.402214623025,
          12333.407208417282,
          12579.356394702792,
          10393.248854511727,
          10889.172381993569,
          12126.196886656064,
          12051.210714549894,
          12205.838054522039,
          10700.722145910717,
          12013.561841180604,
          12029.417665431829,
          12803.72593199449,
          11138.374384743673,
          11507.10695592809,
          10501.840306516253,
          10703.066884594045,
          8200.17468805704
         ],
         "yaxis": "y"
        }
       ],
       "layout": {
        "coloraxis": {
         "colorbar": {
          "title": {
           "text": "Area"
          }
         },
         "colorscale": [
          [
           0,
           "#0d0887"
          ],
          [
           0.1111111111111111,
           "#46039f"
          ],
          [
           0.2222222222222222,
           "#7201a8"
          ],
          [
           0.3333333333333333,
           "#9c179e"
          ],
          [
           0.4444444444444444,
           "#bd3786"
          ],
          [
           0.5555555555555556,
           "#d8576b"
          ],
          [
           0.6666666666666666,
           "#ed7953"
          ],
          [
           0.7777777777777778,
           "#fb9f3a"
          ],
          [
           0.8888888888888888,
           "#fdca26"
          ],
          [
           1,
           "#f0f921"
          ]
         ]
        },
        "legend": {
         "itemsizing": "constant",
         "tracegroupgap": 0
        },
        "margin": {
         "t": 60
        },
        "template": {
         "data": {
          "bar": [
           {
            "error_x": {
             "color": "#2a3f5f"
            },
            "error_y": {
             "color": "#2a3f5f"
            },
            "marker": {
             "line": {
              "color": "#E5ECF6",
              "width": 0.5
             },
             "pattern": {
              "fillmode": "overlay",
              "size": 10,
              "solidity": 0.2
             }
            },
            "type": "bar"
           }
          ],
          "barpolar": [
           {
            "marker": {
             "line": {
              "color": "#E5ECF6",
              "width": 0.5
             },
             "pattern": {
              "fillmode": "overlay",
              "size": 10,
              "solidity": 0.2
             }
            },
            "type": "barpolar"
           }
          ],
          "carpet": [
           {
            "aaxis": {
             "endlinecolor": "#2a3f5f",
             "gridcolor": "white",
             "linecolor": "white",
             "minorgridcolor": "white",
             "startlinecolor": "#2a3f5f"
            },
            "baxis": {
             "endlinecolor": "#2a3f5f",
             "gridcolor": "white",
             "linecolor": "white",
             "minorgridcolor": "white",
             "startlinecolor": "#2a3f5f"
            },
            "type": "carpet"
           }
          ],
          "choropleth": [
           {
            "colorbar": {
             "outlinewidth": 0,
             "ticks": ""
            },
            "type": "choropleth"
           }
          ],
          "contour": [
           {
            "colorbar": {
             "outlinewidth": 0,
             "ticks": ""
            },
            "colorscale": [
             [
              0,
              "#0d0887"
             ],
             [
              0.1111111111111111,
              "#46039f"
             ],
             [
              0.2222222222222222,
              "#7201a8"
             ],
             [
              0.3333333333333333,
              "#9c179e"
             ],
             [
              0.4444444444444444,
              "#bd3786"
             ],
             [
              0.5555555555555556,
              "#d8576b"
             ],
             [
              0.6666666666666666,
              "#ed7953"
             ],
             [
              0.7777777777777778,
              "#fb9f3a"
             ],
             [
              0.8888888888888888,
              "#fdca26"
             ],
             [
              1,
              "#f0f921"
             ]
            ],
            "type": "contour"
           }
          ],
          "contourcarpet": [
           {
            "colorbar": {
             "outlinewidth": 0,
             "ticks": ""
            },
            "type": "contourcarpet"
           }
          ],
          "heatmap": [
           {
            "colorbar": {
             "outlinewidth": 0,
             "ticks": ""
            },
            "colorscale": [
             [
              0,
              "#0d0887"
             ],
             [
              0.1111111111111111,
              "#46039f"
             ],
             [
              0.2222222222222222,
              "#7201a8"
             ],
             [
              0.3333333333333333,
              "#9c179e"
             ],
             [
              0.4444444444444444,
              "#bd3786"
             ],
             [
              0.5555555555555556,
              "#d8576b"
             ],
             [
              0.6666666666666666,
              "#ed7953"
             ],
             [
              0.7777777777777778,
              "#fb9f3a"
             ],
             [
              0.8888888888888888,
              "#fdca26"
             ],
             [
              1,
              "#f0f921"
             ]
            ],
            "type": "heatmap"
           }
          ],
          "heatmapgl": [
           {
            "colorbar": {
             "outlinewidth": 0,
             "ticks": ""
            },
            "colorscale": [
             [
              0,
              "#0d0887"
             ],
             [
              0.1111111111111111,
              "#46039f"
             ],
             [
              0.2222222222222222,
              "#7201a8"
             ],
             [
              0.3333333333333333,
              "#9c179e"
             ],
             [
              0.4444444444444444,
              "#bd3786"
             ],
             [
              0.5555555555555556,
              "#d8576b"
             ],
             [
              0.6666666666666666,
              "#ed7953"
             ],
             [
              0.7777777777777778,
              "#fb9f3a"
             ],
             [
              0.8888888888888888,
              "#fdca26"
             ],
             [
              1,
              "#f0f921"
             ]
            ],
            "type": "heatmapgl"
           }
          ],
          "histogram": [
           {
            "marker": {
             "pattern": {
              "fillmode": "overlay",
              "size": 10,
              "solidity": 0.2
             }
            },
            "type": "histogram"
           }
          ],
          "histogram2d": [
           {
            "colorbar": {
             "outlinewidth": 0,
             "ticks": ""
            },
            "colorscale": [
             [
              0,
              "#0d0887"
             ],
             [
              0.1111111111111111,
              "#46039f"
             ],
             [
              0.2222222222222222,
              "#7201a8"
             ],
             [
              0.3333333333333333,
              "#9c179e"
             ],
             [
              0.4444444444444444,
              "#bd3786"
             ],
             [
              0.5555555555555556,
              "#d8576b"
             ],
             [
              0.6666666666666666,
              "#ed7953"
             ],
             [
              0.7777777777777778,
              "#fb9f3a"
             ],
             [
              0.8888888888888888,
              "#fdca26"
             ],
             [
              1,
              "#f0f921"
             ]
            ],
            "type": "histogram2d"
           }
          ],
          "histogram2dcontour": [
           {
            "colorbar": {
             "outlinewidth": 0,
             "ticks": ""
            },
            "colorscale": [
             [
              0,
              "#0d0887"
             ],
             [
              0.1111111111111111,
              "#46039f"
             ],
             [
              0.2222222222222222,
              "#7201a8"
             ],
             [
              0.3333333333333333,
              "#9c179e"
             ],
             [
              0.4444444444444444,
              "#bd3786"
             ],
             [
              0.5555555555555556,
              "#d8576b"
             ],
             [
              0.6666666666666666,
              "#ed7953"
             ],
             [
              0.7777777777777778,
              "#fb9f3a"
             ],
             [
              0.8888888888888888,
              "#fdca26"
             ],
             [
              1,
              "#f0f921"
             ]
            ],
            "type": "histogram2dcontour"
           }
          ],
          "mesh3d": [
           {
            "colorbar": {
             "outlinewidth": 0,
             "ticks": ""
            },
            "type": "mesh3d"
           }
          ],
          "parcoords": [
           {
            "line": {
             "colorbar": {
              "outlinewidth": 0,
              "ticks": ""
             }
            },
            "type": "parcoords"
           }
          ],
          "pie": [
           {
            "automargin": true,
            "type": "pie"
           }
          ],
          "scatter": [
           {
            "fillpattern": {
             "fillmode": "overlay",
             "size": 10,
             "solidity": 0.2
            },
            "type": "scatter"
           }
          ],
          "scatter3d": [
           {
            "line": {
             "colorbar": {
              "outlinewidth": 0,
              "ticks": ""
             }
            },
            "marker": {
             "colorbar": {
              "outlinewidth": 0,
              "ticks": ""
             }
            },
            "type": "scatter3d"
           }
          ],
          "scattercarpet": [
           {
            "marker": {
             "colorbar": {
              "outlinewidth": 0,
              "ticks": ""
             }
            },
            "type": "scattercarpet"
           }
          ],
          "scattergeo": [
           {
            "marker": {
             "colorbar": {
              "outlinewidth": 0,
              "ticks": ""
             }
            },
            "type": "scattergeo"
           }
          ],
          "scattergl": [
           {
            "marker": {
             "colorbar": {
              "outlinewidth": 0,
              "ticks": ""
             }
            },
            "type": "scattergl"
           }
          ],
          "scattermapbox": [
           {
            "marker": {
             "colorbar": {
              "outlinewidth": 0,
              "ticks": ""
             }
            },
            "type": "scattermapbox"
           }
          ],
          "scatterpolar": [
           {
            "marker": {
             "colorbar": {
              "outlinewidth": 0,
              "ticks": ""
             }
            },
            "type": "scatterpolar"
           }
          ],
          "scatterpolargl": [
           {
            "marker": {
             "colorbar": {
              "outlinewidth": 0,
              "ticks": ""
             }
            },
            "type": "scatterpolargl"
           }
          ],
          "scatterternary": [
           {
            "marker": {
             "colorbar": {
              "outlinewidth": 0,
              "ticks": ""
             }
            },
            "type": "scatterternary"
           }
          ],
          "surface": [
           {
            "colorbar": {
             "outlinewidth": 0,
             "ticks": ""
            },
            "colorscale": [
             [
              0,
              "#0d0887"
             ],
             [
              0.1111111111111111,
              "#46039f"
             ],
             [
              0.2222222222222222,
              "#7201a8"
             ],
             [
              0.3333333333333333,
              "#9c179e"
             ],
             [
              0.4444444444444444,
              "#bd3786"
             ],
             [
              0.5555555555555556,
              "#d8576b"
             ],
             [
              0.6666666666666666,
              "#ed7953"
             ],
             [
              0.7777777777777778,
              "#fb9f3a"
             ],
             [
              0.8888888888888888,
              "#fdca26"
             ],
             [
              1,
              "#f0f921"
             ]
            ],
            "type": "surface"
           }
          ],
          "table": [
           {
            "cells": {
             "fill": {
              "color": "#EBF0F8"
             },
             "line": {
              "color": "white"
             }
            },
            "header": {
             "fill": {
              "color": "#C8D4E3"
             },
             "line": {
              "color": "white"
             }
            },
            "type": "table"
           }
          ]
         },
         "layout": {
          "annotationdefaults": {
           "arrowcolor": "#2a3f5f",
           "arrowhead": 0,
           "arrowwidth": 1
          },
          "autotypenumbers": "strict",
          "coloraxis": {
           "colorbar": {
            "outlinewidth": 0,
            "ticks": ""
           }
          },
          "colorscale": {
           "diverging": [
            [
             0,
             "#8e0152"
            ],
            [
             0.1,
             "#c51b7d"
            ],
            [
             0.2,
             "#de77ae"
            ],
            [
             0.3,
             "#f1b6da"
            ],
            [
             0.4,
             "#fde0ef"
            ],
            [
             0.5,
             "#f7f7f7"
            ],
            [
             0.6,
             "#e6f5d0"
            ],
            [
             0.7,
             "#b8e186"
            ],
            [
             0.8,
             "#7fbc41"
            ],
            [
             0.9,
             "#4d9221"
            ],
            [
             1,
             "#276419"
            ]
           ],
           "sequential": [
            [
             0,
             "#0d0887"
            ],
            [
             0.1111111111111111,
             "#46039f"
            ],
            [
             0.2222222222222222,
             "#7201a8"
            ],
            [
             0.3333333333333333,
             "#9c179e"
            ],
            [
             0.4444444444444444,
             "#bd3786"
            ],
            [
             0.5555555555555556,
             "#d8576b"
            ],
            [
             0.6666666666666666,
             "#ed7953"
            ],
            [
             0.7777777777777778,
             "#fb9f3a"
            ],
            [
             0.8888888888888888,
             "#fdca26"
            ],
            [
             1,
             "#f0f921"
            ]
           ],
           "sequentialminus": [
            [
             0,
             "#0d0887"
            ],
            [
             0.1111111111111111,
             "#46039f"
            ],
            [
             0.2222222222222222,
             "#7201a8"
            ],
            [
             0.3333333333333333,
             "#9c179e"
            ],
            [
             0.4444444444444444,
             "#bd3786"
            ],
            [
             0.5555555555555556,
             "#d8576b"
            ],
            [
             0.6666666666666666,
             "#ed7953"
            ],
            [
             0.7777777777777778,
             "#fb9f3a"
            ],
            [
             0.8888888888888888,
             "#fdca26"
            ],
            [
             1,
             "#f0f921"
            ]
           ]
          },
          "colorway": [
           "#636efa",
           "#EF553B",
           "#00cc96",
           "#ab63fa",
           "#FFA15A",
           "#19d3f3",
           "#FF6692",
           "#B6E880",
           "#FF97FF",
           "#FECB52"
          ],
          "font": {
           "color": "#2a3f5f"
          },
          "geo": {
           "bgcolor": "white",
           "lakecolor": "white",
           "landcolor": "#E5ECF6",
           "showlakes": true,
           "showland": true,
           "subunitcolor": "white"
          },
          "hoverlabel": {
           "align": "left"
          },
          "hovermode": "closest",
          "mapbox": {
           "style": "light"
          },
          "paper_bgcolor": "white",
          "plot_bgcolor": "#E5ECF6",
          "polar": {
           "angularaxis": {
            "gridcolor": "white",
            "linecolor": "white",
            "ticks": ""
           },
           "bgcolor": "#E5ECF6",
           "radialaxis": {
            "gridcolor": "white",
            "linecolor": "white",
            "ticks": ""
           }
          },
          "scene": {
           "xaxis": {
            "backgroundcolor": "#E5ECF6",
            "gridcolor": "white",
            "gridwidth": 2,
            "linecolor": "white",
            "showbackground": true,
            "ticks": "",
            "zerolinecolor": "white"
           },
           "yaxis": {
            "backgroundcolor": "#E5ECF6",
            "gridcolor": "white",
            "gridwidth": 2,
            "linecolor": "white",
            "showbackground": true,
            "ticks": "",
            "zerolinecolor": "white"
           },
           "zaxis": {
            "backgroundcolor": "#E5ECF6",
            "gridcolor": "white",
            "gridwidth": 2,
            "linecolor": "white",
            "showbackground": true,
            "ticks": "",
            "zerolinecolor": "white"
           }
          },
          "shapedefaults": {
           "line": {
            "color": "#2a3f5f"
           }
          },
          "ternary": {
           "aaxis": {
            "gridcolor": "white",
            "linecolor": "white",
            "ticks": ""
           },
           "baxis": {
            "gridcolor": "white",
            "linecolor": "white",
            "ticks": ""
           },
           "bgcolor": "#E5ECF6",
           "caxis": {
            "gridcolor": "white",
            "linecolor": "white",
            "ticks": ""
           }
          },
          "title": {
           "x": 0.05
          },
          "xaxis": {
           "automargin": true,
           "gridcolor": "white",
           "linecolor": "white",
           "ticks": "",
           "title": {
            "standoff": 15
           },
           "zerolinecolor": "white",
           "zerolinewidth": 2
          },
          "yaxis": {
           "automargin": true,
           "gridcolor": "white",
           "linecolor": "white",
           "ticks": "",
           "title": {
            "standoff": 15
           },
           "zerolinecolor": "white",
           "zerolinewidth": 2
          }
         }
        },
        "xaxis": {
         "anchor": "y",
         "domain": [
          0,
          1
         ],
         "title": {
          "text": "Crop_Year"
         }
        },
        "yaxis": {
         "anchor": "x",
         "domain": [
          0,
          1
         ],
         "title": {
          "text": "Area"
         }
        }
       }
      }
     },
     "metadata": {},
     "output_type": "display_data"
    }
   ],
   "source": [
    "#AVERAGE PRODUCTION THROUGH YEARS\n",
    "temp = data.groupby(by='Crop_Year')['Area'].mean().reset_index()\n",
    "px.scatter(temp, 'Crop_Year', 'Area', color='Area', size='Area')"
   ]
  },
  {
   "cell_type": "markdown",
   "metadata": {},
   "source": [
    "INSIGHTS DERIVED:\n",
    "\n",
    "Average Crop Area has decresed over the years.\n",
    "\n",
    "We had the lowest Average Crop area in Years 2002 and 2003."
   ]
  },
  {
   "cell_type": "code",
   "execution_count": 26,
   "metadata": {},
   "outputs": [
    {
     "name": "stderr",
     "output_type": "stream",
     "text": [
      "C:\\Users\\GOKUL\\AppData\\Local\\Packages\\PythonSoftwareFoundation.Python.3.7_qbz5n2kfra8p0\\LocalCache\\local-packages\\Python37\\site-packages\\ipykernel_launcher.py:2: FutureWarning:\n",
      "\n",
      "Indexing with multiple keys (implicitly converted to a tuple of keys) will be deprecated, use a list instead.\n",
      "\n"
     ]
    },
    {
     "data": {
      "application/vnd.plotly.v1+json": {
       "config": {
        "plotlyServerURL": "https://plotly.com"
       },
       "data": [
        {
         "alignmentgroup": "True",
         "hovertemplate": "State_Name=%{x}<br>Production_Per_Unit_Area=%{marker.color}<extra></extra>",
         "legendgroup": "",
         "marker": {
          "color": [
           1.0477409782845537,
           1.1476614517741544,
           1.217294927212505,
           1.36188482565295,
           1.4532175374754412,
           1.464581499732477,
           1.5635611799264035,
           1.5977491326545004,
           1.6721745760338977,
           1.7800104470278206,
           2.1089470521047096,
           2.6065090511727984,
           2.697968958608965,
           2.8571371733738697,
           3.001836914142851,
           3.3843998433609577,
           3.9221896175769806,
           4.125710758548768,
           4.25526579180621,
           4.2623545170687125,
           4.627637467668646,
           4.66028019116553,
           5.115701487761958,
           6.489716410885395,
           7.033700817586967,
           7.459239568501348,
           30.010721695329874,
           126.66301300838897,
           131.80388341690974,
           419.4781258685462,
           701.9495365640053,
           2130.6989308580605,
           3091.0657985037437
          ],
          "coloraxis": "coloraxis",
          "pattern": {
           "shape": ""
          }
         },
         "name": "",
         "offsetgroup": "",
         "orientation": "v",
         "showlegend": false,
         "textposition": "auto",
         "type": "bar",
         "x": [
          "Rajasthan",
          "Jharkhand",
          "Chhattisgarh",
          "Madhya Pradesh",
          "Jammu and Kashmir ",
          "Odisha",
          "Arunachal Pradesh",
          "Sikkim",
          "Mizoram",
          "Himachal Pradesh",
          "Nagaland",
          "Manipur",
          "Tripura",
          "Bihar",
          "Meghalaya",
          "Gujarat",
          "Maharashtra",
          "Telangana ",
          "Karnataka",
          "Haryana",
          "Punjab",
          "Dadra and Nagar Haveli",
          "Chandigarh",
          "West Bengal",
          "Uttarakhand",
          "Uttar Pradesh",
          "Assam",
          "Tamil Nadu",
          "Andhra Pradesh",
          "Goa",
          "Puducherry",
          "Andaman and Nicobar Islands",
          "Kerala"
         ],
         "xaxis": "x",
         "y": [
          1.0477409782845537,
          1.1476614517741544,
          1.217294927212505,
          1.36188482565295,
          1.4532175374754412,
          1.464581499732477,
          1.5635611799264035,
          1.5977491326545004,
          1.6721745760338977,
          1.7800104470278206,
          2.1089470521047096,
          2.6065090511727984,
          2.697968958608965,
          2.8571371733738697,
          3.001836914142851,
          3.3843998433609577,
          3.9221896175769806,
          4.125710758548768,
          4.25526579180621,
          4.2623545170687125,
          4.627637467668646,
          4.66028019116553,
          5.115701487761958,
          6.489716410885395,
          7.033700817586967,
          7.459239568501348,
          30.010721695329874,
          126.66301300838897,
          131.80388341690974,
          419.4781258685462,
          701.9495365640053,
          2130.6989308580605,
          3091.0657985037437
         ],
         "yaxis": "y"
        }
       ],
       "layout": {
        "barmode": "relative",
        "coloraxis": {
         "colorbar": {
          "title": {
           "text": "Production_Per_Unit_Area"
          }
         },
         "colorscale": [
          [
           0,
           "#0d0887"
          ],
          [
           0.1111111111111111,
           "#46039f"
          ],
          [
           0.2222222222222222,
           "#7201a8"
          ],
          [
           0.3333333333333333,
           "#9c179e"
          ],
          [
           0.4444444444444444,
           "#bd3786"
          ],
          [
           0.5555555555555556,
           "#d8576b"
          ],
          [
           0.6666666666666666,
           "#ed7953"
          ],
          [
           0.7777777777777778,
           "#fb9f3a"
          ],
          [
           0.8888888888888888,
           "#fdca26"
          ],
          [
           1,
           "#f0f921"
          ]
         ]
        },
        "legend": {
         "tracegroupgap": 0
        },
        "margin": {
         "t": 60
        },
        "template": {
         "data": {
          "bar": [
           {
            "error_x": {
             "color": "#2a3f5f"
            },
            "error_y": {
             "color": "#2a3f5f"
            },
            "marker": {
             "line": {
              "color": "#E5ECF6",
              "width": 0.5
             },
             "pattern": {
              "fillmode": "overlay",
              "size": 10,
              "solidity": 0.2
             }
            },
            "type": "bar"
           }
          ],
          "barpolar": [
           {
            "marker": {
             "line": {
              "color": "#E5ECF6",
              "width": 0.5
             },
             "pattern": {
              "fillmode": "overlay",
              "size": 10,
              "solidity": 0.2
             }
            },
            "type": "barpolar"
           }
          ],
          "carpet": [
           {
            "aaxis": {
             "endlinecolor": "#2a3f5f",
             "gridcolor": "white",
             "linecolor": "white",
             "minorgridcolor": "white",
             "startlinecolor": "#2a3f5f"
            },
            "baxis": {
             "endlinecolor": "#2a3f5f",
             "gridcolor": "white",
             "linecolor": "white",
             "minorgridcolor": "white",
             "startlinecolor": "#2a3f5f"
            },
            "type": "carpet"
           }
          ],
          "choropleth": [
           {
            "colorbar": {
             "outlinewidth": 0,
             "ticks": ""
            },
            "type": "choropleth"
           }
          ],
          "contour": [
           {
            "colorbar": {
             "outlinewidth": 0,
             "ticks": ""
            },
            "colorscale": [
             [
              0,
              "#0d0887"
             ],
             [
              0.1111111111111111,
              "#46039f"
             ],
             [
              0.2222222222222222,
              "#7201a8"
             ],
             [
              0.3333333333333333,
              "#9c179e"
             ],
             [
              0.4444444444444444,
              "#bd3786"
             ],
             [
              0.5555555555555556,
              "#d8576b"
             ],
             [
              0.6666666666666666,
              "#ed7953"
             ],
             [
              0.7777777777777778,
              "#fb9f3a"
             ],
             [
              0.8888888888888888,
              "#fdca26"
             ],
             [
              1,
              "#f0f921"
             ]
            ],
            "type": "contour"
           }
          ],
          "contourcarpet": [
           {
            "colorbar": {
             "outlinewidth": 0,
             "ticks": ""
            },
            "type": "contourcarpet"
           }
          ],
          "heatmap": [
           {
            "colorbar": {
             "outlinewidth": 0,
             "ticks": ""
            },
            "colorscale": [
             [
              0,
              "#0d0887"
             ],
             [
              0.1111111111111111,
              "#46039f"
             ],
             [
              0.2222222222222222,
              "#7201a8"
             ],
             [
              0.3333333333333333,
              "#9c179e"
             ],
             [
              0.4444444444444444,
              "#bd3786"
             ],
             [
              0.5555555555555556,
              "#d8576b"
             ],
             [
              0.6666666666666666,
              "#ed7953"
             ],
             [
              0.7777777777777778,
              "#fb9f3a"
             ],
             [
              0.8888888888888888,
              "#fdca26"
             ],
             [
              1,
              "#f0f921"
             ]
            ],
            "type": "heatmap"
           }
          ],
          "heatmapgl": [
           {
            "colorbar": {
             "outlinewidth": 0,
             "ticks": ""
            },
            "colorscale": [
             [
              0,
              "#0d0887"
             ],
             [
              0.1111111111111111,
              "#46039f"
             ],
             [
              0.2222222222222222,
              "#7201a8"
             ],
             [
              0.3333333333333333,
              "#9c179e"
             ],
             [
              0.4444444444444444,
              "#bd3786"
             ],
             [
              0.5555555555555556,
              "#d8576b"
             ],
             [
              0.6666666666666666,
              "#ed7953"
             ],
             [
              0.7777777777777778,
              "#fb9f3a"
             ],
             [
              0.8888888888888888,
              "#fdca26"
             ],
             [
              1,
              "#f0f921"
             ]
            ],
            "type": "heatmapgl"
           }
          ],
          "histogram": [
           {
            "marker": {
             "pattern": {
              "fillmode": "overlay",
              "size": 10,
              "solidity": 0.2
             }
            },
            "type": "histogram"
           }
          ],
          "histogram2d": [
           {
            "colorbar": {
             "outlinewidth": 0,
             "ticks": ""
            },
            "colorscale": [
             [
              0,
              "#0d0887"
             ],
             [
              0.1111111111111111,
              "#46039f"
             ],
             [
              0.2222222222222222,
              "#7201a8"
             ],
             [
              0.3333333333333333,
              "#9c179e"
             ],
             [
              0.4444444444444444,
              "#bd3786"
             ],
             [
              0.5555555555555556,
              "#d8576b"
             ],
             [
              0.6666666666666666,
              "#ed7953"
             ],
             [
              0.7777777777777778,
              "#fb9f3a"
             ],
             [
              0.8888888888888888,
              "#fdca26"
             ],
             [
              1,
              "#f0f921"
             ]
            ],
            "type": "histogram2d"
           }
          ],
          "histogram2dcontour": [
           {
            "colorbar": {
             "outlinewidth": 0,
             "ticks": ""
            },
            "colorscale": [
             [
              0,
              "#0d0887"
             ],
             [
              0.1111111111111111,
              "#46039f"
             ],
             [
              0.2222222222222222,
              "#7201a8"
             ],
             [
              0.3333333333333333,
              "#9c179e"
             ],
             [
              0.4444444444444444,
              "#bd3786"
             ],
             [
              0.5555555555555556,
              "#d8576b"
             ],
             [
              0.6666666666666666,
              "#ed7953"
             ],
             [
              0.7777777777777778,
              "#fb9f3a"
             ],
             [
              0.8888888888888888,
              "#fdca26"
             ],
             [
              1,
              "#f0f921"
             ]
            ],
            "type": "histogram2dcontour"
           }
          ],
          "mesh3d": [
           {
            "colorbar": {
             "outlinewidth": 0,
             "ticks": ""
            },
            "type": "mesh3d"
           }
          ],
          "parcoords": [
           {
            "line": {
             "colorbar": {
              "outlinewidth": 0,
              "ticks": ""
             }
            },
            "type": "parcoords"
           }
          ],
          "pie": [
           {
            "automargin": true,
            "type": "pie"
           }
          ],
          "scatter": [
           {
            "fillpattern": {
             "fillmode": "overlay",
             "size": 10,
             "solidity": 0.2
            },
            "type": "scatter"
           }
          ],
          "scatter3d": [
           {
            "line": {
             "colorbar": {
              "outlinewidth": 0,
              "ticks": ""
             }
            },
            "marker": {
             "colorbar": {
              "outlinewidth": 0,
              "ticks": ""
             }
            },
            "type": "scatter3d"
           }
          ],
          "scattercarpet": [
           {
            "marker": {
             "colorbar": {
              "outlinewidth": 0,
              "ticks": ""
             }
            },
            "type": "scattercarpet"
           }
          ],
          "scattergeo": [
           {
            "marker": {
             "colorbar": {
              "outlinewidth": 0,
              "ticks": ""
             }
            },
            "type": "scattergeo"
           }
          ],
          "scattergl": [
           {
            "marker": {
             "colorbar": {
              "outlinewidth": 0,
              "ticks": ""
             }
            },
            "type": "scattergl"
           }
          ],
          "scattermapbox": [
           {
            "marker": {
             "colorbar": {
              "outlinewidth": 0,
              "ticks": ""
             }
            },
            "type": "scattermapbox"
           }
          ],
          "scatterpolar": [
           {
            "marker": {
             "colorbar": {
              "outlinewidth": 0,
              "ticks": ""
             }
            },
            "type": "scatterpolar"
           }
          ],
          "scatterpolargl": [
           {
            "marker": {
             "colorbar": {
              "outlinewidth": 0,
              "ticks": ""
             }
            },
            "type": "scatterpolargl"
           }
          ],
          "scatterternary": [
           {
            "marker": {
             "colorbar": {
              "outlinewidth": 0,
              "ticks": ""
             }
            },
            "type": "scatterternary"
           }
          ],
          "surface": [
           {
            "colorbar": {
             "outlinewidth": 0,
             "ticks": ""
            },
            "colorscale": [
             [
              0,
              "#0d0887"
             ],
             [
              0.1111111111111111,
              "#46039f"
             ],
             [
              0.2222222222222222,
              "#7201a8"
             ],
             [
              0.3333333333333333,
              "#9c179e"
             ],
             [
              0.4444444444444444,
              "#bd3786"
             ],
             [
              0.5555555555555556,
              "#d8576b"
             ],
             [
              0.6666666666666666,
              "#ed7953"
             ],
             [
              0.7777777777777778,
              "#fb9f3a"
             ],
             [
              0.8888888888888888,
              "#fdca26"
             ],
             [
              1,
              "#f0f921"
             ]
            ],
            "type": "surface"
           }
          ],
          "table": [
           {
            "cells": {
             "fill": {
              "color": "#EBF0F8"
             },
             "line": {
              "color": "white"
             }
            },
            "header": {
             "fill": {
              "color": "#C8D4E3"
             },
             "line": {
              "color": "white"
             }
            },
            "type": "table"
           }
          ]
         },
         "layout": {
          "annotationdefaults": {
           "arrowcolor": "#2a3f5f",
           "arrowhead": 0,
           "arrowwidth": 1
          },
          "autotypenumbers": "strict",
          "coloraxis": {
           "colorbar": {
            "outlinewidth": 0,
            "ticks": ""
           }
          },
          "colorscale": {
           "diverging": [
            [
             0,
             "#8e0152"
            ],
            [
             0.1,
             "#c51b7d"
            ],
            [
             0.2,
             "#de77ae"
            ],
            [
             0.3,
             "#f1b6da"
            ],
            [
             0.4,
             "#fde0ef"
            ],
            [
             0.5,
             "#f7f7f7"
            ],
            [
             0.6,
             "#e6f5d0"
            ],
            [
             0.7,
             "#b8e186"
            ],
            [
             0.8,
             "#7fbc41"
            ],
            [
             0.9,
             "#4d9221"
            ],
            [
             1,
             "#276419"
            ]
           ],
           "sequential": [
            [
             0,
             "#0d0887"
            ],
            [
             0.1111111111111111,
             "#46039f"
            ],
            [
             0.2222222222222222,
             "#7201a8"
            ],
            [
             0.3333333333333333,
             "#9c179e"
            ],
            [
             0.4444444444444444,
             "#bd3786"
            ],
            [
             0.5555555555555556,
             "#d8576b"
            ],
            [
             0.6666666666666666,
             "#ed7953"
            ],
            [
             0.7777777777777778,
             "#fb9f3a"
            ],
            [
             0.8888888888888888,
             "#fdca26"
            ],
            [
             1,
             "#f0f921"
            ]
           ],
           "sequentialminus": [
            [
             0,
             "#0d0887"
            ],
            [
             0.1111111111111111,
             "#46039f"
            ],
            [
             0.2222222222222222,
             "#7201a8"
            ],
            [
             0.3333333333333333,
             "#9c179e"
            ],
            [
             0.4444444444444444,
             "#bd3786"
            ],
            [
             0.5555555555555556,
             "#d8576b"
            ],
            [
             0.6666666666666666,
             "#ed7953"
            ],
            [
             0.7777777777777778,
             "#fb9f3a"
            ],
            [
             0.8888888888888888,
             "#fdca26"
            ],
            [
             1,
             "#f0f921"
            ]
           ]
          },
          "colorway": [
           "#636efa",
           "#EF553B",
           "#00cc96",
           "#ab63fa",
           "#FFA15A",
           "#19d3f3",
           "#FF6692",
           "#B6E880",
           "#FF97FF",
           "#FECB52"
          ],
          "font": {
           "color": "#2a3f5f"
          },
          "geo": {
           "bgcolor": "white",
           "lakecolor": "white",
           "landcolor": "#E5ECF6",
           "showlakes": true,
           "showland": true,
           "subunitcolor": "white"
          },
          "hoverlabel": {
           "align": "left"
          },
          "hovermode": "closest",
          "mapbox": {
           "style": "light"
          },
          "paper_bgcolor": "white",
          "plot_bgcolor": "#E5ECF6",
          "polar": {
           "angularaxis": {
            "gridcolor": "white",
            "linecolor": "white",
            "ticks": ""
           },
           "bgcolor": "#E5ECF6",
           "radialaxis": {
            "gridcolor": "white",
            "linecolor": "white",
            "ticks": ""
           }
          },
          "scene": {
           "xaxis": {
            "backgroundcolor": "#E5ECF6",
            "gridcolor": "white",
            "gridwidth": 2,
            "linecolor": "white",
            "showbackground": true,
            "ticks": "",
            "zerolinecolor": "white"
           },
           "yaxis": {
            "backgroundcolor": "#E5ECF6",
            "gridcolor": "white",
            "gridwidth": 2,
            "linecolor": "white",
            "showbackground": true,
            "ticks": "",
            "zerolinecolor": "white"
           },
           "zaxis": {
            "backgroundcolor": "#E5ECF6",
            "gridcolor": "white",
            "gridwidth": 2,
            "linecolor": "white",
            "showbackground": true,
            "ticks": "",
            "zerolinecolor": "white"
           }
          },
          "shapedefaults": {
           "line": {
            "color": "#2a3f5f"
           }
          },
          "ternary": {
           "aaxis": {
            "gridcolor": "white",
            "linecolor": "white",
            "ticks": ""
           },
           "baxis": {
            "gridcolor": "white",
            "linecolor": "white",
            "ticks": ""
           },
           "bgcolor": "#E5ECF6",
           "caxis": {
            "gridcolor": "white",
            "linecolor": "white",
            "ticks": ""
           }
          },
          "title": {
           "x": 0.05
          },
          "xaxis": {
           "automargin": true,
           "gridcolor": "white",
           "linecolor": "white",
           "ticks": "",
           "title": {
            "standoff": 15
           },
           "zerolinecolor": "white",
           "zerolinewidth": 2
          },
          "yaxis": {
           "automargin": true,
           "gridcolor": "white",
           "linecolor": "white",
           "ticks": "",
           "title": {
            "standoff": 15
           },
           "zerolinecolor": "white",
           "zerolinewidth": 2
          }
         }
        },
        "xaxis": {
         "anchor": "y",
         "domain": [
          0,
          1
         ],
         "title": {
          "text": "State_Name"
         }
        },
        "yaxis": {
         "anchor": "x",
         "domain": [
          0,
          1
         ],
         "title": {
          "text": "Production_Per_Unit_Area"
         }
        }
       }
      }
     },
     "metadata": {},
     "output_type": "display_data"
    }
   ],
   "source": [
    "#PRODUCTIVITY IN DIFFERENT STATES\n",
    "temp = data.groupby('State_Name')['Area', 'Production'].sum().reset_index()\n",
    "temp['Production_Per_Unit_Area'] = temp['Production']/temp['Area']\n",
    "temp = temp.sort_values(by='Production_Per_Unit_Area')\n",
    "px.bar(temp, 'State_Name', 'Production_Per_Unit_Area', color='Production_Per_Unit_Area')"
   ]
  },
  {
   "cell_type": "code",
   "execution_count": 27,
   "metadata": {},
   "outputs": [
    {
     "data": {
      "application/vnd.plotly.v1+json": {
       "config": {
        "plotlyServerURL": "https://plotly.com"
       },
       "data": [
        {
         "type": "bar",
         "x": [
          "KANNUR",
          "THRISSUR",
          "THIRUVANANTHAPURAM",
          "MALAPPURAM",
          "KOZHIKODE"
         ],
         "xaxis": "x",
         "y": [
          9783432072.12,
          9923507679.7,
          10022714452.33,
          14518402342.16,
          15280739862.95
         ],
         "yaxis": "y"
        },
        {
         "type": "bar",
         "x": [
          "MUMBAI",
          "NAMSAI",
          "HYDERABAD",
          "KHUNTI",
          "RAMGARH"
         ],
         "xaxis": "x2",
         "y": [
          2,
          794,
          3835,
          5024,
          5472
         ],
         "yaxis": "y2"
        }
       ],
       "layout": {
        "annotations": [
         {
          "font": {
           "size": 16
          },
          "showarrow": false,
          "text": "Highest crop producing districts",
          "x": 0.225,
          "xanchor": "center",
          "xref": "paper",
          "y": 1,
          "yanchor": "bottom",
          "yref": "paper"
         },
         {
          "font": {
           "size": 16
          },
          "showarrow": false,
          "text": "Least overall crop producing districts",
          "x": 0.775,
          "xanchor": "center",
          "xref": "paper",
          "y": 1,
          "yanchor": "bottom",
          "yref": "paper"
         }
        ],
        "template": {
         "data": {
          "bar": [
           {
            "error_x": {
             "color": "#2a3f5f"
            },
            "error_y": {
             "color": "#2a3f5f"
            },
            "marker": {
             "line": {
              "color": "#E5ECF6",
              "width": 0.5
             },
             "pattern": {
              "fillmode": "overlay",
              "size": 10,
              "solidity": 0.2
             }
            },
            "type": "bar"
           }
          ],
          "barpolar": [
           {
            "marker": {
             "line": {
              "color": "#E5ECF6",
              "width": 0.5
             },
             "pattern": {
              "fillmode": "overlay",
              "size": 10,
              "solidity": 0.2
             }
            },
            "type": "barpolar"
           }
          ],
          "carpet": [
           {
            "aaxis": {
             "endlinecolor": "#2a3f5f",
             "gridcolor": "white",
             "linecolor": "white",
             "minorgridcolor": "white",
             "startlinecolor": "#2a3f5f"
            },
            "baxis": {
             "endlinecolor": "#2a3f5f",
             "gridcolor": "white",
             "linecolor": "white",
             "minorgridcolor": "white",
             "startlinecolor": "#2a3f5f"
            },
            "type": "carpet"
           }
          ],
          "choropleth": [
           {
            "colorbar": {
             "outlinewidth": 0,
             "ticks": ""
            },
            "type": "choropleth"
           }
          ],
          "contour": [
           {
            "colorbar": {
             "outlinewidth": 0,
             "ticks": ""
            },
            "colorscale": [
             [
              0,
              "#0d0887"
             ],
             [
              0.1111111111111111,
              "#46039f"
             ],
             [
              0.2222222222222222,
              "#7201a8"
             ],
             [
              0.3333333333333333,
              "#9c179e"
             ],
             [
              0.4444444444444444,
              "#bd3786"
             ],
             [
              0.5555555555555556,
              "#d8576b"
             ],
             [
              0.6666666666666666,
              "#ed7953"
             ],
             [
              0.7777777777777778,
              "#fb9f3a"
             ],
             [
              0.8888888888888888,
              "#fdca26"
             ],
             [
              1,
              "#f0f921"
             ]
            ],
            "type": "contour"
           }
          ],
          "contourcarpet": [
           {
            "colorbar": {
             "outlinewidth": 0,
             "ticks": ""
            },
            "type": "contourcarpet"
           }
          ],
          "heatmap": [
           {
            "colorbar": {
             "outlinewidth": 0,
             "ticks": ""
            },
            "colorscale": [
             [
              0,
              "#0d0887"
             ],
             [
              0.1111111111111111,
              "#46039f"
             ],
             [
              0.2222222222222222,
              "#7201a8"
             ],
             [
              0.3333333333333333,
              "#9c179e"
             ],
             [
              0.4444444444444444,
              "#bd3786"
             ],
             [
              0.5555555555555556,
              "#d8576b"
             ],
             [
              0.6666666666666666,
              "#ed7953"
             ],
             [
              0.7777777777777778,
              "#fb9f3a"
             ],
             [
              0.8888888888888888,
              "#fdca26"
             ],
             [
              1,
              "#f0f921"
             ]
            ],
            "type": "heatmap"
           }
          ],
          "heatmapgl": [
           {
            "colorbar": {
             "outlinewidth": 0,
             "ticks": ""
            },
            "colorscale": [
             [
              0,
              "#0d0887"
             ],
             [
              0.1111111111111111,
              "#46039f"
             ],
             [
              0.2222222222222222,
              "#7201a8"
             ],
             [
              0.3333333333333333,
              "#9c179e"
             ],
             [
              0.4444444444444444,
              "#bd3786"
             ],
             [
              0.5555555555555556,
              "#d8576b"
             ],
             [
              0.6666666666666666,
              "#ed7953"
             ],
             [
              0.7777777777777778,
              "#fb9f3a"
             ],
             [
              0.8888888888888888,
              "#fdca26"
             ],
             [
              1,
              "#f0f921"
             ]
            ],
            "type": "heatmapgl"
           }
          ],
          "histogram": [
           {
            "marker": {
             "pattern": {
              "fillmode": "overlay",
              "size": 10,
              "solidity": 0.2
             }
            },
            "type": "histogram"
           }
          ],
          "histogram2d": [
           {
            "colorbar": {
             "outlinewidth": 0,
             "ticks": ""
            },
            "colorscale": [
             [
              0,
              "#0d0887"
             ],
             [
              0.1111111111111111,
              "#46039f"
             ],
             [
              0.2222222222222222,
              "#7201a8"
             ],
             [
              0.3333333333333333,
              "#9c179e"
             ],
             [
              0.4444444444444444,
              "#bd3786"
             ],
             [
              0.5555555555555556,
              "#d8576b"
             ],
             [
              0.6666666666666666,
              "#ed7953"
             ],
             [
              0.7777777777777778,
              "#fb9f3a"
             ],
             [
              0.8888888888888888,
              "#fdca26"
             ],
             [
              1,
              "#f0f921"
             ]
            ],
            "type": "histogram2d"
           }
          ],
          "histogram2dcontour": [
           {
            "colorbar": {
             "outlinewidth": 0,
             "ticks": ""
            },
            "colorscale": [
             [
              0,
              "#0d0887"
             ],
             [
              0.1111111111111111,
              "#46039f"
             ],
             [
              0.2222222222222222,
              "#7201a8"
             ],
             [
              0.3333333333333333,
              "#9c179e"
             ],
             [
              0.4444444444444444,
              "#bd3786"
             ],
             [
              0.5555555555555556,
              "#d8576b"
             ],
             [
              0.6666666666666666,
              "#ed7953"
             ],
             [
              0.7777777777777778,
              "#fb9f3a"
             ],
             [
              0.8888888888888888,
              "#fdca26"
             ],
             [
              1,
              "#f0f921"
             ]
            ],
            "type": "histogram2dcontour"
           }
          ],
          "mesh3d": [
           {
            "colorbar": {
             "outlinewidth": 0,
             "ticks": ""
            },
            "type": "mesh3d"
           }
          ],
          "parcoords": [
           {
            "line": {
             "colorbar": {
              "outlinewidth": 0,
              "ticks": ""
             }
            },
            "type": "parcoords"
           }
          ],
          "pie": [
           {
            "automargin": true,
            "type": "pie"
           }
          ],
          "scatter": [
           {
            "fillpattern": {
             "fillmode": "overlay",
             "size": 10,
             "solidity": 0.2
            },
            "type": "scatter"
           }
          ],
          "scatter3d": [
           {
            "line": {
             "colorbar": {
              "outlinewidth": 0,
              "ticks": ""
             }
            },
            "marker": {
             "colorbar": {
              "outlinewidth": 0,
              "ticks": ""
             }
            },
            "type": "scatter3d"
           }
          ],
          "scattercarpet": [
           {
            "marker": {
             "colorbar": {
              "outlinewidth": 0,
              "ticks": ""
             }
            },
            "type": "scattercarpet"
           }
          ],
          "scattergeo": [
           {
            "marker": {
             "colorbar": {
              "outlinewidth": 0,
              "ticks": ""
             }
            },
            "type": "scattergeo"
           }
          ],
          "scattergl": [
           {
            "marker": {
             "colorbar": {
              "outlinewidth": 0,
              "ticks": ""
             }
            },
            "type": "scattergl"
           }
          ],
          "scattermapbox": [
           {
            "marker": {
             "colorbar": {
              "outlinewidth": 0,
              "ticks": ""
             }
            },
            "type": "scattermapbox"
           }
          ],
          "scatterpolar": [
           {
            "marker": {
             "colorbar": {
              "outlinewidth": 0,
              "ticks": ""
             }
            },
            "type": "scatterpolar"
           }
          ],
          "scatterpolargl": [
           {
            "marker": {
             "colorbar": {
              "outlinewidth": 0,
              "ticks": ""
             }
            },
            "type": "scatterpolargl"
           }
          ],
          "scatterternary": [
           {
            "marker": {
             "colorbar": {
              "outlinewidth": 0,
              "ticks": ""
             }
            },
            "type": "scatterternary"
           }
          ],
          "surface": [
           {
            "colorbar": {
             "outlinewidth": 0,
             "ticks": ""
            },
            "colorscale": [
             [
              0,
              "#0d0887"
             ],
             [
              0.1111111111111111,
              "#46039f"
             ],
             [
              0.2222222222222222,
              "#7201a8"
             ],
             [
              0.3333333333333333,
              "#9c179e"
             ],
             [
              0.4444444444444444,
              "#bd3786"
             ],
             [
              0.5555555555555556,
              "#d8576b"
             ],
             [
              0.6666666666666666,
              "#ed7953"
             ],
             [
              0.7777777777777778,
              "#fb9f3a"
             ],
             [
              0.8888888888888888,
              "#fdca26"
             ],
             [
              1,
              "#f0f921"
             ]
            ],
            "type": "surface"
           }
          ],
          "table": [
           {
            "cells": {
             "fill": {
              "color": "#EBF0F8"
             },
             "line": {
              "color": "white"
             }
            },
            "header": {
             "fill": {
              "color": "#C8D4E3"
             },
             "line": {
              "color": "white"
             }
            },
            "type": "table"
           }
          ]
         },
         "layout": {
          "annotationdefaults": {
           "arrowcolor": "#2a3f5f",
           "arrowhead": 0,
           "arrowwidth": 1
          },
          "autotypenumbers": "strict",
          "coloraxis": {
           "colorbar": {
            "outlinewidth": 0,
            "ticks": ""
           }
          },
          "colorscale": {
           "diverging": [
            [
             0,
             "#8e0152"
            ],
            [
             0.1,
             "#c51b7d"
            ],
            [
             0.2,
             "#de77ae"
            ],
            [
             0.3,
             "#f1b6da"
            ],
            [
             0.4,
             "#fde0ef"
            ],
            [
             0.5,
             "#f7f7f7"
            ],
            [
             0.6,
             "#e6f5d0"
            ],
            [
             0.7,
             "#b8e186"
            ],
            [
             0.8,
             "#7fbc41"
            ],
            [
             0.9,
             "#4d9221"
            ],
            [
             1,
             "#276419"
            ]
           ],
           "sequential": [
            [
             0,
             "#0d0887"
            ],
            [
             0.1111111111111111,
             "#46039f"
            ],
            [
             0.2222222222222222,
             "#7201a8"
            ],
            [
             0.3333333333333333,
             "#9c179e"
            ],
            [
             0.4444444444444444,
             "#bd3786"
            ],
            [
             0.5555555555555556,
             "#d8576b"
            ],
            [
             0.6666666666666666,
             "#ed7953"
            ],
            [
             0.7777777777777778,
             "#fb9f3a"
            ],
            [
             0.8888888888888888,
             "#fdca26"
            ],
            [
             1,
             "#f0f921"
            ]
           ],
           "sequentialminus": [
            [
             0,
             "#0d0887"
            ],
            [
             0.1111111111111111,
             "#46039f"
            ],
            [
             0.2222222222222222,
             "#7201a8"
            ],
            [
             0.3333333333333333,
             "#9c179e"
            ],
            [
             0.4444444444444444,
             "#bd3786"
            ],
            [
             0.5555555555555556,
             "#d8576b"
            ],
            [
             0.6666666666666666,
             "#ed7953"
            ],
            [
             0.7777777777777778,
             "#fb9f3a"
            ],
            [
             0.8888888888888888,
             "#fdca26"
            ],
            [
             1,
             "#f0f921"
            ]
           ]
          },
          "colorway": [
           "#636efa",
           "#EF553B",
           "#00cc96",
           "#ab63fa",
           "#FFA15A",
           "#19d3f3",
           "#FF6692",
           "#B6E880",
           "#FF97FF",
           "#FECB52"
          ],
          "font": {
           "color": "#2a3f5f"
          },
          "geo": {
           "bgcolor": "white",
           "lakecolor": "white",
           "landcolor": "#E5ECF6",
           "showlakes": true,
           "showland": true,
           "subunitcolor": "white"
          },
          "hoverlabel": {
           "align": "left"
          },
          "hovermode": "closest",
          "mapbox": {
           "style": "light"
          },
          "paper_bgcolor": "white",
          "plot_bgcolor": "#E5ECF6",
          "polar": {
           "angularaxis": {
            "gridcolor": "white",
            "linecolor": "white",
            "ticks": ""
           },
           "bgcolor": "#E5ECF6",
           "radialaxis": {
            "gridcolor": "white",
            "linecolor": "white",
            "ticks": ""
           }
          },
          "scene": {
           "xaxis": {
            "backgroundcolor": "#E5ECF6",
            "gridcolor": "white",
            "gridwidth": 2,
            "linecolor": "white",
            "showbackground": true,
            "ticks": "",
            "zerolinecolor": "white"
           },
           "yaxis": {
            "backgroundcolor": "#E5ECF6",
            "gridcolor": "white",
            "gridwidth": 2,
            "linecolor": "white",
            "showbackground": true,
            "ticks": "",
            "zerolinecolor": "white"
           },
           "zaxis": {
            "backgroundcolor": "#E5ECF6",
            "gridcolor": "white",
            "gridwidth": 2,
            "linecolor": "white",
            "showbackground": true,
            "ticks": "",
            "zerolinecolor": "white"
           }
          },
          "shapedefaults": {
           "line": {
            "color": "#2a3f5f"
           }
          },
          "ternary": {
           "aaxis": {
            "gridcolor": "white",
            "linecolor": "white",
            "ticks": ""
           },
           "baxis": {
            "gridcolor": "white",
            "linecolor": "white",
            "ticks": ""
           },
           "bgcolor": "#E5ECF6",
           "caxis": {
            "gridcolor": "white",
            "linecolor": "white",
            "ticks": ""
           }
          },
          "title": {
           "x": 0.05
          },
          "xaxis": {
           "automargin": true,
           "gridcolor": "white",
           "linecolor": "white",
           "ticks": "",
           "title": {
            "standoff": 15
           },
           "zerolinecolor": "white",
           "zerolinewidth": 2
          },
          "yaxis": {
           "automargin": true,
           "gridcolor": "white",
           "linecolor": "white",
           "ticks": "",
           "title": {
            "standoff": 15
           },
           "zerolinecolor": "white",
           "zerolinewidth": 2
          }
         }
        },
        "xaxis": {
         "anchor": "y",
         "domain": [
          0,
          0.45
         ]
        },
        "xaxis2": {
         "anchor": "y2",
         "domain": [
          0.55,
          1
         ]
        },
        "yaxis": {
         "anchor": "x",
         "domain": [
          0,
          1
         ]
        },
        "yaxis2": {
         "anchor": "x2",
         "domain": [
          0,
          1
         ]
        }
       }
      }
     },
     "metadata": {},
     "output_type": "display_data"
    }
   ],
   "source": [
    "\n",
    "#MOST AND LEAST PRODUCING CROP DISTRICTS\n",
    "from plotly.subplots import make_subplots\n",
    "import plotly.graph_objects as go\n",
    "\n",
    "\n",
    "fig = make_subplots(rows=1,cols=2,\n",
    "\n",
    "                subplot_titles=('Highest crop producing districts', 'Least overall crop producing districts'))\n",
    "\n",
    "temp = data.groupby(by='District_Name')['Production'].sum().reset_index().sort_values(by='Production')\n",
    "temp1 = temp.tail()\n",
    "trace1 = go.Bar(x= temp1['District_Name'], y=temp1['Production'])\n",
    "\n",
    "temp1=temp.head()\n",
    "trace2 = go.Bar(x= temp1['District_Name'], y=temp1['Production'])\n",
    "\n",
    "fig.append_trace(trace1,1,1)\n",
    "fig.append_trace(trace2,1,2)\n",
    "fig.show()\n",
    "del temp,temp1"
   ]
  },
  {
   "cell_type": "code",
   "execution_count": 28,
   "metadata": {},
   "outputs": [
    {
     "data": {
      "application/vnd.plotly.v1+json": {
       "config": {
        "plotlyServerURL": "https://plotly.com"
       },
       "data": [
        {
         "alignmentgroup": "True",
         "hovertemplate": "Crop=%{x}<br>Production=%{y}<extra></extra>",
         "legendgroup": "",
         "marker": {
          "color": "#636efa",
          "pattern": {
           "shape": ""
          }
         },
         "name": "",
         "offsetgroup": "",
         "orientation": "v",
         "showlegend": false,
         "textposition": "auto",
         "type": "bar",
         "x": [
          "Potato",
          "Wheat",
          "Rice",
          "Sugarcane",
          "Coconut "
         ],
         "xaxis": "x",
         "y": [
          424826343.86,
          1332825656.8,
          1605470383.37,
          5535681525.92,
          129981629216.29
         ],
         "yaxis": "y"
        }
       ],
       "layout": {
        "barmode": "relative",
        "legend": {
         "tracegroupgap": 0
        },
        "margin": {
         "t": 60
        },
        "template": {
         "data": {
          "bar": [
           {
            "error_x": {
             "color": "#2a3f5f"
            },
            "error_y": {
             "color": "#2a3f5f"
            },
            "marker": {
             "line": {
              "color": "#E5ECF6",
              "width": 0.5
             },
             "pattern": {
              "fillmode": "overlay",
              "size": 10,
              "solidity": 0.2
             }
            },
            "type": "bar"
           }
          ],
          "barpolar": [
           {
            "marker": {
             "line": {
              "color": "#E5ECF6",
              "width": 0.5
             },
             "pattern": {
              "fillmode": "overlay",
              "size": 10,
              "solidity": 0.2
             }
            },
            "type": "barpolar"
           }
          ],
          "carpet": [
           {
            "aaxis": {
             "endlinecolor": "#2a3f5f",
             "gridcolor": "white",
             "linecolor": "white",
             "minorgridcolor": "white",
             "startlinecolor": "#2a3f5f"
            },
            "baxis": {
             "endlinecolor": "#2a3f5f",
             "gridcolor": "white",
             "linecolor": "white",
             "minorgridcolor": "white",
             "startlinecolor": "#2a3f5f"
            },
            "type": "carpet"
           }
          ],
          "choropleth": [
           {
            "colorbar": {
             "outlinewidth": 0,
             "ticks": ""
            },
            "type": "choropleth"
           }
          ],
          "contour": [
           {
            "colorbar": {
             "outlinewidth": 0,
             "ticks": ""
            },
            "colorscale": [
             [
              0,
              "#0d0887"
             ],
             [
              0.1111111111111111,
              "#46039f"
             ],
             [
              0.2222222222222222,
              "#7201a8"
             ],
             [
              0.3333333333333333,
              "#9c179e"
             ],
             [
              0.4444444444444444,
              "#bd3786"
             ],
             [
              0.5555555555555556,
              "#d8576b"
             ],
             [
              0.6666666666666666,
              "#ed7953"
             ],
             [
              0.7777777777777778,
              "#fb9f3a"
             ],
             [
              0.8888888888888888,
              "#fdca26"
             ],
             [
              1,
              "#f0f921"
             ]
            ],
            "type": "contour"
           }
          ],
          "contourcarpet": [
           {
            "colorbar": {
             "outlinewidth": 0,
             "ticks": ""
            },
            "type": "contourcarpet"
           }
          ],
          "heatmap": [
           {
            "colorbar": {
             "outlinewidth": 0,
             "ticks": ""
            },
            "colorscale": [
             [
              0,
              "#0d0887"
             ],
             [
              0.1111111111111111,
              "#46039f"
             ],
             [
              0.2222222222222222,
              "#7201a8"
             ],
             [
              0.3333333333333333,
              "#9c179e"
             ],
             [
              0.4444444444444444,
              "#bd3786"
             ],
             [
              0.5555555555555556,
              "#d8576b"
             ],
             [
              0.6666666666666666,
              "#ed7953"
             ],
             [
              0.7777777777777778,
              "#fb9f3a"
             ],
             [
              0.8888888888888888,
              "#fdca26"
             ],
             [
              1,
              "#f0f921"
             ]
            ],
            "type": "heatmap"
           }
          ],
          "heatmapgl": [
           {
            "colorbar": {
             "outlinewidth": 0,
             "ticks": ""
            },
            "colorscale": [
             [
              0,
              "#0d0887"
             ],
             [
              0.1111111111111111,
              "#46039f"
             ],
             [
              0.2222222222222222,
              "#7201a8"
             ],
             [
              0.3333333333333333,
              "#9c179e"
             ],
             [
              0.4444444444444444,
              "#bd3786"
             ],
             [
              0.5555555555555556,
              "#d8576b"
             ],
             [
              0.6666666666666666,
              "#ed7953"
             ],
             [
              0.7777777777777778,
              "#fb9f3a"
             ],
             [
              0.8888888888888888,
              "#fdca26"
             ],
             [
              1,
              "#f0f921"
             ]
            ],
            "type": "heatmapgl"
           }
          ],
          "histogram": [
           {
            "marker": {
             "pattern": {
              "fillmode": "overlay",
              "size": 10,
              "solidity": 0.2
             }
            },
            "type": "histogram"
           }
          ],
          "histogram2d": [
           {
            "colorbar": {
             "outlinewidth": 0,
             "ticks": ""
            },
            "colorscale": [
             [
              0,
              "#0d0887"
             ],
             [
              0.1111111111111111,
              "#46039f"
             ],
             [
              0.2222222222222222,
              "#7201a8"
             ],
             [
              0.3333333333333333,
              "#9c179e"
             ],
             [
              0.4444444444444444,
              "#bd3786"
             ],
             [
              0.5555555555555556,
              "#d8576b"
             ],
             [
              0.6666666666666666,
              "#ed7953"
             ],
             [
              0.7777777777777778,
              "#fb9f3a"
             ],
             [
              0.8888888888888888,
              "#fdca26"
             ],
             [
              1,
              "#f0f921"
             ]
            ],
            "type": "histogram2d"
           }
          ],
          "histogram2dcontour": [
           {
            "colorbar": {
             "outlinewidth": 0,
             "ticks": ""
            },
            "colorscale": [
             [
              0,
              "#0d0887"
             ],
             [
              0.1111111111111111,
              "#46039f"
             ],
             [
              0.2222222222222222,
              "#7201a8"
             ],
             [
              0.3333333333333333,
              "#9c179e"
             ],
             [
              0.4444444444444444,
              "#bd3786"
             ],
             [
              0.5555555555555556,
              "#d8576b"
             ],
             [
              0.6666666666666666,
              "#ed7953"
             ],
             [
              0.7777777777777778,
              "#fb9f3a"
             ],
             [
              0.8888888888888888,
              "#fdca26"
             ],
             [
              1,
              "#f0f921"
             ]
            ],
            "type": "histogram2dcontour"
           }
          ],
          "mesh3d": [
           {
            "colorbar": {
             "outlinewidth": 0,
             "ticks": ""
            },
            "type": "mesh3d"
           }
          ],
          "parcoords": [
           {
            "line": {
             "colorbar": {
              "outlinewidth": 0,
              "ticks": ""
             }
            },
            "type": "parcoords"
           }
          ],
          "pie": [
           {
            "automargin": true,
            "type": "pie"
           }
          ],
          "scatter": [
           {
            "fillpattern": {
             "fillmode": "overlay",
             "size": 10,
             "solidity": 0.2
            },
            "type": "scatter"
           }
          ],
          "scatter3d": [
           {
            "line": {
             "colorbar": {
              "outlinewidth": 0,
              "ticks": ""
             }
            },
            "marker": {
             "colorbar": {
              "outlinewidth": 0,
              "ticks": ""
             }
            },
            "type": "scatter3d"
           }
          ],
          "scattercarpet": [
           {
            "marker": {
             "colorbar": {
              "outlinewidth": 0,
              "ticks": ""
             }
            },
            "type": "scattercarpet"
           }
          ],
          "scattergeo": [
           {
            "marker": {
             "colorbar": {
              "outlinewidth": 0,
              "ticks": ""
             }
            },
            "type": "scattergeo"
           }
          ],
          "scattergl": [
           {
            "marker": {
             "colorbar": {
              "outlinewidth": 0,
              "ticks": ""
             }
            },
            "type": "scattergl"
           }
          ],
          "scattermapbox": [
           {
            "marker": {
             "colorbar": {
              "outlinewidth": 0,
              "ticks": ""
             }
            },
            "type": "scattermapbox"
           }
          ],
          "scatterpolar": [
           {
            "marker": {
             "colorbar": {
              "outlinewidth": 0,
              "ticks": ""
             }
            },
            "type": "scatterpolar"
           }
          ],
          "scatterpolargl": [
           {
            "marker": {
             "colorbar": {
              "outlinewidth": 0,
              "ticks": ""
             }
            },
            "type": "scatterpolargl"
           }
          ],
          "scatterternary": [
           {
            "marker": {
             "colorbar": {
              "outlinewidth": 0,
              "ticks": ""
             }
            },
            "type": "scatterternary"
           }
          ],
          "surface": [
           {
            "colorbar": {
             "outlinewidth": 0,
             "ticks": ""
            },
            "colorscale": [
             [
              0,
              "#0d0887"
             ],
             [
              0.1111111111111111,
              "#46039f"
             ],
             [
              0.2222222222222222,
              "#7201a8"
             ],
             [
              0.3333333333333333,
              "#9c179e"
             ],
             [
              0.4444444444444444,
              "#bd3786"
             ],
             [
              0.5555555555555556,
              "#d8576b"
             ],
             [
              0.6666666666666666,
              "#ed7953"
             ],
             [
              0.7777777777777778,
              "#fb9f3a"
             ],
             [
              0.8888888888888888,
              "#fdca26"
             ],
             [
              1,
              "#f0f921"
             ]
            ],
            "type": "surface"
           }
          ],
          "table": [
           {
            "cells": {
             "fill": {
              "color": "#EBF0F8"
             },
             "line": {
              "color": "white"
             }
            },
            "header": {
             "fill": {
              "color": "#C8D4E3"
             },
             "line": {
              "color": "white"
             }
            },
            "type": "table"
           }
          ]
         },
         "layout": {
          "annotationdefaults": {
           "arrowcolor": "#2a3f5f",
           "arrowhead": 0,
           "arrowwidth": 1
          },
          "autotypenumbers": "strict",
          "coloraxis": {
           "colorbar": {
            "outlinewidth": 0,
            "ticks": ""
           }
          },
          "colorscale": {
           "diverging": [
            [
             0,
             "#8e0152"
            ],
            [
             0.1,
             "#c51b7d"
            ],
            [
             0.2,
             "#de77ae"
            ],
            [
             0.3,
             "#f1b6da"
            ],
            [
             0.4,
             "#fde0ef"
            ],
            [
             0.5,
             "#f7f7f7"
            ],
            [
             0.6,
             "#e6f5d0"
            ],
            [
             0.7,
             "#b8e186"
            ],
            [
             0.8,
             "#7fbc41"
            ],
            [
             0.9,
             "#4d9221"
            ],
            [
             1,
             "#276419"
            ]
           ],
           "sequential": [
            [
             0,
             "#0d0887"
            ],
            [
             0.1111111111111111,
             "#46039f"
            ],
            [
             0.2222222222222222,
             "#7201a8"
            ],
            [
             0.3333333333333333,
             "#9c179e"
            ],
            [
             0.4444444444444444,
             "#bd3786"
            ],
            [
             0.5555555555555556,
             "#d8576b"
            ],
            [
             0.6666666666666666,
             "#ed7953"
            ],
            [
             0.7777777777777778,
             "#fb9f3a"
            ],
            [
             0.8888888888888888,
             "#fdca26"
            ],
            [
             1,
             "#f0f921"
            ]
           ],
           "sequentialminus": [
            [
             0,
             "#0d0887"
            ],
            [
             0.1111111111111111,
             "#46039f"
            ],
            [
             0.2222222222222222,
             "#7201a8"
            ],
            [
             0.3333333333333333,
             "#9c179e"
            ],
            [
             0.4444444444444444,
             "#bd3786"
            ],
            [
             0.5555555555555556,
             "#d8576b"
            ],
            [
             0.6666666666666666,
             "#ed7953"
            ],
            [
             0.7777777777777778,
             "#fb9f3a"
            ],
            [
             0.8888888888888888,
             "#fdca26"
            ],
            [
             1,
             "#f0f921"
            ]
           ]
          },
          "colorway": [
           "#636efa",
           "#EF553B",
           "#00cc96",
           "#ab63fa",
           "#FFA15A",
           "#19d3f3",
           "#FF6692",
           "#B6E880",
           "#FF97FF",
           "#FECB52"
          ],
          "font": {
           "color": "#2a3f5f"
          },
          "geo": {
           "bgcolor": "white",
           "lakecolor": "white",
           "landcolor": "#E5ECF6",
           "showlakes": true,
           "showland": true,
           "subunitcolor": "white"
          },
          "hoverlabel": {
           "align": "left"
          },
          "hovermode": "closest",
          "mapbox": {
           "style": "light"
          },
          "paper_bgcolor": "white",
          "plot_bgcolor": "#E5ECF6",
          "polar": {
           "angularaxis": {
            "gridcolor": "white",
            "linecolor": "white",
            "ticks": ""
           },
           "bgcolor": "#E5ECF6",
           "radialaxis": {
            "gridcolor": "white",
            "linecolor": "white",
            "ticks": ""
           }
          },
          "scene": {
           "xaxis": {
            "backgroundcolor": "#E5ECF6",
            "gridcolor": "white",
            "gridwidth": 2,
            "linecolor": "white",
            "showbackground": true,
            "ticks": "",
            "zerolinecolor": "white"
           },
           "yaxis": {
            "backgroundcolor": "#E5ECF6",
            "gridcolor": "white",
            "gridwidth": 2,
            "linecolor": "white",
            "showbackground": true,
            "ticks": "",
            "zerolinecolor": "white"
           },
           "zaxis": {
            "backgroundcolor": "#E5ECF6",
            "gridcolor": "white",
            "gridwidth": 2,
            "linecolor": "white",
            "showbackground": true,
            "ticks": "",
            "zerolinecolor": "white"
           }
          },
          "shapedefaults": {
           "line": {
            "color": "#2a3f5f"
           }
          },
          "ternary": {
           "aaxis": {
            "gridcolor": "white",
            "linecolor": "white",
            "ticks": ""
           },
           "baxis": {
            "gridcolor": "white",
            "linecolor": "white",
            "ticks": ""
           },
           "bgcolor": "#E5ECF6",
           "caxis": {
            "gridcolor": "white",
            "linecolor": "white",
            "ticks": ""
           }
          },
          "title": {
           "x": 0.05
          },
          "xaxis": {
           "automargin": true,
           "gridcolor": "white",
           "linecolor": "white",
           "ticks": "",
           "title": {
            "standoff": 15
           },
           "zerolinecolor": "white",
           "zerolinewidth": 2
          },
          "yaxis": {
           "automargin": true,
           "gridcolor": "white",
           "linecolor": "white",
           "ticks": "",
           "title": {
            "standoff": 15
           },
           "zerolinecolor": "white",
           "zerolinewidth": 2
          }
         }
        },
        "xaxis": {
         "anchor": "y",
         "domain": [
          0,
          1
         ],
         "title": {
          "text": "Crop"
         }
        },
        "yaxis": {
         "anchor": "x",
         "domain": [
          0,
          1
         ],
         "title": {
          "text": "Production"
         }
        }
       }
      }
     },
     "metadata": {},
     "output_type": "display_data"
    }
   ],
   "source": [
    "#MOST PRODUCED CROPS\n",
    "temp = data.groupby(by='Crop')['Production'].sum().reset_index().sort_values(by='Production')\n",
    "px.bar(temp.tail(), 'Crop', 'Production')\n"
   ]
  },
  {
   "cell_type": "code",
   "execution_count": 29,
   "metadata": {},
   "outputs": [
    {
     "data": {
      "text/html": [
       "<div>\n",
       "<style scoped>\n",
       "    .dataframe tbody tr th:only-of-type {\n",
       "        vertical-align: middle;\n",
       "    }\n",
       "\n",
       "    .dataframe tbody tr th {\n",
       "        vertical-align: top;\n",
       "    }\n",
       "\n",
       "    .dataframe thead th {\n",
       "        text-align: right;\n",
       "    }\n",
       "</style>\n",
       "<table border=\"1\" class=\"dataframe\">\n",
       "  <thead>\n",
       "    <tr style=\"text-align: right;\">\n",
       "      <th></th>\n",
       "      <th>Crop</th>\n",
       "      <th>Production</th>\n",
       "    </tr>\n",
       "  </thead>\n",
       "  <tbody>\n",
       "  </tbody>\n",
       "</table>\n",
       "</div>"
      ],
      "text/plain": [
       "Empty DataFrame\n",
       "Columns: [Crop, Production]\n",
       "Index: []"
      ]
     },
     "execution_count": 29,
     "metadata": {},
     "output_type": "execute_result"
    }
   ],
   "source": [
    "temp[temp['Production']==0]"
   ]
  },
  {
   "cell_type": "markdown",
   "metadata": {},
   "source": [
    "COCONUT IS THE MOST PRODUCED CROP IN KERALA. EXPLORING A LITTLE BIT MORE ABOUT KERALA"
   ]
  },
  {
   "cell_type": "code",
   "execution_count": 30,
   "metadata": {},
   "outputs": [
    {
     "data": {
      "application/vnd.plotly.v1+json": {
       "config": {
        "plotlyServerURL": "https://plotly.com"
       },
       "data": [
        {
         "type": "bar",
         "x": [
          "Mizoram",
          "Dadra and Nagar Haveli",
          "Karnataka",
          "Telangana ",
          "Puducherry",
          "Goa",
          "Andaman and Nicobar Islands",
          "West Bengal",
          "Assam",
          "Tamil Nadu",
          "Andhra Pradesh",
          "Kerala"
         ],
         "xaxis": "x",
         "y": [
          40,
          117288,
          56767101.29,
          105672992,
          379139000,
          503112559,
          717790000,
          717841216,
          1954408105,
          10937742655,
          16806002260,
          97803036000
         ],
         "yaxis": "y"
        },
        {
         "type": "bar",
         "x": [
          "Mizoram",
          "Dadra and Nagar Haveli",
          "Telangana ",
          "Puducherry",
          "Assam",
          "West Bengal",
          "Andhra Pradesh",
          "Andaman and Nicobar Islands",
          "Goa",
          "Tamil Nadu",
          "Karnataka",
          "Kerala"
         ],
         "xaxis": "x2",
         "y": [
          7.5,
          182.22222222222223,
          203.69230769230768,
          540.859649122807,
          806.7175,
          1408.875,
          7887.0236686390535,
          10595.680555555555,
          12751.75,
          12980,
          14005.542797494782,
          61524.01615079365
         ],
         "yaxis": "y2"
        }
       ],
       "layout": {
        "annotations": [
         {
          "font": {
           "size": 16
          },
          "showarrow": false,
          "text": "Coconut production in different states",
          "x": 0.225,
          "xanchor": "center",
          "xref": "paper",
          "y": 1,
          "yanchor": "bottom",
          "yref": "paper"
         },
         {
          "font": {
           "size": 16
          },
          "showarrow": false,
          "text": "Coconut crop area in states",
          "x": 0.775,
          "xanchor": "center",
          "xref": "paper",
          "y": 1,
          "yanchor": "bottom",
          "yref": "paper"
         }
        ],
        "template": {
         "data": {
          "bar": [
           {
            "error_x": {
             "color": "#2a3f5f"
            },
            "error_y": {
             "color": "#2a3f5f"
            },
            "marker": {
             "line": {
              "color": "#E5ECF6",
              "width": 0.5
             },
             "pattern": {
              "fillmode": "overlay",
              "size": 10,
              "solidity": 0.2
             }
            },
            "type": "bar"
           }
          ],
          "barpolar": [
           {
            "marker": {
             "line": {
              "color": "#E5ECF6",
              "width": 0.5
             },
             "pattern": {
              "fillmode": "overlay",
              "size": 10,
              "solidity": 0.2
             }
            },
            "type": "barpolar"
           }
          ],
          "carpet": [
           {
            "aaxis": {
             "endlinecolor": "#2a3f5f",
             "gridcolor": "white",
             "linecolor": "white",
             "minorgridcolor": "white",
             "startlinecolor": "#2a3f5f"
            },
            "baxis": {
             "endlinecolor": "#2a3f5f",
             "gridcolor": "white",
             "linecolor": "white",
             "minorgridcolor": "white",
             "startlinecolor": "#2a3f5f"
            },
            "type": "carpet"
           }
          ],
          "choropleth": [
           {
            "colorbar": {
             "outlinewidth": 0,
             "ticks": ""
            },
            "type": "choropleth"
           }
          ],
          "contour": [
           {
            "colorbar": {
             "outlinewidth": 0,
             "ticks": ""
            },
            "colorscale": [
             [
              0,
              "#0d0887"
             ],
             [
              0.1111111111111111,
              "#46039f"
             ],
             [
              0.2222222222222222,
              "#7201a8"
             ],
             [
              0.3333333333333333,
              "#9c179e"
             ],
             [
              0.4444444444444444,
              "#bd3786"
             ],
             [
              0.5555555555555556,
              "#d8576b"
             ],
             [
              0.6666666666666666,
              "#ed7953"
             ],
             [
              0.7777777777777778,
              "#fb9f3a"
             ],
             [
              0.8888888888888888,
              "#fdca26"
             ],
             [
              1,
              "#f0f921"
             ]
            ],
            "type": "contour"
           }
          ],
          "contourcarpet": [
           {
            "colorbar": {
             "outlinewidth": 0,
             "ticks": ""
            },
            "type": "contourcarpet"
           }
          ],
          "heatmap": [
           {
            "colorbar": {
             "outlinewidth": 0,
             "ticks": ""
            },
            "colorscale": [
             [
              0,
              "#0d0887"
             ],
             [
              0.1111111111111111,
              "#46039f"
             ],
             [
              0.2222222222222222,
              "#7201a8"
             ],
             [
              0.3333333333333333,
              "#9c179e"
             ],
             [
              0.4444444444444444,
              "#bd3786"
             ],
             [
              0.5555555555555556,
              "#d8576b"
             ],
             [
              0.6666666666666666,
              "#ed7953"
             ],
             [
              0.7777777777777778,
              "#fb9f3a"
             ],
             [
              0.8888888888888888,
              "#fdca26"
             ],
             [
              1,
              "#f0f921"
             ]
            ],
            "type": "heatmap"
           }
          ],
          "heatmapgl": [
           {
            "colorbar": {
             "outlinewidth": 0,
             "ticks": ""
            },
            "colorscale": [
             [
              0,
              "#0d0887"
             ],
             [
              0.1111111111111111,
              "#46039f"
             ],
             [
              0.2222222222222222,
              "#7201a8"
             ],
             [
              0.3333333333333333,
              "#9c179e"
             ],
             [
              0.4444444444444444,
              "#bd3786"
             ],
             [
              0.5555555555555556,
              "#d8576b"
             ],
             [
              0.6666666666666666,
              "#ed7953"
             ],
             [
              0.7777777777777778,
              "#fb9f3a"
             ],
             [
              0.8888888888888888,
              "#fdca26"
             ],
             [
              1,
              "#f0f921"
             ]
            ],
            "type": "heatmapgl"
           }
          ],
          "histogram": [
           {
            "marker": {
             "pattern": {
              "fillmode": "overlay",
              "size": 10,
              "solidity": 0.2
             }
            },
            "type": "histogram"
           }
          ],
          "histogram2d": [
           {
            "colorbar": {
             "outlinewidth": 0,
             "ticks": ""
            },
            "colorscale": [
             [
              0,
              "#0d0887"
             ],
             [
              0.1111111111111111,
              "#46039f"
             ],
             [
              0.2222222222222222,
              "#7201a8"
             ],
             [
              0.3333333333333333,
              "#9c179e"
             ],
             [
              0.4444444444444444,
              "#bd3786"
             ],
             [
              0.5555555555555556,
              "#d8576b"
             ],
             [
              0.6666666666666666,
              "#ed7953"
             ],
             [
              0.7777777777777778,
              "#fb9f3a"
             ],
             [
              0.8888888888888888,
              "#fdca26"
             ],
             [
              1,
              "#f0f921"
             ]
            ],
            "type": "histogram2d"
           }
          ],
          "histogram2dcontour": [
           {
            "colorbar": {
             "outlinewidth": 0,
             "ticks": ""
            },
            "colorscale": [
             [
              0,
              "#0d0887"
             ],
             [
              0.1111111111111111,
              "#46039f"
             ],
             [
              0.2222222222222222,
              "#7201a8"
             ],
             [
              0.3333333333333333,
              "#9c179e"
             ],
             [
              0.4444444444444444,
              "#bd3786"
             ],
             [
              0.5555555555555556,
              "#d8576b"
             ],
             [
              0.6666666666666666,
              "#ed7953"
             ],
             [
              0.7777777777777778,
              "#fb9f3a"
             ],
             [
              0.8888888888888888,
              "#fdca26"
             ],
             [
              1,
              "#f0f921"
             ]
            ],
            "type": "histogram2dcontour"
           }
          ],
          "mesh3d": [
           {
            "colorbar": {
             "outlinewidth": 0,
             "ticks": ""
            },
            "type": "mesh3d"
           }
          ],
          "parcoords": [
           {
            "line": {
             "colorbar": {
              "outlinewidth": 0,
              "ticks": ""
             }
            },
            "type": "parcoords"
           }
          ],
          "pie": [
           {
            "automargin": true,
            "type": "pie"
           }
          ],
          "scatter": [
           {
            "fillpattern": {
             "fillmode": "overlay",
             "size": 10,
             "solidity": 0.2
            },
            "type": "scatter"
           }
          ],
          "scatter3d": [
           {
            "line": {
             "colorbar": {
              "outlinewidth": 0,
              "ticks": ""
             }
            },
            "marker": {
             "colorbar": {
              "outlinewidth": 0,
              "ticks": ""
             }
            },
            "type": "scatter3d"
           }
          ],
          "scattercarpet": [
           {
            "marker": {
             "colorbar": {
              "outlinewidth": 0,
              "ticks": ""
             }
            },
            "type": "scattercarpet"
           }
          ],
          "scattergeo": [
           {
            "marker": {
             "colorbar": {
              "outlinewidth": 0,
              "ticks": ""
             }
            },
            "type": "scattergeo"
           }
          ],
          "scattergl": [
           {
            "marker": {
             "colorbar": {
              "outlinewidth": 0,
              "ticks": ""
             }
            },
            "type": "scattergl"
           }
          ],
          "scattermapbox": [
           {
            "marker": {
             "colorbar": {
              "outlinewidth": 0,
              "ticks": ""
             }
            },
            "type": "scattermapbox"
           }
          ],
          "scatterpolar": [
           {
            "marker": {
             "colorbar": {
              "outlinewidth": 0,
              "ticks": ""
             }
            },
            "type": "scatterpolar"
           }
          ],
          "scatterpolargl": [
           {
            "marker": {
             "colorbar": {
              "outlinewidth": 0,
              "ticks": ""
             }
            },
            "type": "scatterpolargl"
           }
          ],
          "scatterternary": [
           {
            "marker": {
             "colorbar": {
              "outlinewidth": 0,
              "ticks": ""
             }
            },
            "type": "scatterternary"
           }
          ],
          "surface": [
           {
            "colorbar": {
             "outlinewidth": 0,
             "ticks": ""
            },
            "colorscale": [
             [
              0,
              "#0d0887"
             ],
             [
              0.1111111111111111,
              "#46039f"
             ],
             [
              0.2222222222222222,
              "#7201a8"
             ],
             [
              0.3333333333333333,
              "#9c179e"
             ],
             [
              0.4444444444444444,
              "#bd3786"
             ],
             [
              0.5555555555555556,
              "#d8576b"
             ],
             [
              0.6666666666666666,
              "#ed7953"
             ],
             [
              0.7777777777777778,
              "#fb9f3a"
             ],
             [
              0.8888888888888888,
              "#fdca26"
             ],
             [
              1,
              "#f0f921"
             ]
            ],
            "type": "surface"
           }
          ],
          "table": [
           {
            "cells": {
             "fill": {
              "color": "#EBF0F8"
             },
             "line": {
              "color": "white"
             }
            },
            "header": {
             "fill": {
              "color": "#C8D4E3"
             },
             "line": {
              "color": "white"
             }
            },
            "type": "table"
           }
          ]
         },
         "layout": {
          "annotationdefaults": {
           "arrowcolor": "#2a3f5f",
           "arrowhead": 0,
           "arrowwidth": 1
          },
          "autotypenumbers": "strict",
          "coloraxis": {
           "colorbar": {
            "outlinewidth": 0,
            "ticks": ""
           }
          },
          "colorscale": {
           "diverging": [
            [
             0,
             "#8e0152"
            ],
            [
             0.1,
             "#c51b7d"
            ],
            [
             0.2,
             "#de77ae"
            ],
            [
             0.3,
             "#f1b6da"
            ],
            [
             0.4,
             "#fde0ef"
            ],
            [
             0.5,
             "#f7f7f7"
            ],
            [
             0.6,
             "#e6f5d0"
            ],
            [
             0.7,
             "#b8e186"
            ],
            [
             0.8,
             "#7fbc41"
            ],
            [
             0.9,
             "#4d9221"
            ],
            [
             1,
             "#276419"
            ]
           ],
           "sequential": [
            [
             0,
             "#0d0887"
            ],
            [
             0.1111111111111111,
             "#46039f"
            ],
            [
             0.2222222222222222,
             "#7201a8"
            ],
            [
             0.3333333333333333,
             "#9c179e"
            ],
            [
             0.4444444444444444,
             "#bd3786"
            ],
            [
             0.5555555555555556,
             "#d8576b"
            ],
            [
             0.6666666666666666,
             "#ed7953"
            ],
            [
             0.7777777777777778,
             "#fb9f3a"
            ],
            [
             0.8888888888888888,
             "#fdca26"
            ],
            [
             1,
             "#f0f921"
            ]
           ],
           "sequentialminus": [
            [
             0,
             "#0d0887"
            ],
            [
             0.1111111111111111,
             "#46039f"
            ],
            [
             0.2222222222222222,
             "#7201a8"
            ],
            [
             0.3333333333333333,
             "#9c179e"
            ],
            [
             0.4444444444444444,
             "#bd3786"
            ],
            [
             0.5555555555555556,
             "#d8576b"
            ],
            [
             0.6666666666666666,
             "#ed7953"
            ],
            [
             0.7777777777777778,
             "#fb9f3a"
            ],
            [
             0.8888888888888888,
             "#fdca26"
            ],
            [
             1,
             "#f0f921"
            ]
           ]
          },
          "colorway": [
           "#636efa",
           "#EF553B",
           "#00cc96",
           "#ab63fa",
           "#FFA15A",
           "#19d3f3",
           "#FF6692",
           "#B6E880",
           "#FF97FF",
           "#FECB52"
          ],
          "font": {
           "color": "#2a3f5f"
          },
          "geo": {
           "bgcolor": "white",
           "lakecolor": "white",
           "landcolor": "#E5ECF6",
           "showlakes": true,
           "showland": true,
           "subunitcolor": "white"
          },
          "hoverlabel": {
           "align": "left"
          },
          "hovermode": "closest",
          "mapbox": {
           "style": "light"
          },
          "paper_bgcolor": "white",
          "plot_bgcolor": "#E5ECF6",
          "polar": {
           "angularaxis": {
            "gridcolor": "white",
            "linecolor": "white",
            "ticks": ""
           },
           "bgcolor": "#E5ECF6",
           "radialaxis": {
            "gridcolor": "white",
            "linecolor": "white",
            "ticks": ""
           }
          },
          "scene": {
           "xaxis": {
            "backgroundcolor": "#E5ECF6",
            "gridcolor": "white",
            "gridwidth": 2,
            "linecolor": "white",
            "showbackground": true,
            "ticks": "",
            "zerolinecolor": "white"
           },
           "yaxis": {
            "backgroundcolor": "#E5ECF6",
            "gridcolor": "white",
            "gridwidth": 2,
            "linecolor": "white",
            "showbackground": true,
            "ticks": "",
            "zerolinecolor": "white"
           },
           "zaxis": {
            "backgroundcolor": "#E5ECF6",
            "gridcolor": "white",
            "gridwidth": 2,
            "linecolor": "white",
            "showbackground": true,
            "ticks": "",
            "zerolinecolor": "white"
           }
          },
          "shapedefaults": {
           "line": {
            "color": "#2a3f5f"
           }
          },
          "ternary": {
           "aaxis": {
            "gridcolor": "white",
            "linecolor": "white",
            "ticks": ""
           },
           "baxis": {
            "gridcolor": "white",
            "linecolor": "white",
            "ticks": ""
           },
           "bgcolor": "#E5ECF6",
           "caxis": {
            "gridcolor": "white",
            "linecolor": "white",
            "ticks": ""
           }
          },
          "title": {
           "x": 0.05
          },
          "xaxis": {
           "automargin": true,
           "gridcolor": "white",
           "linecolor": "white",
           "ticks": "",
           "title": {
            "standoff": 15
           },
           "zerolinecolor": "white",
           "zerolinewidth": 2
          },
          "yaxis": {
           "automargin": true,
           "gridcolor": "white",
           "linecolor": "white",
           "ticks": "",
           "title": {
            "standoff": 15
           },
           "zerolinecolor": "white",
           "zerolinewidth": 2
          }
         }
        },
        "xaxis": {
         "anchor": "y",
         "domain": [
          0,
          0.45
         ]
        },
        "xaxis2": {
         "anchor": "y2",
         "domain": [
          0.55,
          1
         ]
        },
        "yaxis": {
         "anchor": "x",
         "domain": [
          0,
          1
         ]
        },
        "yaxis2": {
         "anchor": "x2",
         "domain": [
          0,
          1
         ]
        }
       }
      }
     },
     "metadata": {},
     "output_type": "display_data"
    }
   ],
   "source": [
    "coconut = data[data['Crop']=='Coconut ']\n",
    "\n",
    "fig = make_subplots(rows=1,cols=2,subplot_titles=('Coconut production in different states', 'Coconut crop area in states'))\n",
    "\n",
    "temp = coconut.groupby(by='State_Name')['Production'].sum().reset_index().sort_values(by='Production')\n",
    "trace0 = go.Bar(x=temp['State_Name'], y=temp['Production'])\n",
    "\n",
    "temp = coconut.groupby(by='State_Name',)['Area'].mean().reset_index().sort_values(by='Area')\n",
    "trace1 = go.Bar(x=temp['State_Name'], y=temp['Area'])\n",
    "\n",
    "fig.append_trace(trace0, 1,1)\n",
    "fig.append_trace(trace1, 1,2)\n",
    "fig.show()"
   ]
  },
  {
   "cell_type": "code",
   "execution_count": 31,
   "metadata": {},
   "outputs": [
    {
     "data": {
      "application/vnd.plotly.v1+json": {
       "config": {
        "plotlyServerURL": "https://plotly.com"
       },
       "data": [
        {
         "hovertemplate": "Crop_Year=%{x}<br>Production=%{y}<extra></extra>",
         "legendgroup": "",
         "line": {
          "color": "#636efa",
          "dash": "solid"
         },
         "marker": {
          "symbol": "circle"
         },
         "mode": "lines",
         "name": "",
         "orientation": "v",
         "showlegend": false,
         "type": "scatter",
         "x": [
          1997,
          1998,
          1999,
          2000,
          2001,
          2002,
          2003,
          2004,
          2005,
          2006,
          2007,
          2008,
          2009,
          2010,
          2011,
          2012,
          2013,
          2014
         ],
         "xaxis": "x",
         "y": [
          6344142,
          5283860454.4,
          5859817269.7,
          6880408907.8,
          6881286541.8,
          7150889366.5,
          7355742937.4,
          7663983741.69,
          7453185484,
          8092567153,
          6299914140,
          7039783510,
          7041992679,
          5596200360,
          13594217922,
          7494435081,
          12219187977,
          8067811549
         ],
         "yaxis": "y"
        }
       ],
       "layout": {
        "legend": {
         "tracegroupgap": 0
        },
        "template": {
         "data": {
          "bar": [
           {
            "error_x": {
             "color": "#2a3f5f"
            },
            "error_y": {
             "color": "#2a3f5f"
            },
            "marker": {
             "line": {
              "color": "#E5ECF6",
              "width": 0.5
             },
             "pattern": {
              "fillmode": "overlay",
              "size": 10,
              "solidity": 0.2
             }
            },
            "type": "bar"
           }
          ],
          "barpolar": [
           {
            "marker": {
             "line": {
              "color": "#E5ECF6",
              "width": 0.5
             },
             "pattern": {
              "fillmode": "overlay",
              "size": 10,
              "solidity": 0.2
             }
            },
            "type": "barpolar"
           }
          ],
          "carpet": [
           {
            "aaxis": {
             "endlinecolor": "#2a3f5f",
             "gridcolor": "white",
             "linecolor": "white",
             "minorgridcolor": "white",
             "startlinecolor": "#2a3f5f"
            },
            "baxis": {
             "endlinecolor": "#2a3f5f",
             "gridcolor": "white",
             "linecolor": "white",
             "minorgridcolor": "white",
             "startlinecolor": "#2a3f5f"
            },
            "type": "carpet"
           }
          ],
          "choropleth": [
           {
            "colorbar": {
             "outlinewidth": 0,
             "ticks": ""
            },
            "type": "choropleth"
           }
          ],
          "contour": [
           {
            "colorbar": {
             "outlinewidth": 0,
             "ticks": ""
            },
            "colorscale": [
             [
              0,
              "#0d0887"
             ],
             [
              0.1111111111111111,
              "#46039f"
             ],
             [
              0.2222222222222222,
              "#7201a8"
             ],
             [
              0.3333333333333333,
              "#9c179e"
             ],
             [
              0.4444444444444444,
              "#bd3786"
             ],
             [
              0.5555555555555556,
              "#d8576b"
             ],
             [
              0.6666666666666666,
              "#ed7953"
             ],
             [
              0.7777777777777778,
              "#fb9f3a"
             ],
             [
              0.8888888888888888,
              "#fdca26"
             ],
             [
              1,
              "#f0f921"
             ]
            ],
            "type": "contour"
           }
          ],
          "contourcarpet": [
           {
            "colorbar": {
             "outlinewidth": 0,
             "ticks": ""
            },
            "type": "contourcarpet"
           }
          ],
          "heatmap": [
           {
            "colorbar": {
             "outlinewidth": 0,
             "ticks": ""
            },
            "colorscale": [
             [
              0,
              "#0d0887"
             ],
             [
              0.1111111111111111,
              "#46039f"
             ],
             [
              0.2222222222222222,
              "#7201a8"
             ],
             [
              0.3333333333333333,
              "#9c179e"
             ],
             [
              0.4444444444444444,
              "#bd3786"
             ],
             [
              0.5555555555555556,
              "#d8576b"
             ],
             [
              0.6666666666666666,
              "#ed7953"
             ],
             [
              0.7777777777777778,
              "#fb9f3a"
             ],
             [
              0.8888888888888888,
              "#fdca26"
             ],
             [
              1,
              "#f0f921"
             ]
            ],
            "type": "heatmap"
           }
          ],
          "heatmapgl": [
           {
            "colorbar": {
             "outlinewidth": 0,
             "ticks": ""
            },
            "colorscale": [
             [
              0,
              "#0d0887"
             ],
             [
              0.1111111111111111,
              "#46039f"
             ],
             [
              0.2222222222222222,
              "#7201a8"
             ],
             [
              0.3333333333333333,
              "#9c179e"
             ],
             [
              0.4444444444444444,
              "#bd3786"
             ],
             [
              0.5555555555555556,
              "#d8576b"
             ],
             [
              0.6666666666666666,
              "#ed7953"
             ],
             [
              0.7777777777777778,
              "#fb9f3a"
             ],
             [
              0.8888888888888888,
              "#fdca26"
             ],
             [
              1,
              "#f0f921"
             ]
            ],
            "type": "heatmapgl"
           }
          ],
          "histogram": [
           {
            "marker": {
             "pattern": {
              "fillmode": "overlay",
              "size": 10,
              "solidity": 0.2
             }
            },
            "type": "histogram"
           }
          ],
          "histogram2d": [
           {
            "colorbar": {
             "outlinewidth": 0,
             "ticks": ""
            },
            "colorscale": [
             [
              0,
              "#0d0887"
             ],
             [
              0.1111111111111111,
              "#46039f"
             ],
             [
              0.2222222222222222,
              "#7201a8"
             ],
             [
              0.3333333333333333,
              "#9c179e"
             ],
             [
              0.4444444444444444,
              "#bd3786"
             ],
             [
              0.5555555555555556,
              "#d8576b"
             ],
             [
              0.6666666666666666,
              "#ed7953"
             ],
             [
              0.7777777777777778,
              "#fb9f3a"
             ],
             [
              0.8888888888888888,
              "#fdca26"
             ],
             [
              1,
              "#f0f921"
             ]
            ],
            "type": "histogram2d"
           }
          ],
          "histogram2dcontour": [
           {
            "colorbar": {
             "outlinewidth": 0,
             "ticks": ""
            },
            "colorscale": [
             [
              0,
              "#0d0887"
             ],
             [
              0.1111111111111111,
              "#46039f"
             ],
             [
              0.2222222222222222,
              "#7201a8"
             ],
             [
              0.3333333333333333,
              "#9c179e"
             ],
             [
              0.4444444444444444,
              "#bd3786"
             ],
             [
              0.5555555555555556,
              "#d8576b"
             ],
             [
              0.6666666666666666,
              "#ed7953"
             ],
             [
              0.7777777777777778,
              "#fb9f3a"
             ],
             [
              0.8888888888888888,
              "#fdca26"
             ],
             [
              1,
              "#f0f921"
             ]
            ],
            "type": "histogram2dcontour"
           }
          ],
          "mesh3d": [
           {
            "colorbar": {
             "outlinewidth": 0,
             "ticks": ""
            },
            "type": "mesh3d"
           }
          ],
          "parcoords": [
           {
            "line": {
             "colorbar": {
              "outlinewidth": 0,
              "ticks": ""
             }
            },
            "type": "parcoords"
           }
          ],
          "pie": [
           {
            "automargin": true,
            "type": "pie"
           }
          ],
          "scatter": [
           {
            "fillpattern": {
             "fillmode": "overlay",
             "size": 10,
             "solidity": 0.2
            },
            "type": "scatter"
           }
          ],
          "scatter3d": [
           {
            "line": {
             "colorbar": {
              "outlinewidth": 0,
              "ticks": ""
             }
            },
            "marker": {
             "colorbar": {
              "outlinewidth": 0,
              "ticks": ""
             }
            },
            "type": "scatter3d"
           }
          ],
          "scattercarpet": [
           {
            "marker": {
             "colorbar": {
              "outlinewidth": 0,
              "ticks": ""
             }
            },
            "type": "scattercarpet"
           }
          ],
          "scattergeo": [
           {
            "marker": {
             "colorbar": {
              "outlinewidth": 0,
              "ticks": ""
             }
            },
            "type": "scattergeo"
           }
          ],
          "scattergl": [
           {
            "marker": {
             "colorbar": {
              "outlinewidth": 0,
              "ticks": ""
             }
            },
            "type": "scattergl"
           }
          ],
          "scattermapbox": [
           {
            "marker": {
             "colorbar": {
              "outlinewidth": 0,
              "ticks": ""
             }
            },
            "type": "scattermapbox"
           }
          ],
          "scatterpolar": [
           {
            "marker": {
             "colorbar": {
              "outlinewidth": 0,
              "ticks": ""
             }
            },
            "type": "scatterpolar"
           }
          ],
          "scatterpolargl": [
           {
            "marker": {
             "colorbar": {
              "outlinewidth": 0,
              "ticks": ""
             }
            },
            "type": "scatterpolargl"
           }
          ],
          "scatterternary": [
           {
            "marker": {
             "colorbar": {
              "outlinewidth": 0,
              "ticks": ""
             }
            },
            "type": "scatterternary"
           }
          ],
          "surface": [
           {
            "colorbar": {
             "outlinewidth": 0,
             "ticks": ""
            },
            "colorscale": [
             [
              0,
              "#0d0887"
             ],
             [
              0.1111111111111111,
              "#46039f"
             ],
             [
              0.2222222222222222,
              "#7201a8"
             ],
             [
              0.3333333333333333,
              "#9c179e"
             ],
             [
              0.4444444444444444,
              "#bd3786"
             ],
             [
              0.5555555555555556,
              "#d8576b"
             ],
             [
              0.6666666666666666,
              "#ed7953"
             ],
             [
              0.7777777777777778,
              "#fb9f3a"
             ],
             [
              0.8888888888888888,
              "#fdca26"
             ],
             [
              1,
              "#f0f921"
             ]
            ],
            "type": "surface"
           }
          ],
          "table": [
           {
            "cells": {
             "fill": {
              "color": "#EBF0F8"
             },
             "line": {
              "color": "white"
             }
            },
            "header": {
             "fill": {
              "color": "#C8D4E3"
             },
             "line": {
              "color": "white"
             }
            },
            "type": "table"
           }
          ]
         },
         "layout": {
          "annotationdefaults": {
           "arrowcolor": "#2a3f5f",
           "arrowhead": 0,
           "arrowwidth": 1
          },
          "autotypenumbers": "strict",
          "coloraxis": {
           "colorbar": {
            "outlinewidth": 0,
            "ticks": ""
           }
          },
          "colorscale": {
           "diverging": [
            [
             0,
             "#8e0152"
            ],
            [
             0.1,
             "#c51b7d"
            ],
            [
             0.2,
             "#de77ae"
            ],
            [
             0.3,
             "#f1b6da"
            ],
            [
             0.4,
             "#fde0ef"
            ],
            [
             0.5,
             "#f7f7f7"
            ],
            [
             0.6,
             "#e6f5d0"
            ],
            [
             0.7,
             "#b8e186"
            ],
            [
             0.8,
             "#7fbc41"
            ],
            [
             0.9,
             "#4d9221"
            ],
            [
             1,
             "#276419"
            ]
           ],
           "sequential": [
            [
             0,
             "#0d0887"
            ],
            [
             0.1111111111111111,
             "#46039f"
            ],
            [
             0.2222222222222222,
             "#7201a8"
            ],
            [
             0.3333333333333333,
             "#9c179e"
            ],
            [
             0.4444444444444444,
             "#bd3786"
            ],
            [
             0.5555555555555556,
             "#d8576b"
            ],
            [
             0.6666666666666666,
             "#ed7953"
            ],
            [
             0.7777777777777778,
             "#fb9f3a"
            ],
            [
             0.8888888888888888,
             "#fdca26"
            ],
            [
             1,
             "#f0f921"
            ]
           ],
           "sequentialminus": [
            [
             0,
             "#0d0887"
            ],
            [
             0.1111111111111111,
             "#46039f"
            ],
            [
             0.2222222222222222,
             "#7201a8"
            ],
            [
             0.3333333333333333,
             "#9c179e"
            ],
            [
             0.4444444444444444,
             "#bd3786"
            ],
            [
             0.5555555555555556,
             "#d8576b"
            ],
            [
             0.6666666666666666,
             "#ed7953"
            ],
            [
             0.7777777777777778,
             "#fb9f3a"
            ],
            [
             0.8888888888888888,
             "#fdca26"
            ],
            [
             1,
             "#f0f921"
            ]
           ]
          },
          "colorway": [
           "#636efa",
           "#EF553B",
           "#00cc96",
           "#ab63fa",
           "#FFA15A",
           "#19d3f3",
           "#FF6692",
           "#B6E880",
           "#FF97FF",
           "#FECB52"
          ],
          "font": {
           "color": "#2a3f5f"
          },
          "geo": {
           "bgcolor": "white",
           "lakecolor": "white",
           "landcolor": "#E5ECF6",
           "showlakes": true,
           "showland": true,
           "subunitcolor": "white"
          },
          "hoverlabel": {
           "align": "left"
          },
          "hovermode": "closest",
          "mapbox": {
           "style": "light"
          },
          "paper_bgcolor": "white",
          "plot_bgcolor": "#E5ECF6",
          "polar": {
           "angularaxis": {
            "gridcolor": "white",
            "linecolor": "white",
            "ticks": ""
           },
           "bgcolor": "#E5ECF6",
           "radialaxis": {
            "gridcolor": "white",
            "linecolor": "white",
            "ticks": ""
           }
          },
          "scene": {
           "xaxis": {
            "backgroundcolor": "#E5ECF6",
            "gridcolor": "white",
            "gridwidth": 2,
            "linecolor": "white",
            "showbackground": true,
            "ticks": "",
            "zerolinecolor": "white"
           },
           "yaxis": {
            "backgroundcolor": "#E5ECF6",
            "gridcolor": "white",
            "gridwidth": 2,
            "linecolor": "white",
            "showbackground": true,
            "ticks": "",
            "zerolinecolor": "white"
           },
           "zaxis": {
            "backgroundcolor": "#E5ECF6",
            "gridcolor": "white",
            "gridwidth": 2,
            "linecolor": "white",
            "showbackground": true,
            "ticks": "",
            "zerolinecolor": "white"
           }
          },
          "shapedefaults": {
           "line": {
            "color": "#2a3f5f"
           }
          },
          "ternary": {
           "aaxis": {
            "gridcolor": "white",
            "linecolor": "white",
            "ticks": ""
           },
           "baxis": {
            "gridcolor": "white",
            "linecolor": "white",
            "ticks": ""
           },
           "bgcolor": "#E5ECF6",
           "caxis": {
            "gridcolor": "white",
            "linecolor": "white",
            "ticks": ""
           }
          },
          "title": {
           "x": 0.05
          },
          "xaxis": {
           "automargin": true,
           "gridcolor": "white",
           "linecolor": "white",
           "ticks": "",
           "title": {
            "standoff": 15
           },
           "zerolinecolor": "white",
           "zerolinewidth": 2
          },
          "yaxis": {
           "automargin": true,
           "gridcolor": "white",
           "linecolor": "white",
           "ticks": "",
           "title": {
            "standoff": 15
           },
           "zerolinecolor": "white",
           "zerolinewidth": 2
          }
         }
        },
        "title": {
         "text": "Coconut production over the years"
        },
        "xaxis": {
         "anchor": "y",
         "domain": [
          0,
          1
         ],
         "title": {
          "text": "Crop_Year"
         }
        },
        "yaxis": {
         "anchor": "x",
         "domain": [
          0,
          1
         ],
         "title": {
          "text": "Production"
         }
        }
       }
      }
     },
     "metadata": {},
     "output_type": "display_data"
    }
   ],
   "source": [
    "temp = coconut.groupby(by='Crop_Year')['Production'].sum().reset_index()\n",
    "px.line(temp, 'Crop_Year', 'Production', title='Coconut production over the years')"
   ]
  },
  {
   "cell_type": "code",
   "execution_count": 32,
   "metadata": {},
   "outputs": [
    {
     "data": {
      "application/vnd.plotly.v1+json": {
       "config": {
        "plotlyServerURL": "https://plotly.com"
       },
       "data": [
        {
         "alignmentgroup": "True",
         "hovertemplate": "Crop=%{x}<br>Production=%{y}<extra></extra>",
         "legendgroup": "",
         "marker": {
          "color": "#636efa",
          "pattern": {
           "shape": ""
          }
         },
         "name": "",
         "offsetgroup": "",
         "orientation": "v",
         "showlegend": false,
         "textposition": "auto",
         "type": "bar",
         "x": [
          "Wheat",
          "Soyabean",
          "Bhindi",
          "Jack Fruit",
          "Maize",
          "Sesamum",
          "Dry chillies",
          "Small millets",
          "Other Cereals & Millets",
          "Tobacco",
          "Ragi",
          "Jowar",
          "Arhar/Tur",
          "Turmeric",
          "Sweet potato",
          "Cardamom",
          "Drum Stick",
          "Groundnut",
          "Dry ginger",
          "Potato",
          "Cashewnut",
          "Black pepper",
          "Cashewnut Raw",
          "Cotton(lint)",
          "Pineapple",
          "Garlic",
          "Papaya",
          "Arecanut",
          "Tea",
          "Rice",
          "Coffee",
          "Sugarcane",
          "Mango",
          "Banana",
          "Rubber",
          "Tapioca",
          "Coconut "
         ],
         "xaxis": "x",
         "y": [
          3,
          6.8,
          13,
          23.607142857142858,
          25.833333333333332,
          35.89194805194805,
          39.86666666666667,
          97.9090909090909,
          110.5,
          226,
          242.45238095238096,
          313.2826086956522,
          401.84615384615387,
          522.5375210084034,
          605.2335025380711,
          1298.4952380952382,
          1352.859649122807,
          1732.1666666666667,
          2525.6042857142857,
          3029.6666666666665,
          3763.473095238095,
          3855.278214285714,
          4720.5,
          4998.5,
          6125.139534883721,
          6150.333333333333,
          6225,
          7514.451785714286,
          7567.45625,
          15264.189596541786,
          21668.666666666668,
          22603.052307692305,
          28950.01754385965,
          32166.647016806724,
          41973.82142857143,
          182990.7115079365,
          388107285.71428573
         ],
         "yaxis": "y"
        }
       ],
       "layout": {
        "barmode": "relative",
        "legend": {
         "tracegroupgap": 0
        },
        "template": {
         "data": {
          "bar": [
           {
            "error_x": {
             "color": "#2a3f5f"
            },
            "error_y": {
             "color": "#2a3f5f"
            },
            "marker": {
             "line": {
              "color": "#E5ECF6",
              "width": 0.5
             },
             "pattern": {
              "fillmode": "overlay",
              "size": 10,
              "solidity": 0.2
             }
            },
            "type": "bar"
           }
          ],
          "barpolar": [
           {
            "marker": {
             "line": {
              "color": "#E5ECF6",
              "width": 0.5
             },
             "pattern": {
              "fillmode": "overlay",
              "size": 10,
              "solidity": 0.2
             }
            },
            "type": "barpolar"
           }
          ],
          "carpet": [
           {
            "aaxis": {
             "endlinecolor": "#2a3f5f",
             "gridcolor": "white",
             "linecolor": "white",
             "minorgridcolor": "white",
             "startlinecolor": "#2a3f5f"
            },
            "baxis": {
             "endlinecolor": "#2a3f5f",
             "gridcolor": "white",
             "linecolor": "white",
             "minorgridcolor": "white",
             "startlinecolor": "#2a3f5f"
            },
            "type": "carpet"
           }
          ],
          "choropleth": [
           {
            "colorbar": {
             "outlinewidth": 0,
             "ticks": ""
            },
            "type": "choropleth"
           }
          ],
          "contour": [
           {
            "colorbar": {
             "outlinewidth": 0,
             "ticks": ""
            },
            "colorscale": [
             [
              0,
              "#0d0887"
             ],
             [
              0.1111111111111111,
              "#46039f"
             ],
             [
              0.2222222222222222,
              "#7201a8"
             ],
             [
              0.3333333333333333,
              "#9c179e"
             ],
             [
              0.4444444444444444,
              "#bd3786"
             ],
             [
              0.5555555555555556,
              "#d8576b"
             ],
             [
              0.6666666666666666,
              "#ed7953"
             ],
             [
              0.7777777777777778,
              "#fb9f3a"
             ],
             [
              0.8888888888888888,
              "#fdca26"
             ],
             [
              1,
              "#f0f921"
             ]
            ],
            "type": "contour"
           }
          ],
          "contourcarpet": [
           {
            "colorbar": {
             "outlinewidth": 0,
             "ticks": ""
            },
            "type": "contourcarpet"
           }
          ],
          "heatmap": [
           {
            "colorbar": {
             "outlinewidth": 0,
             "ticks": ""
            },
            "colorscale": [
             [
              0,
              "#0d0887"
             ],
             [
              0.1111111111111111,
              "#46039f"
             ],
             [
              0.2222222222222222,
              "#7201a8"
             ],
             [
              0.3333333333333333,
              "#9c179e"
             ],
             [
              0.4444444444444444,
              "#bd3786"
             ],
             [
              0.5555555555555556,
              "#d8576b"
             ],
             [
              0.6666666666666666,
              "#ed7953"
             ],
             [
              0.7777777777777778,
              "#fb9f3a"
             ],
             [
              0.8888888888888888,
              "#fdca26"
             ],
             [
              1,
              "#f0f921"
             ]
            ],
            "type": "heatmap"
           }
          ],
          "heatmapgl": [
           {
            "colorbar": {
             "outlinewidth": 0,
             "ticks": ""
            },
            "colorscale": [
             [
              0,
              "#0d0887"
             ],
             [
              0.1111111111111111,
              "#46039f"
             ],
             [
              0.2222222222222222,
              "#7201a8"
             ],
             [
              0.3333333333333333,
              "#9c179e"
             ],
             [
              0.4444444444444444,
              "#bd3786"
             ],
             [
              0.5555555555555556,
              "#d8576b"
             ],
             [
              0.6666666666666666,
              "#ed7953"
             ],
             [
              0.7777777777777778,
              "#fb9f3a"
             ],
             [
              0.8888888888888888,
              "#fdca26"
             ],
             [
              1,
              "#f0f921"
             ]
            ],
            "type": "heatmapgl"
           }
          ],
          "histogram": [
           {
            "marker": {
             "pattern": {
              "fillmode": "overlay",
              "size": 10,
              "solidity": 0.2
             }
            },
            "type": "histogram"
           }
          ],
          "histogram2d": [
           {
            "colorbar": {
             "outlinewidth": 0,
             "ticks": ""
            },
            "colorscale": [
             [
              0,
              "#0d0887"
             ],
             [
              0.1111111111111111,
              "#46039f"
             ],
             [
              0.2222222222222222,
              "#7201a8"
             ],
             [
              0.3333333333333333,
              "#9c179e"
             ],
             [
              0.4444444444444444,
              "#bd3786"
             ],
             [
              0.5555555555555556,
              "#d8576b"
             ],
             [
              0.6666666666666666,
              "#ed7953"
             ],
             [
              0.7777777777777778,
              "#fb9f3a"
             ],
             [
              0.8888888888888888,
              "#fdca26"
             ],
             [
              1,
              "#f0f921"
             ]
            ],
            "type": "histogram2d"
           }
          ],
          "histogram2dcontour": [
           {
            "colorbar": {
             "outlinewidth": 0,
             "ticks": ""
            },
            "colorscale": [
             [
              0,
              "#0d0887"
             ],
             [
              0.1111111111111111,
              "#46039f"
             ],
             [
              0.2222222222222222,
              "#7201a8"
             ],
             [
              0.3333333333333333,
              "#9c179e"
             ],
             [
              0.4444444444444444,
              "#bd3786"
             ],
             [
              0.5555555555555556,
              "#d8576b"
             ],
             [
              0.6666666666666666,
              "#ed7953"
             ],
             [
              0.7777777777777778,
              "#fb9f3a"
             ],
             [
              0.8888888888888888,
              "#fdca26"
             ],
             [
              1,
              "#f0f921"
             ]
            ],
            "type": "histogram2dcontour"
           }
          ],
          "mesh3d": [
           {
            "colorbar": {
             "outlinewidth": 0,
             "ticks": ""
            },
            "type": "mesh3d"
           }
          ],
          "parcoords": [
           {
            "line": {
             "colorbar": {
              "outlinewidth": 0,
              "ticks": ""
             }
            },
            "type": "parcoords"
           }
          ],
          "pie": [
           {
            "automargin": true,
            "type": "pie"
           }
          ],
          "scatter": [
           {
            "fillpattern": {
             "fillmode": "overlay",
             "size": 10,
             "solidity": 0.2
            },
            "type": "scatter"
           }
          ],
          "scatter3d": [
           {
            "line": {
             "colorbar": {
              "outlinewidth": 0,
              "ticks": ""
             }
            },
            "marker": {
             "colorbar": {
              "outlinewidth": 0,
              "ticks": ""
             }
            },
            "type": "scatter3d"
           }
          ],
          "scattercarpet": [
           {
            "marker": {
             "colorbar": {
              "outlinewidth": 0,
              "ticks": ""
             }
            },
            "type": "scattercarpet"
           }
          ],
          "scattergeo": [
           {
            "marker": {
             "colorbar": {
              "outlinewidth": 0,
              "ticks": ""
             }
            },
            "type": "scattergeo"
           }
          ],
          "scattergl": [
           {
            "marker": {
             "colorbar": {
              "outlinewidth": 0,
              "ticks": ""
             }
            },
            "type": "scattergl"
           }
          ],
          "scattermapbox": [
           {
            "marker": {
             "colorbar": {
              "outlinewidth": 0,
              "ticks": ""
             }
            },
            "type": "scattermapbox"
           }
          ],
          "scatterpolar": [
           {
            "marker": {
             "colorbar": {
              "outlinewidth": 0,
              "ticks": ""
             }
            },
            "type": "scatterpolar"
           }
          ],
          "scatterpolargl": [
           {
            "marker": {
             "colorbar": {
              "outlinewidth": 0,
              "ticks": ""
             }
            },
            "type": "scatterpolargl"
           }
          ],
          "scatterternary": [
           {
            "marker": {
             "colorbar": {
              "outlinewidth": 0,
              "ticks": ""
             }
            },
            "type": "scatterternary"
           }
          ],
          "surface": [
           {
            "colorbar": {
             "outlinewidth": 0,
             "ticks": ""
            },
            "colorscale": [
             [
              0,
              "#0d0887"
             ],
             [
              0.1111111111111111,
              "#46039f"
             ],
             [
              0.2222222222222222,
              "#7201a8"
             ],
             [
              0.3333333333333333,
              "#9c179e"
             ],
             [
              0.4444444444444444,
              "#bd3786"
             ],
             [
              0.5555555555555556,
              "#d8576b"
             ],
             [
              0.6666666666666666,
              "#ed7953"
             ],
             [
              0.7777777777777778,
              "#fb9f3a"
             ],
             [
              0.8888888888888888,
              "#fdca26"
             ],
             [
              1,
              "#f0f921"
             ]
            ],
            "type": "surface"
           }
          ],
          "table": [
           {
            "cells": {
             "fill": {
              "color": "#EBF0F8"
             },
             "line": {
              "color": "white"
             }
            },
            "header": {
             "fill": {
              "color": "#C8D4E3"
             },
             "line": {
              "color": "white"
             }
            },
            "type": "table"
           }
          ]
         },
         "layout": {
          "annotationdefaults": {
           "arrowcolor": "#2a3f5f",
           "arrowhead": 0,
           "arrowwidth": 1
          },
          "autotypenumbers": "strict",
          "coloraxis": {
           "colorbar": {
            "outlinewidth": 0,
            "ticks": ""
           }
          },
          "colorscale": {
           "diverging": [
            [
             0,
             "#8e0152"
            ],
            [
             0.1,
             "#c51b7d"
            ],
            [
             0.2,
             "#de77ae"
            ],
            [
             0.3,
             "#f1b6da"
            ],
            [
             0.4,
             "#fde0ef"
            ],
            [
             0.5,
             "#f7f7f7"
            ],
            [
             0.6,
             "#e6f5d0"
            ],
            [
             0.7,
             "#b8e186"
            ],
            [
             0.8,
             "#7fbc41"
            ],
            [
             0.9,
             "#4d9221"
            ],
            [
             1,
             "#276419"
            ]
           ],
           "sequential": [
            [
             0,
             "#0d0887"
            ],
            [
             0.1111111111111111,
             "#46039f"
            ],
            [
             0.2222222222222222,
             "#7201a8"
            ],
            [
             0.3333333333333333,
             "#9c179e"
            ],
            [
             0.4444444444444444,
             "#bd3786"
            ],
            [
             0.5555555555555556,
             "#d8576b"
            ],
            [
             0.6666666666666666,
             "#ed7953"
            ],
            [
             0.7777777777777778,
             "#fb9f3a"
            ],
            [
             0.8888888888888888,
             "#fdca26"
            ],
            [
             1,
             "#f0f921"
            ]
           ],
           "sequentialminus": [
            [
             0,
             "#0d0887"
            ],
            [
             0.1111111111111111,
             "#46039f"
            ],
            [
             0.2222222222222222,
             "#7201a8"
            ],
            [
             0.3333333333333333,
             "#9c179e"
            ],
            [
             0.4444444444444444,
             "#bd3786"
            ],
            [
             0.5555555555555556,
             "#d8576b"
            ],
            [
             0.6666666666666666,
             "#ed7953"
            ],
            [
             0.7777777777777778,
             "#fb9f3a"
            ],
            [
             0.8888888888888888,
             "#fdca26"
            ],
            [
             1,
             "#f0f921"
            ]
           ]
          },
          "colorway": [
           "#636efa",
           "#EF553B",
           "#00cc96",
           "#ab63fa",
           "#FFA15A",
           "#19d3f3",
           "#FF6692",
           "#B6E880",
           "#FF97FF",
           "#FECB52"
          ],
          "font": {
           "color": "#2a3f5f"
          },
          "geo": {
           "bgcolor": "white",
           "lakecolor": "white",
           "landcolor": "#E5ECF6",
           "showlakes": true,
           "showland": true,
           "subunitcolor": "white"
          },
          "hoverlabel": {
           "align": "left"
          },
          "hovermode": "closest",
          "mapbox": {
           "style": "light"
          },
          "paper_bgcolor": "white",
          "plot_bgcolor": "#E5ECF6",
          "polar": {
           "angularaxis": {
            "gridcolor": "white",
            "linecolor": "white",
            "ticks": ""
           },
           "bgcolor": "#E5ECF6",
           "radialaxis": {
            "gridcolor": "white",
            "linecolor": "white",
            "ticks": ""
           }
          },
          "scene": {
           "xaxis": {
            "backgroundcolor": "#E5ECF6",
            "gridcolor": "white",
            "gridwidth": 2,
            "linecolor": "white",
            "showbackground": true,
            "ticks": "",
            "zerolinecolor": "white"
           },
           "yaxis": {
            "backgroundcolor": "#E5ECF6",
            "gridcolor": "white",
            "gridwidth": 2,
            "linecolor": "white",
            "showbackground": true,
            "ticks": "",
            "zerolinecolor": "white"
           },
           "zaxis": {
            "backgroundcolor": "#E5ECF6",
            "gridcolor": "white",
            "gridwidth": 2,
            "linecolor": "white",
            "showbackground": true,
            "ticks": "",
            "zerolinecolor": "white"
           }
          },
          "shapedefaults": {
           "line": {
            "color": "#2a3f5f"
           }
          },
          "ternary": {
           "aaxis": {
            "gridcolor": "white",
            "linecolor": "white",
            "ticks": ""
           },
           "baxis": {
            "gridcolor": "white",
            "linecolor": "white",
            "ticks": ""
           },
           "bgcolor": "#E5ECF6",
           "caxis": {
            "gridcolor": "white",
            "linecolor": "white",
            "ticks": ""
           }
          },
          "title": {
           "x": 0.05
          },
          "xaxis": {
           "automargin": true,
           "gridcolor": "white",
           "linecolor": "white",
           "ticks": "",
           "title": {
            "standoff": 15
           },
           "zerolinecolor": "white",
           "zerolinewidth": 2
          },
          "yaxis": {
           "automargin": true,
           "gridcolor": "white",
           "linecolor": "white",
           "ticks": "",
           "title": {
            "standoff": 15
           },
           "zerolinecolor": "white",
           "zerolinewidth": 2
          }
         }
        },
        "title": {
         "text": "Avg. Crop Production"
        },
        "xaxis": {
         "anchor": "y",
         "domain": [
          0,
          1
         ],
         "title": {
          "text": "Crop"
         }
        },
        "yaxis": {
         "anchor": "x",
         "domain": [
          0,
          1
         ],
         "title": {
          "text": "Production"
         }
        }
       }
      }
     },
     "metadata": {},
     "output_type": "display_data"
    }
   ],
   "source": [
    "#EXPLORING A BIT MORE ABOUT KERALA\n",
    "kerala = data[data['State_Name']=='Kerala']\n",
    "temp = kerala.groupby(by='Crop')['Production'].mean().reset_index().sort_values(by='Production')\n",
    "px.bar(temp, 'Crop', 'Production', title = 'Avg. Crop Production')"
   ]
  },
  {
   "cell_type": "code",
   "execution_count": 33,
   "metadata": {},
   "outputs": [
    {
     "data": {
      "application/vnd.plotly.v1+json": {
       "config": {
        "plotlyServerURL": "https://plotly.com"
       },
       "data": [
        {
         "alignmentgroup": "True",
         "hovertemplate": "Crop=%{x}<br>Production=%{y}<extra></extra>",
         "legendgroup": "",
         "marker": {
          "color": "#636efa",
          "pattern": {
           "shape": ""
          }
         },
         "name": "",
         "offsetgroup": "",
         "orientation": "v",
         "showlegend": false,
         "textposition": "auto",
         "type": "bar",
         "x": [
          "Wheat",
          "Bhindi",
          "Soyabean",
          "Maize",
          "Dry chillies",
          "Jack Fruit",
          "Small millets",
          "Other Cereals & Millets",
          "Tobacco",
          "Arhar/Tur",
          "Sesamum",
          "Ragi",
          "Jowar",
          "Groundnut",
          "Potato",
          "Cotton(lint)",
          "Cashewnut Raw",
          "Drum Stick",
          "Garlic",
          "Sweet potato",
          "Tea",
          "Turmeric",
          "Coffee",
          "Cardamom",
          "Pineapple",
          "Papaya",
          "Dry ginger",
          "Cashewnut",
          "Black pepper",
          "Rubber",
          "Mango",
          "Arecanut",
          "Sugarcane",
          "Banana",
          "Rice",
          "Tapioca"
         ],
         "xaxis": "x",
         "y": [
          3,
          13,
          20.4,
          155,
          598,
          661,
          1077,
          1989,
          3616,
          5224,
          5527.36,
          10183,
          14411,
          31179,
          54534,
          59982,
          66087,
          77113,
          92255,
          119231,
          121079.3,
          124363.93,
          130012,
          136342,
          263381,
          267675,
          601093.82,
          948395.22,
          971530.11,
          1175267,
          1650151,
          1893641.85,
          3819915.84,
          7655661.99,
          10593347.58,
          46113659.3
         ],
         "yaxis": "y"
        }
       ],
       "layout": {
        "barmode": "relative",
        "legend": {
         "tracegroupgap": 0
        },
        "template": {
         "data": {
          "bar": [
           {
            "error_x": {
             "color": "#2a3f5f"
            },
            "error_y": {
             "color": "#2a3f5f"
            },
            "marker": {
             "line": {
              "color": "#E5ECF6",
              "width": 0.5
             },
             "pattern": {
              "fillmode": "overlay",
              "size": 10,
              "solidity": 0.2
             }
            },
            "type": "bar"
           }
          ],
          "barpolar": [
           {
            "marker": {
             "line": {
              "color": "#E5ECF6",
              "width": 0.5
             },
             "pattern": {
              "fillmode": "overlay",
              "size": 10,
              "solidity": 0.2
             }
            },
            "type": "barpolar"
           }
          ],
          "carpet": [
           {
            "aaxis": {
             "endlinecolor": "#2a3f5f",
             "gridcolor": "white",
             "linecolor": "white",
             "minorgridcolor": "white",
             "startlinecolor": "#2a3f5f"
            },
            "baxis": {
             "endlinecolor": "#2a3f5f",
             "gridcolor": "white",
             "linecolor": "white",
             "minorgridcolor": "white",
             "startlinecolor": "#2a3f5f"
            },
            "type": "carpet"
           }
          ],
          "choropleth": [
           {
            "colorbar": {
             "outlinewidth": 0,
             "ticks": ""
            },
            "type": "choropleth"
           }
          ],
          "contour": [
           {
            "colorbar": {
             "outlinewidth": 0,
             "ticks": ""
            },
            "colorscale": [
             [
              0,
              "#0d0887"
             ],
             [
              0.1111111111111111,
              "#46039f"
             ],
             [
              0.2222222222222222,
              "#7201a8"
             ],
             [
              0.3333333333333333,
              "#9c179e"
             ],
             [
              0.4444444444444444,
              "#bd3786"
             ],
             [
              0.5555555555555556,
              "#d8576b"
             ],
             [
              0.6666666666666666,
              "#ed7953"
             ],
             [
              0.7777777777777778,
              "#fb9f3a"
             ],
             [
              0.8888888888888888,
              "#fdca26"
             ],
             [
              1,
              "#f0f921"
             ]
            ],
            "type": "contour"
           }
          ],
          "contourcarpet": [
           {
            "colorbar": {
             "outlinewidth": 0,
             "ticks": ""
            },
            "type": "contourcarpet"
           }
          ],
          "heatmap": [
           {
            "colorbar": {
             "outlinewidth": 0,
             "ticks": ""
            },
            "colorscale": [
             [
              0,
              "#0d0887"
             ],
             [
              0.1111111111111111,
              "#46039f"
             ],
             [
              0.2222222222222222,
              "#7201a8"
             ],
             [
              0.3333333333333333,
              "#9c179e"
             ],
             [
              0.4444444444444444,
              "#bd3786"
             ],
             [
              0.5555555555555556,
              "#d8576b"
             ],
             [
              0.6666666666666666,
              "#ed7953"
             ],
             [
              0.7777777777777778,
              "#fb9f3a"
             ],
             [
              0.8888888888888888,
              "#fdca26"
             ],
             [
              1,
              "#f0f921"
             ]
            ],
            "type": "heatmap"
           }
          ],
          "heatmapgl": [
           {
            "colorbar": {
             "outlinewidth": 0,
             "ticks": ""
            },
            "colorscale": [
             [
              0,
              "#0d0887"
             ],
             [
              0.1111111111111111,
              "#46039f"
             ],
             [
              0.2222222222222222,
              "#7201a8"
             ],
             [
              0.3333333333333333,
              "#9c179e"
             ],
             [
              0.4444444444444444,
              "#bd3786"
             ],
             [
              0.5555555555555556,
              "#d8576b"
             ],
             [
              0.6666666666666666,
              "#ed7953"
             ],
             [
              0.7777777777777778,
              "#fb9f3a"
             ],
             [
              0.8888888888888888,
              "#fdca26"
             ],
             [
              1,
              "#f0f921"
             ]
            ],
            "type": "heatmapgl"
           }
          ],
          "histogram": [
           {
            "marker": {
             "pattern": {
              "fillmode": "overlay",
              "size": 10,
              "solidity": 0.2
             }
            },
            "type": "histogram"
           }
          ],
          "histogram2d": [
           {
            "colorbar": {
             "outlinewidth": 0,
             "ticks": ""
            },
            "colorscale": [
             [
              0,
              "#0d0887"
             ],
             [
              0.1111111111111111,
              "#46039f"
             ],
             [
              0.2222222222222222,
              "#7201a8"
             ],
             [
              0.3333333333333333,
              "#9c179e"
             ],
             [
              0.4444444444444444,
              "#bd3786"
             ],
             [
              0.5555555555555556,
              "#d8576b"
             ],
             [
              0.6666666666666666,
              "#ed7953"
             ],
             [
              0.7777777777777778,
              "#fb9f3a"
             ],
             [
              0.8888888888888888,
              "#fdca26"
             ],
             [
              1,
              "#f0f921"
             ]
            ],
            "type": "histogram2d"
           }
          ],
          "histogram2dcontour": [
           {
            "colorbar": {
             "outlinewidth": 0,
             "ticks": ""
            },
            "colorscale": [
             [
              0,
              "#0d0887"
             ],
             [
              0.1111111111111111,
              "#46039f"
             ],
             [
              0.2222222222222222,
              "#7201a8"
             ],
             [
              0.3333333333333333,
              "#9c179e"
             ],
             [
              0.4444444444444444,
              "#bd3786"
             ],
             [
              0.5555555555555556,
              "#d8576b"
             ],
             [
              0.6666666666666666,
              "#ed7953"
             ],
             [
              0.7777777777777778,
              "#fb9f3a"
             ],
             [
              0.8888888888888888,
              "#fdca26"
             ],
             [
              1,
              "#f0f921"
             ]
            ],
            "type": "histogram2dcontour"
           }
          ],
          "mesh3d": [
           {
            "colorbar": {
             "outlinewidth": 0,
             "ticks": ""
            },
            "type": "mesh3d"
           }
          ],
          "parcoords": [
           {
            "line": {
             "colorbar": {
              "outlinewidth": 0,
              "ticks": ""
             }
            },
            "type": "parcoords"
           }
          ],
          "pie": [
           {
            "automargin": true,
            "type": "pie"
           }
          ],
          "scatter": [
           {
            "fillpattern": {
             "fillmode": "overlay",
             "size": 10,
             "solidity": 0.2
            },
            "type": "scatter"
           }
          ],
          "scatter3d": [
           {
            "line": {
             "colorbar": {
              "outlinewidth": 0,
              "ticks": ""
             }
            },
            "marker": {
             "colorbar": {
              "outlinewidth": 0,
              "ticks": ""
             }
            },
            "type": "scatter3d"
           }
          ],
          "scattercarpet": [
           {
            "marker": {
             "colorbar": {
              "outlinewidth": 0,
              "ticks": ""
             }
            },
            "type": "scattercarpet"
           }
          ],
          "scattergeo": [
           {
            "marker": {
             "colorbar": {
              "outlinewidth": 0,
              "ticks": ""
             }
            },
            "type": "scattergeo"
           }
          ],
          "scattergl": [
           {
            "marker": {
             "colorbar": {
              "outlinewidth": 0,
              "ticks": ""
             }
            },
            "type": "scattergl"
           }
          ],
          "scattermapbox": [
           {
            "marker": {
             "colorbar": {
              "outlinewidth": 0,
              "ticks": ""
             }
            },
            "type": "scattermapbox"
           }
          ],
          "scatterpolar": [
           {
            "marker": {
             "colorbar": {
              "outlinewidth": 0,
              "ticks": ""
             }
            },
            "type": "scatterpolar"
           }
          ],
          "scatterpolargl": [
           {
            "marker": {
             "colorbar": {
              "outlinewidth": 0,
              "ticks": ""
             }
            },
            "type": "scatterpolargl"
           }
          ],
          "scatterternary": [
           {
            "marker": {
             "colorbar": {
              "outlinewidth": 0,
              "ticks": ""
             }
            },
            "type": "scatterternary"
           }
          ],
          "surface": [
           {
            "colorbar": {
             "outlinewidth": 0,
             "ticks": ""
            },
            "colorscale": [
             [
              0,
              "#0d0887"
             ],
             [
              0.1111111111111111,
              "#46039f"
             ],
             [
              0.2222222222222222,
              "#7201a8"
             ],
             [
              0.3333333333333333,
              "#9c179e"
             ],
             [
              0.4444444444444444,
              "#bd3786"
             ],
             [
              0.5555555555555556,
              "#d8576b"
             ],
             [
              0.6666666666666666,
              "#ed7953"
             ],
             [
              0.7777777777777778,
              "#fb9f3a"
             ],
             [
              0.8888888888888888,
              "#fdca26"
             ],
             [
              1,
              "#f0f921"
             ]
            ],
            "type": "surface"
           }
          ],
          "table": [
           {
            "cells": {
             "fill": {
              "color": "#EBF0F8"
             },
             "line": {
              "color": "white"
             }
            },
            "header": {
             "fill": {
              "color": "#C8D4E3"
             },
             "line": {
              "color": "white"
             }
            },
            "type": "table"
           }
          ]
         },
         "layout": {
          "annotationdefaults": {
           "arrowcolor": "#2a3f5f",
           "arrowhead": 0,
           "arrowwidth": 1
          },
          "autotypenumbers": "strict",
          "coloraxis": {
           "colorbar": {
            "outlinewidth": 0,
            "ticks": ""
           }
          },
          "colorscale": {
           "diverging": [
            [
             0,
             "#8e0152"
            ],
            [
             0.1,
             "#c51b7d"
            ],
            [
             0.2,
             "#de77ae"
            ],
            [
             0.3,
             "#f1b6da"
            ],
            [
             0.4,
             "#fde0ef"
            ],
            [
             0.5,
             "#f7f7f7"
            ],
            [
             0.6,
             "#e6f5d0"
            ],
            [
             0.7,
             "#b8e186"
            ],
            [
             0.8,
             "#7fbc41"
            ],
            [
             0.9,
             "#4d9221"
            ],
            [
             1,
             "#276419"
            ]
           ],
           "sequential": [
            [
             0,
             "#0d0887"
            ],
            [
             0.1111111111111111,
             "#46039f"
            ],
            [
             0.2222222222222222,
             "#7201a8"
            ],
            [
             0.3333333333333333,
             "#9c179e"
            ],
            [
             0.4444444444444444,
             "#bd3786"
            ],
            [
             0.5555555555555556,
             "#d8576b"
            ],
            [
             0.6666666666666666,
             "#ed7953"
            ],
            [
             0.7777777777777778,
             "#fb9f3a"
            ],
            [
             0.8888888888888888,
             "#fdca26"
            ],
            [
             1,
             "#f0f921"
            ]
           ],
           "sequentialminus": [
            [
             0,
             "#0d0887"
            ],
            [
             0.1111111111111111,
             "#46039f"
            ],
            [
             0.2222222222222222,
             "#7201a8"
            ],
            [
             0.3333333333333333,
             "#9c179e"
            ],
            [
             0.4444444444444444,
             "#bd3786"
            ],
            [
             0.5555555555555556,
             "#d8576b"
            ],
            [
             0.6666666666666666,
             "#ed7953"
            ],
            [
             0.7777777777777778,
             "#fb9f3a"
            ],
            [
             0.8888888888888888,
             "#fdca26"
            ],
            [
             1,
             "#f0f921"
            ]
           ]
          },
          "colorway": [
           "#636efa",
           "#EF553B",
           "#00cc96",
           "#ab63fa",
           "#FFA15A",
           "#19d3f3",
           "#FF6692",
           "#B6E880",
           "#FF97FF",
           "#FECB52"
          ],
          "font": {
           "color": "#2a3f5f"
          },
          "geo": {
           "bgcolor": "white",
           "lakecolor": "white",
           "landcolor": "#E5ECF6",
           "showlakes": true,
           "showland": true,
           "subunitcolor": "white"
          },
          "hoverlabel": {
           "align": "left"
          },
          "hovermode": "closest",
          "mapbox": {
           "style": "light"
          },
          "paper_bgcolor": "white",
          "plot_bgcolor": "#E5ECF6",
          "polar": {
           "angularaxis": {
            "gridcolor": "white",
            "linecolor": "white",
            "ticks": ""
           },
           "bgcolor": "#E5ECF6",
           "radialaxis": {
            "gridcolor": "white",
            "linecolor": "white",
            "ticks": ""
           }
          },
          "scene": {
           "xaxis": {
            "backgroundcolor": "#E5ECF6",
            "gridcolor": "white",
            "gridwidth": 2,
            "linecolor": "white",
            "showbackground": true,
            "ticks": "",
            "zerolinecolor": "white"
           },
           "yaxis": {
            "backgroundcolor": "#E5ECF6",
            "gridcolor": "white",
            "gridwidth": 2,
            "linecolor": "white",
            "showbackground": true,
            "ticks": "",
            "zerolinecolor": "white"
           },
           "zaxis": {
            "backgroundcolor": "#E5ECF6",
            "gridcolor": "white",
            "gridwidth": 2,
            "linecolor": "white",
            "showbackground": true,
            "ticks": "",
            "zerolinecolor": "white"
           }
          },
          "shapedefaults": {
           "line": {
            "color": "#2a3f5f"
           }
          },
          "ternary": {
           "aaxis": {
            "gridcolor": "white",
            "linecolor": "white",
            "ticks": ""
           },
           "baxis": {
            "gridcolor": "white",
            "linecolor": "white",
            "ticks": ""
           },
           "bgcolor": "#E5ECF6",
           "caxis": {
            "gridcolor": "white",
            "linecolor": "white",
            "ticks": ""
           }
          },
          "title": {
           "x": 0.05
          },
          "xaxis": {
           "automargin": true,
           "gridcolor": "white",
           "linecolor": "white",
           "ticks": "",
           "title": {
            "standoff": 15
           },
           "zerolinecolor": "white",
           "zerolinewidth": 2
          },
          "yaxis": {
           "automargin": true,
           "gridcolor": "white",
           "linecolor": "white",
           "ticks": "",
           "title": {
            "standoff": 15
           },
           "zerolinecolor": "white",
           "zerolinewidth": 2
          }
         }
        },
        "title": {
         "text": "AVG. Crop Production excluding coconut"
        },
        "xaxis": {
         "anchor": "y",
         "domain": [
          0,
          1
         ],
         "title": {
          "text": "Crop"
         }
        },
        "yaxis": {
         "anchor": "x",
         "domain": [
          0,
          1
         ],
         "title": {
          "text": "Production"
         }
        }
       }
      }
     },
     "metadata": {},
     "output_type": "display_data"
    }
   ],
   "source": [
    "#in previous graph as coconut is produced in larger scale, we are just removing it and exploring the crops produced in the remaining  dataset\n",
    "kerala = kerala[~(kerala['Crop']=='Coconut ')]\n",
    "temp = kerala.groupby(by='Crop')['Production'].sum().reset_index().sort_values(by='Production')\n",
    "px.bar(temp, 'Crop', 'Production', title='AVG. Crop Production excluding coconut')\n",
    "\n",
    "\n"
   ]
  },
  {
   "cell_type": "code",
   "execution_count": 34,
   "metadata": {},
   "outputs": [],
   "source": [
    "#EDA on the dataset excluding kerala and coconut\n",
    "data1 = data[~((data['State_Name']=='Kerala') | (data['Crop']=='Coconut '))]"
   ]
  },
  {
   "cell_type": "code",
   "execution_count": 35,
   "metadata": {},
   "outputs": [
    {
     "data": {
      "text/html": [
       "<div>\n",
       "<style scoped>\n",
       "    .dataframe tbody tr th:only-of-type {\n",
       "        vertical-align: middle;\n",
       "    }\n",
       "\n",
       "    .dataframe tbody tr th {\n",
       "        vertical-align: top;\n",
       "    }\n",
       "\n",
       "    .dataframe thead th {\n",
       "        text-align: right;\n",
       "    }\n",
       "</style>\n",
       "<table border=\"1\" class=\"dataframe\">\n",
       "  <thead>\n",
       "    <tr style=\"text-align: right;\">\n",
       "      <th></th>\n",
       "      <th>State_Name</th>\n",
       "      <th>District_Name</th>\n",
       "      <th>Crop_Year</th>\n",
       "      <th>Season</th>\n",
       "      <th>Crop</th>\n",
       "      <th>Area</th>\n",
       "      <th>Production</th>\n",
       "      <th>percent_of_production</th>\n",
       "    </tr>\n",
       "  </thead>\n",
       "  <tbody>\n",
       "    <tr>\n",
       "      <th>0</th>\n",
       "      <td>Andaman and Nicobar Islands</td>\n",
       "      <td>NICOBARS</td>\n",
       "      <td>2000</td>\n",
       "      <td>Kharif</td>\n",
       "      <td>Arecanut</td>\n",
       "      <td>1254.0</td>\n",
       "      <td>2000.0</td>\n",
       "      <td>1.416670e-06</td>\n",
       "    </tr>\n",
       "    <tr>\n",
       "      <th>1</th>\n",
       "      <td>Andaman and Nicobar Islands</td>\n",
       "      <td>NICOBARS</td>\n",
       "      <td>2000</td>\n",
       "      <td>Kharif</td>\n",
       "      <td>Other Kharif pulses</td>\n",
       "      <td>2.0</td>\n",
       "      <td>1.0</td>\n",
       "      <td>7.083351e-10</td>\n",
       "    </tr>\n",
       "    <tr>\n",
       "      <th>2</th>\n",
       "      <td>Andaman and Nicobar Islands</td>\n",
       "      <td>NICOBARS</td>\n",
       "      <td>2000</td>\n",
       "      <td>Kharif</td>\n",
       "      <td>Rice</td>\n",
       "      <td>102.0</td>\n",
       "      <td>321.0</td>\n",
       "      <td>2.273756e-07</td>\n",
       "    </tr>\n",
       "    <tr>\n",
       "      <th>3</th>\n",
       "      <td>Andaman and Nicobar Islands</td>\n",
       "      <td>NICOBARS</td>\n",
       "      <td>2000</td>\n",
       "      <td>Whole Year</td>\n",
       "      <td>Banana</td>\n",
       "      <td>176.0</td>\n",
       "      <td>641.0</td>\n",
       "      <td>4.540428e-07</td>\n",
       "    </tr>\n",
       "    <tr>\n",
       "      <th>4</th>\n",
       "      <td>Andaman and Nicobar Islands</td>\n",
       "      <td>NICOBARS</td>\n",
       "      <td>2000</td>\n",
       "      <td>Whole Year</td>\n",
       "      <td>Cashewnut</td>\n",
       "      <td>720.0</td>\n",
       "      <td>165.0</td>\n",
       "      <td>1.168753e-07</td>\n",
       "    </tr>\n",
       "    <tr>\n",
       "      <th>...</th>\n",
       "      <td>...</td>\n",
       "      <td>...</td>\n",
       "      <td>...</td>\n",
       "      <td>...</td>\n",
       "      <td>...</td>\n",
       "      <td>...</td>\n",
       "      <td>...</td>\n",
       "      <td>...</td>\n",
       "    </tr>\n",
       "    <tr>\n",
       "      <th>246086</th>\n",
       "      <td>West Bengal</td>\n",
       "      <td>PURULIA</td>\n",
       "      <td>2014</td>\n",
       "      <td>Summer</td>\n",
       "      <td>Rice</td>\n",
       "      <td>306.0</td>\n",
       "      <td>801.0</td>\n",
       "      <td>5.673764e-07</td>\n",
       "    </tr>\n",
       "    <tr>\n",
       "      <th>246087</th>\n",
       "      <td>West Bengal</td>\n",
       "      <td>PURULIA</td>\n",
       "      <td>2014</td>\n",
       "      <td>Summer</td>\n",
       "      <td>Sesamum</td>\n",
       "      <td>627.0</td>\n",
       "      <td>463.0</td>\n",
       "      <td>3.279592e-07</td>\n",
       "    </tr>\n",
       "    <tr>\n",
       "      <th>246088</th>\n",
       "      <td>West Bengal</td>\n",
       "      <td>PURULIA</td>\n",
       "      <td>2014</td>\n",
       "      <td>Whole Year</td>\n",
       "      <td>Sugarcane</td>\n",
       "      <td>324.0</td>\n",
       "      <td>16250.0</td>\n",
       "      <td>1.151045e-05</td>\n",
       "    </tr>\n",
       "    <tr>\n",
       "      <th>246089</th>\n",
       "      <td>West Bengal</td>\n",
       "      <td>PURULIA</td>\n",
       "      <td>2014</td>\n",
       "      <td>Winter</td>\n",
       "      <td>Rice</td>\n",
       "      <td>279151.0</td>\n",
       "      <td>597899.0</td>\n",
       "      <td>4.235129e-04</td>\n",
       "    </tr>\n",
       "    <tr>\n",
       "      <th>246090</th>\n",
       "      <td>West Bengal</td>\n",
       "      <td>PURULIA</td>\n",
       "      <td>2014</td>\n",
       "      <td>Winter</td>\n",
       "      <td>Sesamum</td>\n",
       "      <td>175.0</td>\n",
       "      <td>88.0</td>\n",
       "      <td>6.233349e-08</td>\n",
       "    </tr>\n",
       "  </tbody>\n",
       "</table>\n",
       "<p>233313 rows × 8 columns</p>\n",
       "</div>"
      ],
      "text/plain": [
       "                         State_Name District_Name  Crop_Year       Season  \\\n",
       "0       Andaman and Nicobar Islands      NICOBARS       2000  Kharif        \n",
       "1       Andaman and Nicobar Islands      NICOBARS       2000  Kharif        \n",
       "2       Andaman and Nicobar Islands      NICOBARS       2000  Kharif        \n",
       "3       Andaman and Nicobar Islands      NICOBARS       2000  Whole Year    \n",
       "4       Andaman and Nicobar Islands      NICOBARS       2000  Whole Year    \n",
       "...                             ...           ...        ...          ...   \n",
       "246086                  West Bengal       PURULIA       2014  Summer        \n",
       "246087                  West Bengal       PURULIA       2014  Summer        \n",
       "246088                  West Bengal       PURULIA       2014  Whole Year    \n",
       "246089                  West Bengal       PURULIA       2014  Winter        \n",
       "246090                  West Bengal       PURULIA       2014  Winter        \n",
       "\n",
       "                       Crop      Area  Production  percent_of_production  \n",
       "0                  Arecanut    1254.0      2000.0           1.416670e-06  \n",
       "1       Other Kharif pulses       2.0         1.0           7.083351e-10  \n",
       "2                      Rice     102.0       321.0           2.273756e-07  \n",
       "3                    Banana     176.0       641.0           4.540428e-07  \n",
       "4                 Cashewnut     720.0       165.0           1.168753e-07  \n",
       "...                     ...       ...         ...                    ...  \n",
       "246086                 Rice     306.0       801.0           5.673764e-07  \n",
       "246087              Sesamum     627.0       463.0           3.279592e-07  \n",
       "246088            Sugarcane     324.0     16250.0           1.151045e-05  \n",
       "246089                 Rice  279151.0    597899.0           4.235129e-04  \n",
       "246090              Sesamum     175.0        88.0           6.233349e-08  \n",
       "\n",
       "[233313 rows x 8 columns]"
      ]
     },
     "execution_count": 35,
     "metadata": {},
     "output_type": "execute_result"
    }
   ],
   "source": [
    "data1"
   ]
  },
  {
   "cell_type": "markdown",
   "metadata": {},
   "source": [
    "FEATURE SELECTION\n"
   ]
  },
  {
   "cell_type": "code",
   "execution_count": 36,
   "metadata": {},
   "outputs": [
    {
     "data": {
      "text/html": [
       "<div>\n",
       "<style scoped>\n",
       "    .dataframe tbody tr th:only-of-type {\n",
       "        vertical-align: middle;\n",
       "    }\n",
       "\n",
       "    .dataframe tbody tr th {\n",
       "        vertical-align: top;\n",
       "    }\n",
       "\n",
       "    .dataframe thead th {\n",
       "        text-align: right;\n",
       "    }\n",
       "</style>\n",
       "<table border=\"1\" class=\"dataframe\">\n",
       "  <thead>\n",
       "    <tr style=\"text-align: right;\">\n",
       "      <th></th>\n",
       "      <th>Area</th>\n",
       "      <th>Production</th>\n",
       "      <th>percent_of_production</th>\n",
       "      <th>State_Name_Andaman and Nicobar Islands</th>\n",
       "      <th>State_Name_Andhra Pradesh</th>\n",
       "      <th>State_Name_Arunachal Pradesh</th>\n",
       "      <th>State_Name_Assam</th>\n",
       "      <th>State_Name_Bihar</th>\n",
       "      <th>State_Name_Chandigarh</th>\n",
       "      <th>State_Name_Chhattisgarh</th>\n",
       "      <th>...</th>\n",
       "      <th>Crop_Tobacco</th>\n",
       "      <th>Crop_Tomato</th>\n",
       "      <th>Crop_Total foodgrain</th>\n",
       "      <th>Crop_Turmeric</th>\n",
       "      <th>Crop_Turnip</th>\n",
       "      <th>Crop_Urad</th>\n",
       "      <th>Crop_Varagu</th>\n",
       "      <th>Crop_Wheat</th>\n",
       "      <th>Crop_other misc. pulses</th>\n",
       "      <th>Crop_other oilseeds</th>\n",
       "    </tr>\n",
       "  </thead>\n",
       "  <tbody>\n",
       "    <tr>\n",
       "      <th>0</th>\n",
       "      <td>1254.0</td>\n",
       "      <td>2000.0</td>\n",
       "      <td>1.416670e-06</td>\n",
       "      <td>1</td>\n",
       "      <td>0</td>\n",
       "      <td>0</td>\n",
       "      <td>0</td>\n",
       "      <td>0</td>\n",
       "      <td>0</td>\n",
       "      <td>0</td>\n",
       "      <td>...</td>\n",
       "      <td>0</td>\n",
       "      <td>0</td>\n",
       "      <td>0</td>\n",
       "      <td>0</td>\n",
       "      <td>0</td>\n",
       "      <td>0</td>\n",
       "      <td>0</td>\n",
       "      <td>0</td>\n",
       "      <td>0</td>\n",
       "      <td>0</td>\n",
       "    </tr>\n",
       "    <tr>\n",
       "      <th>1</th>\n",
       "      <td>2.0</td>\n",
       "      <td>1.0</td>\n",
       "      <td>7.083351e-10</td>\n",
       "      <td>1</td>\n",
       "      <td>0</td>\n",
       "      <td>0</td>\n",
       "      <td>0</td>\n",
       "      <td>0</td>\n",
       "      <td>0</td>\n",
       "      <td>0</td>\n",
       "      <td>...</td>\n",
       "      <td>0</td>\n",
       "      <td>0</td>\n",
       "      <td>0</td>\n",
       "      <td>0</td>\n",
       "      <td>0</td>\n",
       "      <td>0</td>\n",
       "      <td>0</td>\n",
       "      <td>0</td>\n",
       "      <td>0</td>\n",
       "      <td>0</td>\n",
       "    </tr>\n",
       "    <tr>\n",
       "      <th>2</th>\n",
       "      <td>102.0</td>\n",
       "      <td>321.0</td>\n",
       "      <td>2.273756e-07</td>\n",
       "      <td>1</td>\n",
       "      <td>0</td>\n",
       "      <td>0</td>\n",
       "      <td>0</td>\n",
       "      <td>0</td>\n",
       "      <td>0</td>\n",
       "      <td>0</td>\n",
       "      <td>...</td>\n",
       "      <td>0</td>\n",
       "      <td>0</td>\n",
       "      <td>0</td>\n",
       "      <td>0</td>\n",
       "      <td>0</td>\n",
       "      <td>0</td>\n",
       "      <td>0</td>\n",
       "      <td>0</td>\n",
       "      <td>0</td>\n",
       "      <td>0</td>\n",
       "    </tr>\n",
       "    <tr>\n",
       "      <th>3</th>\n",
       "      <td>176.0</td>\n",
       "      <td>641.0</td>\n",
       "      <td>4.540428e-07</td>\n",
       "      <td>1</td>\n",
       "      <td>0</td>\n",
       "      <td>0</td>\n",
       "      <td>0</td>\n",
       "      <td>0</td>\n",
       "      <td>0</td>\n",
       "      <td>0</td>\n",
       "      <td>...</td>\n",
       "      <td>0</td>\n",
       "      <td>0</td>\n",
       "      <td>0</td>\n",
       "      <td>0</td>\n",
       "      <td>0</td>\n",
       "      <td>0</td>\n",
       "      <td>0</td>\n",
       "      <td>0</td>\n",
       "      <td>0</td>\n",
       "      <td>0</td>\n",
       "    </tr>\n",
       "    <tr>\n",
       "      <th>4</th>\n",
       "      <td>720.0</td>\n",
       "      <td>165.0</td>\n",
       "      <td>1.168753e-07</td>\n",
       "      <td>1</td>\n",
       "      <td>0</td>\n",
       "      <td>0</td>\n",
       "      <td>0</td>\n",
       "      <td>0</td>\n",
       "      <td>0</td>\n",
       "      <td>0</td>\n",
       "      <td>...</td>\n",
       "      <td>0</td>\n",
       "      <td>0</td>\n",
       "      <td>0</td>\n",
       "      <td>0</td>\n",
       "      <td>0</td>\n",
       "      <td>0</td>\n",
       "      <td>0</td>\n",
       "      <td>0</td>\n",
       "      <td>0</td>\n",
       "      <td>0</td>\n",
       "    </tr>\n",
       "  </tbody>\n",
       "</table>\n",
       "<p>5 rows × 147 columns</p>\n",
       "</div>"
      ],
      "text/plain": [
       "     Area  Production  percent_of_production  \\\n",
       "0  1254.0      2000.0           1.416670e-06   \n",
       "1     2.0         1.0           7.083351e-10   \n",
       "2   102.0       321.0           2.273756e-07   \n",
       "3   176.0       641.0           4.540428e-07   \n",
       "4   720.0       165.0           1.168753e-07   \n",
       "\n",
       "   State_Name_Andaman and Nicobar Islands  State_Name_Andhra Pradesh  \\\n",
       "0                                       1                          0   \n",
       "1                                       1                          0   \n",
       "2                                       1                          0   \n",
       "3                                       1                          0   \n",
       "4                                       1                          0   \n",
       "\n",
       "   State_Name_Arunachal Pradesh  State_Name_Assam  State_Name_Bihar  \\\n",
       "0                             0                 0                 0   \n",
       "1                             0                 0                 0   \n",
       "2                             0                 0                 0   \n",
       "3                             0                 0                 0   \n",
       "4                             0                 0                 0   \n",
       "\n",
       "   State_Name_Chandigarh  State_Name_Chhattisgarh  ...  Crop_Tobacco  \\\n",
       "0                      0                        0  ...             0   \n",
       "1                      0                        0  ...             0   \n",
       "2                      0                        0  ...             0   \n",
       "3                      0                        0  ...             0   \n",
       "4                      0                        0  ...             0   \n",
       "\n",
       "   Crop_Tomato  Crop_Total foodgrain  Crop_Turmeric  Crop_Turnip  Crop_Urad  \\\n",
       "0            0                     0              0            0          0   \n",
       "1            0                     0              0            0          0   \n",
       "2            0                     0              0            0          0   \n",
       "3            0                     0              0            0          0   \n",
       "4            0                     0              0            0          0   \n",
       "\n",
       "   Crop_Varagu  Crop_Wheat  Crop_other misc. pulses  Crop_other oilseeds  \n",
       "0            0           0                        0                    0  \n",
       "1            0           0                        0                    0  \n",
       "2            0           0                        0                    0  \n",
       "3            0           0                        0                    0  \n",
       "4            0           0                        0                    0  \n",
       "\n",
       "[5 rows x 147 columns]"
      ]
     },
     "execution_count": 36,
     "metadata": {},
     "output_type": "execute_result"
    }
   ],
   "source": [
    "data1 = data.drop([\"District_Name\",\"Crop_Year\"],axis=1)\n",
    "f_data = pd.get_dummies(data1)\n",
    "f_data.head()"
   ]
  },
  {
   "cell_type": "markdown",
   "metadata": {},
   "source": [
    "/////////"
   ]
  },
  {
   "cell_type": "markdown",
   "metadata": {},
   "source": [
    "SPLIT DATA INTO TRAINING AND TESTING SET"
   ]
  },
  {
   "cell_type": "code",
   "execution_count": 37,
   "metadata": {},
   "outputs": [
    {
     "name": "stdout",
     "output_type": "stream",
     "text": [
      "X_train : (160021, 146)\n",
      "X_test : (78817, 146)\n",
      "y_train : (160021, 1)\n",
      "y_test : (78817, 1)\n"
     ]
    }
   ],
   "source": [
    "X = f_data.drop(\"Production\",axis=1)\n",
    "y = f_data[[\"Production\"]]\n",
    "from sklearn.model_selection import train_test_split\n",
    "X_train,X_test,y_train,y_test = train_test_split(X,y,test_size=0.33, random_state=42)\n",
    "print(\"X_train :\",X_train.shape)\n",
    "print(\"X_test :\",X_test.shape)\n",
    "print(\"y_train :\",y_train.shape)\n",
    "print(\"y_test :\",y_test.shape)"
   ]
  },
  {
   "cell_type": "markdown",
   "metadata": {},
   "source": [
    "MODEL"
   ]
  },
  {
   "cell_type": "code",
   "execution_count": 38,
   "metadata": {},
   "outputs": [
    {
     "data": {
      "text/plain": [
       "1.0"
      ]
     },
     "execution_count": 38,
     "metadata": {},
     "output_type": "execute_result"
    }
   ],
   "source": [
    "from sklearn.linear_model import LinearRegression\n",
    "regression = LinearRegression()\n",
    "regression.fit(X_train, y_train)\n",
    "\n",
    "y_pred = regression.predict(X_test)\n",
    "from sklearn.metrics import mean_squared_error, r2_score\n",
    "mean_squared_error(y_test,y_pred)\n",
    "r2_score(y_test,y_pred)"
   ]
  },
  {
   "cell_type": "markdown",
   "metadata": {},
   "source": [
    "MODEL PERFORMANCE METRICS"
   ]
  },
  {
   "cell_type": "code",
   "execution_count": 39,
   "metadata": {},
   "outputs": [
    {
     "data": {
      "text/plain": [
       "array([[  186,    10],\n",
       "       [    0, 78621]], dtype=int64)"
      ]
     },
     "execution_count": 39,
     "metadata": {},
     "output_type": "execute_result"
    }
   ],
   "source": [
    "from sklearn.metrics import confusion_matrix, accuracy_score, precision_score, recall_score\n",
    "cutoff = 0.7                              # decide on a cutoff limit\n",
    "y_pred_classes = np.zeros_like(y_pred)    # initialise a matrix full with zeros\n",
    "y_pred_classes[y_pred > cutoff] = 1\n",
    "y_test_classes = np.zeros_like(y_pred)\n",
    "y_test_classes[y_test > cutoff] = 1\n",
    "# CONFUSION MATRIX\n",
    "conf_matrix=confusion_matrix(y_test_classes, y_pred_classes)\n",
    "conf_matrix"
   ]
  },
  {
   "cell_type": "code",
   "execution_count": 40,
   "metadata": {},
   "outputs": [
    {
     "name": "stdout",
     "output_type": "stream",
     "text": [
      "True Positives: 78621\n",
      "True Negatives: 186\n",
      "False Positives: 10\n",
      "False Negatives: 0\n",
      "--------------------------------------------------\n",
      "Accuracy: 1.0\n",
      "Sensitivity: 1.0\n",
      "Specificity: 0.95\n",
      "Precision: 0.95\n",
      "Recall:  1.0\n",
      "f_1 Score: 0.97\n"
     ]
    }
   ],
   "source": [
    "TP = conf_matrix[1][1]\n",
    "TN = conf_matrix[0][0]\n",
    "FP = conf_matrix[0][1]\n",
    "FN = conf_matrix[1][0]\n",
    "print('True Positives:', TP)\n",
    "print('True Negatives:', TN)\n",
    "print('False Positives:', FP)\n",
    "print('False Negatives:', FN)\n",
    "    \n",
    "# calculate accuracy\n",
    "conf_accuracy = (float (TP+TN) / float(TP + TN + FP + FN))\n",
    "    \n",
    "# calculate the sensitivity\n",
    "conf_sensitivity = (TP / float(TP + FN))\n",
    "    \n",
    "# calculate the specificity\n",
    "conf_specificity = (TN / float(TN + FP))\n",
    "    \n",
    "# calculate precision\n",
    "conf_precision = (TN / float(TN + FP))\n",
    "\n",
    "# calculate recall\n",
    "recall = recall_score(y_test_classes, y_pred_classes)\n",
    "\n",
    "# calculate f_1 score\n",
    "conf_f1 = 2 * ((conf_precision * conf_sensitivity) / (conf_precision + conf_sensitivity))\n",
    "    \n",
    "print('-'*50)\n",
    "print(f'Accuracy: {round(conf_accuracy,2)}') \n",
    "print(f'Sensitivity: {round(conf_sensitivity,2)}') \n",
    "print(f'Specificity: {round(conf_specificity,2)}') \n",
    "print(f'Precision: {round(conf_precision,2)}')\n",
    "print('Recall: ',recall_score(y_test_classes, y_pred_classes))\n",
    "print(f'f_1 Score: {round(conf_f1,2)}')"
   ]
  },
  {
   "cell_type": "code",
   "execution_count": 41,
   "metadata": {},
   "outputs": [
    {
     "data": {
      "text/plain": [
       "<matplotlib.legend.Legend at 0x28c177b4f08>"
      ]
     },
     "execution_count": 41,
     "metadata": {},
     "output_type": "execute_result"
    },
    {
     "data": {
      "image/png": "[encoded data removed]",
      "text/plain": [
       "<Figure size 640x480 with 1 Axes>"
      ]
     },
     "metadata": {},
     "output_type": "display_data"
    }
   ],
   "source": [
    "\n",
    "from sklearn.metrics import roc_curve\n",
    "from sklearn.metrics import auc\n",
    "\n",
    "fpr, tpr, thresholds = roc_curve(y_test_classes, y_pred_classes)\n",
    "roc_auc = auc(fpr, tpr)\n",
    "\n",
    "\n",
    "plt.plot(fpr, tpr, label='ROC curve (area = %0.3f)' % roc_auc)\n",
    "plt.plot([0, 1], [0, 1], 'k--')  # random predictions curve\n",
    "plt.xlim([0.0, 1.0])\n",
    "plt.ylim([0.0, 1.0])\n",
    "plt.xlabel('False Positive Rate or (1 - Specifity)')\n",
    "plt.ylabel('True Positive Rate or (Sensitivity)')\n",
    "plt.title('Receiver Operating Characteristic')\n",
    "plt.legend(loc=\"lower right\")\n"
   ]
  },
  {
   "cell_type": "code",
   "execution_count": 42,
   "metadata": {},
   "outputs": [
    {
     "name": "stdout",
     "output_type": "stream",
     "text": [
      "Linear: f1=1.000 auc=1.000\n"
     ]
    },
    {
     "data": {
      "image/png": "[encoded data removed]",
      "text/plain": [
       "<Figure size 640x480 with 1 Axes>"
      ]
     },
     "metadata": {},
     "output_type": "display_data"
    }
   ],
   "source": [
    "# precision-recall curve and f1\n",
    "from sklearn.datasets import make_classification\n",
    "from sklearn.linear_model import LogisticRegression\n",
    "from sklearn.model_selection import train_test_split\n",
    "from sklearn.metrics import precision_recall_curve\n",
    "from sklearn.metrics import f1_score\n",
    "from sklearn.metrics import auc\n",
    "from matplotlib import pyplot\n",
    "\n",
    "lr_precision, lr_recall, _ = precision_recall_curve(y_test_classes, y_pred_classes)\n",
    "lr_f1, lr_auc = f1_score(y_test_classes, y_pred_classes), auc(lr_recall, lr_precision)\n",
    "# summarize scores\n",
    "print('Linear: f1=%.3f auc=%.3f' % (lr_f1, lr_auc))\n",
    "# plot the precision-recall curves\n",
    "no_skill = len(y_test[y_test==1]) / len(y_test)\n",
    "pyplot.plot([0, 1], [no_skill, no_skill], linestyle='--', label='No Skill',color='blue')\n",
    "pyplot.plot(lr_recall, lr_precision, marker='.', label='Linear',color='red')\n",
    "# axis labels\n",
    "pyplot.xlabel('Recall')\n",
    "pyplot.ylabel('Precision')\n",
    "# show the legend\n",
    "pyplot.legend()\n",
    "# show the plot\n",
    "pyplot.show()"
   ]
  }
 ],
 "metadata": {
  "kernelspec": {
   "display_name": "Python 3.7.9 64-bit (microsoft store)",
   "language": "python",
   "name": "python3"
  },
  "language_info": {
   "codemirror_mode": {
    "name": "ipython",
    "version": 3
   },
   "file_extension": ".py",
   "mimetype": "text/x-python",
   "name": "python",
   "nbconvert_exporter": "python",
   "pygments_lexer": "ipython3",
   "version": "3.7.9"
  },
  "orig_nbformat": 4,
  "vscode": {
   "interpreter": {
    "hash": "4e49243efee8ca750b5fec73b8d0793560e8db8c558fae1d53cf64d735a76c71"
   }
  }
 },
 "nbformat": 4,
 "nbformat_minor": 2
}
